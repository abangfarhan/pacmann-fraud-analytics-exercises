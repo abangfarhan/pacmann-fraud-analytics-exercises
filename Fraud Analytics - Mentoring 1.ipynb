{
 "cells": [
  {
   "cell_type": "markdown",
   "id": "3ac23c7d-e465-46bc-a5c4-89f3d17f3c95",
   "metadata": {},
   "source": [
    "Data is from https://www.kaggle.com/datasets/shivamb/vehicle-claim-fraud-detection"
   ]
  },
  {
   "cell_type": "markdown",
   "id": "866101dc-a6d2-4fc7-940e-efc50a481374",
   "metadata": {},
   "source": [
    "## Data Preprocessing"
   ]
  },
  {
   "cell_type": "markdown",
   "id": "f8119053-f7a1-4c9e-b2b7-f52ac73a45e2",
   "metadata": {},
   "source": [
    "### Loading the data and initial exploration"
   ]
  },
  {
   "cell_type": "code",
   "execution_count": 1,
   "id": "8cbb119f-e2ef-4ed0-b25e-69ab50207c1a",
   "metadata": {},
   "outputs": [],
   "source": [
    "import pandas as pd\n",
    "import numpy as np\n",
    "import seaborn as sns\n",
    "import re\n",
    "from sklearn.model_selection import train_test_split\n",
    "from sklearn.impute import SimpleImputer"
   ]
  },
  {
   "cell_type": "code",
   "execution_count": 2,
   "id": "49cc4b11-4ba4-452e-992f-7898d09abcb4",
   "metadata": {},
   "outputs": [
    {
     "data": {
      "text/html": [
       "<div>\n",
       "<style scoped>\n",
       "    .dataframe tbody tr th:only-of-type {\n",
       "        vertical-align: middle;\n",
       "    }\n",
       "\n",
       "    .dataframe tbody tr th {\n",
       "        vertical-align: top;\n",
       "    }\n",
       "\n",
       "    .dataframe thead th {\n",
       "        text-align: right;\n",
       "    }\n",
       "</style>\n",
       "<table border=\"1\" class=\"dataframe\">\n",
       "  <thead>\n",
       "    <tr style=\"text-align: right;\">\n",
       "      <th></th>\n",
       "      <th>Month</th>\n",
       "      <th>WeekOfMonth</th>\n",
       "      <th>DayOfWeek</th>\n",
       "      <th>Make</th>\n",
       "      <th>AccidentArea</th>\n",
       "      <th>DayOfWeekClaimed</th>\n",
       "      <th>MonthClaimed</th>\n",
       "      <th>WeekOfMonthClaimed</th>\n",
       "      <th>Sex</th>\n",
       "      <th>MaritalStatus</th>\n",
       "      <th>...</th>\n",
       "      <th>AgeOfVehicle</th>\n",
       "      <th>AgeOfPolicyHolder</th>\n",
       "      <th>PoliceReportFiled</th>\n",
       "      <th>WitnessPresent</th>\n",
       "      <th>AgentType</th>\n",
       "      <th>NumberOfSuppliments</th>\n",
       "      <th>AddressChange_Claim</th>\n",
       "      <th>NumberOfCars</th>\n",
       "      <th>Year</th>\n",
       "      <th>BasePolicy</th>\n",
       "    </tr>\n",
       "  </thead>\n",
       "  <tbody>\n",
       "    <tr>\n",
       "      <th>0</th>\n",
       "      <td>Dec</td>\n",
       "      <td>5</td>\n",
       "      <td>Wednesday</td>\n",
       "      <td>Honda</td>\n",
       "      <td>Urban</td>\n",
       "      <td>Tuesday</td>\n",
       "      <td>Jan</td>\n",
       "      <td>1</td>\n",
       "      <td>Female</td>\n",
       "      <td>Single</td>\n",
       "      <td>...</td>\n",
       "      <td>3 years</td>\n",
       "      <td>26 to 30</td>\n",
       "      <td>No</td>\n",
       "      <td>No</td>\n",
       "      <td>External</td>\n",
       "      <td>none</td>\n",
       "      <td>1 year</td>\n",
       "      <td>3 to 4</td>\n",
       "      <td>1994</td>\n",
       "      <td>Liability</td>\n",
       "    </tr>\n",
       "    <tr>\n",
       "      <th>1</th>\n",
       "      <td>Jan</td>\n",
       "      <td>3</td>\n",
       "      <td>Wednesday</td>\n",
       "      <td>Honda</td>\n",
       "      <td>Urban</td>\n",
       "      <td>Monday</td>\n",
       "      <td>Jan</td>\n",
       "      <td>4</td>\n",
       "      <td>Male</td>\n",
       "      <td>Single</td>\n",
       "      <td>...</td>\n",
       "      <td>6 years</td>\n",
       "      <td>31 to 35</td>\n",
       "      <td>Yes</td>\n",
       "      <td>No</td>\n",
       "      <td>External</td>\n",
       "      <td>none</td>\n",
       "      <td>no change</td>\n",
       "      <td>1 vehicle</td>\n",
       "      <td>1994</td>\n",
       "      <td>Collision</td>\n",
       "    </tr>\n",
       "    <tr>\n",
       "      <th>2</th>\n",
       "      <td>Oct</td>\n",
       "      <td>5</td>\n",
       "      <td>Friday</td>\n",
       "      <td>Honda</td>\n",
       "      <td>Urban</td>\n",
       "      <td>Thursday</td>\n",
       "      <td>Nov</td>\n",
       "      <td>2</td>\n",
       "      <td>Male</td>\n",
       "      <td>Married</td>\n",
       "      <td>...</td>\n",
       "      <td>7 years</td>\n",
       "      <td>41 to 50</td>\n",
       "      <td>No</td>\n",
       "      <td>No</td>\n",
       "      <td>External</td>\n",
       "      <td>none</td>\n",
       "      <td>no change</td>\n",
       "      <td>1 vehicle</td>\n",
       "      <td>1994</td>\n",
       "      <td>Collision</td>\n",
       "    </tr>\n",
       "    <tr>\n",
       "      <th>3</th>\n",
       "      <td>Jun</td>\n",
       "      <td>2</td>\n",
       "      <td>Saturday</td>\n",
       "      <td>Toyota</td>\n",
       "      <td>Rural</td>\n",
       "      <td>Friday</td>\n",
       "      <td>Jul</td>\n",
       "      <td>1</td>\n",
       "      <td>Male</td>\n",
       "      <td>Married</td>\n",
       "      <td>...</td>\n",
       "      <td>more than 7</td>\n",
       "      <td>51 to 65</td>\n",
       "      <td>Yes</td>\n",
       "      <td>No</td>\n",
       "      <td>External</td>\n",
       "      <td>more than 5</td>\n",
       "      <td>no change</td>\n",
       "      <td>1 vehicle</td>\n",
       "      <td>1994</td>\n",
       "      <td>Liability</td>\n",
       "    </tr>\n",
       "    <tr>\n",
       "      <th>4</th>\n",
       "      <td>Jan</td>\n",
       "      <td>5</td>\n",
       "      <td>Monday</td>\n",
       "      <td>Honda</td>\n",
       "      <td>Urban</td>\n",
       "      <td>Tuesday</td>\n",
       "      <td>Feb</td>\n",
       "      <td>2</td>\n",
       "      <td>Female</td>\n",
       "      <td>Single</td>\n",
       "      <td>...</td>\n",
       "      <td>5 years</td>\n",
       "      <td>31 to 35</td>\n",
       "      <td>No</td>\n",
       "      <td>No</td>\n",
       "      <td>External</td>\n",
       "      <td>none</td>\n",
       "      <td>no change</td>\n",
       "      <td>1 vehicle</td>\n",
       "      <td>1994</td>\n",
       "      <td>Collision</td>\n",
       "    </tr>\n",
       "  </tbody>\n",
       "</table>\n",
       "<p>5 rows × 33 columns</p>\n",
       "</div>"
      ],
      "text/plain": [
       "  Month  WeekOfMonth  DayOfWeek    Make AccidentArea DayOfWeekClaimed  \\\n",
       "0   Dec            5  Wednesday   Honda        Urban          Tuesday   \n",
       "1   Jan            3  Wednesday   Honda        Urban           Monday   \n",
       "2   Oct            5     Friday   Honda        Urban         Thursday   \n",
       "3   Jun            2   Saturday  Toyota        Rural           Friday   \n",
       "4   Jan            5     Monday   Honda        Urban          Tuesday   \n",
       "\n",
       "  MonthClaimed  WeekOfMonthClaimed     Sex MaritalStatus  ...  AgeOfVehicle  \\\n",
       "0          Jan                   1  Female        Single  ...       3 years   \n",
       "1          Jan                   4    Male        Single  ...       6 years   \n",
       "2          Nov                   2    Male       Married  ...       7 years   \n",
       "3          Jul                   1    Male       Married  ...   more than 7   \n",
       "4          Feb                   2  Female        Single  ...       5 years   \n",
       "\n",
       "  AgeOfPolicyHolder PoliceReportFiled WitnessPresent AgentType  \\\n",
       "0          26 to 30                No             No  External   \n",
       "1          31 to 35               Yes             No  External   \n",
       "2          41 to 50                No             No  External   \n",
       "3          51 to 65               Yes             No  External   \n",
       "4          31 to 35                No             No  External   \n",
       "\n",
       "   NumberOfSuppliments  AddressChange_Claim  NumberOfCars  Year  BasePolicy  \n",
       "0                 none               1 year        3 to 4  1994   Liability  \n",
       "1                 none            no change     1 vehicle  1994   Collision  \n",
       "2                 none            no change     1 vehicle  1994   Collision  \n",
       "3          more than 5            no change     1 vehicle  1994   Liability  \n",
       "4                 none            no change     1 vehicle  1994   Collision  \n",
       "\n",
       "[5 rows x 33 columns]"
      ]
     },
     "execution_count": 2,
     "metadata": {},
     "output_type": "execute_result"
    }
   ],
   "source": [
    "df = pd.read_csv('data/fraud_oracle.csv')\n",
    "df.head()"
   ]
  },
  {
   "cell_type": "markdown",
   "id": "99bd36a4-a6a1-42cc-9f96-5f73ef23fa0b",
   "metadata": {},
   "source": [
    "Variable types:"
   ]
  },
  {
   "cell_type": "code",
   "execution_count": 3,
   "id": "947e377d-cb5a-4ed2-b395-51c7287a7136",
   "metadata": {},
   "outputs": [
    {
     "data": {
      "text/plain": [
       "PolicyNumber             int64\n",
       "RepNumber                int64\n",
       "Year                     int64\n",
       "FraudFound_P             int64\n",
       "Age                      int64\n",
       "Deductible               int64\n",
       "WeekOfMonthClaimed       int64\n",
       "DriverRating             int64\n",
       "WeekOfMonth              int64\n",
       "PoliceReportFiled       object\n",
       "AgentType               object\n",
       "NumberOfSuppliments     object\n",
       "AgeOfVehicle            object\n",
       "PastNumberOfClaims      object\n",
       "Days_Policy_Claim       object\n",
       "Days_Policy_Accident    object\n",
       "AddressChange_Claim     object\n",
       "NumberOfCars            object\n",
       "WitnessPresent          object\n",
       "AgeOfPolicyHolder       object\n",
       "Month                   object\n",
       "VehicleCategory         object\n",
       "PolicyType              object\n",
       "Fault                   object\n",
       "MaritalStatus           object\n",
       "Sex                     object\n",
       "MonthClaimed            object\n",
       "DayOfWeekClaimed        object\n",
       "AccidentArea            object\n",
       "Make                    object\n",
       "DayOfWeek               object\n",
       "VehiclePrice            object\n",
       "BasePolicy              object\n",
       "dtype: object"
      ]
     },
     "execution_count": 3,
     "metadata": {},
     "output_type": "execute_result"
    }
   ],
   "source": [
    "df.dtypes.sort_values()"
   ]
  },
  {
   "cell_type": "markdown",
   "id": "7fb76b8b-220b-4a26-a773-93f6b1f648c5",
   "metadata": {},
   "source": [
    "Some variables should be numeric based on their name, but is indicated as object here, such as `NumberofCars`. Let's see the data:"
   ]
  },
  {
   "cell_type": "code",
   "execution_count": 4,
   "id": "089431d7-cd6a-4b79-b20f-4ad3e26b61b4",
   "metadata": {},
   "outputs": [
    {
     "data": {
      "text/plain": [
       "array(['3 to 4', '1 vehicle', '2 vehicles', '5 to 8', 'more than 8'],\n",
       "      dtype=object)"
      ]
     },
     "execution_count": 4,
     "metadata": {},
     "output_type": "execute_result"
    }
   ],
   "source": [
    "df['NumberOfCars'].unique()"
   ]
  },
  {
   "cell_type": "markdown",
   "id": "045c3e19-8bcd-424f-a081-653d4ec8cb0f",
   "metadata": {},
   "source": [
    "As you can see it contains strings. We will convert these strings to number soon."
   ]
  },
  {
   "cell_type": "markdown",
   "id": "b93cbd81-3909-4aab-9353-f3beb4cfda5d",
   "metadata": {},
   "source": [
    "Number of unique values in each variable:"
   ]
  },
  {
   "cell_type": "code",
   "execution_count": 5,
   "id": "3a11f318-6de6-4bbe-a900-e172a7e5b0ed",
   "metadata": {},
   "outputs": [
    {
     "data": {
      "text/plain": [
       "WitnessPresent              2\n",
       "AgentType                   2\n",
       "FraudFound_P                2\n",
       "AccidentArea                2\n",
       "PoliceReportFiled           2\n",
       "Fault                       2\n",
       "Sex                         2\n",
       "Year                        3\n",
       "BasePolicy                  3\n",
       "VehicleCategory             3\n",
       "PastNumberOfClaims          4\n",
       "Days_Policy_Claim           4\n",
       "DriverRating                4\n",
       "Deductible                  4\n",
       "MaritalStatus               4\n",
       "NumberOfSuppliments         4\n",
       "NumberOfCars                5\n",
       "WeekOfMonthClaimed          5\n",
       "Days_Policy_Accident        5\n",
       "AddressChange_Claim         5\n",
       "WeekOfMonth                 5\n",
       "VehiclePrice                6\n",
       "DayOfWeek                   7\n",
       "DayOfWeekClaimed            8\n",
       "AgeOfVehicle                8\n",
       "PolicyType                  9\n",
       "AgeOfPolicyHolder           9\n",
       "Month                      12\n",
       "MonthClaimed               13\n",
       "RepNumber                  16\n",
       "Make                       19\n",
       "Age                        66\n",
       "PolicyNumber            15420\n",
       "dtype: int64"
      ]
     },
     "execution_count": 5,
     "metadata": {},
     "output_type": "execute_result"
    }
   ],
   "source": [
    "df.nunique().sort_values()"
   ]
  },
  {
   "cell_type": "markdown",
   "id": "9e5b5bf1-1b0c-4d31-99fc-14eb0addaa0a",
   "metadata": {},
   "source": [
    "Notice: `MonthClaimed` has 13 unique values instead of 12."
   ]
  },
  {
   "cell_type": "code",
   "execution_count": 6,
   "id": "97a689d0-ba7a-4e79-8a30-0854da1a105f",
   "metadata": {},
   "outputs": [
    {
     "data": {
      "text/plain": [
       "array(['Jan', 'Nov', 'Jul', 'Feb', 'Mar', 'Dec', 'Apr', 'Aug', 'May',\n",
       "       'Jun', 'Sep', 'Oct', '0'], dtype=object)"
      ]
     },
     "execution_count": 6,
     "metadata": {},
     "output_type": "execute_result"
    }
   ],
   "source": [
    "df['MonthClaimed'].unique()"
   ]
  },
  {
   "cell_type": "markdown",
   "id": "d9254a74-85fb-48cd-bc02-bb97508f2d40",
   "metadata": {},
   "source": [
    "Turns out there are rows with `'0'` as month. How many are they?"
   ]
  },
  {
   "cell_type": "code",
   "execution_count": 7,
   "id": "8e44c703-e31d-43b4-9a2e-dcf6bcb43927",
   "metadata": {},
   "outputs": [
    {
     "data": {
      "text/html": [
       "<div>\n",
       "<style scoped>\n",
       "    .dataframe tbody tr th:only-of-type {\n",
       "        vertical-align: middle;\n",
       "    }\n",
       "\n",
       "    .dataframe tbody tr th {\n",
       "        vertical-align: top;\n",
       "    }\n",
       "\n",
       "    .dataframe thead th {\n",
       "        text-align: right;\n",
       "    }\n",
       "</style>\n",
       "<table border=\"1\" class=\"dataframe\">\n",
       "  <thead>\n",
       "    <tr style=\"text-align: right;\">\n",
       "      <th></th>\n",
       "      <th>Month</th>\n",
       "      <th>WeekOfMonth</th>\n",
       "      <th>DayOfWeek</th>\n",
       "      <th>Make</th>\n",
       "      <th>AccidentArea</th>\n",
       "      <th>DayOfWeekClaimed</th>\n",
       "      <th>MonthClaimed</th>\n",
       "      <th>WeekOfMonthClaimed</th>\n",
       "      <th>Sex</th>\n",
       "      <th>MaritalStatus</th>\n",
       "      <th>...</th>\n",
       "      <th>AgeOfVehicle</th>\n",
       "      <th>AgeOfPolicyHolder</th>\n",
       "      <th>PoliceReportFiled</th>\n",
       "      <th>WitnessPresent</th>\n",
       "      <th>AgentType</th>\n",
       "      <th>NumberOfSuppliments</th>\n",
       "      <th>AddressChange_Claim</th>\n",
       "      <th>NumberOfCars</th>\n",
       "      <th>Year</th>\n",
       "      <th>BasePolicy</th>\n",
       "    </tr>\n",
       "  </thead>\n",
       "  <tbody>\n",
       "    <tr>\n",
       "      <th>1516</th>\n",
       "      <td>Jul</td>\n",
       "      <td>2</td>\n",
       "      <td>Monday</td>\n",
       "      <td>Honda</td>\n",
       "      <td>Rural</td>\n",
       "      <td>0</td>\n",
       "      <td>0</td>\n",
       "      <td>1</td>\n",
       "      <td>Male</td>\n",
       "      <td>Single</td>\n",
       "      <td>...</td>\n",
       "      <td>new</td>\n",
       "      <td>16 to 17</td>\n",
       "      <td>No</td>\n",
       "      <td>No</td>\n",
       "      <td>External</td>\n",
       "      <td>none</td>\n",
       "      <td>no change</td>\n",
       "      <td>1 vehicle</td>\n",
       "      <td>1994</td>\n",
       "      <td>All Perils</td>\n",
       "    </tr>\n",
       "  </tbody>\n",
       "</table>\n",
       "<p>1 rows × 33 columns</p>\n",
       "</div>"
      ],
      "text/plain": [
       "     Month  WeekOfMonth DayOfWeek   Make AccidentArea DayOfWeekClaimed  \\\n",
       "1516   Jul            2    Monday  Honda        Rural                0   \n",
       "\n",
       "     MonthClaimed  WeekOfMonthClaimed   Sex MaritalStatus  ...  AgeOfVehicle  \\\n",
       "1516            0                   1  Male        Single  ...           new   \n",
       "\n",
       "     AgeOfPolicyHolder PoliceReportFiled WitnessPresent AgentType  \\\n",
       "1516          16 to 17                No             No  External   \n",
       "\n",
       "      NumberOfSuppliments  AddressChange_Claim  NumberOfCars  Year  BasePolicy  \n",
       "1516                 none            no change     1 vehicle  1994  All Perils  \n",
       "\n",
       "[1 rows x 33 columns]"
      ]
     },
     "execution_count": 7,
     "metadata": {},
     "output_type": "execute_result"
    }
   ],
   "source": [
    "df[df['MonthClaimed']=='0']"
   ]
  },
  {
   "cell_type": "markdown",
   "id": "7f343865-deb4-4614-b901-2efa7aef302a",
   "metadata": {},
   "source": [
    "So there's only one row. We will fix this soon."
   ]
  },
  {
   "cell_type": "markdown",
   "id": "e0105eae-fabb-4685-ac53-0d823e27504a",
   "metadata": {},
   "source": [
    "Let's see the unique values in categorical variables that contain numbers:"
   ]
  },
  {
   "cell_type": "code",
   "execution_count": 8,
   "id": "09e30953-1554-4013-9412-3efaec7c6604",
   "metadata": {},
   "outputs": [
    {
     "name": "stdout",
     "output_type": "stream",
     "text": [
      "NumberOfSuppliments ['none' 'more than 5' '3 to 5' '1 to 2']\n",
      "AgeOfVehicle ['3 years' '6 years' '7 years' 'more than 7' '5 years' 'new' '4 years'\n",
      " '2 years']\n",
      "PastNumberOfClaims ['none' '1' '2 to 4' 'more than 4']\n",
      "Days_Policy_Claim ['more than 30' '15 to 30' '8 to 15' 'none']\n",
      "Days_Policy_Accident ['more than 30' '15 to 30' 'none' '1 to 7' '8 to 15']\n",
      "NumberOfCars ['3 to 4' '1 vehicle' '2 vehicles' '5 to 8' 'more than 8']\n",
      "AgeOfPolicyHolder ['26 to 30' '31 to 35' '41 to 50' '51 to 65' '21 to 25' '36 to 40'\n",
      " '16 to 17' 'over 65' '18 to 20']\n",
      "VehiclePrice ['more than 69000' '20000 to 29000' '30000 to 39000' 'less than 20000'\n",
      " '40000 to 59000' '60000 to 69000']\n"
     ]
    }
   ],
   "source": [
    "num_cat_vars = [\n",
    "    'NumberOfSuppliments',\n",
    "    'AgeOfVehicle',\n",
    "    'PastNumberOfClaims',\n",
    "    'Days_Policy_Claim',\n",
    "    'Days_Policy_Accident',\n",
    "    'NumberOfCars',\n",
    "    'AgeOfPolicyHolder',\n",
    "    'VehiclePrice',\n",
    "]\n",
    "\n",
    "for var in num_cat_vars:\n",
    "    print(var, df[var].unique())"
   ]
  },
  {
   "cell_type": "markdown",
   "id": "35e7aabb-82f4-49c3-ac83-a0aca1bd3396",
   "metadata": {},
   "source": [
    "I notice large occurences of `'none'` in `PastNumberClaims` and `NumberOfSuppliments`:"
   ]
  },
  {
   "cell_type": "code",
   "execution_count": 9,
   "id": "18726bdf-558e-4fb1-b3b1-cd834776a498",
   "metadata": {},
   "outputs": [
    {
     "data": {
      "text/plain": [
       "WeekOfMonthClaimed      0.000000\n",
       "Sex                     0.000000\n",
       "MaritalStatus           0.000000\n",
       "Age                     0.000000\n",
       "Fault                   0.000000\n",
       "BasePolicy              0.000000\n",
       "Days_Policy_Claim       0.000065\n",
       "Days_Policy_Accident    0.003567\n",
       "PastNumberOfClaims      0.282231\n",
       "NumberOfSuppliments     0.457004\n",
       "dtype: float64"
      ]
     },
     "execution_count": 9,
     "metadata": {},
     "output_type": "execute_result"
    }
   ],
   "source": [
    "(df=='none').mean().sort_values().tail(10)"
   ]
  },
  {
   "cell_type": "markdown",
   "id": "33ca067e-e797-47f4-9399-b2997aa03c46",
   "metadata": {},
   "source": [
    "I'm going to assume that in those columns `'none'` actually means zero."
   ]
  },
  {
   "cell_type": "markdown",
   "id": "4afbb1a1-685c-4ba3-94af-63fbc03c9fd1",
   "metadata": {},
   "source": [
    "### Data preprocessing\n",
    "\n",
    "Here's what I will do:\n",
    "\n",
    "- Drop `PolicyNumber` column because it's just an ID number (DONE)\n",
    "- Convert `'none'` values to NaN (DONE)\n",
    "- Fix `MonthClaimed` column as stated before (DONE)\n",
    "- Convert categorical columns that use numbers, like `WeekOfMonth` and `WeekOfMonthClaimed` (DONE)\n",
    "- Convert ordinal columns to have ordinal data type (DONE)\n",
    "- Create numerical columns from categorical columns that contain number ranges (like `NumberOfCars`) (DONE)\n",
    "- Convert `none` in `PastNumberOfClaims` and `NumberOfSuppliments` columns to zero"
   ]
  },
  {
   "cell_type": "code",
   "execution_count": 10,
   "id": "24cd713c-8cdb-4b34-b0bb-866bad57391d",
   "metadata": {},
   "outputs": [],
   "source": [
    "def parse_numerical_range(series: pd.Series, addl_map: dict=dict()) -> pd.Series:\n",
    "    '''\n",
    "    Convert str column containing numerical range.\n",
    "    Conversion rules:\n",
    "    - \"a\" -> a\n",
    "    - \"less than a\" -> a\n",
    "    - \"a to b\" -> (a + b) / 2\n",
    "    - \"greater than b\" -> b\n",
    "    - \"over b\" -> b\n",
    "    - NA -> NA\n",
    "    '''\n",
    "    unique_values = series.dropna().unique()\n",
    "    conversion_map = {}\n",
    "    for val in unique_values:\n",
    "        if ' to ' in val:\n",
    "            num_re = re.search(r'(\\d+) to (\\d+)', val)\n",
    "            lbound = float(num_re.group(1))\n",
    "            ubound = float(num_re.group(2))\n",
    "            conversion_map[val] = (lbound + ubound) / 2\n",
    "        else:\n",
    "            num_re = re.search(r'(\\d+)', val)\n",
    "            if num_re:\n",
    "                conversion_map[val] = float(num_re.group(1))\n",
    "\n",
    "    conversion_map = {**conversion_map, **addl_map}\n",
    "    series = series.replace(conversion_map)\n",
    "    return series"
   ]
  },
  {
   "cell_type": "code",
   "execution_count": 11,
   "id": "9be50a86-ed3e-43a6-b95a-ab7abe3b11da",
   "metadata": {},
   "outputs": [],
   "source": [
    "df_proc = df.copy()\n",
    "df_proc = df_proc.drop('PolicyNumber', axis=1)\n",
    "\n",
    "# convert categorical columns that use numbers\n",
    "cat_num_vars = [\n",
    "    'WeekOfMonthClaimed',\n",
    "    'DriverRating',\n",
    "    'WeekOfMonth',\n",
    "    'RepNumber',\n",
    "]\n",
    "for var in cat_num_vars:\n",
    "    df_proc[var] = pd.Categorical(df_proc[var])\n",
    "\n",
    "# convert 'none' to None\n",
    "df_proc = df_proc.replace('none', np.nan)\n",
    "\n",
    "# replace '0' in MonthClaimed\n",
    "df_proc['MonthClaimed'] = df_proc['MonthClaimed'].replace('0', np.nan)\n",
    "\n",
    "# replace none in these 2 columns with 0\n",
    "df_proc[['PastNumberOfClaims', 'NumberOfSuppliments']] = df_proc[['PastNumberOfClaims', 'NumberOfSuppliments']].fillna('0')\n",
    "\n",
    "# convert column with number ranges to numerical\n",
    "for var in num_cat_vars:\n",
    "    new_var = f'{var}_Num'\n",
    "\n",
    "    if var == 'AgeOfVehicle':\n",
    "        addl_map={'new': 0.0, 'more than 7': 8.0}\n",
    "        # df_proc[new_var] = df_proc[new_var].replace()\n",
    "    else:\n",
    "        addl_map = {}\n",
    "    \n",
    "    df_proc[new_var] = parse_numerical_range(df_proc[var], addl_map).astype(float)\n",
    "\n",
    "    categories = df_proc.sort_values(new_var)[var].dropna().unique()\n",
    "    df_proc[var] = pd.Categorical(df_proc[var], categories=categories, ordered=True)\n",
    "\n",
    "# create datetime column\n",
    "df_proc['MonthYear'] = pd.to_datetime(df_proc['Month'] + ' ' + df_proc['Year'].astype(str), format='%b %Y')"
   ]
  },
  {
   "cell_type": "markdown",
   "id": "a68e08fc-e93b-486a-a5de-18c5c9998c89",
   "metadata": {},
   "source": [
    "Let's see the resulting data types:"
   ]
  },
  {
   "cell_type": "code",
   "execution_count": 12,
   "id": "14b9a0a1-3848-4375-9df0-09a30ca6e30b",
   "metadata": {
    "scrolled": true
   },
   "outputs": [
    {
     "data": {
      "text/plain": [
       "Days_Policy_Claim                 category\n",
       "WeekOfMonth                       category\n",
       "NumberOfCars                      category\n",
       "NumberOfSuppliments               category\n",
       "AgeOfPolicyHolder                 category\n",
       "AgeOfVehicle                      category\n",
       "PastNumberOfClaims                category\n",
       "WeekOfMonthClaimed                category\n",
       "Days_Policy_Accident              category\n",
       "DriverRating                      category\n",
       "RepNumber                         category\n",
       "VehiclePrice                      category\n",
       "MonthYear                   datetime64[ns]\n",
       "AgeOfPolicyHolder_Num              float64\n",
       "NumberOfCars_Num                   float64\n",
       "Days_Policy_Accident_Num           float64\n",
       "VehiclePrice_Num                   float64\n",
       "Days_Policy_Claim_Num              float64\n",
       "PastNumberOfClaims_Num             float64\n",
       "AgeOfVehicle_Num                   float64\n",
       "NumberOfSuppliments_Num            float64\n",
       "FraudFound_P                         int64\n",
       "Age                                  int64\n",
       "Deductible                           int64\n",
       "Year                                 int64\n",
       "VehicleCategory                     object\n",
       "BasePolicy                          object\n",
       "DayOfWeek                           object\n",
       "AgentType                           object\n",
       "Make                                object\n",
       "PolicyType                          object\n",
       "WitnessPresent                      object\n",
       "PoliceReportFiled                   object\n",
       "AccidentArea                        object\n",
       "DayOfWeekClaimed                    object\n",
       "MonthClaimed                        object\n",
       "Sex                                 object\n",
       "MaritalStatus                       object\n",
       "Fault                               object\n",
       "AddressChange_Claim                 object\n",
       "Month                               object\n",
       "dtype: object"
      ]
     },
     "execution_count": 12,
     "metadata": {},
     "output_type": "execute_result"
    }
   ],
   "source": [
    "df_proc.dtypes.astype(str).sort_values()"
   ]
  },
  {
   "cell_type": "code",
   "execution_count": 13,
   "id": "db95f144-217b-41f7-9a54-65d63aa2508a",
   "metadata": {
    "scrolled": true
   },
   "outputs": [
    {
     "data": {
      "text/plain": [
       "Sex                          2\n",
       "Fault                        2\n",
       "PoliceReportFiled            2\n",
       "AccidentArea                 2\n",
       "FraudFound_P                 2\n",
       "AgentType                    2\n",
       "WitnessPresent               2\n",
       "VehicleCategory              3\n",
       "Days_Policy_Claim            3\n",
       "Year                         3\n",
       "BasePolicy                   3\n",
       "Days_Policy_Claim_Num        3\n",
       "PastNumberOfClaims           4\n",
       "Days_Policy_Accident         4\n",
       "NumberOfSuppliments_Num      4\n",
       "DriverRating                 4\n",
       "NumberOfSuppliments          4\n",
       "Deductible                   4\n",
       "PastNumberOfClaims_Num       4\n",
       "Days_Policy_Accident_Num     4\n",
       "MaritalStatus                4\n",
       "WeekOfMonth                  5\n",
       "NumberOfCars                 5\n",
       "AddressChange_Claim          5\n",
       "WeekOfMonthClaimed           5\n",
       "NumberOfCars_Num             5\n",
       "VehiclePrice_Num             6\n",
       "VehiclePrice                 6\n",
       "DayOfWeek                    7\n",
       "AgeOfVehicle_Num             8\n",
       "DayOfWeekClaimed             8\n",
       "AgeOfVehicle                 8\n",
       "AgeOfPolicyHolder_Num        9\n",
       "PolicyType                   9\n",
       "AgeOfPolicyHolder            9\n",
       "Month                       12\n",
       "MonthClaimed                12\n",
       "RepNumber                   16\n",
       "Make                        19\n",
       "MonthYear                   36\n",
       "Age                         66\n",
       "dtype: int64"
      ]
     },
     "execution_count": 13,
     "metadata": {},
     "output_type": "execute_result"
    }
   ],
   "source": [
    "df_proc.nunique().sort_values()"
   ]
  },
  {
   "cell_type": "markdown",
   "id": "17a179aa-dcf4-4d9b-af98-9c91bcd216fc",
   "metadata": {},
   "source": [
    "### Handling missing values"
   ]
  },
  {
   "cell_type": "markdown",
   "id": "87f7644a-7d9c-4851-be8d-acd15e1519d5",
   "metadata": {},
   "source": [
    "How common do missing values occur now?"
   ]
  },
  {
   "cell_type": "code",
   "execution_count": 14,
   "id": "fa95874a-89d2-4e7d-808a-ac7ec4056115",
   "metadata": {},
   "outputs": [
    {
     "data": {
      "text/plain": [
       "DayOfWeek                   0.000000\n",
       "Days_Policy_Claim           0.000065\n",
       "Days_Policy_Claim_Num       0.000065\n",
       "MonthClaimed                0.000065\n",
       "Days_Policy_Accident_Num    0.003567\n",
       "Days_Policy_Accident        0.003567\n",
       "dtype: float64"
      ]
     },
     "execution_count": 14,
     "metadata": {},
     "output_type": "execute_result"
    }
   ],
   "source": [
    "df_proc.isna().mean().sort_values().tail(6)"
   ]
  },
  {
   "cell_type": "code",
   "execution_count": 15,
   "id": "07f2fe35-6e67-4231-9654-9ef25b252e3b",
   "metadata": {},
   "outputs": [
    {
     "data": {
      "text/plain": [
       "0.0036316472114137485"
      ]
     },
     "execution_count": 15,
     "metadata": {},
     "output_type": "execute_result"
    }
   ],
   "source": [
    "df_proc.isna().any(axis=1).mean()"
   ]
  },
  {
   "cell_type": "markdown",
   "id": "1eef598f-8552-47b5-8d23-d2802e79f298",
   "metadata": {},
   "source": [
    "It only occurs 0.36% of the time. **I'm going to drop them.**"
   ]
  },
  {
   "cell_type": "code",
   "execution_count": 16,
   "id": "51078c35-695d-44f9-9b08-2799228d423a",
   "metadata": {},
   "outputs": [
    {
     "data": {
      "text/plain": [
       "(15364, 41)"
      ]
     },
     "execution_count": 16,
     "metadata": {},
     "output_type": "execute_result"
    }
   ],
   "source": [
    "df_proc_dropna = df_proc.dropna(how='any')\n",
    "df_proc_dropna.shape"
   ]
  },
  {
   "cell_type": "markdown",
   "id": "2ebca358-2613-46b8-8dd1-c8958f3b44e5",
   "metadata": {},
   "source": [
    "## Invalid age data?"
   ]
  },
  {
   "cell_type": "markdown",
   "id": "237f2133-ca2a-424b-8ac5-cb72480d22c0",
   "metadata": {},
   "source": [
    "There are some data with age equals to zero:"
   ]
  },
  {
   "cell_type": "code",
   "execution_count": 17,
   "id": "d1dbf112-b1b3-4993-98a1-5e6f9ddf12c8",
   "metadata": {},
   "outputs": [
    {
     "data": {
      "text/plain": [
       "0.020752269779507133"
      ]
     },
     "execution_count": 17,
     "metadata": {},
     "output_type": "execute_result"
    }
   ],
   "source": [
    "(df_proc['Age']==0).mean()"
   ]
  },
  {
   "cell_type": "markdown",
   "id": "b9e2cb29-cf61-41f0-8b50-af66271f661c",
   "metadata": {},
   "source": [
    "It occurs 2% of the time. I will ignore it and treat them as is."
   ]
  },
  {
   "cell_type": "markdown",
   "id": "2f437eca-cea2-4cd6-81dc-a0f7bfdebaa4",
   "metadata": {},
   "source": [
    "### Train-test-split"
   ]
  },
  {
   "cell_type": "code",
   "execution_count": 18,
   "id": "a4daccbb-161e-41e3-a8d2-12e25c2a77c0",
   "metadata": {},
   "outputs": [
    {
     "name": "stdout",
     "output_type": "stream",
     "text": [
      "df_train (12291, 41)\n",
      "df_valid (1536, 41)\n",
      "df_test (1537, 41)\n"
     ]
    }
   ],
   "source": [
    "df_train, df_non_train = train_test_split(\n",
    "    df_proc_dropna, train_size=0.8, random_state=99,\n",
    "    stratify=df_proc_dropna['FraudFound_P']\n",
    ")\n",
    "df_valid, df_test = train_test_split(\n",
    "    df_non_train, train_size=0.5, random_state=52,\n",
    "    stratify=df_non_train['FraudFound_P']\n",
    ")\n",
    "\n",
    "print('df_train', df_train.shape)\n",
    "print('df_valid', df_valid.shape)\n",
    "print('df_test', df_test.shape)"
   ]
  },
  {
   "cell_type": "markdown",
   "id": "c91774fc-d0a0-4049-b08f-ab9c389b1898",
   "metadata": {},
   "source": [
    "## Question 1\n",
    "\n",
    "Determine the percentage of claims identified as fraudulent based on fraud indicators in the dataset (e.g., using the column FraudFound_P). This includes calculating: \n",
    "\n",
    "- The total number of claims\n",
    "- The number of claims flagged as fraudulent (where FraudFound_P == 1)\n",
    "- The proportion of fraudulent claims is expressed as a percentage.\n"
   ]
  },
  {
   "cell_type": "markdown",
   "id": "835b9418-50b2-45c8-983d-dfa259efd954",
   "metadata": {},
   "source": [
    "Here I will use the full data after the NANs have been dropped."
   ]
  },
  {
   "cell_type": "code",
   "execution_count": 19,
   "id": "700531a5-a240-4b1e-9152-ef4ba25984b1",
   "metadata": {},
   "outputs": [
    {
     "name": "stdout",
     "output_type": "stream",
     "text": [
      "Total number of claims: 15364\n",
      "Number of fraudulent claims: 914\n",
      "Percentage of fraudulent claims: 5.95%\n"
     ]
    }
   ],
   "source": [
    "print('Total number of claims:', len(df_proc_dropna))\n",
    "print('Number of fraudulent claims:', df_proc_dropna['FraudFound_P'].sum())\n",
    "print(f'Percentage of fraudulent claims: {df_proc_dropna['FraudFound_P'].mean() * 100:.2f}%')"
   ]
  },
  {
   "cell_type": "markdown",
   "id": "4d4ae5b8-7242-4c96-a49f-6da33bc61144",
   "metadata": {},
   "source": [
    "## Question 2 (descriptive statistics)\n",
    "\n",
    "One of the analyses needed is to compare the characteristics of fraudulent and normal insurance claims to derive insights that can help the insurance company understand the nature of these claims better.\n",
    "\n",
    "- Numerical variables\n",
    "    - Variables (5 total): Age, WeekofMonth, etc \n",
    "[Add up to five additional variables that could enhance insights into claims behavior]\n",
    "    - Statistical Measures: Mean, Median, std, Min, and Max\n",
    "- Categorical variables\n",
    "    - Variables (5  total): VehiclePrice, Make, Fault, Days_Policy_Accident, etc [Add up to five additional variables that could enhance insights into claims behavior)\n",
    "    - Statistical Measures: frequency and proportion\n",
    "\n",
    "Comparative Analysis: Perform all the analysis above in three segments:\n",
    "\n",
    "- Fraudulent Claims Only\n",
    "- Normal Claims Only\n",
    "- Combined View of Both Claims\n"
   ]
  },
  {
   "cell_type": "markdown",
   "id": "743675c5-9619-4803-9843-ad731fa97bb7",
   "metadata": {},
   "source": [
    "### 2.1 Numerical variables"
   ]
  },
  {
   "cell_type": "code",
   "execution_count": 20,
   "id": "7c3c37fe-02d2-4b4f-9194-c296f667f435",
   "metadata": {},
   "outputs": [],
   "source": [
    "num_vars = [\n",
    "    'AgeOfPolicyHolder_Num',\n",
    "    'NumberOfCars_Num',\n",
    "    'Days_Policy_Accident_Num',\n",
    "    'VehiclePrice_Num',\n",
    "    'Days_Policy_Claim_Num',\n",
    "    'PastNumberOfClaims_Num',\n",
    "    'AgeOfVehicle_Num',\n",
    "    'NumberOfSuppliments_Num',\n",
    "    'Age',\n",
    "    'Deductible',\n",
    "]"
   ]
  },
  {
   "cell_type": "code",
   "execution_count": 21,
   "id": "9b3d3a49-be69-44db-9356-9a837376f32f",
   "metadata": {},
   "outputs": [],
   "source": [
    "import scipy.stats as stats"
   ]
  },
  {
   "cell_type": "markdown",
   "id": "00d9fcab-6240-43e6-8fe5-fe54468d92f4",
   "metadata": {},
   "source": [
    "To make the analysis faster, I will calculate the t-test for the difference in mean between fraud and non-fraud in each numerical variable."
   ]
  },
  {
   "cell_type": "code",
   "execution_count": 22,
   "id": "c095a4a0-2277-4b36-aba0-01318daf822e",
   "metadata": {},
   "outputs": [
    {
     "data": {
      "text/html": [
       "<div>\n",
       "<style scoped>\n",
       "    .dataframe tbody tr th:only-of-type {\n",
       "        vertical-align: middle;\n",
       "    }\n",
       "\n",
       "    .dataframe tbody tr th {\n",
       "        vertical-align: top;\n",
       "    }\n",
       "\n",
       "    .dataframe thead th {\n",
       "        text-align: right;\n",
       "    }\n",
       "</style>\n",
       "<table border=\"1\" class=\"dataframe\">\n",
       "  <thead>\n",
       "    <tr style=\"text-align: right;\">\n",
       "      <th></th>\n",
       "      <th>pvalue</th>\n",
       "      <th>statistic</th>\n",
       "    </tr>\n",
       "  </thead>\n",
       "  <tbody>\n",
       "    <tr>\n",
       "      <th>PastNumberOfClaims_Num</th>\n",
       "      <td>1.565112e-10</td>\n",
       "      <td>-6.404354</td>\n",
       "    </tr>\n",
       "    <tr>\n",
       "      <th>VehiclePrice_Num</th>\n",
       "      <td>1.002979e-05</td>\n",
       "      <td>4.418373</td>\n",
       "    </tr>\n",
       "    <tr>\n",
       "      <th>AgeOfVehicle_Num</th>\n",
       "      <td>4.030732e-05</td>\n",
       "      <td>-4.107203</td>\n",
       "    </tr>\n",
       "    <tr>\n",
       "      <th>NumberOfSuppliments_Num</th>\n",
       "      <td>1.086945e-04</td>\n",
       "      <td>-3.871574</td>\n",
       "    </tr>\n",
       "    <tr>\n",
       "      <th>Age</th>\n",
       "      <td>2.933963e-04</td>\n",
       "      <td>-3.622102</td>\n",
       "    </tr>\n",
       "    <tr>\n",
       "      <th>AgeOfPolicyHolder_Num</th>\n",
       "      <td>7.375302e-04</td>\n",
       "      <td>-3.376085</td>\n",
       "    </tr>\n",
       "    <tr>\n",
       "      <th>Deductible</th>\n",
       "      <td>9.471061e-02</td>\n",
       "      <td>1.671185</td>\n",
       "    </tr>\n",
       "    <tr>\n",
       "      <th>NumberOfCars_Num</th>\n",
       "      <td>9.310578e-01</td>\n",
       "      <td>-0.086516</td>\n",
       "    </tr>\n",
       "    <tr>\n",
       "      <th>Days_Policy_Claim_Num</th>\n",
       "      <td>9.385139e-01</td>\n",
       "      <td>-0.077139</td>\n",
       "    </tr>\n",
       "    <tr>\n",
       "      <th>Days_Policy_Accident_Num</th>\n",
       "      <td>9.721981e-01</td>\n",
       "      <td>-0.034852</td>\n",
       "    </tr>\n",
       "  </tbody>\n",
       "</table>\n",
       "</div>"
      ],
      "text/plain": [
       "                                pvalue  statistic\n",
       "PastNumberOfClaims_Num    1.565112e-10  -6.404354\n",
       "VehiclePrice_Num          1.002979e-05   4.418373\n",
       "AgeOfVehicle_Num          4.030732e-05  -4.107203\n",
       "NumberOfSuppliments_Num   1.086945e-04  -3.871574\n",
       "Age                       2.933963e-04  -3.622102\n",
       "AgeOfPolicyHolder_Num     7.375302e-04  -3.376085\n",
       "Deductible                9.471061e-02   1.671185\n",
       "NumberOfCars_Num          9.310578e-01  -0.086516\n",
       "Days_Policy_Claim_Num     9.385139e-01  -0.077139\n",
       "Days_Policy_Accident_Num  9.721981e-01  -0.034852"
      ]
     },
     "execution_count": 22,
     "metadata": {},
     "output_type": "execute_result"
    }
   ],
   "source": [
    "is_fraud = df_train['FraudFound_P'] == 1\n",
    "ttest_result_list = {}\n",
    "for var in num_vars:\n",
    "    group1 = df_train[is_fraud][var].dropna()\n",
    "    group2 = df_train[~is_fraud][var].dropna()\n",
    "    ttest = stats.ttest_ind(group1, group2, equal_var=True)\n",
    "    ttest_result_list[var] = {\n",
    "        'pvalue': ttest.pvalue,\n",
    "        'statistic': ttest.statistic,\n",
    "    }\n",
    "ttest_result = pd.DataFrame(ttest_result_list).T.sort_values('pvalue')\n",
    "ttest_result"
   ]
  },
  {
   "cell_type": "markdown",
   "id": "53675bec-70c7-4b29-9dea-3f0126d8a8f6",
   "metadata": {},
   "source": [
    "Which variables have p-value less than 1%?"
   ]
  },
  {
   "cell_type": "code",
   "execution_count": 23,
   "id": "aac0212c-3811-4794-ade1-e38622e2c8c6",
   "metadata": {},
   "outputs": [
    {
     "data": {
      "text/html": [
       "<div>\n",
       "<style scoped>\n",
       "    .dataframe tbody tr th:only-of-type {\n",
       "        vertical-align: middle;\n",
       "    }\n",
       "\n",
       "    .dataframe tbody tr th {\n",
       "        vertical-align: top;\n",
       "    }\n",
       "\n",
       "    .dataframe thead th {\n",
       "        text-align: right;\n",
       "    }\n",
       "</style>\n",
       "<table border=\"1\" class=\"dataframe\">\n",
       "  <thead>\n",
       "    <tr style=\"text-align: right;\">\n",
       "      <th></th>\n",
       "      <th>pvalue</th>\n",
       "      <th>statistic</th>\n",
       "    </tr>\n",
       "  </thead>\n",
       "  <tbody>\n",
       "    <tr>\n",
       "      <th>PastNumberOfClaims_Num</th>\n",
       "      <td>1.565112e-10</td>\n",
       "      <td>-6.404354</td>\n",
       "    </tr>\n",
       "    <tr>\n",
       "      <th>VehiclePrice_Num</th>\n",
       "      <td>1.002979e-05</td>\n",
       "      <td>4.418373</td>\n",
       "    </tr>\n",
       "    <tr>\n",
       "      <th>AgeOfVehicle_Num</th>\n",
       "      <td>4.030732e-05</td>\n",
       "      <td>-4.107203</td>\n",
       "    </tr>\n",
       "    <tr>\n",
       "      <th>NumberOfSuppliments_Num</th>\n",
       "      <td>1.086945e-04</td>\n",
       "      <td>-3.871574</td>\n",
       "    </tr>\n",
       "    <tr>\n",
       "      <th>Age</th>\n",
       "      <td>2.933963e-04</td>\n",
       "      <td>-3.622102</td>\n",
       "    </tr>\n",
       "    <tr>\n",
       "      <th>AgeOfPolicyHolder_Num</th>\n",
       "      <td>7.375302e-04</td>\n",
       "      <td>-3.376085</td>\n",
       "    </tr>\n",
       "  </tbody>\n",
       "</table>\n",
       "</div>"
      ],
      "text/plain": [
       "                               pvalue  statistic\n",
       "PastNumberOfClaims_Num   1.565112e-10  -6.404354\n",
       "VehiclePrice_Num         1.002979e-05   4.418373\n",
       "AgeOfVehicle_Num         4.030732e-05  -4.107203\n",
       "NumberOfSuppliments_Num  1.086945e-04  -3.871574\n",
       "Age                      2.933963e-04  -3.622102\n",
       "AgeOfPolicyHolder_Num    7.375302e-04  -3.376085"
      ]
     },
     "execution_count": 23,
     "metadata": {},
     "output_type": "execute_result"
    }
   ],
   "source": [
    "ttest_result[ttest_result['pvalue'] < 0.01]"
   ]
  },
  {
   "cell_type": "markdown",
   "id": "c98f346a-3202-4b5a-9e1e-d88daf2e5160",
   "metadata": {},
   "source": [
    "Based on the table above, we can make these preliminary conclusions: fraudulent claims are more likely to have more expensive cars, younger vehicle age, lower number of suppliments, lower number of past claims, younger policy holder's age, and younger driver's age (because those variables have t-test p-value less than 1%)."
   ]
  },
  {
   "cell_type": "markdown",
   "id": "9aaca9ba-cf82-4367-8700-eff784078dc8",
   "metadata": {},
   "source": [
    "Let's see some statistics in each numerical variable for fraudulent and non-fraudulent claims:"
   ]
  },
  {
   "cell_type": "code",
   "execution_count": 24,
   "id": "542011b3-595b-4d32-98e2-01ebaffba395",
   "metadata": {},
   "outputs": [
    {
     "data": {
      "text/html": [
       "<div>\n",
       "<style scoped>\n",
       "    .dataframe tbody tr th:only-of-type {\n",
       "        vertical-align: middle;\n",
       "    }\n",
       "\n",
       "    .dataframe tbody tr th {\n",
       "        vertical-align: top;\n",
       "    }\n",
       "\n",
       "    .dataframe thead th {\n",
       "        text-align: right;\n",
       "    }\n",
       "</style>\n",
       "<table border=\"1\" class=\"dataframe\">\n",
       "  <thead>\n",
       "    <tr style=\"text-align: right;\">\n",
       "      <th></th>\n",
       "      <th>FraudFound_P</th>\n",
       "      <th>0</th>\n",
       "      <th>1</th>\n",
       "    </tr>\n",
       "  </thead>\n",
       "  <tbody>\n",
       "    <tr>\n",
       "      <th rowspan=\"5\" valign=\"top\">AgeOfPolicyHolder_Num</th>\n",
       "      <th>mean</th>\n",
       "      <td>39.356867</td>\n",
       "      <td>38.233478</td>\n",
       "    </tr>\n",
       "    <tr>\n",
       "      <th>std</th>\n",
       "      <td>9.648038</td>\n",
       "      <td>9.817833</td>\n",
       "    </tr>\n",
       "    <tr>\n",
       "      <th>median</th>\n",
       "      <td>38.000000</td>\n",
       "      <td>38.000000</td>\n",
       "    </tr>\n",
       "    <tr>\n",
       "      <th>min</th>\n",
       "      <td>16.500000</td>\n",
       "      <td>16.500000</td>\n",
       "    </tr>\n",
       "    <tr>\n",
       "      <th>max</th>\n",
       "      <td>65.000000</td>\n",
       "      <td>65.000000</td>\n",
       "    </tr>\n",
       "    <tr>\n",
       "      <th rowspan=\"5\" valign=\"top\">NumberOfCars_Num</th>\n",
       "      <th>mean</th>\n",
       "      <td>1.113644</td>\n",
       "      <td>1.131094</td>\n",
       "    </tr>\n",
       "    <tr>\n",
       "      <th>std</th>\n",
       "      <td>0.478967</td>\n",
       "      <td>0.508749</td>\n",
       "    </tr>\n",
       "    <tr>\n",
       "      <th>median</th>\n",
       "      <td>1.000000</td>\n",
       "      <td>1.000000</td>\n",
       "    </tr>\n",
       "    <tr>\n",
       "      <th>min</th>\n",
       "      <td>1.000000</td>\n",
       "      <td>1.000000</td>\n",
       "    </tr>\n",
       "    <tr>\n",
       "      <th>max</th>\n",
       "      <td>8.000000</td>\n",
       "      <td>6.500000</td>\n",
       "    </tr>\n",
       "    <tr>\n",
       "      <th rowspan=\"5\" valign=\"top\">Days_Policy_Accident_Num</th>\n",
       "      <th>mean</th>\n",
       "      <td>29.888727</td>\n",
       "      <td>29.845733</td>\n",
       "    </tr>\n",
       "    <tr>\n",
       "      <th>std</th>\n",
       "      <td>1.399680</td>\n",
       "      <td>1.666054</td>\n",
       "    </tr>\n",
       "    <tr>\n",
       "      <th>median</th>\n",
       "      <td>30.000000</td>\n",
       "      <td>30.000000</td>\n",
       "    </tr>\n",
       "    <tr>\n",
       "      <th>min</th>\n",
       "      <td>4.000000</td>\n",
       "      <td>4.000000</td>\n",
       "    </tr>\n",
       "    <tr>\n",
       "      <th>max</th>\n",
       "      <td>30.000000</td>\n",
       "      <td>30.000000</td>\n",
       "    </tr>\n",
       "    <tr>\n",
       "      <th rowspan=\"5\" valign=\"top\">VehiclePrice_Num</th>\n",
       "      <th>mean</th>\n",
       "      <td>33541.111954</td>\n",
       "      <td>36018.959913</td>\n",
       "    </tr>\n",
       "    <tr>\n",
       "      <th>std</th>\n",
       "      <td>15501.732299</td>\n",
       "      <td>17952.649766</td>\n",
       "    </tr>\n",
       "    <tr>\n",
       "      <th>median</th>\n",
       "      <td>24500.000000</td>\n",
       "      <td>24500.000000</td>\n",
       "    </tr>\n",
       "    <tr>\n",
       "      <th>min</th>\n",
       "      <td>20000.000000</td>\n",
       "      <td>20000.000000</td>\n",
       "    </tr>\n",
       "    <tr>\n",
       "      <th>max</th>\n",
       "      <td>69000.000000</td>\n",
       "      <td>69000.000000</td>\n",
       "    </tr>\n",
       "    <tr>\n",
       "      <th rowspan=\"5\" valign=\"top\">Days_Policy_Claim_Num</th>\n",
       "      <th>mean</th>\n",
       "      <td>29.951159</td>\n",
       "      <td>29.891116</td>\n",
       "    </tr>\n",
       "    <tr>\n",
       "      <th>std</th>\n",
       "      <td>0.785274</td>\n",
       "      <td>1.211526</td>\n",
       "    </tr>\n",
       "    <tr>\n",
       "      <th>median</th>\n",
       "      <td>30.000000</td>\n",
       "      <td>30.000000</td>\n",
       "    </tr>\n",
       "    <tr>\n",
       "      <th>min</th>\n",
       "      <td>11.500000</td>\n",
       "      <td>11.500000</td>\n",
       "    </tr>\n",
       "    <tr>\n",
       "      <th>max</th>\n",
       "      <td>30.000000</td>\n",
       "      <td>30.000000</td>\n",
       "    </tr>\n",
       "    <tr>\n",
       "      <th rowspan=\"5\" valign=\"top\">PastNumberOfClaims_Num</th>\n",
       "      <th>mean</th>\n",
       "      <td>1.841209</td>\n",
       "      <td>1.490791</td>\n",
       "    </tr>\n",
       "    <tr>\n",
       "      <th>std</th>\n",
       "      <td>1.485686</td>\n",
       "      <td>1.437291</td>\n",
       "    </tr>\n",
       "    <tr>\n",
       "      <th>median</th>\n",
       "      <td>1.000000</td>\n",
       "      <td>1.000000</td>\n",
       "    </tr>\n",
       "    <tr>\n",
       "      <th>min</th>\n",
       "      <td>0.000000</td>\n",
       "      <td>0.000000</td>\n",
       "    </tr>\n",
       "    <tr>\n",
       "      <th>max</th>\n",
       "      <td>4.000000</td>\n",
       "      <td>4.000000</td>\n",
       "    </tr>\n",
       "    <tr>\n",
       "      <th rowspan=\"5\" valign=\"top\">AgeOfVehicle_Num</th>\n",
       "      <th>mean</th>\n",
       "      <td>6.593985</td>\n",
       "      <td>6.386782</td>\n",
       "    </tr>\n",
       "    <tr>\n",
       "      <th>std</th>\n",
       "      <td>1.490593</td>\n",
       "      <td>1.648939</td>\n",
       "    </tr>\n",
       "    <tr>\n",
       "      <th>median</th>\n",
       "      <td>7.000000</td>\n",
       "      <td>7.000000</td>\n",
       "    </tr>\n",
       "    <tr>\n",
       "      <th>min</th>\n",
       "      <td>0.000000</td>\n",
       "      <td>0.000000</td>\n",
       "    </tr>\n",
       "    <tr>\n",
       "      <th>max</th>\n",
       "      <td>8.000000</td>\n",
       "      <td>8.000000</td>\n",
       "    </tr>\n",
       "    <tr>\n",
       "      <th rowspan=\"5\" valign=\"top\">NumberOfSuppliments_Num</th>\n",
       "      <th>mean</th>\n",
       "      <td>2.037318</td>\n",
       "      <td>1.735103</td>\n",
       "    </tr>\n",
       "    <tr>\n",
       "      <th>std</th>\n",
       "      <td>2.159326</td>\n",
       "      <td>2.084438</td>\n",
       "    </tr>\n",
       "    <tr>\n",
       "      <th>median</th>\n",
       "      <td>1.500000</td>\n",
       "      <td>0.000000</td>\n",
       "    </tr>\n",
       "    <tr>\n",
       "      <th>min</th>\n",
       "      <td>0.000000</td>\n",
       "      <td>0.000000</td>\n",
       "    </tr>\n",
       "    <tr>\n",
       "      <th>max</th>\n",
       "      <td>5.000000</td>\n",
       "      <td>5.000000</td>\n",
       "    </tr>\n",
       "    <tr>\n",
       "      <th rowspan=\"5\" valign=\"top\">Age</th>\n",
       "      <th>mean</th>\n",
       "      <td>39.956957</td>\n",
       "      <td>38.265439</td>\n",
       "    </tr>\n",
       "    <tr>\n",
       "      <th>std</th>\n",
       "      <td>13.462013</td>\n",
       "      <td>13.871426</td>\n",
       "    </tr>\n",
       "    <tr>\n",
       "      <th>median</th>\n",
       "      <td>38.000000</td>\n",
       "      <td>36.000000</td>\n",
       "    </tr>\n",
       "    <tr>\n",
       "      <th>min</th>\n",
       "      <td>0.000000</td>\n",
       "      <td>0.000000</td>\n",
       "    </tr>\n",
       "    <tr>\n",
       "      <th>max</th>\n",
       "      <td>80.000000</td>\n",
       "      <td>80.000000</td>\n",
       "    </tr>\n",
       "    <tr>\n",
       "      <th rowspan=\"5\" valign=\"top\">Deductible</th>\n",
       "      <th>mean</th>\n",
       "      <td>407.511899</td>\n",
       "      <td>410.725894</td>\n",
       "    </tr>\n",
       "    <tr>\n",
       "      <th>std</th>\n",
       "      <td>43.770260</td>\n",
       "      <td>46.619027</td>\n",
       "    </tr>\n",
       "    <tr>\n",
       "      <th>median</th>\n",
       "      <td>400.000000</td>\n",
       "      <td>400.000000</td>\n",
       "    </tr>\n",
       "    <tr>\n",
       "      <th>min</th>\n",
       "      <td>300.000000</td>\n",
       "      <td>300.000000</td>\n",
       "    </tr>\n",
       "    <tr>\n",
       "      <th>max</th>\n",
       "      <td>700.000000</td>\n",
       "      <td>700.000000</td>\n",
       "    </tr>\n",
       "  </tbody>\n",
       "</table>\n",
       "</div>"
      ],
      "text/plain": [
       "FraudFound_P                                0             1\n",
       "AgeOfPolicyHolder_Num    mean       39.356867     38.233478\n",
       "                         std         9.648038      9.817833\n",
       "                         median     38.000000     38.000000\n",
       "                         min        16.500000     16.500000\n",
       "                         max        65.000000     65.000000\n",
       "NumberOfCars_Num         mean        1.113644      1.131094\n",
       "                         std         0.478967      0.508749\n",
       "                         median      1.000000      1.000000\n",
       "                         min         1.000000      1.000000\n",
       "                         max         8.000000      6.500000\n",
       "Days_Policy_Accident_Num mean       29.888727     29.845733\n",
       "                         std         1.399680      1.666054\n",
       "                         median     30.000000     30.000000\n",
       "                         min         4.000000      4.000000\n",
       "                         max        30.000000     30.000000\n",
       "VehiclePrice_Num         mean    33541.111954  36018.959913\n",
       "                         std     15501.732299  17952.649766\n",
       "                         median  24500.000000  24500.000000\n",
       "                         min     20000.000000  20000.000000\n",
       "                         max     69000.000000  69000.000000\n",
       "Days_Policy_Claim_Num    mean       29.951159     29.891116\n",
       "                         std         0.785274      1.211526\n",
       "                         median     30.000000     30.000000\n",
       "                         min        11.500000     11.500000\n",
       "                         max        30.000000     30.000000\n",
       "PastNumberOfClaims_Num   mean        1.841209      1.490791\n",
       "                         std         1.485686      1.437291\n",
       "                         median      1.000000      1.000000\n",
       "                         min         0.000000      0.000000\n",
       "                         max         4.000000      4.000000\n",
       "AgeOfVehicle_Num         mean        6.593985      6.386782\n",
       "                         std         1.490593      1.648939\n",
       "                         median      7.000000      7.000000\n",
       "                         min         0.000000      0.000000\n",
       "                         max         8.000000      8.000000\n",
       "NumberOfSuppliments_Num  mean        2.037318      1.735103\n",
       "                         std         2.159326      2.084438\n",
       "                         median      1.500000      0.000000\n",
       "                         min         0.000000      0.000000\n",
       "                         max         5.000000      5.000000\n",
       "Age                      mean       39.956957     38.265439\n",
       "                         std        13.462013     13.871426\n",
       "                         median     38.000000     36.000000\n",
       "                         min         0.000000      0.000000\n",
       "                         max        80.000000     80.000000\n",
       "Deductible               mean      407.511899    410.725894\n",
       "                         std        43.770260     46.619027\n",
       "                         median    400.000000    400.000000\n",
       "                         min       300.000000    300.000000\n",
       "                         max       700.000000    700.000000"
      ]
     },
     "execution_count": 24,
     "metadata": {},
     "output_type": "execute_result"
    }
   ],
   "source": [
    "df_proc.groupby('FraudFound_P')[num_vars].agg(['mean', 'std', 'median', 'min', 'max']).T"
   ]
  },
  {
   "cell_type": "markdown",
   "id": "8c80d120-c634-4771-af29-9dd8c7f2f7dc",
   "metadata": {},
   "source": [
    "The result above confirms the t-test results. For example, the mean of `PastNumberOfClaims_Num` for fraudulent cases is 1.49, but 1.84 for non-fraudulent cases."
   ]
  },
  {
   "cell_type": "markdown",
   "id": "3730bd4c-f35e-4f06-8f4f-43051fd34d40",
   "metadata": {},
   "source": [
    "Now let's see the stats without considering the fraud vs non-fraud:"
   ]
  },
  {
   "cell_type": "code",
   "execution_count": 25,
   "id": "f7f261b2-5b0a-408f-86f9-1b3132e5dd93",
   "metadata": {},
   "outputs": [
    {
     "data": {
      "text/html": [
       "<div>\n",
       "<style scoped>\n",
       "    .dataframe tbody tr th:only-of-type {\n",
       "        vertical-align: middle;\n",
       "    }\n",
       "\n",
       "    .dataframe tbody tr th {\n",
       "        vertical-align: top;\n",
       "    }\n",
       "\n",
       "    .dataframe thead th {\n",
       "        text-align: right;\n",
       "    }\n",
       "</style>\n",
       "<table border=\"1\" class=\"dataframe\">\n",
       "  <thead>\n",
       "    <tr style=\"text-align: right;\">\n",
       "      <th></th>\n",
       "      <th>mean</th>\n",
       "      <th>std</th>\n",
       "      <th>median</th>\n",
       "      <th>min</th>\n",
       "      <th>max</th>\n",
       "    </tr>\n",
       "  </thead>\n",
       "  <tbody>\n",
       "    <tr>\n",
       "      <th>AgeOfPolicyHolder_Num</th>\n",
       "      <td>39.281425</td>\n",
       "      <td>9.687676</td>\n",
       "      <td>38.0</td>\n",
       "      <td>16.5</td>\n",
       "      <td>65.0</td>\n",
       "    </tr>\n",
       "    <tr>\n",
       "      <th>NumberOfCars_Num</th>\n",
       "      <td>1.112277</td>\n",
       "      <td>0.473724</td>\n",
       "      <td>1.0</td>\n",
       "      <td>1.0</td>\n",
       "      <td>8.0</td>\n",
       "    </tr>\n",
       "    <tr>\n",
       "      <th>Days_Policy_Accident_Num</th>\n",
       "      <td>29.880075</td>\n",
       "      <td>1.460484</td>\n",
       "      <td>30.0</td>\n",
       "      <td>4.0</td>\n",
       "      <td>30.0</td>\n",
       "    </tr>\n",
       "    <tr>\n",
       "      <th>VehiclePrice_Num</th>\n",
       "      <td>33747.823611</td>\n",
       "      <td>15745.968602</td>\n",
       "      <td>24500.0</td>\n",
       "      <td>20000.0</td>\n",
       "      <td>69000.0</td>\n",
       "    </tr>\n",
       "    <tr>\n",
       "      <th>Days_Policy_Claim_Num</th>\n",
       "      <td>29.960866</td>\n",
       "      <td>0.688578</td>\n",
       "      <td>30.0</td>\n",
       "      <td>11.5</td>\n",
       "      <td>30.0</td>\n",
       "    </tr>\n",
       "    <tr>\n",
       "      <th>PastNumberOfClaims_Num</th>\n",
       "      <td>1.826784</td>\n",
       "      <td>1.487464</td>\n",
       "      <td>1.0</td>\n",
       "      <td>0.0</td>\n",
       "      <td>4.0</td>\n",
       "    </tr>\n",
       "    <tr>\n",
       "      <th>AgeOfVehicle_Num</th>\n",
       "      <td>6.580343</td>\n",
       "      <td>1.507384</td>\n",
       "      <td>7.0</td>\n",
       "      <td>0.0</td>\n",
       "      <td>8.0</td>\n",
       "    </tr>\n",
       "    <tr>\n",
       "      <th>NumberOfSuppliments_Num</th>\n",
       "      <td>2.019242</td>\n",
       "      <td>2.154257</td>\n",
       "      <td>1.5</td>\n",
       "      <td>0.0</td>\n",
       "      <td>5.0</td>\n",
       "    </tr>\n",
       "    <tr>\n",
       "      <th>Age</th>\n",
       "      <td>39.829306</td>\n",
       "      <td>13.507434</td>\n",
       "      <td>38.0</td>\n",
       "      <td>0.0</td>\n",
       "      <td>80.0</td>\n",
       "    </tr>\n",
       "    <tr>\n",
       "      <th>Deductible</th>\n",
       "      <td>407.859409</td>\n",
       "      <td>44.612773</td>\n",
       "      <td>400.0</td>\n",
       "      <td>300.0</td>\n",
       "      <td>700.0</td>\n",
       "    </tr>\n",
       "  </tbody>\n",
       "</table>\n",
       "</div>"
      ],
      "text/plain": [
       "                                  mean           std   median      min  \\\n",
       "AgeOfPolicyHolder_Num        39.281425      9.687676     38.0     16.5   \n",
       "NumberOfCars_Num              1.112277      0.473724      1.0      1.0   \n",
       "Days_Policy_Accident_Num     29.880075      1.460484     30.0      4.0   \n",
       "VehiclePrice_Num          33747.823611  15745.968602  24500.0  20000.0   \n",
       "Days_Policy_Claim_Num        29.960866      0.688578     30.0     11.5   \n",
       "PastNumberOfClaims_Num        1.826784      1.487464      1.0      0.0   \n",
       "AgeOfVehicle_Num              6.580343      1.507384      7.0      0.0   \n",
       "NumberOfSuppliments_Num       2.019242      2.154257      1.5      0.0   \n",
       "Age                          39.829306     13.507434     38.0      0.0   \n",
       "Deductible                  407.859409     44.612773    400.0    300.0   \n",
       "\n",
       "                              max  \n",
       "AgeOfPolicyHolder_Num        65.0  \n",
       "NumberOfCars_Num              8.0  \n",
       "Days_Policy_Accident_Num     30.0  \n",
       "VehiclePrice_Num          69000.0  \n",
       "Days_Policy_Claim_Num        30.0  \n",
       "PastNumberOfClaims_Num        4.0  \n",
       "AgeOfVehicle_Num              8.0  \n",
       "NumberOfSuppliments_Num       5.0  \n",
       "Age                          80.0  \n",
       "Deductible                  700.0  "
      ]
     },
     "execution_count": 25,
     "metadata": {},
     "output_type": "execute_result"
    }
   ],
   "source": [
    "df_train[num_vars].agg(['mean', 'std', 'median', 'min', 'max']).T"
   ]
  },
  {
   "cell_type": "markdown",
   "id": "0b1d758b-58b7-4237-b65f-3a7f4dc48690",
   "metadata": {},
   "source": [
    "### 2.2 Categorical variables"
   ]
  },
  {
   "cell_type": "markdown",
   "id": "dd269322-59e3-4865-b8a2-3ff082f27ff4",
   "metadata": {},
   "source": [
    "Since there are too many categorical variables, I will select the ones that have high Cramer's V coefficients (which is a correlation metric between 2 categorical variables)."
   ]
  },
  {
   "cell_type": "code",
   "execution_count": 26,
   "id": "3505b702-5174-43ad-89ff-0cd1f42b728a",
   "metadata": {},
   "outputs": [],
   "source": [
    "def cramers_v(series1: pd.Series, series2: pd.Series) -> float:\n",
    "    # Create a contingency table\n",
    "    contingency_table = pd.crosstab(series1, series2)\n",
    "    \n",
    "    # Compute chi2 statistic\n",
    "    chi2, _, _, _ = stats.chi2_contingency(contingency_table)\n",
    "    \n",
    "    # Compute Cramér's V\n",
    "    n = contingency_table.sum().sum()  # Total number of observations\n",
    "    k = min(contingency_table.shape)   # Min of num rows or columns\n",
    "    v = np.sqrt(chi2 / (n * (k - 1)))\n",
    "    \n",
    "    return v"
   ]
  },
  {
   "cell_type": "code",
   "execution_count": 27,
   "id": "46b729bb-0fce-4a36-92ca-3424858386ed",
   "metadata": {},
   "outputs": [
    {
     "data": {
      "text/plain": [
       "Index(['Month', 'WeekOfMonth', 'DayOfWeek', 'Make', 'AccidentArea',\n",
       "       'DayOfWeekClaimed', 'MonthClaimed', 'WeekOfMonthClaimed', 'Sex',\n",
       "       'MaritalStatus', 'Fault', 'PolicyType', 'VehicleCategory',\n",
       "       'VehiclePrice', 'RepNumber', 'DriverRating', 'Days_Policy_Accident',\n",
       "       'Days_Policy_Claim', 'PastNumberOfClaims', 'AgeOfVehicle',\n",
       "       'AgeOfPolicyHolder', 'PoliceReportFiled', 'WitnessPresent', 'AgentType',\n",
       "       'NumberOfSuppliments', 'AddressChange_Claim', 'NumberOfCars',\n",
       "       'BasePolicy'],\n",
       "      dtype='object')"
      ]
     },
     "execution_count": 27,
     "metadata": {},
     "output_type": "execute_result"
    }
   ],
   "source": [
    "cat_vars = df_train.columns[(df_train.dtypes == 'category') | (df_train.dtypes == 'object')]\n",
    "cat_vars"
   ]
  },
  {
   "cell_type": "markdown",
   "id": "b94233bc-6006-4193-be21-affd902898c2",
   "metadata": {},
   "source": [
    "I will calculate [Cramer's V](https://en.wikipedia.org/wiki/Cram%C3%A9r's_V) (a correlation measure between two categorical variables) for each independent categorical variable, and use 10 variables with the highest Cramer's V for the next analysis."
   ]
  },
  {
   "cell_type": "code",
   "execution_count": 28,
   "id": "4d73efa7-417c-460c-9d0a-69664cb94ed6",
   "metadata": {},
   "outputs": [
    {
     "data": {
      "text/plain": [
       "PolicyType             0.167043\n",
       "BasePolicy             0.159731\n",
       "VehicleCategory        0.136502\n",
       "Fault                  0.130966\n",
       "AddressChange_Claim    0.083717\n",
       "VehiclePrice           0.064689\n",
       "PastNumberOfClaims     0.060772\n",
       "Make                   0.055757\n",
       "MonthClaimed           0.051651\n",
       "AgeOfPolicyHolder      0.045323\n",
       "dtype: float64"
      ]
     },
     "execution_count": 28,
     "metadata": {},
     "output_type": "execute_result"
    }
   ],
   "source": [
    "cramers_vs = df_train[cat_vars].apply(lambda col: cramers_v(col, df_train['FraudFound_P']), axis=0)\n",
    "cramers_vs = cramers_vs.sort_values(ascending=False)\n",
    "chosen_catvars = cramers_vs.head(10).index\n",
    "cramers_vs[chosen_catvars]"
   ]
  },
  {
   "cell_type": "code",
   "execution_count": 29,
   "id": "71e42d05-d5a4-4969-adb0-2d3aff733b12",
   "metadata": {},
   "outputs": [
    {
     "data": {
      "text/plain": [
       "<Axes: >"
      ]
     },
     "execution_count": 29,
     "metadata": {},
     "output_type": "execute_result"
    },
    {
     "data": {
      "image/png": "[encoded data removed]",
      "text/plain": [
       "<Figure size 640x480 with 1 Axes>"
      ]
     },
     "metadata": {},
     "output_type": "display_data"
    }
   ],
   "source": [
    "cramers_vs.plot.barh()"
   ]
  },
  {
   "cell_type": "markdown",
   "id": "3052be07-6724-4e34-b72d-2fb6ee3839e3",
   "metadata": {},
   "source": [
    "From the above, we can see variables that are related with vehicle & policy are correlated with fraud: PolicyType, BasePolicy, VehicleCategory, and Fault."
   ]
  },
  {
   "cell_type": "markdown",
   "id": "47daa9cc-56fc-4a63-a712-078e1f93cc99",
   "metadata": {},
   "source": [
    "Now let's create cross tabs for each chosen categorical variables."
   ]
  },
  {
   "cell_type": "code",
   "execution_count": 30,
   "id": "7cf2dfe7-2ef5-4564-9a5a-49e7a627bdce",
   "metadata": {},
   "outputs": [],
   "source": [
    "def binary_crosstab(x: pd.Series, y: pd.Series) -> pd.DataFrame:\n",
    "    output = pd.crosstab(x, y, margins=True)\n",
    "    props = pd.crosstab(x, y, normalize='index', margins=True)[1]\n",
    "    output['P(y=1)'] = props\n",
    "    return output"
   ]
  },
  {
   "cell_type": "code",
   "execution_count": 31,
   "id": "7d54b4e1-5799-4978-86ea-02be32998109",
   "metadata": {
    "scrolled": true
   },
   "outputs": [
    {
     "name": "stdout",
     "output_type": "stream",
     "text": [
      "PolicyType\n",
      "FraudFound_P              0    1    All    P(y=1)\n",
      "PolicyType                                       \n",
      "Sport - All Perils       17    0     17  0.000000\n",
      "Sport - Liability         1    0      1  0.000000\n",
      "Utility - Liability      18    0     18  0.000000\n",
      "Sedan - Liability      3987   32   4019  0.007962\n",
      "All                   11560  731  12291  0.059474\n",
      "Sedan - Collision      4112  302   4414  0.068419\n",
      "Sedan - All Perils     2933  323   3256  0.099201\n",
      "Utility - All Perils    234   33    267  0.123596\n",
      "Utility - Collision      19    3     22  0.136364\n",
      "Sport - Collision       239   38    277  0.137184\n",
      "---\n",
      "BasePolicy\n",
      "FraudFound_P      0    1    All    P(y=1)\n",
      "BasePolicy                               \n",
      "Liability      4006   32   4038  0.007925\n",
      "All           11560  731  12291  0.059474\n",
      "Collision      4370  343   4713  0.072777\n",
      "All Perils     3184  356   3540  0.100565\n",
      "---\n",
      "VehicleCategory\n",
      "FraudFound_P         0    1    All    P(y=1)\n",
      "VehicleCategory                             \n",
      "Sport             4244   70   4314  0.016226\n",
      "All              11560  731  12291  0.059474\n",
      "Sedan             7045  625   7670  0.081486\n",
      "Utility            271   36    307  0.117264\n",
      "---\n",
      "Fault\n",
      "FraudFound_P       0    1    All    P(y=1)\n",
      "Fault                                     \n",
      "Third Party     3316   29   3345  0.008670\n",
      "All            11560  731  12291  0.059474\n",
      "Policy Holder   8244  702   8946  0.078471\n",
      "---\n",
      "AddressChange_Claim\n",
      "FraudFound_P             0    1    All    P(y=1)\n",
      "AddressChange_Claim                             \n",
      "4 to 8 years           467   22    489  0.044990\n",
      "no change            10778  658  11436  0.057538\n",
      "All                  11560  731  12291  0.059474\n",
      "1 year                 129   10    139  0.071942\n",
      "2 to 3 years           185   38    223  0.170404\n",
      "under 6 months           1    3      4  0.750000\n",
      "---\n",
      "VehiclePrice\n",
      "FraudFound_P         0    1    All    P(y=1)\n",
      "VehiclePrice                                \n",
      "30000 to 39000    2654  137   2791  0.049086\n",
      "20000 to 29000    6099  334   6433  0.051920\n",
      "60000 to 69000      72    4     76  0.052632\n",
      "All              11560  731  12291  0.059474\n",
      "40000 to 59000     341   24    365  0.065753\n",
      "more than 69000   1590  153   1743  0.087780\n",
      "less than 20000    804   79    883  0.089468\n",
      "---\n",
      "PastNumberOfClaims\n",
      "FraudFound_P            0    1    All    P(y=1)\n",
      "PastNumberOfClaims                             \n",
      "more than 4          1583   50   1633  0.030618\n",
      "2 to 4               4126  234   4360  0.053670\n",
      "All                 11560  731  12291  0.059474\n",
      "1                    2657  184   2841  0.064766\n",
      "0                    3194  263   3457  0.076078\n",
      "---\n",
      "Make\n",
      "FraudFound_P      0    1    All    P(y=1)\n",
      "Make                                     \n",
      "Ferrari           2    0      2  0.000000\n",
      "Porche            3    0      3  0.000000\n",
      "Jaguar            4    0      4  0.000000\n",
      "Lexus             1    0      1  0.000000\n",
      "Mecedes           2    0      2  0.000000\n",
      "Dodge            78    1     79  0.012658\n",
      "VW              210    8    218  0.036697\n",
      "Nisson           21    1     22  0.045455\n",
      "Mazda          1762   98   1860  0.052688\n",
      "Pontiac        2907  171   3078  0.055556\n",
      "Chevrolet      1287   77   1364  0.056452\n",
      "Toyota         2347  145   2492  0.058186\n",
      "All           11560  731  12291  0.059474\n",
      "Ford            324   22    346  0.063584\n",
      "Honda          2100  144   2244  0.064171\n",
      "BMW              13    1     14  0.071429\n",
      "Mercury          61    6     67  0.089552\n",
      "Saturn           41    5     46  0.108696\n",
      "Saab             70    9     79  0.113924\n",
      "Accura          327   43    370  0.116216\n",
      "---\n",
      "MonthClaimed\n",
      "FraudFound_P      0    1    All    P(y=1)\n",
      "MonthClaimed                             \n",
      "Nov             997   39   1036  0.037645\n",
      "Dec             868   38    906  0.041943\n",
      "Jul             924   46    970  0.047423\n",
      "Oct            1013   59   1072  0.055037\n",
      "Feb             966   57   1023  0.055718\n",
      "Apr             950   60   1010  0.059406\n",
      "All           11560  731  12291  0.059474\n",
      "Jan            1089   71   1160  0.061207\n",
      "Jun             946   62   1008  0.061508\n",
      "Sep             943   64   1007  0.063555\n",
      "Mar             999   77   1076  0.071561\n",
      "May            1028   86   1114  0.077199\n",
      "Aug             837   72    909  0.079208\n",
      "---\n",
      "AgeOfPolicyHolder\n",
      "FraudFound_P           0    1    All    P(y=1)\n",
      "AgeOfPolicyHolder                             \n",
      "51 to 65            1081   56   1137  0.049252\n",
      "41 to 50            2118  110   2228  0.049372\n",
      "36 to 40            3023  184   3207  0.057374\n",
      "All                11560  731  12291  0.059474\n",
      "over 65              372   24    396  0.060606\n",
      "26 to 30             466   31    497  0.062374\n",
      "31 to 35            4184  287   4471  0.064191\n",
      "16 to 17             233   27    260  0.103846\n",
      "21 to 25              72   10     82  0.121951\n",
      "18 to 20              11    2     13  0.153846\n",
      "---\n"
     ]
    }
   ],
   "source": [
    "for var in chosen_catvars:\n",
    "    print(var)\n",
    "    print(binary_crosstab(df_train[var], df_train['FraudFound_P']).sort_values('P(y=1)'))\n",
    "    print('---')"
   ]
  },
  {
   "cell_type": "markdown",
   "id": "e126dea6-83aa-47e5-8b31-caeae29667e6",
   "metadata": {},
   "source": [
    "From the above we can see several characteristics with high (>10%) fraud occurences, which is higher than the fraud occurence for the overall data (5.95%):\n",
    "\n",
    "- PolicyType\n",
    "    - Utility - All Perils\n",
    "    - Utility - Collision\n",
    "    - Sport - Collision\n",
    "- BasePolicy\n",
    "    - All Perils\n",
    "- VehicleCategory\n",
    "    - Utility\n",
    "- AddressChange_Claim\n",
    "    - 2 to 3 years\n",
    "    - under 6 months\n",
    "- Make\n",
    "    - Saturn\n",
    "    - Saab\n",
    "    - Accura\n",
    "- AgeOfPolicyHolder\n",
    "    - 16 to 17\n",
    "    - 21 to 25\n",
    "    - 18 to 20\n",
    "\n",
    "I will use some of the results above later when creating expert-based model."
   ]
  },
  {
   "cell_type": "markdown",
   "id": "8a415459-ca08-4028-8c9b-45273bc7f624",
   "metadata": {},
   "source": [
    "## Question 3 (EDA visualizations)\n",
    "\n",
    "Perform exploratory data analyses, Using the vehicle insurance claims dataset: \n",
    "\n",
    "- Create up to two visualizations to examine the distribution of numerical variables that are relevant for analyzing fraudulent cases. Use the fraudulent status as the hue to differentiate the distributions. What insights can you draw from your analysis regarding fraud detection?\n",
    "- Create up to two time series visualizations to analyze trends over time. Use fraudulent status as the hue to differentiate the patterns. What trends or anomalies do you observe over time in relation to fraud detection?\n",
    "- Create up to five visualizations to compare categorical variables. Provide insights from your analysis using these charts to understand fraudulent detection patterns.\n"
   ]
  },
  {
   "cell_type": "markdown",
   "id": "626ab3e5-c4ce-4cfb-b61c-3c52b0c5b5a8",
   "metadata": {},
   "source": [
    "### Numerical variables"
   ]
  },
  {
   "cell_type": "markdown",
   "id": "d6355e8f-9ebc-4e1d-a165-0998e718e54a",
   "metadata": {},
   "source": [
    "Age distribution between fraud and non-fraud:"
   ]
  },
  {
   "cell_type": "code",
   "execution_count": 32,
   "id": "e2635266-e973-4654-a974-3a6da3f72133",
   "metadata": {},
   "outputs": [
    {
     "data": {
      "text/plain": [
       "<Axes: xlabel='Age', ylabel='Density'>"
      ]
     },
     "execution_count": 32,
     "metadata": {},
     "output_type": "execute_result"
    },
    {
     "data": {
      "image/png": "[encoded data removed]",
      "text/plain": [
       "<Figure size 640x480 with 1 Axes>"
      ]
     },
     "metadata": {},
     "output_type": "display_data"
    }
   ],
   "source": [
    "sns.kdeplot(df_train, x='Age', hue='FraudFound_P', common_norm=False)"
   ]
  },
  {
   "cell_type": "markdown",
   "id": "115b0b35-5445-49a7-a158-b14e6c95680f",
   "metadata": {},
   "source": [
    "Deductible distribution between fraud and non-fraud:"
   ]
  },
  {
   "cell_type": "code",
   "execution_count": 33,
   "id": "9feaf9a1-2489-43cd-82d0-80be93fcd920",
   "metadata": {},
   "outputs": [
    {
     "data": {
      "text/plain": [
       "<Axes: xlabel='Deductible', ylabel='Density'>"
      ]
     },
     "execution_count": 33,
     "metadata": {},
     "output_type": "execute_result"
    },
    {
     "data": {
      "image/png": "[encoded data removed]",
      "text/plain": [
       "<Figure size 640x480 with 1 Axes>"
      ]
     },
     "metadata": {},
     "output_type": "display_data"
    }
   ],
   "source": [
    "sns.kdeplot(df_train, x='Deductible', hue='FraudFound_P', common_norm=False)"
   ]
  },
  {
   "cell_type": "markdown",
   "id": "4c567b63-4a11-42b3-bd36-464a04ab743f",
   "metadata": {},
   "source": [
    "There doesn't appear to be any relationship of the two variables above with fraud/non-fraud."
   ]
  },
  {
   "cell_type": "markdown",
   "id": "15f0dc31-0712-45e8-9d1b-faef219511d0",
   "metadata": {},
   "source": [
    "### Trends over time"
   ]
  },
  {
   "cell_type": "code",
   "execution_count": 34,
   "id": "73ac2f70-d377-4aa6-9ba6-c162feddda78",
   "metadata": {},
   "outputs": [
    {
     "data": {
      "text/plain": [
       "<Axes: xlabel='MonthYear'>"
      ]
     },
     "execution_count": 34,
     "metadata": {},
     "output_type": "execute_result"
    },
    {
     "data": {
      "image/png": "[encoded data removed]",
      "text/plain": [
       "<Figure size 640x480 with 1 Axes>"
      ]
     },
     "metadata": {},
     "output_type": "display_data"
    }
   ],
   "source": [
    "df_train.groupby('MonthYear')['FraudFound_P'].mean().plot.line(marker='.')"
   ]
  },
  {
   "cell_type": "code",
   "execution_count": 35,
   "id": "3f851226-0e0c-4cef-bad6-0300ac9a01c5",
   "metadata": {},
   "outputs": [
    {
     "data": {
      "text/plain": [
       "<Axes: xlabel='Year'>"
      ]
     },
     "execution_count": 35,
     "metadata": {},
     "output_type": "execute_result"
    },
    {
     "data": {
      "image/png": "[encoded data removed]",
      "text/plain": [
       "<Figure size 640x480 with 1 Axes>"
      ]
     },
     "metadata": {},
     "output_type": "display_data"
    }
   ],
   "source": [
    "df_train.groupby('Year')['FraudFound_P'].mean().plot.bar()"
   ]
  },
  {
   "cell_type": "markdown",
   "id": "d6cfc27f-5549-4c5c-8eed-da2335255011",
   "metadata": {},
   "source": [
    "It appears that from 1994 to 1996 the occurence of frauds are declining."
   ]
  },
  {
   "cell_type": "markdown",
   "id": "4ab2cbe6-f0cf-4291-bc35-de6f38093a2f",
   "metadata": {},
   "source": [
    "### Categorical variables"
   ]
  },
  {
   "cell_type": "code",
   "execution_count": 36,
   "id": "a73043a1-9d0b-4d36-b3c2-fec28c8dffdc",
   "metadata": {},
   "outputs": [
    {
     "data": {
      "text/plain": [
       "<Axes: xlabel='Density', ylabel='PolicyType'>"
      ]
     },
     "execution_count": 36,
     "metadata": {},
     "output_type": "execute_result"
    },
    {
     "data": {
      "image/png": "[encoded data removed]",
      "text/plain": [
       "<Figure size 640x480 with 1 Axes>"
      ]
     },
     "metadata": {},
     "output_type": "display_data"
    }
   ],
   "source": [
    "sns.histplot(df_train, y='PolicyType', hue='FraudFound_P', stat='density', common_norm=False, multiple='dodge')"
   ]
  },
  {
   "cell_type": "code",
   "execution_count": 37,
   "id": "ce9dd0c9-5261-4b9a-8cb8-4048e3ec61b9",
   "metadata": {},
   "outputs": [
    {
     "data": {
      "text/plain": [
       "<Axes: xlabel='Density', ylabel='VehicleCategory'>"
      ]
     },
     "execution_count": 37,
     "metadata": {},
     "output_type": "execute_result"
    },
    {
     "data": {
      "image/png": "[encoded data removed]",
      "text/plain": [
       "<Figure size 640x480 with 1 Axes>"
      ]
     },
     "metadata": {},
     "output_type": "display_data"
    }
   ],
   "source": [
    "sns.histplot(df_train, y='VehicleCategory', hue='FraudFound_P', stat='density', common_norm=False, multiple='dodge')"
   ]
  },
  {
   "cell_type": "code",
   "execution_count": 38,
   "id": "46456282-f15d-4add-bc64-c48f7c86e817",
   "metadata": {},
   "outputs": [
    {
     "data": {
      "text/plain": [
       "<Axes: xlabel='Density', ylabel='BasePolicy'>"
      ]
     },
     "execution_count": 38,
     "metadata": {},
     "output_type": "execute_result"
    },
    {
     "data": {
      "image/png": "[encoded data removed]",
      "text/plain": [
       "<Figure size 640x480 with 1 Axes>"
      ]
     },
     "metadata": {},
     "output_type": "display_data"
    }
   ],
   "source": [
    "sns.histplot(df_train, y='BasePolicy', hue='FraudFound_P', stat='density', common_norm=False, multiple='dodge')"
   ]
  },
  {
   "cell_type": "code",
   "execution_count": 39,
   "id": "f7884fb7-663e-4a24-9961-460a7aa84761",
   "metadata": {},
   "outputs": [
    {
     "data": {
      "text/plain": [
       "<Axes: xlabel='Density', ylabel='VehiclePrice'>"
      ]
     },
     "execution_count": 39,
     "metadata": {},
     "output_type": "execute_result"
    },
    {
     "data": {
      "image/png": "[encoded data removed]",
      "text/plain": [
       "<Figure size 640x480 with 1 Axes>"
      ]
     },
     "metadata": {},
     "output_type": "display_data"
    }
   ],
   "source": [
    "sns.histplot(df_train, y='VehiclePrice', hue='FraudFound_P', stat='density', common_norm=False, multiple='dodge')"
   ]
  },
  {
   "cell_type": "code",
   "execution_count": 40,
   "id": "aa0d433b-2bd1-4ce3-bdaf-9730ad3d75c6",
   "metadata": {},
   "outputs": [
    {
     "data": {
      "text/plain": [
       "<Axes: xlabel='Density', ylabel='AgeOfPolicyHolder'>"
      ]
     },
     "execution_count": 40,
     "metadata": {},
     "output_type": "execute_result"
    },
    {
     "data": {
      "image/png": "[encoded data removed]",
      "text/plain": [
       "<Figure size 640x480 with 1 Axes>"
      ]
     },
     "metadata": {},
     "output_type": "display_data"
    }
   ],
   "source": [
    "sns.histplot(df_train, y='AgeOfPolicyHolder', hue='FraudFound_P', stat='density', common_norm=False, multiple='dodge')"
   ]
  },
  {
   "cell_type": "markdown",
   "id": "d4b1261f-7131-406b-8c65-91b0d711d114",
   "metadata": {},
   "source": [
    "It's hard to make definite conclusion from the above visualizations. There doesn't appear to be a clear difference in the data distributions between frauds and non-frauds."
   ]
  },
  {
   "attachments": {
    "3c066962-7d95-4e21-9d39-c13b6af175d3.png": {
     "image/png": "[encoded data removed]"
    }
   },
   "cell_type": "markdown",
   "id": "077831ab-c49e-4f96-94f1-474a56642912",
   "metadata": {},
   "source": [
    "## Question 4 (calculating ExpFraudLoss)\n",
    "\n",
    "Our goal is to determine how big is the company's loss when fraud occurs, we will examine the loss. Suppose we have some experts that can evaluate the fraudulent loss by using this formula:\n",
    "\n",
    "\n",
    "```\n",
    "Expected Fraudulent Loss = PolicyType Weight x Avg VehiclePrice x DriverRating Weight\n",
    "```\n",
    "\n",
    "![image.png](attachment:3c066962-7d95-4e21-9d39-c13b6af175d3.png)"
   ]
  },
  {
   "cell_type": "markdown",
   "id": "02b80875-bc93-4142-a82f-3f20f4823f1f",
   "metadata": {},
   "source": [
    "Note: I assume the formula for Avg VehiclePrice contain typo. It should be (300 + 100)/2 instead of (300-100)/2. It has been calculated previous when I calculate VehiclePrice_Num column earlier in this notebook."
   ]
  },
  {
   "cell_type": "code",
   "execution_count": 41,
   "id": "91e1388a-e7a3-4ce6-a875-261b36010338",
   "metadata": {},
   "outputs": [],
   "source": [
    "weights_PolicyType = {\n",
    "    'Sedan - Collision': 0.9,\n",
    "    'Sedan - Liability': 0.8,\n",
    "    'Sedan - All Perils': 1.1,\n",
    "    'Sport - Collision': 1.2,\n",
    "    'Sport - Liability': 1.1,\n",
    "    'Sport - All Perils': 1.3,\n",
    "    'Utility - Collision': 1.2,\n",
    "    'Utility - Liability': 0.8,\n",
    "    'Utility - All Perils': 0.95,\n",
    "}\n",
    "\n",
    "weights_DriverRating = {\n",
    "    1: 0.8,\n",
    "    2: 0.7,\n",
    "    3: 0.6,\n",
    "    4: 0.5,\n",
    "}"
   ]
  },
  {
   "cell_type": "code",
   "execution_count": 42,
   "id": "ee36687c-9786-4c76-8731-4f29fd0f8c0e",
   "metadata": {},
   "outputs": [],
   "source": [
    "for df_ in [df_train, df_valid, df_test]:\n",
    "    df_['PolicyType_Weight'] = df_['PolicyType'].map(weights_PolicyType)\n",
    "    df_['DriverRating_Weight'] = df_['DriverRating'].map(weights_DriverRating).astype(float)\n",
    "    df_['ExpFraudLoss'] = df_['PolicyType_Weight'] * df_['DriverRating_Weight'] * df_['VehiclePrice_Num']"
   ]
  },
  {
   "cell_type": "code",
   "execution_count": 43,
   "id": "bbfad1c9-1002-4841-92c5-2460ccd1d128",
   "metadata": {},
   "outputs": [
    {
     "data": {
      "text/html": [
       "<div>\n",
       "<style scoped>\n",
       "    .dataframe tbody tr th:only-of-type {\n",
       "        vertical-align: middle;\n",
       "    }\n",
       "\n",
       "    .dataframe tbody tr th {\n",
       "        vertical-align: top;\n",
       "    }\n",
       "\n",
       "    .dataframe thead th {\n",
       "        text-align: right;\n",
       "    }\n",
       "</style>\n",
       "<table border=\"1\" class=\"dataframe\">\n",
       "  <thead>\n",
       "    <tr style=\"text-align: right;\">\n",
       "      <th></th>\n",
       "      <th>DriverRating</th>\n",
       "      <th>DriverRating_Weight</th>\n",
       "      <th>PolicyType</th>\n",
       "      <th>PolicyType_Weight</th>\n",
       "    </tr>\n",
       "  </thead>\n",
       "  <tbody>\n",
       "    <tr>\n",
       "      <th>7542</th>\n",
       "      <td>4</td>\n",
       "      <td>0.5</td>\n",
       "      <td>Sedan - All Perils</td>\n",
       "      <td>1.1</td>\n",
       "    </tr>\n",
       "    <tr>\n",
       "      <th>15133</th>\n",
       "      <td>1</td>\n",
       "      <td>0.8</td>\n",
       "      <td>Sedan - Liability</td>\n",
       "      <td>0.8</td>\n",
       "    </tr>\n",
       "    <tr>\n",
       "      <th>4974</th>\n",
       "      <td>3</td>\n",
       "      <td>0.6</td>\n",
       "      <td>Sedan - Liability</td>\n",
       "      <td>0.8</td>\n",
       "    </tr>\n",
       "    <tr>\n",
       "      <th>13389</th>\n",
       "      <td>4</td>\n",
       "      <td>0.5</td>\n",
       "      <td>Sedan - All Perils</td>\n",
       "      <td>1.1</td>\n",
       "    </tr>\n",
       "    <tr>\n",
       "      <th>11215</th>\n",
       "      <td>3</td>\n",
       "      <td>0.6</td>\n",
       "      <td>Sedan - All Perils</td>\n",
       "      <td>1.1</td>\n",
       "    </tr>\n",
       "    <tr>\n",
       "      <th>...</th>\n",
       "      <td>...</td>\n",
       "      <td>...</td>\n",
       "      <td>...</td>\n",
       "      <td>...</td>\n",
       "    </tr>\n",
       "    <tr>\n",
       "      <th>4059</th>\n",
       "      <td>2</td>\n",
       "      <td>0.7</td>\n",
       "      <td>Sedan - Liability</td>\n",
       "      <td>0.8</td>\n",
       "    </tr>\n",
       "    <tr>\n",
       "      <th>1404</th>\n",
       "      <td>1</td>\n",
       "      <td>0.8</td>\n",
       "      <td>Sedan - Liability</td>\n",
       "      <td>0.8</td>\n",
       "    </tr>\n",
       "    <tr>\n",
       "      <th>1287</th>\n",
       "      <td>1</td>\n",
       "      <td>0.8</td>\n",
       "      <td>Sedan - Liability</td>\n",
       "      <td>0.8</td>\n",
       "    </tr>\n",
       "    <tr>\n",
       "      <th>12306</th>\n",
       "      <td>4</td>\n",
       "      <td>0.5</td>\n",
       "      <td>Sedan - Collision</td>\n",
       "      <td>0.9</td>\n",
       "    </tr>\n",
       "    <tr>\n",
       "      <th>5294</th>\n",
       "      <td>4</td>\n",
       "      <td>0.5</td>\n",
       "      <td>Sport - Collision</td>\n",
       "      <td>1.2</td>\n",
       "    </tr>\n",
       "  </tbody>\n",
       "</table>\n",
       "<p>12291 rows × 4 columns</p>\n",
       "</div>"
      ],
      "text/plain": [
       "      DriverRating  DriverRating_Weight          PolicyType  PolicyType_Weight\n",
       "7542             4                  0.5  Sedan - All Perils                1.1\n",
       "15133            1                  0.8   Sedan - Liability                0.8\n",
       "4974             3                  0.6   Sedan - Liability                0.8\n",
       "13389            4                  0.5  Sedan - All Perils                1.1\n",
       "11215            3                  0.6  Sedan - All Perils                1.1\n",
       "...            ...                  ...                 ...                ...\n",
       "4059             2                  0.7   Sedan - Liability                0.8\n",
       "1404             1                  0.8   Sedan - Liability                0.8\n",
       "1287             1                  0.8   Sedan - Liability                0.8\n",
       "12306            4                  0.5   Sedan - Collision                0.9\n",
       "5294             4                  0.5   Sport - Collision                1.2\n",
       "\n",
       "[12291 rows x 4 columns]"
      ]
     },
     "execution_count": 43,
     "metadata": {},
     "output_type": "execute_result"
    }
   ],
   "source": [
    "df_train[['DriverRating', 'DriverRating_Weight', 'PolicyType', 'PolicyType_Weight']]"
   ]
  },
  {
   "cell_type": "markdown",
   "id": "cebf1de0-3140-456c-8cf2-27ea6d7d37d7",
   "metadata": {},
   "source": [
    "## Question 5 (ExpFraudLoss EDA)\n",
    "\n",
    "Perform exploratory data analysis using variable ExpFraudLoss, find the distribution, relationship with other variables, and descriptive statistics measurement on this feature. Explain the insights related to the fraudulent detection.\n"
   ]
  },
  {
   "cell_type": "markdown",
   "id": "3f26c58a-9377-4021-abb0-ab8dcee4d436",
   "metadata": {},
   "source": [
    "Distribution of ExpFraudLoss:"
   ]
  },
  {
   "cell_type": "code",
   "execution_count": 44,
   "id": "9db37659-e40c-434f-9bed-120c73403ee2",
   "metadata": {},
   "outputs": [
    {
     "data": {
      "text/plain": [
       "<Axes: xlabel='ExpFraudLoss', ylabel='Count'>"
      ]
     },
     "execution_count": 44,
     "metadata": {},
     "output_type": "execute_result"
    },
    {
     "data": {
      "image/png": "[encoded data removed]",
      "text/plain": [
       "<Figure size 640x480 with 1 Axes>"
      ]
     },
     "metadata": {},
     "output_type": "display_data"
    }
   ],
   "source": [
    "sns.histplot(df_train['ExpFraudLoss'])"
   ]
  },
  {
   "cell_type": "code",
   "execution_count": 45,
   "id": "1b4a6b50-aed5-49b6-b80b-91228b178fb4",
   "metadata": {},
   "outputs": [
    {
     "data": {
      "text/plain": [
       "count    12291.000000\n",
       "mean     20524.527296\n",
       "std      11401.524229\n",
       "min       8000.000000\n",
       "25%      13475.000000\n",
       "50%      16170.000000\n",
       "75%      22080.000000\n",
       "max      71760.000000\n",
       "Name: ExpFraudLoss, dtype: float64"
      ]
     },
     "execution_count": 45,
     "metadata": {},
     "output_type": "execute_result"
    }
   ],
   "source": [
    "df_train['ExpFraudLoss'].describe()"
   ]
  },
  {
   "cell_type": "markdown",
   "id": "6b1a873f-e0ab-451f-9ffe-417c9e41179b",
   "metadata": {},
   "source": [
    "As you can see, the mean of ExpFraudLoss is USD 20,524, and the median is USD 16,170. It means 50% of cases have ExpFraudLess of USD 16,170 or higher."
   ]
  },
  {
   "cell_type": "markdown",
   "id": "bb728a75-251e-4487-b9bd-12d2e467090d",
   "metadata": {},
   "source": [
    "Average ExpFraudLoss per vehicle category:"
   ]
  },
  {
   "cell_type": "code",
   "execution_count": 46,
   "id": "3d74e974-27df-477a-bf2c-652e35cf0f60",
   "metadata": {},
   "outputs": [
    {
     "data": {
      "text/plain": [
       "<Axes: xlabel='VehicleCategory'>"
      ]
     },
     "execution_count": 46,
     "metadata": {},
     "output_type": "execute_result"
    },
    {
     "data": {
      "image/png": "[encoded data removed]",
      "text/plain": [
       "<Figure size 640x480 with 1 Axes>"
      ]
     },
     "metadata": {},
     "output_type": "display_data"
    }
   ],
   "source": [
    "df_train.groupby('VehicleCategory')['ExpFraudLoss'].mean().plot.bar()"
   ]
  },
  {
   "cell_type": "markdown",
   "id": "ee6f1246-69a1-4724-b8a1-b56782307dc0",
   "metadata": {},
   "source": [
    "Average ExpFraudLoss per base policy:"
   ]
  },
  {
   "cell_type": "code",
   "execution_count": 47,
   "id": "da7bd801-56bc-4336-8438-119d444e363d",
   "metadata": {},
   "outputs": [
    {
     "data": {
      "text/plain": [
       "<Axes: xlabel='BasePolicy'>"
      ]
     },
     "execution_count": 47,
     "metadata": {},
     "output_type": "execute_result"
    },
    {
     "data": {
      "image/png": "[encoded data removed]",
      "text/plain": [
       "<Figure size 640x480 with 1 Axes>"
      ]
     },
     "metadata": {},
     "output_type": "display_data"
    }
   ],
   "source": [
    "df_train.groupby('BasePolicy')['ExpFraudLoss'].mean().plot.bar()"
   ]
  },
  {
   "cell_type": "code",
   "execution_count": 48,
   "id": "535ad0ca-eac5-4095-9780-8cc6afac8b17",
   "metadata": {},
   "outputs": [
    {
     "data": {
      "text/plain": [
       "<Axes: xlabel='PolicyType'>"
      ]
     },
     "execution_count": 48,
     "metadata": {},
     "output_type": "execute_result"
    },
    {
     "data": {
      "image/png": "[encoded data removed]",
      "text/plain": [
       "<Figure size 640x480 with 1 Axes>"
      ]
     },
     "metadata": {},
     "output_type": "display_data"
    }
   ],
   "source": [
    "df_train.groupby('PolicyType')['ExpFraudLoss'].mean().plot.bar()"
   ]
  },
  {
   "cell_type": "markdown",
   "id": "fc6019d9-e6b4-474c-beca-8956e451b8e8",
   "metadata": {},
   "source": [
    "Average ExpFraudLoss per driver rating:"
   ]
  },
  {
   "cell_type": "code",
   "execution_count": 49,
   "id": "25a98912-00fb-431b-8eef-66824629438d",
   "metadata": {},
   "outputs": [
    {
     "data": {
      "text/plain": [
       "<Axes: xlabel='DriverRating'>"
      ]
     },
     "execution_count": 49,
     "metadata": {},
     "output_type": "execute_result"
    },
    {
     "data": {
      "image/png": "[encoded data removed]",
      "text/plain": [
       "<Figure size 640x480 with 1 Axes>"
      ]
     },
     "metadata": {},
     "output_type": "display_data"
    }
   ],
   "source": [
    "df_train.groupby('DriverRating', observed=True)['ExpFraudLoss'].mean().plot.bar()"
   ]
  },
  {
   "cell_type": "markdown",
   "id": "3e30463d-4467-4dc4-a30c-98ad7f88fbfd",
   "metadata": {},
   "source": [
    "ExpFraudLoss for every age:"
   ]
  },
  {
   "cell_type": "code",
   "execution_count": 50,
   "id": "f72283f2-ce6a-4730-a925-977c982d9ee3",
   "metadata": {},
   "outputs": [
    {
     "data": {
      "text/plain": [
       "<Axes: xlabel='Age'>"
      ]
     },
     "execution_count": 50,
     "metadata": {},
     "output_type": "execute_result"
    },
    {
     "data": {
      "image/png": "[encoded data removed]",
      "text/plain": [
       "<Figure size 640x480 with 1 Axes>"
      ]
     },
     "metadata": {},
     "output_type": "display_data"
    }
   ],
   "source": [
    "df_train.groupby('Age', observed=True)['ExpFraudLoss'].mean().plot.line(marker='.')"
   ]
  },
  {
   "cell_type": "markdown",
   "id": "e9d7c6fe-1cc6-4d86-9bb4-8e02bfebff32",
   "metadata": {},
   "source": [
    "**Interesting...** Age 0, 16, 17 have very high vehicle price, causing ExpFraudLoss to spike:"
   ]
  },
  {
   "cell_type": "code",
   "execution_count": 51,
   "id": "62246b7b-b4fd-4c60-9dc3-851eaf407881",
   "metadata": {},
   "outputs": [
    {
     "data": {
      "text/plain": [
       "VehiclePrice\n",
       "30000 to 39000       1\n",
       "more than 69000    272\n",
       "dtype: int64"
      ]
     },
     "execution_count": 51,
     "metadata": {},
     "output_type": "execute_result"
    }
   ],
   "source": [
    "df_train[df_train['Age'].isin((0, 16, 17))][['Age', 'VehiclePrice']].groupby('VehiclePrice', observed=True).size()"
   ]
  },
  {
   "cell_type": "markdown",
   "id": "6f9e1758-38ba-4e67-9dc3-1c89f27c60de",
   "metadata": {},
   "source": [
    "Distribution of ExpFraudLoss between fraud and non-fraud:"
   ]
  },
  {
   "cell_type": "code",
   "execution_count": 52,
   "id": "d07df14f-29f0-4cf3-ad80-dc500a7ecbfe",
   "metadata": {},
   "outputs": [
    {
     "data": {
      "text/plain": [
       "<Axes: xlabel='ExpFraudLoss', ylabel='Density'>"
      ]
     },
     "execution_count": 52,
     "metadata": {},
     "output_type": "execute_result"
    },
    {
     "data": {
      "image/png": "[encoded data removed]",
      "text/plain": [
       "<Figure size 640x480 with 1 Axes>"
      ]
     },
     "metadata": {},
     "output_type": "display_data"
    }
   ],
   "source": [
    "sns.kdeplot(df_train, x='ExpFraudLoss', hue='FraudFound_P', common_norm=False) "
   ]
  },
  {
   "cell_type": "markdown",
   "id": "6f62e6dd-9769-4344-93de-e0237c620ea1",
   "metadata": {},
   "source": [
    "It seems fraud cases have higher ExpFraudLoss."
   ]
  },
  {
   "attachments": {
    "7d290e40-23ee-443d-b904-ab3c5dfea797.png": {
     "image/png": "[encoded data removed]"
    },
    "dda134d0-7d99-4f54-a4ea-b1f00e946da0.png": {
     "image/png": "[encoded data removed]"
    }
   },
   "cell_type": "markdown",
   "id": "f818c113-b3f6-4025-b5c9-2b29d099baf9",
   "metadata": {},
   "source": [
    "## Question 6 (Baseline vs expert-based model)\n",
    "\n",
    "Create 2 models, evaluate the performance of model, and simulate the cost of making false prediction\n",
    "\n",
    "Create a baseline model and expert based model (using if-else statement based on exploration data analysis in question 3 and 5) to predict (detect) the fraudulent cases. Evaluate the baseline model using evaluation metrics and ROC/AUC. Make simulation based on this condition:\n",
    "\n",
    "![image.png](attachment:7d290e40-23ee-443d-b904-ab3c5dfea797.png)\n",
    "\n",
    "Create table summary of the evaluation\n",
    "\n",
    "![image.png](attachment:dda134d0-7d99-4f54-a4ea-b1f00e946da0.png)"
   ]
  },
  {
   "cell_type": "markdown",
   "id": "5710f3e6-2d85-4bcd-b61d-729ddadff43e",
   "metadata": {},
   "source": [
    "**Side note**: I notice that the cost of ignoring fraudulent cases (false negative) is disproportionately higher than the cost of rejecting non-fraudulent cases (false positive). `ExpFraudLoss` has mean of USD 20k per fraudulent claim. Meanwhile, the cost of falsely rejecting non-fraudulent cases is only USD 300 + 700 = USD 1000 per customer."
   ]
  },
  {
   "cell_type": "code",
   "execution_count": 53,
   "id": "222c5313-00b7-42c9-8e92-925690e87334",
   "metadata": {},
   "outputs": [],
   "source": [
    "from sklearn.metrics import accuracy_score, recall_score, precision_score, roc_auc_score\n",
    "from sklearn.dummy import DummyClassifier\n",
    "from sklearn.base import BaseEstimator"
   ]
  },
  {
   "cell_type": "code",
   "execution_count": 54,
   "id": "088307ae-3e69-4bf1-974d-d73d5630ac64",
   "metadata": {},
   "outputs": [],
   "source": [
    "def calc_model_cost(\n",
    "    y_true: pd.Series,\n",
    "    y_pred: pd.Series,\n",
    "    exp_fraud_loss: pd.Series,\n",
    ") -> float:\n",
    "    fp = (y_pred == 1) & (y_true == 0)\n",
    "    fn = (y_pred == 0) & (y_true == 1)\n",
    "\n",
    "    # cost of accepting fraudulent claims\n",
    "    fn_cost = (fn * exp_fraud_loss).sum()\n",
    "\n",
    "    # cost of not accepting valid claims\n",
    "    fp_cost = (fp * (300 + 700)).sum()\n",
    "    return fp_cost + fn_cost"
   ]
  },
  {
   "cell_type": "code",
   "execution_count": 55,
   "id": "392ecfd4-706f-406c-ab32-5b35f92e29d6",
   "metadata": {},
   "outputs": [],
   "source": [
    "def calc_model_metrics(model: BaseEstimator, X: pd.DataFrame, y: pd.Series) -> dict[str, float]:\n",
    "    y_pred = model.predict(X)\n",
    "    y_prob = model.predict_proba(X)[:, 1]\n",
    "    accuracy = accuracy_score(y, y_pred)\n",
    "    recall = recall_score(y, y_pred)\n",
    "    precision = precision_score(y, y_pred)\n",
    "    roc_auc = roc_auc_score(y, y_prob)\n",
    "    cost = calc_model_cost(y, y_pred, X['ExpFraudLoss'])\n",
    "    return {\n",
    "        'accuracy': accuracy,\n",
    "        'recall': recall,\n",
    "        'precision': precision,\n",
    "        'roc_auc': roc_auc,\n",
    "        'cost': cost,\n",
    "    }"
   ]
  },
  {
   "cell_type": "code",
   "execution_count": 56,
   "id": "77aa4add-1e8c-4db3-97df-25b8a9bf67c8",
   "metadata": {},
   "outputs": [],
   "source": [
    "def split_Xy(df: pd.DataFrame, target_col: str) -> tuple[pd.DataFrame, pd.Series]:\n",
    "    y = df[target_col]\n",
    "    X = df.drop(target_col, axis=1)\n",
    "    return X, y"
   ]
  },
  {
   "cell_type": "code",
   "execution_count": 57,
   "id": "79f85b81-66bf-4740-a5fd-053972893bd3",
   "metadata": {},
   "outputs": [],
   "source": [
    "X_train, y_train = split_Xy(df_train, 'FraudFound_P')\n",
    "X_valid, y_valid = split_Xy(df_valid, 'FraudFound_P')\n",
    "X_test, y_test = split_Xy(df_test, 'FraudFound_P')"
   ]
  },
  {
   "cell_type": "code",
   "execution_count": 58,
   "id": "5bd5ed6b-0153-49cd-b65a-cd3bc0a96bc4",
   "metadata": {},
   "outputs": [],
   "source": [
    "class ExpertBasedModel(BaseEstimator):\n",
    "    def fit(self, X, y):\n",
    "        self.is_fitted_ = True\n",
    "        self.y_prior = (y == 1).mean()\n",
    "        return self\n",
    "\n",
    "    def predict(self, X):\n",
    "        y_prob = self.predict_proba(X)[:, 1]\n",
    "        return (y_prob > 0.5).astype(int)\n",
    "\n",
    "    def predict_proba(self, X):\n",
    "        y_prob = np.ones(len(X)) * self.y_prior\n",
    "        is_fraud =\\\n",
    "            (X['Age'] < 18) | \\\n",
    "            (X['PolicyType'].isin(('Utility - All Perils', 'Utility - Collision', 'Sport - Collision'))) | \\\n",
    "            (X['AddressChange_Claim'].isin(('2 to 3 years', 'under 6 months'))) | \\\n",
    "            (X['Make'].isin(('Saturn', 'Saab', 'Accura'))) | \\\n",
    "            (X['AgeOfPolicyHolder'].isin(('16 to 17', '21 to 25', '18 to 20')))\n",
    "        y_prob[is_fraud] = 1.0\n",
    "        output = np.vstack([1 - y_prob, y_prob]).T\n",
    "        return output"
   ]
  },
  {
   "cell_type": "code",
   "execution_count": 59,
   "id": "efbc3b54-fca3-4651-8d02-104d8b25bbf4",
   "metadata": {},
   "outputs": [
    {
     "name": "stderr",
     "output_type": "stream",
     "text": [
      "C:\\Users\\abang\\AppData\\Local\\Programs\\Python\\Python312\\Lib\\site-packages\\sklearn\\metrics\\_classification.py:1497: UndefinedMetricWarning: Precision is ill-defined and being set to 0.0 due to no predicted samples. Use `zero_division` parameter to control this behavior.\n",
      "  _warn_prf(average, modifier, f\"{metric.capitalize()} is\", len(result))\n"
     ]
    }
   ],
   "source": [
    "model_results = dict()\n",
    "\n",
    "# base model of always predicting 0\n",
    "base_model = DummyClassifier(strategy='prior')\n",
    "base_model.fit(X_train, y_train)\n",
    "\n",
    "model_results['base_model'] = calc_model_metrics(base_model, X_valid, y_valid)\n",
    "\n",
    "expert_model = ExpertBasedModel()\n",
    "expert_model.fit(X_train, y_train);\n",
    "roc_auc_score(y_valid, expert_model.predict_proba(X_valid)[:, 1])\n",
    "model_results['expert_model'] = calc_model_metrics(expert_model, X_valid, y_valid)"
   ]
  },
  {
   "cell_type": "code",
   "execution_count": 60,
   "id": "d4fd51aa-a21b-45ee-aec4-f9bab04d3040",
   "metadata": {},
   "outputs": [
    {
     "data": {
      "text/html": [
       "<div>\n",
       "<style scoped>\n",
       "    .dataframe tbody tr th:only-of-type {\n",
       "        vertical-align: middle;\n",
       "    }\n",
       "\n",
       "    .dataframe tbody tr th {\n",
       "        vertical-align: top;\n",
       "    }\n",
       "\n",
       "    .dataframe thead th {\n",
       "        text-align: right;\n",
       "    }\n",
       "</style>\n",
       "<table border=\"1\" class=\"dataframe\">\n",
       "  <thead>\n",
       "    <tr style=\"text-align: right;\">\n",
       "      <th></th>\n",
       "      <th>accuracy</th>\n",
       "      <th>recall</th>\n",
       "      <th>precision</th>\n",
       "      <th>roc_auc</th>\n",
       "      <th>cost</th>\n",
       "    </tr>\n",
       "  </thead>\n",
       "  <tbody>\n",
       "    <tr>\n",
       "      <th>base_model</th>\n",
       "      <td>0.94</td>\n",
       "      <td>0.00</td>\n",
       "      <td>0.00</td>\n",
       "      <td>0.50</td>\n",
       "      <td>2044380.0</td>\n",
       "    </tr>\n",
       "    <tr>\n",
       "      <th>expert_model</th>\n",
       "      <td>0.83</td>\n",
       "      <td>0.26</td>\n",
       "      <td>0.11</td>\n",
       "      <td>0.57</td>\n",
       "      <td>1423170.0</td>\n",
       "    </tr>\n",
       "  </tbody>\n",
       "</table>\n",
       "</div>"
      ],
      "text/plain": [
       "              accuracy  recall  precision  roc_auc       cost\n",
       "base_model        0.94    0.00       0.00     0.50  2044380.0\n",
       "expert_model      0.83    0.26       0.11     0.57  1423170.0"
      ]
     },
     "execution_count": 60,
     "metadata": {},
     "output_type": "execute_result"
    }
   ],
   "source": [
    "metrics_df = pd.DataFrame(model_results).T.round(2)\n",
    "metrics_df"
   ]
  },
  {
   "cell_type": "markdown",
   "id": "cfc5431c-028a-4a44-99b8-303cb983f5b6",
   "metadata": {},
   "source": [
    "How much do the expert model save vs `base_model`?"
   ]
  },
  {
   "cell_type": "code",
   "execution_count": 61,
   "id": "51cec78f-4b68-4ba9-8207-f7aee78bd761",
   "metadata": {},
   "outputs": [
    {
     "data": {
      "text/plain": [
       "-0.30386229565931966"
      ]
     },
     "execution_count": 61,
     "metadata": {},
     "output_type": "execute_result"
    }
   ],
   "source": [
    "metrics_df['cost']['expert_model'] / metrics_df['cost']['base_model'] - 1"
   ]
  },
  {
   "cell_type": "markdown",
   "id": "8c43d72d-a77c-4617-a971-30a6e3f051fc",
   "metadata": {},
   "source": [
    "Answer: about 30%."
   ]
  },
  {
   "attachments": {
    "15ce812a-0021-4e51-896d-37c74a4d617b.png": {
     "image/png": "[encoded data removed]"
    }
   },
   "cell_type": "markdown",
   "id": "bd8920f8-6782-4862-9e9c-09846d38bb98",
   "metadata": {},
   "source": [
    "## Question 7 (statistical approach model)\n",
    "\n",
    "Perform fraud detection using 2 Statistical Approach (IQR and Z-score method) using numerical variables as X. Make cost simulation just like the Question 6 point one and create a table summary of evaluation\n",
    "\n",
    "![image.png](attachment:15ce812a-0021-4e51-896d-37c74a4d617b.png)\n",
    "\n",
    "Evaluate and compare all the models, write your insights on how you will decide which model that you want to propose as the fraud detection model.\n"
   ]
  },
  {
   "cell_type": "code",
   "execution_count": 62,
   "id": "4de54e73-ec80-48e7-8eb4-7ac1ec49071c",
   "metadata": {},
   "outputs": [],
   "source": [
    "class ZScoreModel(BaseEstimator):\n",
    "    def __init__(\n",
    "        self, *,\n",
    "        num_vars: list[str],\n",
    "        upper_threshold: float | None = None,\n",
    "        lower_threshold: float | None = None,\n",
    "    ):\n",
    "        self.num_vars = num_vars\n",
    "        if upper_threshold is None:\n",
    "            upper_threshold = 999\n",
    "        if lower_threshold is None:\n",
    "            lower_threshold = -999\n",
    "        self.upper_threshold = upper_threshold\n",
    "        self.lower_threshold = lower_threshold\n",
    "\n",
    "    def fit(self, X, y):\n",
    "        self.is_fitted_ = True\n",
    "        self.y_prior = (y == 1).mean()\n",
    "\n",
    "        self.mus = X[self.num_vars].mean()\n",
    "        self.stds = X[self.num_vars].std()\n",
    "\n",
    "        return self\n",
    "\n",
    "    def predict(self, X):\n",
    "        y_prob = self.predict_proba(X)[:, 1]\n",
    "        return (y_prob > 0.5).astype(int)\n",
    "\n",
    "    def predict_proba(self, X):\n",
    "        y_prob = np.ones(len(X)) * self.y_prior\n",
    "        X_num = X[self.num_vars]\n",
    "        Z = (X_num - self.mus) / self.stds\n",
    "        is_fraud = ((Z > self.upper_threshold) | (Z < self.lower_threshold)).any(axis=1)\n",
    "        y_prob[is_fraud] = 1.0\n",
    "        output = np.vstack([1 - y_prob, y_prob]).T\n",
    "        return output"
   ]
  },
  {
   "cell_type": "code",
   "execution_count": 63,
   "id": "9897bc46-fe29-45bb-b0e5-95b4905eefd6",
   "metadata": {},
   "outputs": [],
   "source": [
    "class IQRModel(BaseEstimator):\n",
    "    def __init__(\n",
    "        self, *,\n",
    "        num_vars: list[str],\n",
    "    ):\n",
    "        self.num_vars = num_vars\n",
    "\n",
    "    def fit(self, X, y):\n",
    "        self.is_fitted_ = True\n",
    "        self.y_prior = (y == 1).mean()\n",
    "\n",
    "        q1 = X[num_vars].quantile(0.25)\n",
    "        q3 = X[num_vars].quantile(0.75)\n",
    "        iqr = q3 - q1\n",
    "        self.lbound = q1 - 1.5 * iqr\n",
    "        self.ubound = q3 + 1.5 * iqr\n",
    "        return self\n",
    "\n",
    "    def predict(self, X):\n",
    "        y_prob = self.predict_proba(X)[:, 1]\n",
    "        return (y_prob > 0.5).astype(int)\n",
    "\n",
    "    def predict_proba(self, X):\n",
    "        y_prob = np.ones(len(X)) * self.y_prior\n",
    "        X_num = X[self.num_vars]\n",
    "        is_fraud = ((X_num > self.ubound) | (X_num < self.lbound)).any(axis=1)\n",
    "        y_prob[is_fraud] = 1.0\n",
    "        output = np.vstack([1 - y_prob, y_prob]).T\n",
    "        return output"
   ]
  },
  {
   "cell_type": "code",
   "execution_count": 64,
   "id": "ecb2f329-43c8-44ef-8569-3e9b20f173b7",
   "metadata": {},
   "outputs": [],
   "source": [
    "zscore_model = ZScoreModel(num_vars=num_vars, upper_threshold=1.5)\n",
    "zscore_model.fit(X_train, y_train)\n",
    "\n",
    "model_results['zscore_model'] = calc_model_metrics(zscore_model, X_valid, y_valid)\n",
    "\n",
    "iqr_model = IQRModel(num_vars=num_vars)\n",
    "iqr_model.fit(X_train, y_train)\n",
    "\n",
    "model_results['iqr_model'] = calc_model_metrics(iqr_model, X_valid, y_valid)"
   ]
  },
  {
   "cell_type": "code",
   "execution_count": 65,
   "id": "a22d3aaf-fa2a-429e-a52a-54e94cf44bd8",
   "metadata": {},
   "outputs": [
    {
     "data": {
      "text/html": [
       "<div>\n",
       "<style scoped>\n",
       "    .dataframe tbody tr th:only-of-type {\n",
       "        vertical-align: middle;\n",
       "    }\n",
       "\n",
       "    .dataframe tbody tr th {\n",
       "        vertical-align: top;\n",
       "    }\n",
       "\n",
       "    .dataframe thead th {\n",
       "        text-align: right;\n",
       "    }\n",
       "</style>\n",
       "<table border=\"1\" class=\"dataframe\">\n",
       "  <thead>\n",
       "    <tr style=\"text-align: right;\">\n",
       "      <th></th>\n",
       "      <th>accuracy</th>\n",
       "      <th>recall</th>\n",
       "      <th>precision</th>\n",
       "      <th>roc_auc</th>\n",
       "      <th>cost</th>\n",
       "    </tr>\n",
       "  </thead>\n",
       "  <tbody>\n",
       "    <tr>\n",
       "      <th>base_model</th>\n",
       "      <td>0.940755</td>\n",
       "      <td>0.000000</td>\n",
       "      <td>0.000000</td>\n",
       "      <td>0.500000</td>\n",
       "      <td>2044380.0</td>\n",
       "    </tr>\n",
       "    <tr>\n",
       "      <th>expert_model</th>\n",
       "      <td>0.832031</td>\n",
       "      <td>0.263736</td>\n",
       "      <td>0.111628</td>\n",
       "      <td>0.565778</td>\n",
       "      <td>1423170.0</td>\n",
       "    </tr>\n",
       "    <tr>\n",
       "      <th>zscore_model</th>\n",
       "      <td>0.671875</td>\n",
       "      <td>0.439560</td>\n",
       "      <td>0.081136</td>\n",
       "      <td>0.563033</td>\n",
       "      <td>1331890.0</td>\n",
       "    </tr>\n",
       "    <tr>\n",
       "      <th>iqr_model</th>\n",
       "      <td>0.709635</td>\n",
       "      <td>0.373626</td>\n",
       "      <td>0.080378</td>\n",
       "      <td>0.552211</td>\n",
       "      <td>1369500.0</td>\n",
       "    </tr>\n",
       "  </tbody>\n",
       "</table>\n",
       "</div>"
      ],
      "text/plain": [
       "              accuracy    recall  precision   roc_auc       cost\n",
       "base_model    0.940755  0.000000   0.000000  0.500000  2044380.0\n",
       "expert_model  0.832031  0.263736   0.111628  0.565778  1423170.0\n",
       "zscore_model  0.671875  0.439560   0.081136  0.563033  1331890.0\n",
       "iqr_model     0.709635  0.373626   0.080378  0.552211  1369500.0"
      ]
     },
     "execution_count": 65,
     "metadata": {},
     "output_type": "execute_result"
    }
   ],
   "source": [
    "pd.DataFrame(model_results).T"
   ]
  },
  {
   "cell_type": "markdown",
   "id": "4b100a6a-d762-4aab-907e-004c96632dd5",
   "metadata": {},
   "source": [
    "Based on the ROC/AUC metric, the expert-based model is the best one compared to other models. However, if we look at the cost, the Z-Score model has the lowest cost vs other models. Based on this result, I will propose to use the Z-Score model."
   ]
  },
  {
   "cell_type": "markdown",
   "id": "59b06836-777a-4377-9251-269047976717",
   "metadata": {},
   "source": [
    "## Question 8 (ROI, total utility, etc)\n",
    "\n",
    "- You proposed a fraud detection model to minimize fraud losses. However, beyond cost savings, you must also consider benefits, model ownership costs, and fraud handling costs. ROI is calculated as the ratio of net profit (benefit minus costs) to total investment, expressed as a percentage.\n",
    "\n",
    "```\n",
    "ROI = Total Utility / (Total cost of ownership + Total cost of fraud handling)\n",
    "```\n",
    "\n",
    "- Total utility is defined as the difference between benefits and costs, representing the net return. \n",
    "    - Costs are as follows:\n",
    "        - False Negatives (FN): Fraud loss, represented by the ExpFraudLoss amount for ignored fraud cases.\n",
    "        - False Positives (FP): Losses from profit and customer acquisition costs, including \\\\$300 for acquisition and \\\\$700 for profit loss per false positive.\n",
    "    - Benefits include: \n",
    "        - True Positives (TP): Prevented fraud losses, represented by ExpFraudLoss.\n",
    "        - True Negatives (TN): Generated profit of \\\\$700 from legitimate transactions.\n",
    "- The total cost of ownership consists of acquisition costs (\\\\$500,000 for software, hardware, security, and development) and operation costs (\\\\$500,000 for migration, setup, monitoring, and support).\n",
    "- Total Cost of Fraud Handling includes inspection and legal costs. Assume:\n",
    "    - Fraud handling cost per claim: Varies by vehicle category\n",
    "        - Sedan: \\\\$6,000\n",
    "        - Sport: \\\\$8,000\n",
    "        - Utility: \\\\$4,000\n",
    "    - Legal cost: \\\\$50,000"
   ]
  },
  {
   "cell_type": "markdown",
   "id": "6919c2c8-4791-402f-a9c5-b59a1653f8f9",
   "metadata": {},
   "source": [
    "Now I will calculate the ROI for each model."
   ]
  },
  {
   "cell_type": "code",
   "execution_count": 66,
   "id": "934ed2b2-e1e6-4fbf-927c-579aa6b94261",
   "metadata": {},
   "outputs": [],
   "source": [
    "def calc_total_utility(y_true: pd.Series, y_pred: pd.Series, exp_fraud_loss: pd.Series) -> float:\n",
    "    cost = calc_model_cost(y_true, y_pred, exp_fraud_loss)\n",
    "\n",
    "    tp = (y_true == 1) & (y_pred == 1)\n",
    "    tn = (y_true == 0) & (y_pred == 0)\n",
    "\n",
    "    tp_benefit = (tp * exp_fraud_loss).sum()\n",
    "    tn_benefit = (tn * 700).sum()\n",
    "\n",
    "    total_benefit = tp_benefit + tn_benefit\n",
    "\n",
    "    total_utility = total_benefit - cost\n",
    "    return total_utility"
   ]
  },
  {
   "cell_type": "code",
   "execution_count": 67,
   "id": "923e46eb-44c1-4e5c-9d7f-a8fe5780f939",
   "metadata": {},
   "outputs": [],
   "source": [
    "def calc_roi(y_true: pd.Series, y_pred: pd.Series, exp_fraud_loss: pd.Series, vehicle_category: pd.Series):\n",
    "    total_utility = calc_total_utility(y_true, y_pred, exp_fraud_loss)\n",
    "    tco = 500e3 + 500e3 # acquisition + operation costs\n",
    "\n",
    "    # calculate fraud handling cost for every claims we predict as frauds\n",
    "    fraud_handling_cost = 50000\n",
    "    vehicle_claim_cost = vehicle_category.map({'Sedan': 6000, 'Sport': 8000, 'Utility': 4000})\n",
    "    total_fraud_handling_cost = (y_pred * (vehicle_claim_cost + fraud_handling_cost)).sum()\n",
    "\n",
    "    roi = total_utility / (tco + total_fraud_handling_cost)\n",
    "\n",
    "    return roi"
   ]
  },
  {
   "cell_type": "code",
   "execution_count": 68,
   "id": "41cd2d87-34d0-4b2b-b4af-07c4dc2a5ed8",
   "metadata": {},
   "outputs": [
    {
     "name": "stdout",
     "output_type": "stream",
     "text": [
      "Base -1.03288\n",
      "Expert 0.020295101916641314\n",
      "IQR Model 0.017387712544112928\n",
      "Z-Score Model 0.018273690039454556\n"
     ]
    }
   ],
   "source": [
    "roi_kwargs = dict(\n",
    "    exp_fraud_loss=X_valid['ExpFraudLoss'],\n",
    "    vehicle_category=X_valid['VehicleCategory'],\n",
    ")\n",
    "print('Base', calc_roi(y_valid, base_model.predict(X_valid), **roi_kwargs))\n",
    "print('Expert', calc_roi(y_valid, expert_model.predict(X_valid), **roi_kwargs))\n",
    "print('IQR Model', calc_roi(y_valid, iqr_model.predict(X_valid), **roi_kwargs))\n",
    "print('Z-Score Model', calc_roi(y_valid, zscore_model.predict(X_valid), **roi_kwargs))"
   ]
  },
  {
   "cell_type": "markdown",
   "id": "fe7cfece-42d5-4c92-bd2d-1c07db21d5bc",
   "metadata": {},
   "source": [
    "From the result above, the expert-based model results in the highest ROI at 2.03%. The 2nd best model is the IQR one with ROI equal to 1.74%."
   ]
  }
 ],
 "metadata": {
  "kernelspec": {
   "display_name": "Python 3 (ipykernel)",
   "language": "python",
   "name": "python3"
  },
  "language_info": {
   "codemirror_mode": {
    "name": "ipython",
    "version": 3
   },
   "file_extension": ".py",
   "mimetype": "text/x-python",
   "name": "python",
   "nbconvert_exporter": "python",
   "pygments_lexer": "ipython3",
   "version": "3.12.1"
  }
 },
 "nbformat": 4,
 "nbformat_minor": 5
}
