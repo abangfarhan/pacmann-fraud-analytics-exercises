{
 "cells": [
  {
   "cell_type": "markdown",
   "id": "3a2f030a-71c5-4b62-8e4a-c8e954e9d7f8",
   "metadata": {},
   "source": [
    "# Functions etc"
   ]
  },
  {
   "cell_type": "code",
   "execution_count": 1,
   "id": "a66af467-a655-4cae-b702-c00c450895a4",
   "metadata": {},
   "outputs": [],
   "source": [
    "import pandas as pd\n",
    "import numpy as np\n",
    "import matplotlib.pyplot as plt\n",
    "import seaborn as sns\n",
    "import time\n",
    "\n",
    "from sklearn.metrics import roc_auc_score, accuracy_score"
   ]
  },
  {
   "cell_type": "markdown",
   "id": "f83e4b98-61ef-4caa-9934-f39d82f4f980",
   "metadata": {},
   "source": [
    "# Case 1\n",
    "\n",
    "Data: transaction_sample.csv"
   ]
  },
  {
   "cell_type": "code",
   "execution_count": 2,
   "id": "0d5cf4de-988b-464e-a0bb-e97e5be7fca3",
   "metadata": {},
   "outputs": [
    {
     "name": "stdout",
     "output_type": "stream",
     "text": [
      "Shape: (4727, 7)\n"
     ]
    },
    {
     "data": {
      "text/html": [
       "<div>\n",
       "<style scoped>\n",
       "    .dataframe tbody tr th:only-of-type {\n",
       "        vertical-align: middle;\n",
       "    }\n",
       "\n",
       "    .dataframe tbody tr th {\n",
       "        vertical-align: top;\n",
       "    }\n",
       "\n",
       "    .dataframe thead th {\n",
       "        text-align: right;\n",
       "    }\n",
       "</style>\n",
       "<table border=\"1\" class=\"dataframe\">\n",
       "  <thead>\n",
       "    <tr style=\"text-align: right;\">\n",
       "      <th></th>\n",
       "      <th>Transaction ID</th>\n",
       "      <th>Transaction Hour</th>\n",
       "      <th>Transaction Amount</th>\n",
       "      <th>Account Age Days</th>\n",
       "      <th>Is Fraudulent</th>\n",
       "      <th>y_pred</th>\n",
       "      <th>y_pred_proba</th>\n",
       "    </tr>\n",
       "  </thead>\n",
       "  <tbody>\n",
       "    <tr>\n",
       "      <th>0</th>\n",
       "      <td>34bf1ce8-118a-467b-a319-9e7e02d5845c</td>\n",
       "      <td>5</td>\n",
       "      <td>79.02</td>\n",
       "      <td>216</td>\n",
       "      <td>0</td>\n",
       "      <td>0</td>\n",
       "      <td>0.114403</td>\n",
       "    </tr>\n",
       "    <tr>\n",
       "      <th>1</th>\n",
       "      <td>bd73ee3b-34da-4dd5-a494-1e0964045a47</td>\n",
       "      <td>22</td>\n",
       "      <td>89.29</td>\n",
       "      <td>198</td>\n",
       "      <td>0</td>\n",
       "      <td>0</td>\n",
       "      <td>0.172854</td>\n",
       "    </tr>\n",
       "    <tr>\n",
       "      <th>2</th>\n",
       "      <td>65db4491-943b-49f1-96f6-948b677ae953</td>\n",
       "      <td>10</td>\n",
       "      <td>1070.04</td>\n",
       "      <td>148</td>\n",
       "      <td>0</td>\n",
       "      <td>0</td>\n",
       "      <td>0.389952</td>\n",
       "    </tr>\n",
       "    <tr>\n",
       "      <th>3</th>\n",
       "      <td>bc3198c1-64f6-473b-bcbc-dfdfe59dc64d</td>\n",
       "      <td>21</td>\n",
       "      <td>281.05</td>\n",
       "      <td>35</td>\n",
       "      <td>0</td>\n",
       "      <td>0</td>\n",
       "      <td>0.228857</td>\n",
       "    </tr>\n",
       "    <tr>\n",
       "      <th>4</th>\n",
       "      <td>f3dd988b-ffc4-4d5e-95fe-e9760f1b52ab</td>\n",
       "      <td>11</td>\n",
       "      <td>69.61</td>\n",
       "      <td>271</td>\n",
       "      <td>0</td>\n",
       "      <td>0</td>\n",
       "      <td>0.357841</td>\n",
       "    </tr>\n",
       "  </tbody>\n",
       "</table>\n",
       "</div>"
      ],
      "text/plain": [
       "                         Transaction ID  Transaction Hour  Transaction Amount  \\\n",
       "0  34bf1ce8-118a-467b-a319-9e7e02d5845c                 5               79.02   \n",
       "1  bd73ee3b-34da-4dd5-a494-1e0964045a47                22               89.29   \n",
       "2  65db4491-943b-49f1-96f6-948b677ae953                10             1070.04   \n",
       "3  bc3198c1-64f6-473b-bcbc-dfdfe59dc64d                21              281.05   \n",
       "4  f3dd988b-ffc4-4d5e-95fe-e9760f1b52ab                11               69.61   \n",
       "\n",
       "   Account Age Days  Is Fraudulent  y_pred  y_pred_proba  \n",
       "0               216              0       0      0.114403  \n",
       "1               198              0       0      0.172854  \n",
       "2               148              0       0      0.389952  \n",
       "3                35              0       0      0.228857  \n",
       "4               271              0       0      0.357841  "
      ]
     },
     "execution_count": 2,
     "metadata": {},
     "output_type": "execute_result"
    }
   ],
   "source": [
    "df_trx = pd.read_csv('./data/transaction_sample.csv')\n",
    "print('Shape:', df_trx.shape)\n",
    "df_trx.head()"
   ]
  },
  {
   "cell_type": "markdown",
   "id": "f1670518-1415-4270-bea0-f3848e17d591",
   "metadata": {},
   "source": [
    "## 1. Introduction\n",
    "\n",
    "Task: Determine which part of data that needs to be labeled by experts.\n",
    "\n",
    "Hint: Identify low-confidence predictions using uncertainty sampling techniques"
   ]
  },
  {
   "cell_type": "markdown",
   "id": "4ae18f8f-954b-429d-a83c-bbe6ec81fbc6",
   "metadata": {},
   "source": [
    "I set threshold of 45%, so I define low-confidence predictions are those with `y_pred_proba` between 45% and 1-45%."
   ]
  },
  {
   "cell_type": "code",
   "execution_count": 3,
   "id": "18bfab85-5ac8-44ee-a639-9d41c848b07a",
   "metadata": {},
   "outputs": [
    {
     "name": "stdout",
     "output_type": "stream",
     "text": [
      "Shape: (42, 7)\n"
     ]
    },
    {
     "data": {
      "text/html": [
       "<div>\n",
       "<style scoped>\n",
       "    .dataframe tbody tr th:only-of-type {\n",
       "        vertical-align: middle;\n",
       "    }\n",
       "\n",
       "    .dataframe tbody tr th {\n",
       "        vertical-align: top;\n",
       "    }\n",
       "\n",
       "    .dataframe thead th {\n",
       "        text-align: right;\n",
       "    }\n",
       "</style>\n",
       "<table border=\"1\" class=\"dataframe\">\n",
       "  <thead>\n",
       "    <tr style=\"text-align: right;\">\n",
       "      <th></th>\n",
       "      <th>Transaction ID</th>\n",
       "      <th>Transaction Hour</th>\n",
       "      <th>Transaction Amount</th>\n",
       "      <th>Account Age Days</th>\n",
       "      <th>Is Fraudulent</th>\n",
       "      <th>y_pred</th>\n",
       "      <th>y_pred_proba</th>\n",
       "    </tr>\n",
       "  </thead>\n",
       "  <tbody>\n",
       "    <tr>\n",
       "      <th>164</th>\n",
       "      <td>1b5ac78e-5f68-46ef-a895-4603e271cee3</td>\n",
       "      <td>1</td>\n",
       "      <td>106.55</td>\n",
       "      <td>16</td>\n",
       "      <td>1</td>\n",
       "      <td>0</td>\n",
       "      <td>0.452965</td>\n",
       "    </tr>\n",
       "    <tr>\n",
       "      <th>429</th>\n",
       "      <td>7c59ac0a-fb1e-4426-8169-3917c51f3cb4</td>\n",
       "      <td>3</td>\n",
       "      <td>348.05</td>\n",
       "      <td>4</td>\n",
       "      <td>1</td>\n",
       "      <td>0</td>\n",
       "      <td>0.486965</td>\n",
       "    </tr>\n",
       "    <tr>\n",
       "      <th>653</th>\n",
       "      <td>7b7f02c7-eef3-40e7-a2ae-64022696cf2f</td>\n",
       "      <td>1</td>\n",
       "      <td>230.02</td>\n",
       "      <td>254</td>\n",
       "      <td>1</td>\n",
       "      <td>0</td>\n",
       "      <td>0.480162</td>\n",
       "    </tr>\n",
       "    <tr>\n",
       "      <th>667</th>\n",
       "      <td>11c6964f-8ca4-40c2-aadf-0cee2470b7c1</td>\n",
       "      <td>0</td>\n",
       "      <td>75.67</td>\n",
       "      <td>364</td>\n",
       "      <td>1</td>\n",
       "      <td>0</td>\n",
       "      <td>0.481831</td>\n",
       "    </tr>\n",
       "    <tr>\n",
       "      <th>773</th>\n",
       "      <td>a2e647ad-3fa7-4108-88fe-6edac82bc6eb</td>\n",
       "      <td>3</td>\n",
       "      <td>267.18</td>\n",
       "      <td>189</td>\n",
       "      <td>1</td>\n",
       "      <td>0</td>\n",
       "      <td>0.454464</td>\n",
       "    </tr>\n",
       "  </tbody>\n",
       "</table>\n",
       "</div>"
      ],
      "text/plain": [
       "                           Transaction ID  Transaction Hour  \\\n",
       "164  1b5ac78e-5f68-46ef-a895-4603e271cee3                 1   \n",
       "429  7c59ac0a-fb1e-4426-8169-3917c51f3cb4                 3   \n",
       "653  7b7f02c7-eef3-40e7-a2ae-64022696cf2f                 1   \n",
       "667  11c6964f-8ca4-40c2-aadf-0cee2470b7c1                 0   \n",
       "773  a2e647ad-3fa7-4108-88fe-6edac82bc6eb                 3   \n",
       "\n",
       "     Transaction Amount  Account Age Days  Is Fraudulent  y_pred  y_pred_proba  \n",
       "164              106.55                16              1       0      0.452965  \n",
       "429              348.05                 4              1       0      0.486965  \n",
       "653              230.02               254              1       0      0.480162  \n",
       "667               75.67               364              1       0      0.481831  \n",
       "773              267.18               189              1       0      0.454464  "
      ]
     },
     "execution_count": 3,
     "metadata": {},
     "output_type": "execute_result"
    }
   ],
   "source": [
    "prob_thresh = 0.45\n",
    "low_conf = df_trx[(df_trx['y_pred_proba'] > prob_thresh) & (df_trx['y_pred_proba'] < 1-prob_thresh)]\n",
    "print('Shape:', low_conf.shape)\n",
    "low_conf.head()"
   ]
  },
  {
   "cell_type": "markdown",
   "id": "1ff2c2e8-a5e0-4bd6-9dca-a32d2143989d",
   "metadata": {},
   "source": [
    "## 2. Annotation\n",
    "\n",
    "Assuming you are an expert, annotate the data which was previously selected.\n",
    "Task:\n",
    "- Perform Exploratory Data Analysis (EDA) to detect patterns and insights\n",
    "from the dataset to help predicting fraud.\n",
    "- Define expert rules based on EDA for annotation.\n",
    "- Annotate whether fraud or non fraud on the previously selected uncertain\n",
    "transactions from Question 1 based on these rules.\n",
    "- Update ‘y_ped’ where some parts of data are from the newly annotated\n",
    "data. Store to new columns named “y_pred_exp”."
   ]
  },
  {
   "cell_type": "markdown",
   "id": "a3b5dd77-c9a5-41c0-8d4f-d9733d966a88",
   "metadata": {},
   "source": [
    "### EDA"
   ]
  },
  {
   "cell_type": "markdown",
   "id": "a5d4a41b-616c-4fc5-8fef-e945ffc4c09c",
   "metadata": {},
   "source": [
    "I will create new column: log of Transaction Amount, because I found that column to be very skewed:"
   ]
  },
  {
   "cell_type": "code",
   "execution_count": 4,
   "id": "ce7e4b8b-827f-4aff-af99-94597a0493ef",
   "metadata": {},
   "outputs": [
    {
     "data": {
      "text/plain": [
       "<Axes: ylabel='Frequency'>"
      ]
     },
     "execution_count": 4,
     "metadata": {},
     "output_type": "execute_result"
    },
    {
     "data": {
      "image/png": "[encoded data removed]",
      "text/plain": [
       "<Figure size 640x480 with 1 Axes>"
      ]
     },
     "metadata": {},
     "output_type": "display_data"
    }
   ],
   "source": [
    "df_trx['Transaction Amount'].plot.hist()"
   ]
  },
  {
   "cell_type": "code",
   "execution_count": 5,
   "id": "91466d17-504e-4fb8-a0d3-0cf039d7045d",
   "metadata": {},
   "outputs": [],
   "source": [
    "df_trx_mod = df_trx.copy()\n",
    "df_trx_mod['Log Transaction Amount'] = np.log(df_trx_mod['Transaction Amount'])"
   ]
  },
  {
   "cell_type": "code",
   "execution_count": 6,
   "id": "48a0d3c3-d8f4-4a92-a7d5-0b86a43bd31e",
   "metadata": {},
   "outputs": [
    {
     "data": {
      "text/plain": [
       "<Axes: ylabel='Frequency'>"
      ]
     },
     "execution_count": 6,
     "metadata": {},
     "output_type": "execute_result"
    },
    {
     "data": {
      "image/png": "[encoded data removed]",
      "text/plain": [
       "<Figure size 640x480 with 1 Axes>"
      ]
     },
     "metadata": {},
     "output_type": "display_data"
    }
   ],
   "source": [
    "df_trx_mod['Log Transaction Amount'].plot.hist()"
   ]
  },
  {
   "cell_type": "markdown",
   "id": "05133482-f2a7-457f-a95f-f9f463ee8a3a",
   "metadata": {},
   "source": [
    "What's the probability of fraudulent transaction?"
   ]
  },
  {
   "cell_type": "code",
   "execution_count": 7,
   "id": "690cc681-68a2-4d52-811f-d2c0bfdb1b00",
   "metadata": {},
   "outputs": [
    {
     "data": {
      "text/plain": [
       "0.051829913264226785"
      ]
     },
     "execution_count": 7,
     "metadata": {},
     "output_type": "execute_result"
    }
   ],
   "source": [
    "df_trx_mod['Is Fraudulent'].mean()"
   ]
  },
  {
   "cell_type": "code",
   "execution_count": 8,
   "id": "fdd15c1a-58af-410d-915c-1fa6b820f61b",
   "metadata": {},
   "outputs": [
    {
     "data": {
      "text/plain": [
       "<Axes: xlabel='Is Fraudulent', ylabel='Transaction Hour'>"
      ]
     },
     "execution_count": 8,
     "metadata": {},
     "output_type": "execute_result"
    },
    {
     "data": {
      "image/png": "[encoded data removed]",
      "text/plain": [
       "<Figure size 640x480 with 1 Axes>"
      ]
     },
     "metadata": {},
     "output_type": "display_data"
    }
   ],
   "source": [
    "sns.boxplot(df_trx_mod, x='Is Fraudulent', y='Transaction Hour')"
   ]
  },
  {
   "cell_type": "code",
   "execution_count": 9,
   "id": "5d4cd23c-7ed2-44b7-b8b7-871f3c18620c",
   "metadata": {},
   "outputs": [
    {
     "data": {
      "text/plain": [
       "<Axes: xlabel='Is Fraudulent', ylabel='Log Transaction Amount'>"
      ]
     },
     "execution_count": 9,
     "metadata": {},
     "output_type": "execute_result"
    },
    {
     "data": {
      "image/png": "[encoded data removed]",
      "text/plain": [
       "<Figure size 640x480 with 1 Axes>"
      ]
     },
     "metadata": {},
     "output_type": "display_data"
    }
   ],
   "source": [
    "sns.boxplot(df_trx_mod, x='Is Fraudulent', y='Log Transaction Amount')"
   ]
  },
  {
   "cell_type": "code",
   "execution_count": 10,
   "id": "f822146d-22e3-49e4-a574-aad5190092cc",
   "metadata": {},
   "outputs": [
    {
     "data": {
      "text/plain": [
       "<Axes: xlabel='Is Fraudulent', ylabel='Account Age Days'>"
      ]
     },
     "execution_count": 10,
     "metadata": {},
     "output_type": "execute_result"
    },
    {
     "data": {
      "image/png": "[encoded data removed]",
      "text/plain": [
       "<Figure size 640x480 with 1 Axes>"
      ]
     },
     "metadata": {},
     "output_type": "display_data"
    }
   ],
   "source": [
    "sns.boxplot(df_trx_mod, x='Is Fraudulent', y='Account Age Days')"
   ]
  },
  {
   "cell_type": "markdown",
   "id": "255c17fc-b483-40b9-a020-5dc9a46138fa",
   "metadata": {},
   "source": [
    "In short, fraudulent transactions are more likely to have: lower Transaction Hour, lower Account Age Days, and higher Log Transaction Amount."
   ]
  },
  {
   "cell_type": "markdown",
   "id": "54df04dc-051f-4504-93c5-8aef1b2a1b57",
   "metadata": {},
   "source": [
    "Below I will store the modified data for low-confidence observations:"
   ]
  },
  {
   "cell_type": "code",
   "execution_count": 11,
   "id": "bd91e1a9-7c47-4901-b261-94bfee2f982a",
   "metadata": {},
   "outputs": [
    {
     "data": {
      "text/html": [
       "<div>\n",
       "<style scoped>\n",
       "    .dataframe tbody tr th:only-of-type {\n",
       "        vertical-align: middle;\n",
       "    }\n",
       "\n",
       "    .dataframe tbody tr th {\n",
       "        vertical-align: top;\n",
       "    }\n",
       "\n",
       "    .dataframe thead th {\n",
       "        text-align: right;\n",
       "    }\n",
       "</style>\n",
       "<table border=\"1\" class=\"dataframe\">\n",
       "  <thead>\n",
       "    <tr style=\"text-align: right;\">\n",
       "      <th></th>\n",
       "      <th>Transaction ID</th>\n",
       "      <th>Transaction Hour</th>\n",
       "      <th>Transaction Amount</th>\n",
       "      <th>Account Age Days</th>\n",
       "      <th>Is Fraudulent</th>\n",
       "      <th>y_pred</th>\n",
       "      <th>y_pred_proba</th>\n",
       "      <th>Log Transaction Amount</th>\n",
       "    </tr>\n",
       "  </thead>\n",
       "  <tbody>\n",
       "    <tr>\n",
       "      <th>164</th>\n",
       "      <td>1b5ac78e-5f68-46ef-a895-4603e271cee3</td>\n",
       "      <td>1</td>\n",
       "      <td>106.55</td>\n",
       "      <td>16</td>\n",
       "      <td>1</td>\n",
       "      <td>0</td>\n",
       "      <td>0.452965</td>\n",
       "      <td>4.668614</td>\n",
       "    </tr>\n",
       "    <tr>\n",
       "      <th>429</th>\n",
       "      <td>7c59ac0a-fb1e-4426-8169-3917c51f3cb4</td>\n",
       "      <td>3</td>\n",
       "      <td>348.05</td>\n",
       "      <td>4</td>\n",
       "      <td>1</td>\n",
       "      <td>0</td>\n",
       "      <td>0.486965</td>\n",
       "      <td>5.852346</td>\n",
       "    </tr>\n",
       "    <tr>\n",
       "      <th>653</th>\n",
       "      <td>7b7f02c7-eef3-40e7-a2ae-64022696cf2f</td>\n",
       "      <td>1</td>\n",
       "      <td>230.02</td>\n",
       "      <td>254</td>\n",
       "      <td>1</td>\n",
       "      <td>0</td>\n",
       "      <td>0.480162</td>\n",
       "      <td>5.438166</td>\n",
       "    </tr>\n",
       "    <tr>\n",
       "      <th>667</th>\n",
       "      <td>11c6964f-8ca4-40c2-aadf-0cee2470b7c1</td>\n",
       "      <td>0</td>\n",
       "      <td>75.67</td>\n",
       "      <td>364</td>\n",
       "      <td>1</td>\n",
       "      <td>0</td>\n",
       "      <td>0.481831</td>\n",
       "      <td>4.326382</td>\n",
       "    </tr>\n",
       "    <tr>\n",
       "      <th>773</th>\n",
       "      <td>a2e647ad-3fa7-4108-88fe-6edac82bc6eb</td>\n",
       "      <td>3</td>\n",
       "      <td>267.18</td>\n",
       "      <td>189</td>\n",
       "      <td>1</td>\n",
       "      <td>0</td>\n",
       "      <td>0.454464</td>\n",
       "      <td>5.587923</td>\n",
       "    </tr>\n",
       "  </tbody>\n",
       "</table>\n",
       "</div>"
      ],
      "text/plain": [
       "                           Transaction ID  Transaction Hour  \\\n",
       "164  1b5ac78e-5f68-46ef-a895-4603e271cee3                 1   \n",
       "429  7c59ac0a-fb1e-4426-8169-3917c51f3cb4                 3   \n",
       "653  7b7f02c7-eef3-40e7-a2ae-64022696cf2f                 1   \n",
       "667  11c6964f-8ca4-40c2-aadf-0cee2470b7c1                 0   \n",
       "773  a2e647ad-3fa7-4108-88fe-6edac82bc6eb                 3   \n",
       "\n",
       "     Transaction Amount  Account Age Days  Is Fraudulent  y_pred  \\\n",
       "164              106.55                16              1       0   \n",
       "429              348.05                 4              1       0   \n",
       "653              230.02               254              1       0   \n",
       "667               75.67               364              1       0   \n",
       "773              267.18               189              1       0   \n",
       "\n",
       "     y_pred_proba  Log Transaction Amount  \n",
       "164      0.452965                4.668614  \n",
       "429      0.486965                5.852346  \n",
       "653      0.480162                5.438166  \n",
       "667      0.481831                4.326382  \n",
       "773      0.454464                5.587923  "
      ]
     },
     "execution_count": 11,
     "metadata": {},
     "output_type": "execute_result"
    }
   ],
   "source": [
    "low_conf_mod = df_trx_mod.loc[low_conf.index]\n",
    "low_conf_mod.head()"
   ]
  },
  {
   "cell_type": "markdown",
   "id": "a6ec1c2a-bb73-48c8-ba9d-b8109aa501d6",
   "metadata": {},
   "source": [
    "### Defining the rules"
   ]
  },
  {
   "cell_type": "markdown",
   "id": "9e1f882c-4348-4a79-bbff-c29dee4d2b84",
   "metadata": {},
   "source": [
    "Based on the box plot above, I will define fraud if the observation satisfy _any_ of the following condition:\n",
    "\n",
    "- Transaction Hour less than the 1st quartile\n",
    "- Log Transaction Amount greater than the 3rd quartile\n",
    "- Account Age Days less than the 1st quartile"
   ]
  },
  {
   "cell_type": "code",
   "execution_count": 12,
   "id": "9baad94b-0532-46bf-8eee-f83fe787ea1c",
   "metadata": {},
   "outputs": [],
   "source": [
    "trx_hour_thresh = df_trx_mod['Transaction Hour'].quantile(0.25)\n",
    "trx_amount_thresh = df_trx_mod['Log Transaction Amount'].quantile(0.75)\n",
    "acc_age_thresh = df_trx_mod['Account Age Days'].quantile(0.25)"
   ]
  },
  {
   "cell_type": "code",
   "execution_count": 13,
   "id": "ef95818e-15b0-4ac1-990d-e851884ca440",
   "metadata": {},
   "outputs": [
    {
     "name": "stdout",
     "output_type": "stream",
     "text": [
      "Additional execution time: 0.010107755661010742 seconds\n"
     ]
    },
    {
     "data": {
      "text/html": [
       "<div>\n",
       "<style scoped>\n",
       "    .dataframe tbody tr th:only-of-type {\n",
       "        vertical-align: middle;\n",
       "    }\n",
       "\n",
       "    .dataframe tbody tr th {\n",
       "        vertical-align: top;\n",
       "    }\n",
       "\n",
       "    .dataframe thead th {\n",
       "        text-align: right;\n",
       "    }\n",
       "</style>\n",
       "<table border=\"1\" class=\"dataframe\">\n",
       "  <thead>\n",
       "    <tr style=\"text-align: right;\">\n",
       "      <th></th>\n",
       "      <th>Transaction ID</th>\n",
       "      <th>Transaction Hour</th>\n",
       "      <th>Transaction Amount</th>\n",
       "      <th>Account Age Days</th>\n",
       "      <th>Is Fraudulent</th>\n",
       "      <th>y_pred</th>\n",
       "      <th>y_pred_proba</th>\n",
       "      <th>Log Transaction Amount</th>\n",
       "      <th>y_pred_exp</th>\n",
       "      <th>y_pred_proba_exp</th>\n",
       "    </tr>\n",
       "  </thead>\n",
       "  <tbody>\n",
       "    <tr>\n",
       "      <th>0</th>\n",
       "      <td>34bf1ce8-118a-467b-a319-9e7e02d5845c</td>\n",
       "      <td>5</td>\n",
       "      <td>79.02</td>\n",
       "      <td>216</td>\n",
       "      <td>0</td>\n",
       "      <td>0</td>\n",
       "      <td>0.114403</td>\n",
       "      <td>4.369701</td>\n",
       "      <td>0</td>\n",
       "      <td>0.114403</td>\n",
       "    </tr>\n",
       "    <tr>\n",
       "      <th>1</th>\n",
       "      <td>bd73ee3b-34da-4dd5-a494-1e0964045a47</td>\n",
       "      <td>22</td>\n",
       "      <td>89.29</td>\n",
       "      <td>198</td>\n",
       "      <td>0</td>\n",
       "      <td>0</td>\n",
       "      <td>0.172854</td>\n",
       "      <td>4.491889</td>\n",
       "      <td>0</td>\n",
       "      <td>0.172854</td>\n",
       "    </tr>\n",
       "    <tr>\n",
       "      <th>2</th>\n",
       "      <td>65db4491-943b-49f1-96f6-948b677ae953</td>\n",
       "      <td>10</td>\n",
       "      <td>1070.04</td>\n",
       "      <td>148</td>\n",
       "      <td>0</td>\n",
       "      <td>0</td>\n",
       "      <td>0.389952</td>\n",
       "      <td>6.975451</td>\n",
       "      <td>0</td>\n",
       "      <td>0.389952</td>\n",
       "    </tr>\n",
       "    <tr>\n",
       "      <th>3</th>\n",
       "      <td>bc3198c1-64f6-473b-bcbc-dfdfe59dc64d</td>\n",
       "      <td>21</td>\n",
       "      <td>281.05</td>\n",
       "      <td>35</td>\n",
       "      <td>0</td>\n",
       "      <td>0</td>\n",
       "      <td>0.228857</td>\n",
       "      <td>5.638533</td>\n",
       "      <td>0</td>\n",
       "      <td>0.228857</td>\n",
       "    </tr>\n",
       "    <tr>\n",
       "      <th>4</th>\n",
       "      <td>f3dd988b-ffc4-4d5e-95fe-e9760f1b52ab</td>\n",
       "      <td>11</td>\n",
       "      <td>69.61</td>\n",
       "      <td>271</td>\n",
       "      <td>0</td>\n",
       "      <td>0</td>\n",
       "      <td>0.357841</td>\n",
       "      <td>4.242908</td>\n",
       "      <td>0</td>\n",
       "      <td>0.357841</td>\n",
       "    </tr>\n",
       "  </tbody>\n",
       "</table>\n",
       "</div>"
      ],
      "text/plain": [
       "                         Transaction ID  Transaction Hour  Transaction Amount  \\\n",
       "0  34bf1ce8-118a-467b-a319-9e7e02d5845c                 5               79.02   \n",
       "1  bd73ee3b-34da-4dd5-a494-1e0964045a47                22               89.29   \n",
       "2  65db4491-943b-49f1-96f6-948b677ae953                10             1070.04   \n",
       "3  bc3198c1-64f6-473b-bcbc-dfdfe59dc64d                21              281.05   \n",
       "4  f3dd988b-ffc4-4d5e-95fe-e9760f1b52ab                11               69.61   \n",
       "\n",
       "   Account Age Days  Is Fraudulent  y_pred  y_pred_proba  \\\n",
       "0               216              0       0      0.114403   \n",
       "1               198              0       0      0.172854   \n",
       "2               148              0       0      0.389952   \n",
       "3                35              0       0      0.228857   \n",
       "4               271              0       0      0.357841   \n",
       "\n",
       "   Log Transaction Amount  y_pred_exp  y_pred_proba_exp  \n",
       "0                4.369701           0          0.114403  \n",
       "1                4.491889           0          0.172854  \n",
       "2                6.975451           0          0.389952  \n",
       "3                5.638533           0          0.228857  \n",
       "4                4.242908           0          0.357841  "
      ]
     },
     "execution_count": 13,
     "metadata": {},
     "output_type": "execute_result"
    }
   ],
   "source": [
    "start_time = time.time()\n",
    "\n",
    "low_conf_exp = ((low_conf_mod['Transaction Hour'] < trx_hour_thresh) |\n",
    "                (low_conf_mod['Log Transaction Amount'] > trx_amount_thresh) |\n",
    "                (low_conf_mod['Account Age Days'] < acc_age_thresh)).astype(int)\n",
    "\n",
    "df_trx_exp = df_trx_mod.copy()\n",
    "df_trx_exp['y_pred_exp'] = df_trx_exp['y_pred'].copy()\n",
    "df_trx_exp.loc[low_conf_exp.index, 'y_pred_exp'] = low_conf_exp\n",
    "\n",
    "# set the pred proba for the expert predictions\n",
    "# here I set the probability to be very high (95%)\n",
    "df_trx_exp['y_pred_proba_exp'] = df_trx_exp['y_pred_proba'].copy()\n",
    "df_trx_exp.loc[low_conf_exp.index, 'y_pred_proba_exp'] = 0.95\n",
    "\n",
    "addl_exec_time = time.time() - start_time\n",
    "\n",
    "print('Additional execution time:', addl_exec_time, 'seconds')\n",
    "\n",
    "df_trx_exp.head()"
   ]
  },
  {
   "attachments": {
    "fec31f9a-d9aa-4701-978f-edff9cfde2ee.png": {
     "image/png": "[encoded data removed]"
    }
   },
   "cell_type": "markdown",
   "id": "fc9cbfec-6e0b-48e4-9a38-2b476d08826c",
   "metadata": {},
   "source": [
    "## 3. Evaluation\n",
    "\n",
    "Task:\n",
    "\n",
    "- Evaluate the result of prediction using ROC-AUC\n",
    "    - Before HITL, using y_pred: the result of machine learning model only\n",
    "    - After HITL (Incorporating the newly annotated data: y_pred_exp and reevaluating performance)\n",
    "- Compare the model prediction time:\n",
    "    - Before HITL (processing time per transaction is 0.00012 second).\n",
    "    - After HITL (processing time per transaction including expert review).\n",
    "- Calculate the false prediction cost, assuming the false positive cost and false negative cost are similar, that’s the amount of the transaction.\n",
    "    - Before HITL\n",
    "    - After HITL\n",
    "- Summarize in table and analyze the trade-off:\n",
    "    ![image.png](attachment:fec31f9a-d9aa-4701-978f-edff9cfde2ee.png)\n",
    "    - Has the model improved significantly in fraud detection?\n",
    "    - How much additional time does the human annotation process introduce?\n",
    "    - Does the increase in fraud detection performance justify the additional cost of human intervention? Assuming the cost of\n",
    "execution time is $0.01 per second"
   ]
  },
  {
   "cell_type": "code",
   "execution_count": 16,
   "id": "90fa78c0-7a88-4c03-bcc4-59a476406fb6",
   "metadata": {},
   "outputs": [],
   "source": [
    "def eval_transaction_model(\n",
    "    y_true: pd.Series,\n",
    "    y_pred: pd.Series,\n",
    "    y_pred_proba: pd.Series,\n",
    "    trx_amt: pd.Series,\n",
    ") -> dict[str, float]:\n",
    "    roc_auc = roc_auc_score(y_true, y_pred_proba)\n",
    "    is_fn = (y_pred == 0) & (y_true == 1)\n",
    "    is_fp = (y_pred == 1) & (y_true == 0)\n",
    "    fn_cost = (is_fn * trx_amt).sum()\n",
    "    fp_cost = (is_fp * trx_amt).sum()\n",
    "\n",
    "    return {\n",
    "        'roc_auc': roc_auc,\n",
    "        'fn_cost': fn_cost,\n",
    "        'fp_cost': fp_cost,\n",
    "    }"
   ]
  },
  {
   "cell_type": "code",
   "execution_count": 17,
   "id": "ceb51186-ad41-48e5-83e5-bc757ebb57b6",
   "metadata": {},
   "outputs": [],
   "source": [
    "transaction_model_result_dict = {\n",
    "    'ML': eval_transaction_model(\n",
    "        df_trx_exp['Is Fraudulent'],\n",
    "        df_trx_exp['y_pred'],\n",
    "        df_trx_exp['y_pred_proba'],\n",
    "        df_trx_exp['Transaction Amount']\n",
    "    ),\n",
    "    'ML+HITL': eval_transaction_model(\n",
    "        df_trx_exp['Is Fraudulent'],\n",
    "        df_trx_exp['y_pred_exp'],\n",
    "        df_trx_exp['y_pred_proba_exp'],\n",
    "        df_trx_exp['Transaction Amount']\n",
    "    )\n",
    "}"
   ]
  },
  {
   "cell_type": "code",
   "execution_count": 18,
   "id": "0ca42ffb-b962-4ac8-823b-cc706ce80ed4",
   "metadata": {},
   "outputs": [
    {
     "data": {
      "text/html": [
       "<div>\n",
       "<style scoped>\n",
       "    .dataframe tbody tr th:only-of-type {\n",
       "        vertical-align: middle;\n",
       "    }\n",
       "\n",
       "    .dataframe tbody tr th {\n",
       "        vertical-align: top;\n",
       "    }\n",
       "\n",
       "    .dataframe thead th {\n",
       "        text-align: right;\n",
       "    }\n",
       "</style>\n",
       "<table border=\"1\" class=\"dataframe\">\n",
       "  <thead>\n",
       "    <tr style=\"text-align: right;\">\n",
       "      <th></th>\n",
       "      <th>roc_auc</th>\n",
       "      <th>fn_cost</th>\n",
       "      <th>fp_cost</th>\n",
       "    </tr>\n",
       "  </thead>\n",
       "  <tbody>\n",
       "    <tr>\n",
       "      <th>ML</th>\n",
       "      <td>0.784595</td>\n",
       "      <td>66660.13</td>\n",
       "      <td>11939.79</td>\n",
       "    </tr>\n",
       "    <tr>\n",
       "      <th>ML+HITL</th>\n",
       "      <td>0.785229</td>\n",
       "      <td>55921.77</td>\n",
       "      <td>11939.79</td>\n",
       "    </tr>\n",
       "  </tbody>\n",
       "</table>\n",
       "</div>"
      ],
      "text/plain": [
       "          roc_auc   fn_cost   fp_cost\n",
       "ML       0.784595  66660.13  11939.79\n",
       "ML+HITL  0.785229  55921.77  11939.79"
      ]
     },
     "execution_count": 18,
     "metadata": {},
     "output_type": "execute_result"
    }
   ],
   "source": [
    "transaction_model_result = pd.DataFrame(transaction_model_result_dict).T\n",
    "transaction_model_result"
   ]
  },
  {
   "cell_type": "code",
   "execution_count": 19,
   "id": "1bac41a5-42ea-46eb-90a0-8fcbac41e510",
   "metadata": {},
   "outputs": [
    {
     "data": {
      "text/html": [
       "<div>\n",
       "<style scoped>\n",
       "    .dataframe tbody tr th:only-of-type {\n",
       "        vertical-align: middle;\n",
       "    }\n",
       "\n",
       "    .dataframe tbody tr th {\n",
       "        vertical-align: top;\n",
       "    }\n",
       "\n",
       "    .dataframe thead th {\n",
       "        text-align: right;\n",
       "    }\n",
       "</style>\n",
       "<table border=\"1\" class=\"dataframe\">\n",
       "  <thead>\n",
       "    <tr style=\"text-align: right;\">\n",
       "      <th></th>\n",
       "      <th>roc_auc</th>\n",
       "      <th>fn_cost</th>\n",
       "      <th>fp_cost</th>\n",
       "      <th>exec_time</th>\n",
       "    </tr>\n",
       "  </thead>\n",
       "  <tbody>\n",
       "    <tr>\n",
       "      <th>ML</th>\n",
       "      <td>0.784595</td>\n",
       "      <td>66660.13</td>\n",
       "      <td>11939.79</td>\n",
       "      <td>0.567240</td>\n",
       "    </tr>\n",
       "    <tr>\n",
       "      <th>ML+HITL</th>\n",
       "      <td>0.785229</td>\n",
       "      <td>55921.77</td>\n",
       "      <td>11939.79</td>\n",
       "      <td>0.577348</td>\n",
       "    </tr>\n",
       "  </tbody>\n",
       "</table>\n",
       "</div>"
      ],
      "text/plain": [
       "          roc_auc   fn_cost   fp_cost  exec_time\n",
       "ML       0.784595  66660.13  11939.79   0.567240\n",
       "ML+HITL  0.785229  55921.77  11939.79   0.577348"
      ]
     },
     "execution_count": 19,
     "metadata": {},
     "output_type": "execute_result"
    }
   ],
   "source": [
    "transaction_model_result['exec_time'] = 0.00012 * len(df_trx_exp)\n",
    "transaction_model_result.loc['ML+HITL', 'exec_time'] += addl_exec_time\n",
    "transaction_model_result"
   ]
  },
  {
   "cell_type": "code",
   "execution_count": 20,
   "id": "4a7388be-79a2-422c-868c-480ecfac38dd",
   "metadata": {},
   "outputs": [
    {
     "data": {
      "text/html": [
       "<div>\n",
       "<style scoped>\n",
       "    .dataframe tbody tr th:only-of-type {\n",
       "        vertical-align: middle;\n",
       "    }\n",
       "\n",
       "    .dataframe tbody tr th {\n",
       "        vertical-align: top;\n",
       "    }\n",
       "\n",
       "    .dataframe thead th {\n",
       "        text-align: right;\n",
       "    }\n",
       "</style>\n",
       "<table border=\"1\" class=\"dataframe\">\n",
       "  <thead>\n",
       "    <tr style=\"text-align: right;\">\n",
       "      <th></th>\n",
       "      <th>roc_auc</th>\n",
       "      <th>fn_cost</th>\n",
       "      <th>fp_cost</th>\n",
       "      <th>exec_time</th>\n",
       "      <th>exec_time_cost</th>\n",
       "      <th>total_cost</th>\n",
       "    </tr>\n",
       "  </thead>\n",
       "  <tbody>\n",
       "    <tr>\n",
       "      <th>ML</th>\n",
       "      <td>0.784595</td>\n",
       "      <td>66660.13</td>\n",
       "      <td>11939.79</td>\n",
       "      <td>0.567240</td>\n",
       "      <td>0.005672</td>\n",
       "      <td>78599.925672</td>\n",
       "    </tr>\n",
       "    <tr>\n",
       "      <th>ML+HITL</th>\n",
       "      <td>0.785229</td>\n",
       "      <td>55921.77</td>\n",
       "      <td>11939.79</td>\n",
       "      <td>0.577348</td>\n",
       "      <td>0.005773</td>\n",
       "      <td>67861.565773</td>\n",
       "    </tr>\n",
       "  </tbody>\n",
       "</table>\n",
       "</div>"
      ],
      "text/plain": [
       "          roc_auc   fn_cost   fp_cost  exec_time  exec_time_cost    total_cost\n",
       "ML       0.784595  66660.13  11939.79   0.567240        0.005672  78599.925672\n",
       "ML+HITL  0.785229  55921.77  11939.79   0.577348        0.005773  67861.565773"
      ]
     },
     "execution_count": 20,
     "metadata": {},
     "output_type": "execute_result"
    }
   ],
   "source": [
    "transaction_model_result['exec_time_cost'] = transaction_model_result['exec_time'] * 0.01\n",
    "transaction_model_result['total_cost'] = (\n",
    "    transaction_model_result['fn_cost'] +\n",
    "    transaction_model_result['fp_cost'] +\n",
    "    transaction_model_result['exec_time_cost']\n",
    ")\n",
    "transaction_model_result"
   ]
  },
  {
   "cell_type": "markdown",
   "id": "d75d2cba-1a11-48e9-8b47-a5804193a514",
   "metadata": {},
   "source": [
    "How much additional time? Answer:"
   ]
  },
  {
   "cell_type": "code",
   "execution_count": 21,
   "id": "3dbd8b48-4d8b-4af5-97c6-de5966f33418",
   "metadata": {},
   "outputs": [
    {
     "data": {
      "text/plain": [
       "0.010107755661010742"
      ]
     },
     "execution_count": 21,
     "metadata": {},
     "output_type": "execute_result"
    }
   ],
   "source": [
    "addl_exec_time"
   ]
  },
  {
   "cell_type": "markdown",
   "id": "68946f58-7e76-4782-b8eb-57c97134a2fe",
   "metadata": {},
   "source": [
    "Total cost reduction? Answer:"
   ]
  },
  {
   "cell_type": "code",
   "execution_count": 22,
   "id": "e6ff5cb1-b93a-4b61-a19a-3038914fc61f",
   "metadata": {},
   "outputs": [
    {
     "data": {
      "text/plain": [
       "-0.136620484142432"
      ]
     },
     "execution_count": 22,
     "metadata": {},
     "output_type": "execute_result"
    }
   ],
   "source": [
    "transaction_model_result.loc['ML+HITL', 'total_cost'] / transaction_model_result.loc['ML', 'total_cost'] - 1"
   ]
  },
  {
   "cell_type": "markdown",
   "id": "63dcbdc8-155a-478f-90a6-9ada12cc9d0b",
   "metadata": {},
   "source": [
    "To answer the questions:\n",
    "\n",
    "- Has the model improved significantly in fraud detection? Answer: not significantly. The ROC AUC score only increased marginally, from 78.46% to 78.52%.\n",
    "- How much additional time does the human annotation process introduce? Answer: around 0.01 seconds (for all observations that require expert reviews; see variable `addl_exec_time`).\n",
    "- Does the increase in fraud detection performance justify the additional cost of human intervention? Answer: yes. Since the additional execution time is so minuscule, the total cost is actually reduced by ~13.7% when we introduced expert reviews."
   ]
  },
  {
   "cell_type": "markdown",
   "id": "ad6960b5-b65b-4188-b1ea-f04afa57a51e",
   "metadata": {},
   "source": [
    "# Case 2\n",
    "\n",
    "Data: bank_data.csv\n",
    "\n",
    "- You are a data scientist working in the fraud detection unit of a bank.\n",
    "- Your task is to develop a robust fraud detection system using machine learning\n",
    "and incorporating features from social network analysis (SNA).\n",
    "- The bank has provided you with a synthetic dataset called BankSim, which\n",
    "simulates real-world banking transactions based on aggregated data from a bank\n",
    "in Spain.\n",
    "- You need a better approach to identify hidden fraud patterns and improve your\n",
    "model's performance. Since fraudsters often collaborate in structured ways, you\n",
    "decide to model transactions as a network where:\n",
    "    - Customers (nodes) are linked to merchants (nodes) based on\n",
    "transactions.\n",
    "    - Edges (connections) represent transactions between customers and merchants.\n",
    "    - Some transactions are labeled as fraudulent, giving insight into fraudulent behavior.\n",
    "- By analyzing these relationships, you aim to uncover hidden fraud patterns that\n",
    "traditional methods may miss."
   ]
  },
  {
   "attachments": {
    "552c0a45-d4a0-480c-8079-50af87b88b2a.png": {
     "image/png": "[encoded data removed]"
    }
   },
   "cell_type": "markdown",
   "id": "da0f3707-8eb3-4603-a109-f1fee4d0914a",
   "metadata": {},
   "source": [
    "![image.png](attachment:552c0a45-d4a0-480c-8079-50af87b88b2a.png)"
   ]
  },
  {
   "cell_type": "markdown",
   "id": "17de1dd3-3afa-4b2b-8919-4b6646d10a19",
   "metadata": {},
   "source": [
    "## 1. Type of fraud in network\n",
    "\n",
    "- Explain the kind of fraud activities that could be found on the banking transaction in the data. e.g. Account Takeover (ATO) Fraud, etc.\n",
    "- Identify common fraud patterns in network structures.\n",
    "    - Some customers have a high number of fraudulent transactions\n",
    "across multiple merchants. Find those high-risk customers by\n",
    "identifying the top three customers who are connected to the\n",
    "highest number of fraud cases.\n",
    "    - Top three merchants that are frequently connected to fraudulent\n",
    "customers (customers whose transactions are all fraud). They\n",
    "might collaborate to process fraudulent transactions, either by\n",
    "creating fake purchases or inflating transaction amounts.\n",
    "- We can find the list of customers and merchants that we could then deny\n",
    "all the transactions and add them into the blacklist. Find the list of\n",
    "customers and merchants whose transactions are all fraudulent."
   ]
  },
  {
   "cell_type": "code",
   "execution_count": 23,
   "id": "9b73ad88-7faa-4fbc-83d9-241c167af176",
   "metadata": {},
   "outputs": [
    {
     "name": "stdout",
     "output_type": "stream",
     "text": [
      "(19966, 8)\n"
     ]
    },
    {
     "data": {
      "text/html": [
       "<div>\n",
       "<style scoped>\n",
       "    .dataframe tbody tr th:only-of-type {\n",
       "        vertical-align: middle;\n",
       "    }\n",
       "\n",
       "    .dataframe tbody tr th {\n",
       "        vertical-align: top;\n",
       "    }\n",
       "\n",
       "    .dataframe thead th {\n",
       "        text-align: right;\n",
       "    }\n",
       "</style>\n",
       "<table border=\"1\" class=\"dataframe\">\n",
       "  <thead>\n",
       "    <tr style=\"text-align: right;\">\n",
       "      <th></th>\n",
       "      <th>step</th>\n",
       "      <th>customer</th>\n",
       "      <th>age</th>\n",
       "      <th>gender</th>\n",
       "      <th>merchant</th>\n",
       "      <th>category</th>\n",
       "      <th>amount</th>\n",
       "      <th>fraud</th>\n",
       "    </tr>\n",
       "  </thead>\n",
       "  <tbody>\n",
       "    <tr>\n",
       "      <th>0</th>\n",
       "      <td>86</td>\n",
       "      <td>C1372889664</td>\n",
       "      <td>5</td>\n",
       "      <td>F</td>\n",
       "      <td>M1823072687</td>\n",
       "      <td>es_transportation</td>\n",
       "      <td>3.13</td>\n",
       "      <td>0</td>\n",
       "    </tr>\n",
       "    <tr>\n",
       "      <th>1</th>\n",
       "      <td>26</td>\n",
       "      <td>C377075708</td>\n",
       "      <td>2</td>\n",
       "      <td>M</td>\n",
       "      <td>M348934600</td>\n",
       "      <td>es_transportation</td>\n",
       "      <td>27.11</td>\n",
       "      <td>0</td>\n",
       "    </tr>\n",
       "    <tr>\n",
       "      <th>2</th>\n",
       "      <td>39</td>\n",
       "      <td>C1871594117</td>\n",
       "      <td>1</td>\n",
       "      <td>M</td>\n",
       "      <td>M1823072687</td>\n",
       "      <td>es_transportation</td>\n",
       "      <td>27.32</td>\n",
       "      <td>0</td>\n",
       "    </tr>\n",
       "    <tr>\n",
       "      <th>3</th>\n",
       "      <td>176</td>\n",
       "      <td>C730142143</td>\n",
       "      <td>4</td>\n",
       "      <td>F</td>\n",
       "      <td>M348934600</td>\n",
       "      <td>es_transportation</td>\n",
       "      <td>37.87</td>\n",
       "      <td>0</td>\n",
       "    </tr>\n",
       "    <tr>\n",
       "      <th>4</th>\n",
       "      <td>155</td>\n",
       "      <td>C1385354747</td>\n",
       "      <td>4</td>\n",
       "      <td>M</td>\n",
       "      <td>M1823072687</td>\n",
       "      <td>es_transportation</td>\n",
       "      <td>32.33</td>\n",
       "      <td>0</td>\n",
       "    </tr>\n",
       "  </tbody>\n",
       "</table>\n",
       "</div>"
      ],
      "text/plain": [
       "   step     customer  age gender     merchant           category  amount  \\\n",
       "0    86  C1372889664    5      F  M1823072687  es_transportation    3.13   \n",
       "1    26   C377075708    2      M   M348934600  es_transportation   27.11   \n",
       "2    39  C1871594117    1      M  M1823072687  es_transportation   27.32   \n",
       "3   176   C730142143    4      F   M348934600  es_transportation   37.87   \n",
       "4   155  C1385354747    4      M  M1823072687  es_transportation   32.33   \n",
       "\n",
       "   fraud  \n",
       "0      0  \n",
       "1      0  \n",
       "2      0  \n",
       "3      0  \n",
       "4      0  "
      ]
     },
     "execution_count": 23,
     "metadata": {},
     "output_type": "execute_result"
    }
   ],
   "source": [
    "df_bank = pd.read_csv('./data/bank_data.csv')\n",
    "print(df_bank.shape)\n",
    "df_bank.head()"
   ]
  },
  {
   "cell_type": "markdown",
   "id": "b240bfd6-c9a6-468e-a0cc-0b7a131d4432",
   "metadata": {},
   "source": [
    "### Common fraud activities in banking transaction\n",
    "\n",
    "Below are some fraud activities that are common in banking transactions:\n",
    "\n",
    "- Account takeover (ATO): the attacker gains access to the victim's bank account and do the transactions there. One way the attacker can gain such access is by social engineering, or gaining the access credentials from data breaches.\n",
    "- Identity theft: the attacker impersonates the victim's identity to make transactions, such as applying for credit, file taxes, or get medical services. The attacker may be able to do this if they gain access to private information like social security number. These acts may damage the victim's credit score and reputation.\n",
    "- First-party fraud: this fraud occurs when someone make expensive purchase and then falsely dispute the purchase as fraudulent. In this attack, the victim is the financial institution, not another person.\n",
    "- Online account opening fraud: this fraud occurs when someone opens up new accounts by using stolen or fabricated information. The attacker may then use these accounts to make fraudulent transactions."
   ]
  },
  {
   "cell_type": "markdown",
   "id": "eef6f16e-3210-442c-bec8-415615215e37",
   "metadata": {},
   "source": [
    "### High-risk customers\n",
    "\n",
    "Below are the top three customers that have highest number of fraud cases:"
   ]
  },
  {
   "cell_type": "code",
   "execution_count": 24,
   "id": "2dc944a9-ae30-4003-86d3-26d8ae6abd26",
   "metadata": {},
   "outputs": [
    {
     "data": {
      "text/plain": [
       "customer\n",
       "C245117318     6\n",
       "C1275518867    6\n",
       "C1350963410    8\n",
       "Name: fraud, dtype: int64"
      ]
     },
     "execution_count": 24,
     "metadata": {},
     "output_type": "execute_result"
    }
   ],
   "source": [
    "df_bank.groupby('customer')['fraud'].sum().sort_values().tail(3)"
   ]
  },
  {
   "cell_type": "markdown",
   "id": "a7254d96-fd75-4954-bf69-91a1f3c9e7a2",
   "metadata": {},
   "source": [
    "### High-risk merchants\n",
    "\n",
    "Below are top three merchants that have highest number of fraud cases:"
   ]
  },
  {
   "cell_type": "code",
   "execution_count": 25,
   "id": "bfe9237f-cdad-4e0c-bbe0-f91589fdb685",
   "metadata": {},
   "outputs": [
    {
     "data": {
      "text/plain": [
       "merchant\n",
       "M732195782    20\n",
       "M980657600    48\n",
       "M480139044    49\n",
       "Name: fraud, dtype: int64"
      ]
     },
     "execution_count": 25,
     "metadata": {},
     "output_type": "execute_result"
    }
   ],
   "source": [
    "df_bank.groupby('merchant')['fraud'].sum().sort_values().tail(3)"
   ]
  },
  {
   "cell_type": "markdown",
   "id": "ee0a3ff8-1779-4586-9067-a61ffeceb019",
   "metadata": {},
   "source": [
    "### Customers and merchants with all fraudulent transactions\n",
    "\n",
    "Let's first calculate the probability of fraud for each merchant & customer:"
   ]
  },
  {
   "cell_type": "code",
   "execution_count": 26,
   "id": "2d411ddf-9d3e-4b4f-bd55-5999347bd496",
   "metadata": {
    "scrolled": true
   },
   "outputs": [],
   "source": [
    "merchant_fraud_probs = df_bank.groupby('merchant')['fraud'].mean()\n",
    "cust_fraud_probs = df_bank.groupby('customer')['fraud'].mean()"
   ]
  },
  {
   "cell_type": "markdown",
   "id": "fe461414-a011-4845-a234-dbc6a917e575",
   "metadata": {},
   "source": [
    "Below are all merchants with only fraudulent transactions:"
   ]
  },
  {
   "cell_type": "code",
   "execution_count": 27,
   "id": "024fba4a-46e8-4e5a-8248-4ea93f219301",
   "metadata": {},
   "outputs": [
    {
     "data": {
      "text/plain": [
       "merchant\n",
       "M1294758098    1.0\n",
       "M1353266412    1.0\n",
       "M1873032707    1.0\n",
       "M3697346       1.0\n",
       "M732195782     1.0\n",
       "Name: fraud, dtype: float64"
      ]
     },
     "execution_count": 27,
     "metadata": {},
     "output_type": "execute_result"
    }
   ],
   "source": [
    "merchant_fraud_probs[merchant_fraud_probs == 1]"
   ]
  },
  {
   "cell_type": "markdown",
   "id": "2a039d95-82de-418b-a188-bfac42b985a8",
   "metadata": {},
   "source": [
    "Notice that merchant \"M732195782\" also appeared in the previous answer."
   ]
  },
  {
   "cell_type": "markdown",
   "id": "69aab077-8d54-4d33-905e-76072eb2b3b4",
   "metadata": {},
   "source": [
    "Below are all customers with only fraudulent transactions:"
   ]
  },
  {
   "cell_type": "code",
   "execution_count": 28,
   "id": "59c9e107-e63f-4947-96c5-a01c680b00b2",
   "metadata": {
    "scrolled": true
   },
   "outputs": [
    {
     "data": {
      "text/plain": [
       "customer\n",
       "C1233811793    1.0\n",
       "C1289997724    1.0\n",
       "C1338125837    1.0\n",
       "C1501096176    1.0\n",
       "C150891114     1.0\n",
       "C1560904250    1.0\n",
       "C1562081159    1.0\n",
       "C1572610482    1.0\n",
       "C1685492470    1.0\n",
       "C1728122351    1.0\n",
       "C1747786179    1.0\n",
       "C1803182614    1.0\n",
       "C1817318774    1.0\n",
       "C1903013338    1.0\n",
       "C1947400039    1.0\n",
       "C2004941826    1.0\n",
       "C204205576     1.0\n",
       "C2060410910    1.0\n",
       "C2078688167    1.0\n",
       "C2105324799    1.0\n",
       "C2113737065    1.0\n",
       "C211657450     1.0\n",
       "C2126657609    1.0\n",
       "C2138532527    1.0\n",
       "C431496464     1.0\n",
       "C483912131     1.0\n",
       "C60324613      1.0\n",
       "C617723960     1.0\n",
       "C644541754     1.0\n",
       "C706956926     1.0\n",
       "C751887992     1.0\n",
       "C903333805     1.0\n",
       "C910454738     1.0\n",
       "C932908444     1.0\n",
       "Name: fraud, dtype: float64"
      ]
     },
     "execution_count": 28,
     "metadata": {},
     "output_type": "execute_result"
    }
   ],
   "source": [
    "cust_fraud_probs[cust_fraud_probs == 1]"
   ]
  },
  {
   "attachments": {
    "27d3f505-d027-4789-b4b0-52e0d9dd6540.png": {
     "image/png": "[encoded data removed]"
    },
    "a59c4700-eb77-43f8-9f4b-7f81cf93834f.png": {
     "image/png": "[encoded data removed]"
    },
    "b1d2bdc6-8c58-4002-b2b0-a275a78c87a2.png": {
     "image/png": "[encoded data removed]"
    }
   },
   "cell_type": "markdown",
   "id": "01b35e07-a512-4af2-b426-829360e81884",
   "metadata": {},
   "source": [
    "## 2. Network based features\n",
    "\n",
    "- Compute network-based features for each customer and\n",
    "merchant:\n",
    "    - Degree Centrality: Number of direct connections to a node (merchant or customer). For example, the degree centrality of customer C is 3, where the customer is connected to 3 merchants. The degree centrality of merchant A is 2, where the merchant is connected to 2 customers.\n",
    "\n",
    "      ![image.png](attachment:27d3f505-d027-4789-b4b0-52e0d9dd6540.png)\n",
    "\n",
    "    - Fraud Proximity Score: Fraction of fraud cases among customer and merchant. Example: Customer C involved in 1 fraud cases over 3 transactions, so the proximity score is ⅓=0.333.\n",
    " \n",
    "      ![image.png](attachment:b1d2bdc6-8c58-4002-b2b0-a275a78c87a2.png)\n",
    " \n",
    "    - Average Transaction Value: Average monetary value of transactions in customer and merchant. Example:\n",
    " \n",
    "      ![image.png](attachment:a59c4700-eb77-43f8-9f4b-7f81cf93834f.png)\n",
    " \n",
    "- Store these six features for model training."
   ]
  },
  {
   "cell_type": "markdown",
   "id": "e255d5f7-8e8a-4295-a428-f63df24248fc",
   "metadata": {},
   "source": [
    "### 2.1 Degree centrality"
   ]
  },
  {
   "cell_type": "markdown",
   "id": "440d4af6-7e2a-4ff5-ae7b-e374dbbb456c",
   "metadata": {},
   "source": [
    "Below I will use `.transform` operation to project back the groupby calculations to the original data."
   ]
  },
  {
   "cell_type": "code",
   "execution_count": 29,
   "id": "ada1a62a-f7e1-489f-ba36-b87b8966a88f",
   "metadata": {},
   "outputs": [],
   "source": [
    "customer_degree_centrality = df_bank.groupby('customer')['customer'].transform('nunique')"
   ]
  },
  {
   "cell_type": "code",
   "execution_count": 30,
   "id": "cbe28f92-21a6-4757-a2a0-2f59b948d9f9",
   "metadata": {},
   "outputs": [],
   "source": [
    "merchant_degree_centrality = df_bank.groupby('merchant')['merchant'].transform('nunique')"
   ]
  },
  {
   "cell_type": "markdown",
   "id": "d515b00f-e9d0-46b2-b55f-2648ab4e19f3",
   "metadata": {},
   "source": [
    "Let's see the data:"
   ]
  },
  {
   "cell_type": "code",
   "execution_count": 31,
   "id": "b6e7ab19-ac1d-437f-ab33-4fb5c8ceb274",
   "metadata": {},
   "outputs": [
    {
     "data": {
      "text/plain": [
       "0        1\n",
       "1        1\n",
       "2        1\n",
       "3        1\n",
       "4        1\n",
       "        ..\n",
       "19961    1\n",
       "19962    1\n",
       "19963    1\n",
       "19964    1\n",
       "19965    1\n",
       "Name: customer, Length: 19966, dtype: int64"
      ]
     },
     "execution_count": 31,
     "metadata": {},
     "output_type": "execute_result"
    }
   ],
   "source": [
    "customer_degree_centrality"
   ]
  },
  {
   "cell_type": "code",
   "execution_count": 32,
   "id": "326f722b-fc69-4b57-806a-0b68d06f39e7",
   "metadata": {},
   "outputs": [
    {
     "data": {
      "text/plain": [
       "0        1\n",
       "1        1\n",
       "2        1\n",
       "3        1\n",
       "4        1\n",
       "        ..\n",
       "19961    1\n",
       "19962    1\n",
       "19963    1\n",
       "19964    1\n",
       "19965    1\n",
       "Name: merchant, Length: 19966, dtype: int64"
      ]
     },
     "execution_count": 32,
     "metadata": {},
     "output_type": "execute_result"
    }
   ],
   "source": [
    "merchant_degree_centrality"
   ]
  },
  {
   "cell_type": "markdown",
   "id": "59275b27-31de-4316-8708-914008a59a3e",
   "metadata": {},
   "source": [
    "As you can see, the series' length is equal to the original dataframe."
   ]
  },
  {
   "cell_type": "markdown",
   "id": "c48d7212-293a-4624-aa4b-6ec5bce090e0",
   "metadata": {},
   "source": [
    "### 2.1 Fraud proximity score"
   ]
  },
  {
   "cell_type": "code",
   "execution_count": 33,
   "id": "0dc7ebee-755e-411d-9c56-66efc671bc32",
   "metadata": {},
   "outputs": [],
   "source": [
    "merchant_fraud_score = df_bank.groupby('merchant')['fraud'].mean()\n",
    "cust_fraud_score = df_bank.groupby('customer')['fraud'].mean()"
   ]
  },
  {
   "cell_type": "markdown",
   "id": "32b0a989-d2b7-4788-b5de-64013800318c",
   "metadata": {},
   "source": [
    "### 2.2 Avg trx amt"
   ]
  },
  {
   "cell_type": "code",
   "execution_count": 34,
   "id": "a6c843ea-dd49-42a0-8c0e-3a25d19bb5e1",
   "metadata": {},
   "outputs": [],
   "source": [
    "merchant_avg_amt = df_bank.groupby('merchant')['amount'].transform('mean')\n",
    "cust_avg_amt = df_bank.groupby('customer')['amount'].transform('mean')"
   ]
  },
  {
   "cell_type": "markdown",
   "id": "2ef77e23-1581-4ef8-970a-aa78830b897f",
   "metadata": {},
   "source": [
    "## 3. Build model\n",
    "\n",
    "\n",
    "- Train a fraud detection model using traditional features (e.g., transaction\n",
    "details) and network-based features.\n",
    "- Use logistic regression and decision tree to build the model\n",
    "- Optimize hyperparameters (e.g., decision tree depth, regularization in\n",
    "logistic regression).\n",
    "- Choose the best model and evaluate model performance using\n",
    "ROC-AUC."
   ]
  },
  {
   "cell_type": "markdown",
   "id": "e8189064-0756-4d2b-995f-0ee519bfb8b1",
   "metadata": {},
   "source": [
    "### Data preparation"
   ]
  },
  {
   "cell_type": "code",
   "execution_count": 35,
   "id": "d0fa83ad-ad91-423f-b57f-fe24f113bbd5",
   "metadata": {},
   "outputs": [],
   "source": [
    "from sklearn.preprocessing import OneHotEncoder\n",
    "from sklearn.linear_model import LogisticRegression\n",
    "from sklearn.tree import DecisionTreeClassifier\n",
    "from sklearn.preprocessing import StandardScaler\n",
    "\n",
    "def fit_ohe(df: pd.DataFrame, cat_cols: list[str]) -> OneHotEncoder:\n",
    "    '''\n",
    "    Fit one-hot encoder for the categorical columns\n",
    "\n",
    "    Parameters\n",
    "    ----------\n",
    "    df: pd.DataFrame\n",
    "    cat_cols: list of str\n",
    "        Name of categorical columns\n",
    "\n",
    "    Returns\n",
    "    -------\n",
    "    OneHotEncoder object\n",
    "    '''\n",
    "    ohe = OneHotEncoder(drop='if_binary', handle_unknown='ignore', sparse_output=False)\n",
    "    ohe.fit(df[cat_cols])\n",
    "    return ohe\n",
    "\n",
    "def transform_ohe(df: pd.DataFrame, ohe: OneHotEncoder) -> pd.DataFrame:\n",
    "    '''\n",
    "    Transform the categorical columns using one-hot encoder\n",
    "\n",
    "    Parameters\n",
    "    ----------\n",
    "    df: pd.DataFrame\n",
    "    ohe: fitted OneHotEncoder object\n",
    "\n",
    "    Returns\n",
    "    -------\n",
    "    pd.DataFrame\n",
    "    '''\n",
    "    cat_cols = ohe.feature_names_in_\n",
    "    df = df.copy()\n",
    "    df_ohe = pd.DataFrame(\n",
    "        ohe.transform(df[cat_cols]),\n",
    "        index=df.index,\n",
    "        columns=ohe.get_feature_names_out()\n",
    "    )\n",
    "    df = pd.concat([df, df_ohe], axis=1)\n",
    "    df = df.drop(cat_cols, axis=1)\n",
    "    return df\n",
    "def fit_scaler(df: pd.DataFrame) -> StandardScaler:\n",
    "    '''\n",
    "    Fit a standard scaler on all columns\n",
    "\n",
    "    Parameters\n",
    "    ----------\n",
    "    df: pd.DataFrame\n",
    "\n",
    "    Returns\n",
    "    -------\n",
    "    StandardScaler object\n",
    "    '''\n",
    "    scaler = StandardScaler()\n",
    "    scaler.fit(df)\n",
    "    return scaler\n",
    "\n",
    "def transform_scaler(df: pd.DataFrame, scaler: StandardScaler) -> pd.DataFrame:\n",
    "    '''\n",
    "    Transform data using a standard scaler\n",
    "\n",
    "    Parameters\n",
    "    ----------\n",
    "    df: pd.DataFrame\n",
    "    scaler: fitted StandardScaler object\n",
    "\n",
    "    Returns\n",
    "    -------\n",
    "    pd.DataFrame\n",
    "    '''\n",
    "    return pd.DataFrame(\n",
    "        scaler.transform(df),\n",
    "        index=df.index,\n",
    "        columns=df.columns\n",
    "    )\n"
   ]
  },
  {
   "cell_type": "code",
   "execution_count": 36,
   "id": "5e0dc222-7837-4f30-b814-c0355d60702f",
   "metadata": {},
   "outputs": [
    {
     "data": {
      "text/html": [
       "<div>\n",
       "<style scoped>\n",
       "    .dataframe tbody tr th:only-of-type {\n",
       "        vertical-align: middle;\n",
       "    }\n",
       "\n",
       "    .dataframe tbody tr th {\n",
       "        vertical-align: top;\n",
       "    }\n",
       "\n",
       "    .dataframe thead th {\n",
       "        text-align: right;\n",
       "    }\n",
       "</style>\n",
       "<table border=\"1\" class=\"dataframe\">\n",
       "  <thead>\n",
       "    <tr style=\"text-align: right;\">\n",
       "      <th></th>\n",
       "      <th>step</th>\n",
       "      <th>age</th>\n",
       "      <th>amount</th>\n",
       "      <th>gender_F</th>\n",
       "      <th>gender_M</th>\n",
       "      <th>gender_U</th>\n",
       "      <th>category_es_barsandrestaurants</th>\n",
       "      <th>category_es_contents</th>\n",
       "      <th>category_es_fashion</th>\n",
       "      <th>category_es_food</th>\n",
       "      <th>...</th>\n",
       "      <th>category_es_home</th>\n",
       "      <th>category_es_hotelservices</th>\n",
       "      <th>category_es_hyper</th>\n",
       "      <th>category_es_leisure</th>\n",
       "      <th>category_es_otherservices</th>\n",
       "      <th>category_es_sportsandtoys</th>\n",
       "      <th>category_es_tech</th>\n",
       "      <th>category_es_transportation</th>\n",
       "      <th>category_es_travel</th>\n",
       "      <th>category_es_wellnessandbeauty</th>\n",
       "    </tr>\n",
       "  </thead>\n",
       "  <tbody>\n",
       "    <tr>\n",
       "      <th>0</th>\n",
       "      <td>-0.179586</td>\n",
       "      <td>1.509244</td>\n",
       "      <td>-0.347870</td>\n",
       "      <td>0.906210</td>\n",
       "      <td>-0.905111</td>\n",
       "      <td>-0.024523</td>\n",
       "      <td>-0.107953</td>\n",
       "      <td>-0.042501</td>\n",
       "      <td>-0.105796</td>\n",
       "      <td>-0.210479</td>\n",
       "      <td>...</td>\n",
       "      <td>-0.060577</td>\n",
       "      <td>-0.053976</td>\n",
       "      <td>-0.102603</td>\n",
       "      <td>-0.02832</td>\n",
       "      <td>-0.038792</td>\n",
       "      <td>-0.082815</td>\n",
       "      <td>-0.060993</td>\n",
       "      <td>0.416621</td>\n",
       "      <td>-0.033213</td>\n",
       "      <td>-0.157618</td>\n",
       "    </tr>\n",
       "    <tr>\n",
       "      <th>1</th>\n",
       "      <td>-1.356202</td>\n",
       "      <td>-0.757006</td>\n",
       "      <td>-0.105115</td>\n",
       "      <td>-1.103497</td>\n",
       "      <td>1.104837</td>\n",
       "      <td>-0.024523</td>\n",
       "      <td>-0.107953</td>\n",
       "      <td>-0.042501</td>\n",
       "      <td>-0.105796</td>\n",
       "      <td>-0.210479</td>\n",
       "      <td>...</td>\n",
       "      <td>-0.060577</td>\n",
       "      <td>-0.053976</td>\n",
       "      <td>-0.102603</td>\n",
       "      <td>-0.02832</td>\n",
       "      <td>-0.038792</td>\n",
       "      <td>-0.082815</td>\n",
       "      <td>-0.060993</td>\n",
       "      <td>0.416621</td>\n",
       "      <td>-0.033213</td>\n",
       "      <td>-0.157618</td>\n",
       "    </tr>\n",
       "    <tr>\n",
       "      <th>2</th>\n",
       "      <td>-1.101268</td>\n",
       "      <td>-1.512422</td>\n",
       "      <td>-0.102989</td>\n",
       "      <td>-1.103497</td>\n",
       "      <td>1.104837</td>\n",
       "      <td>-0.024523</td>\n",
       "      <td>-0.107953</td>\n",
       "      <td>-0.042501</td>\n",
       "      <td>-0.105796</td>\n",
       "      <td>-0.210479</td>\n",
       "      <td>...</td>\n",
       "      <td>-0.060577</td>\n",
       "      <td>-0.053976</td>\n",
       "      <td>-0.102603</td>\n",
       "      <td>-0.02832</td>\n",
       "      <td>-0.038792</td>\n",
       "      <td>-0.082815</td>\n",
       "      <td>-0.060993</td>\n",
       "      <td>0.416621</td>\n",
       "      <td>-0.033213</td>\n",
       "      <td>-0.157618</td>\n",
       "    </tr>\n",
       "    <tr>\n",
       "      <th>3</th>\n",
       "      <td>1.585337</td>\n",
       "      <td>0.753828</td>\n",
       "      <td>0.003811</td>\n",
       "      <td>0.906210</td>\n",
       "      <td>-0.905111</td>\n",
       "      <td>-0.024523</td>\n",
       "      <td>-0.107953</td>\n",
       "      <td>-0.042501</td>\n",
       "      <td>-0.105796</td>\n",
       "      <td>-0.210479</td>\n",
       "      <td>...</td>\n",
       "      <td>-0.060577</td>\n",
       "      <td>-0.053976</td>\n",
       "      <td>-0.102603</td>\n",
       "      <td>-0.02832</td>\n",
       "      <td>-0.038792</td>\n",
       "      <td>-0.082815</td>\n",
       "      <td>-0.060993</td>\n",
       "      <td>0.416621</td>\n",
       "      <td>-0.033213</td>\n",
       "      <td>-0.157618</td>\n",
       "    </tr>\n",
       "    <tr>\n",
       "      <th>4</th>\n",
       "      <td>1.173522</td>\n",
       "      <td>0.753828</td>\n",
       "      <td>-0.052272</td>\n",
       "      <td>-1.103497</td>\n",
       "      <td>1.104837</td>\n",
       "      <td>-0.024523</td>\n",
       "      <td>-0.107953</td>\n",
       "      <td>-0.042501</td>\n",
       "      <td>-0.105796</td>\n",
       "      <td>-0.210479</td>\n",
       "      <td>...</td>\n",
       "      <td>-0.060577</td>\n",
       "      <td>-0.053976</td>\n",
       "      <td>-0.102603</td>\n",
       "      <td>-0.02832</td>\n",
       "      <td>-0.038792</td>\n",
       "      <td>-0.082815</td>\n",
       "      <td>-0.060993</td>\n",
       "      <td>0.416621</td>\n",
       "      <td>-0.033213</td>\n",
       "      <td>-0.157618</td>\n",
       "    </tr>\n",
       "  </tbody>\n",
       "</table>\n",
       "<p>5 rows × 21 columns</p>\n",
       "</div>"
      ],
      "text/plain": [
       "       step       age    amount  gender_F  gender_M  gender_U  \\\n",
       "0 -0.179586  1.509244 -0.347870  0.906210 -0.905111 -0.024523   \n",
       "1 -1.356202 -0.757006 -0.105115 -1.103497  1.104837 -0.024523   \n",
       "2 -1.101268 -1.512422 -0.102989 -1.103497  1.104837 -0.024523   \n",
       "3  1.585337  0.753828  0.003811  0.906210 -0.905111 -0.024523   \n",
       "4  1.173522  0.753828 -0.052272 -1.103497  1.104837 -0.024523   \n",
       "\n",
       "   category_es_barsandrestaurants  category_es_contents  category_es_fashion  \\\n",
       "0                       -0.107953             -0.042501            -0.105796   \n",
       "1                       -0.107953             -0.042501            -0.105796   \n",
       "2                       -0.107953             -0.042501            -0.105796   \n",
       "3                       -0.107953             -0.042501            -0.105796   \n",
       "4                       -0.107953             -0.042501            -0.105796   \n",
       "\n",
       "   category_es_food  ...  category_es_home  category_es_hotelservices  \\\n",
       "0         -0.210479  ...         -0.060577                  -0.053976   \n",
       "1         -0.210479  ...         -0.060577                  -0.053976   \n",
       "2         -0.210479  ...         -0.060577                  -0.053976   \n",
       "3         -0.210479  ...         -0.060577                  -0.053976   \n",
       "4         -0.210479  ...         -0.060577                  -0.053976   \n",
       "\n",
       "   category_es_hyper  category_es_leisure  category_es_otherservices  \\\n",
       "0          -0.102603             -0.02832                  -0.038792   \n",
       "1          -0.102603             -0.02832                  -0.038792   \n",
       "2          -0.102603             -0.02832                  -0.038792   \n",
       "3          -0.102603             -0.02832                  -0.038792   \n",
       "4          -0.102603             -0.02832                  -0.038792   \n",
       "\n",
       "   category_es_sportsandtoys  category_es_tech  category_es_transportation  \\\n",
       "0                  -0.082815         -0.060993                    0.416621   \n",
       "1                  -0.082815         -0.060993                    0.416621   \n",
       "2                  -0.082815         -0.060993                    0.416621   \n",
       "3                  -0.082815         -0.060993                    0.416621   \n",
       "4                  -0.082815         -0.060993                    0.416621   \n",
       "\n",
       "   category_es_travel  category_es_wellnessandbeauty  \n",
       "0           -0.033213                      -0.157618  \n",
       "1           -0.033213                      -0.157618  \n",
       "2           -0.033213                      -0.157618  \n",
       "3           -0.033213                      -0.157618  \n",
       "4           -0.033213                      -0.157618  \n",
       "\n",
       "[5 rows x 21 columns]"
      ]
     },
     "execution_count": 36,
     "metadata": {},
     "output_type": "execute_result"
    }
   ],
   "source": [
    "X_bank = df_bank.drop(['fraud', 'customer', 'merchant'], axis=1)\n",
    "y_bank = df_bank['fraud']\n",
    "\n",
    "bank_ohe = fit_ohe(X_bank, cat_cols=['gender', 'category'])\n",
    "X_bank_ohe = transform_ohe(\n",
    "    X_bank,\n",
    "    bank_ohe\n",
    ")\n",
    "bank_scaler = fit_scaler(X_bank_ohe)\n",
    "X_bank_clean = transform_scaler(X_bank_ohe, bank_scaler)\n",
    "X_bank_clean.head()"
   ]
  },
  {
   "cell_type": "markdown",
   "id": "e26a5832-6981-4a99-8c9d-1c87a5450c95",
   "metadata": {},
   "source": [
    "Below I'll prepare data containing network-based data.\n",
    "\n",
    "**Note**: I will not include fraud proximity score, because doing it will pollute the data with the y-variable. (The model becomes invalid.)"
   ]
  },
  {
   "cell_type": "code",
   "execution_count": 37,
   "id": "d9fefcbc-a102-4220-9085-b816f9cdc3c5",
   "metadata": {},
   "outputs": [
    {
     "data": {
      "text/html": [
       "<div>\n",
       "<style scoped>\n",
       "    .dataframe tbody tr th:only-of-type {\n",
       "        vertical-align: middle;\n",
       "    }\n",
       "\n",
       "    .dataframe tbody tr th {\n",
       "        vertical-align: top;\n",
       "    }\n",
       "\n",
       "    .dataframe thead th {\n",
       "        text-align: right;\n",
       "    }\n",
       "</style>\n",
       "<table border=\"1\" class=\"dataframe\">\n",
       "  <thead>\n",
       "    <tr style=\"text-align: right;\">\n",
       "      <th></th>\n",
       "      <th>step</th>\n",
       "      <th>age</th>\n",
       "      <th>amount</th>\n",
       "      <th>gender_F</th>\n",
       "      <th>gender_M</th>\n",
       "      <th>gender_U</th>\n",
       "      <th>category_es_barsandrestaurants</th>\n",
       "      <th>category_es_contents</th>\n",
       "      <th>category_es_fashion</th>\n",
       "      <th>category_es_food</th>\n",
       "      <th>...</th>\n",
       "      <th>category_es_otherservices</th>\n",
       "      <th>category_es_sportsandtoys</th>\n",
       "      <th>category_es_tech</th>\n",
       "      <th>category_es_transportation</th>\n",
       "      <th>category_es_travel</th>\n",
       "      <th>category_es_wellnessandbeauty</th>\n",
       "      <th>customer_degree_centrality</th>\n",
       "      <th>merchant_degree_centrality</th>\n",
       "      <th>merchant_avg_amt</th>\n",
       "      <th>cust_avg_amt</th>\n",
       "    </tr>\n",
       "  </thead>\n",
       "  <tbody>\n",
       "    <tr>\n",
       "      <th>0</th>\n",
       "      <td>-0.179586</td>\n",
       "      <td>1.509244</td>\n",
       "      <td>-0.347870</td>\n",
       "      <td>0.906210</td>\n",
       "      <td>-0.905111</td>\n",
       "      <td>-0.024523</td>\n",
       "      <td>-0.107953</td>\n",
       "      <td>-0.042501</td>\n",
       "      <td>-0.105796</td>\n",
       "      <td>-0.210479</td>\n",
       "      <td>...</td>\n",
       "      <td>-0.038792</td>\n",
       "      <td>-0.082815</td>\n",
       "      <td>-0.060993</td>\n",
       "      <td>0.416621</td>\n",
       "      <td>-0.033213</td>\n",
       "      <td>-0.157618</td>\n",
       "      <td>1</td>\n",
       "      <td>1</td>\n",
       "      <td>27.124874</td>\n",
       "      <td>11.713333</td>\n",
       "    </tr>\n",
       "    <tr>\n",
       "      <th>1</th>\n",
       "      <td>-1.356202</td>\n",
       "      <td>-0.757006</td>\n",
       "      <td>-0.105115</td>\n",
       "      <td>-1.103497</td>\n",
       "      <td>1.104837</td>\n",
       "      <td>-0.024523</td>\n",
       "      <td>-0.107953</td>\n",
       "      <td>-0.042501</td>\n",
       "      <td>-0.105796</td>\n",
       "      <td>-0.210479</td>\n",
       "      <td>...</td>\n",
       "      <td>-0.038792</td>\n",
       "      <td>-0.082815</td>\n",
       "      <td>-0.060993</td>\n",
       "      <td>0.416621</td>\n",
       "      <td>-0.033213</td>\n",
       "      <td>-0.157618</td>\n",
       "      <td>1</td>\n",
       "      <td>1</td>\n",
       "      <td>26.723216</td>\n",
       "      <td>41.082857</td>\n",
       "    </tr>\n",
       "    <tr>\n",
       "      <th>2</th>\n",
       "      <td>-1.101268</td>\n",
       "      <td>-1.512422</td>\n",
       "      <td>-0.102989</td>\n",
       "      <td>-1.103497</td>\n",
       "      <td>1.104837</td>\n",
       "      <td>-0.024523</td>\n",
       "      <td>-0.107953</td>\n",
       "      <td>-0.042501</td>\n",
       "      <td>-0.105796</td>\n",
       "      <td>-0.210479</td>\n",
       "      <td>...</td>\n",
       "      <td>-0.038792</td>\n",
       "      <td>-0.082815</td>\n",
       "      <td>-0.060993</td>\n",
       "      <td>0.416621</td>\n",
       "      <td>-0.033213</td>\n",
       "      <td>-0.157618</td>\n",
       "      <td>1</td>\n",
       "      <td>1</td>\n",
       "      <td>27.124874</td>\n",
       "      <td>24.384000</td>\n",
       "    </tr>\n",
       "    <tr>\n",
       "      <th>3</th>\n",
       "      <td>1.585337</td>\n",
       "      <td>0.753828</td>\n",
       "      <td>0.003811</td>\n",
       "      <td>0.906210</td>\n",
       "      <td>-0.905111</td>\n",
       "      <td>-0.024523</td>\n",
       "      <td>-0.107953</td>\n",
       "      <td>-0.042501</td>\n",
       "      <td>-0.105796</td>\n",
       "      <td>-0.210479</td>\n",
       "      <td>...</td>\n",
       "      <td>-0.038792</td>\n",
       "      <td>-0.082815</td>\n",
       "      <td>-0.060993</td>\n",
       "      <td>0.416621</td>\n",
       "      <td>-0.033213</td>\n",
       "      <td>-0.157618</td>\n",
       "      <td>1</td>\n",
       "      <td>1</td>\n",
       "      <td>26.723216</td>\n",
       "      <td>36.246000</td>\n",
       "    </tr>\n",
       "    <tr>\n",
       "      <th>4</th>\n",
       "      <td>1.173522</td>\n",
       "      <td>0.753828</td>\n",
       "      <td>-0.052272</td>\n",
       "      <td>-1.103497</td>\n",
       "      <td>1.104837</td>\n",
       "      <td>-0.024523</td>\n",
       "      <td>-0.107953</td>\n",
       "      <td>-0.042501</td>\n",
       "      <td>-0.105796</td>\n",
       "      <td>-0.210479</td>\n",
       "      <td>...</td>\n",
       "      <td>-0.038792</td>\n",
       "      <td>-0.082815</td>\n",
       "      <td>-0.060993</td>\n",
       "      <td>0.416621</td>\n",
       "      <td>-0.033213</td>\n",
       "      <td>-0.157618</td>\n",
       "      <td>1</td>\n",
       "      <td>1</td>\n",
       "      <td>27.124874</td>\n",
       "      <td>24.160000</td>\n",
       "    </tr>\n",
       "  </tbody>\n",
       "</table>\n",
       "<p>5 rows × 25 columns</p>\n",
       "</div>"
      ],
      "text/plain": [
       "       step       age    amount  gender_F  gender_M  gender_U  \\\n",
       "0 -0.179586  1.509244 -0.347870  0.906210 -0.905111 -0.024523   \n",
       "1 -1.356202 -0.757006 -0.105115 -1.103497  1.104837 -0.024523   \n",
       "2 -1.101268 -1.512422 -0.102989 -1.103497  1.104837 -0.024523   \n",
       "3  1.585337  0.753828  0.003811  0.906210 -0.905111 -0.024523   \n",
       "4  1.173522  0.753828 -0.052272 -1.103497  1.104837 -0.024523   \n",
       "\n",
       "   category_es_barsandrestaurants  category_es_contents  category_es_fashion  \\\n",
       "0                       -0.107953             -0.042501            -0.105796   \n",
       "1                       -0.107953             -0.042501            -0.105796   \n",
       "2                       -0.107953             -0.042501            -0.105796   \n",
       "3                       -0.107953             -0.042501            -0.105796   \n",
       "4                       -0.107953             -0.042501            -0.105796   \n",
       "\n",
       "   category_es_food  ...  category_es_otherservices  \\\n",
       "0         -0.210479  ...                  -0.038792   \n",
       "1         -0.210479  ...                  -0.038792   \n",
       "2         -0.210479  ...                  -0.038792   \n",
       "3         -0.210479  ...                  -0.038792   \n",
       "4         -0.210479  ...                  -0.038792   \n",
       "\n",
       "   category_es_sportsandtoys  category_es_tech  category_es_transportation  \\\n",
       "0                  -0.082815         -0.060993                    0.416621   \n",
       "1                  -0.082815         -0.060993                    0.416621   \n",
       "2                  -0.082815         -0.060993                    0.416621   \n",
       "3                  -0.082815         -0.060993                    0.416621   \n",
       "4                  -0.082815         -0.060993                    0.416621   \n",
       "\n",
       "   category_es_travel  category_es_wellnessandbeauty  \\\n",
       "0           -0.033213                      -0.157618   \n",
       "1           -0.033213                      -0.157618   \n",
       "2           -0.033213                      -0.157618   \n",
       "3           -0.033213                      -0.157618   \n",
       "4           -0.033213                      -0.157618   \n",
       "\n",
       "   customer_degree_centrality  merchant_degree_centrality  merchant_avg_amt  \\\n",
       "0                           1                           1         27.124874   \n",
       "1                           1                           1         26.723216   \n",
       "2                           1                           1         27.124874   \n",
       "3                           1                           1         26.723216   \n",
       "4                           1                           1         27.124874   \n",
       "\n",
       "   cust_avg_amt  \n",
       "0     11.713333  \n",
       "1     41.082857  \n",
       "2     24.384000  \n",
       "3     36.246000  \n",
       "4     24.160000  \n",
       "\n",
       "[5 rows x 25 columns]"
      ]
     },
     "execution_count": 37,
     "metadata": {},
     "output_type": "execute_result"
    }
   ],
   "source": [
    "X_bank_network = X_bank_clean.copy()\n",
    "X_bank_network['customer_degree_centrality'] = customer_degree_centrality\n",
    "X_bank_network['merchant_degree_centrality'] = merchant_degree_centrality\n",
    "X_bank_network['merchant_avg_amt'] = merchant_avg_amt\n",
    "X_bank_network['cust_avg_amt'] = cust_avg_amt\n",
    "X_bank_network.head()"
   ]
  },
  {
   "cell_type": "markdown",
   "id": "f5039211-bda4-4552-b862-42f3e85960d4",
   "metadata": {},
   "source": [
    "### Splitting the data"
   ]
  },
  {
   "cell_type": "code",
   "execution_count": 38,
   "id": "0c387f28-799e-4495-83a2-78d4be8ff298",
   "metadata": {},
   "outputs": [],
   "source": [
    "from sklearn.model_selection import train_test_split\n",
    "\n",
    "X_bank_train, X_bank_test, y_bank_train, y_bank_test = train_test_split(X_bank_clean, y_bank, test_size=0.4, random_state=12)"
   ]
  },
  {
   "cell_type": "code",
   "execution_count": 39,
   "id": "a21e5990-09ed-4caf-99f3-24f8f1401e23",
   "metadata": {},
   "outputs": [],
   "source": [
    "X_bank_network_train = X_bank_network.loc[X_bank_train.index]\n",
    "X_bank_network_test = X_bank_network.loc[X_bank_test.index]"
   ]
  },
  {
   "cell_type": "markdown",
   "id": "6b391541-7b8d-446e-8f6d-63c5135a6402",
   "metadata": {},
   "source": [
    "### Building the model (without networks)"
   ]
  },
  {
   "cell_type": "code",
   "execution_count": 40,
   "id": "2852ae1c-8218-4825-a891-7bcb51f6adba",
   "metadata": {},
   "outputs": [],
   "source": [
    "from sklearn.model_selection import GridSearchCV, RandomizedSearchCV\n",
    "\n",
    "from datetime import datetime\n",
    "\n",
    "def fit_eval_cv(\n",
    "    cv_obj: GridSearchCV,\n",
    "    X_train: pd.DataFrame,\n",
    "    y_train: pd.Series,\n",
    "    X_test: pd.DataFrame,\n",
    "    y_test: pd.Series\n",
    "):\n",
    "    '''\n",
    "    Fit and evaluate the given cv model.\n",
    "    Will print out the train/test scores.\n",
    "    Returns dictionary containing:\n",
    "    - training_score\n",
    "    - test_score\n",
    "    - best_model\n",
    "    - best_params\n",
    "    '''\n",
    "    start_time = datetime.now()\n",
    "    cv_obj.fit(X_train, y_train)\n",
    "    elapsed = datetime.now() - start_time\n",
    "    print(f'Elapsed: {elapsed}')\n",
    "\n",
    "    train_score = cv_obj.score(X_train, y_train)\n",
    "    test_score = cv_obj.score(X_test, y_test)\n",
    "    best_params = cv_obj.best_params_\n",
    "\n",
    "    print(f'Train score: {train_score:.4f}')\n",
    "    print(f'Valid score: {test_score:.4f}')\n",
    "    print(f'Best Params: {best_params}')\n",
    "    return {\n",
    "        'train_score': train_score,\n",
    "        'test_score': test_score,\n",
    "        'best_model': cv_obj.best_estimator_,\n",
    "        'best_params': best_params,\n",
    "    }"
   ]
  },
  {
   "cell_type": "code",
   "execution_count": 41,
   "id": "7a5776fd-76e7-4566-8a59-70536abe6fbd",
   "metadata": {},
   "outputs": [],
   "source": [
    "gs_config = dict(\n",
    "    cv = 10,\n",
    "    scoring = 'roc_auc',\n",
    ")\n",
    "gs_input = dict(\n",
    "    X_train = X_bank_train,\n",
    "    y_train = y_bank_train,\n",
    "    X_test = X_bank_test,\n",
    "    y_test = y_bank_test,\n",
    ")\n",
    "gs_results = {}"
   ]
  },
  {
   "cell_type": "code",
   "execution_count": 42,
   "id": "af8353a2-1784-4de2-8e39-4d77b2365b37",
   "metadata": {
    "scrolled": true
   },
   "outputs": [
    {
     "name": "stderr",
     "output_type": "stream",
     "text": [
      "C:\\Users\\abang\\AppData\\Local\\Programs\\Python\\Python312\\Lib\\site-packages\\sklearn\\svm\\_base.py:1237: ConvergenceWarning: Liblinear failed to converge, increase the number of iterations.\n",
      "  warnings.warn(\n",
      "C:\\Users\\abang\\AppData\\Local\\Programs\\Python\\Python312\\Lib\\site-packages\\sklearn\\svm\\_base.py:1237: ConvergenceWarning: Liblinear failed to converge, increase the number of iterations.\n",
      "  warnings.warn(\n",
      "C:\\Users\\abang\\AppData\\Local\\Programs\\Python\\Python312\\Lib\\site-packages\\sklearn\\svm\\_base.py:1237: ConvergenceWarning: Liblinear failed to converge, increase the number of iterations.\n",
      "  warnings.warn(\n",
      "C:\\Users\\abang\\AppData\\Local\\Programs\\Python\\Python312\\Lib\\site-packages\\sklearn\\svm\\_base.py:1237: ConvergenceWarning: Liblinear failed to converge, increase the number of iterations.\n",
      "  warnings.warn(\n",
      "C:\\Users\\abang\\AppData\\Local\\Programs\\Python\\Python312\\Lib\\site-packages\\sklearn\\svm\\_base.py:1237: ConvergenceWarning: Liblinear failed to converge, increase the number of iterations.\n",
      "  warnings.warn(\n",
      "C:\\Users\\abang\\AppData\\Local\\Programs\\Python\\Python312\\Lib\\site-packages\\sklearn\\svm\\_base.py:1237: ConvergenceWarning: Liblinear failed to converge, increase the number of iterations.\n",
      "  warnings.warn(\n",
      "C:\\Users\\abang\\AppData\\Local\\Programs\\Python\\Python312\\Lib\\site-packages\\sklearn\\svm\\_base.py:1237: ConvergenceWarning: Liblinear failed to converge, increase the number of iterations.\n",
      "  warnings.warn(\n",
      "C:\\Users\\abang\\AppData\\Local\\Programs\\Python\\Python312\\Lib\\site-packages\\sklearn\\svm\\_base.py:1237: ConvergenceWarning: Liblinear failed to converge, increase the number of iterations.\n",
      "  warnings.warn(\n",
      "C:\\Users\\abang\\AppData\\Local\\Programs\\Python\\Python312\\Lib\\site-packages\\sklearn\\svm\\_base.py:1237: ConvergenceWarning: Liblinear failed to converge, increase the number of iterations.\n",
      "  warnings.warn(\n",
      "C:\\Users\\abang\\AppData\\Local\\Programs\\Python\\Python312\\Lib\\site-packages\\sklearn\\svm\\_base.py:1237: ConvergenceWarning: Liblinear failed to converge, increase the number of iterations.\n",
      "  warnings.warn(\n",
      "C:\\Users\\abang\\AppData\\Local\\Programs\\Python\\Python312\\Lib\\site-packages\\sklearn\\svm\\_base.py:1237: ConvergenceWarning: Liblinear failed to converge, increase the number of iterations.\n",
      "  warnings.warn(\n",
      "C:\\Users\\abang\\AppData\\Local\\Programs\\Python\\Python312\\Lib\\site-packages\\sklearn\\svm\\_base.py:1237: ConvergenceWarning: Liblinear failed to converge, increase the number of iterations.\n",
      "  warnings.warn(\n",
      "C:\\Users\\abang\\AppData\\Local\\Programs\\Python\\Python312\\Lib\\site-packages\\sklearn\\svm\\_base.py:1237: ConvergenceWarning: Liblinear failed to converge, increase the number of iterations.\n",
      "  warnings.warn(\n",
      "C:\\Users\\abang\\AppData\\Local\\Programs\\Python\\Python312\\Lib\\site-packages\\sklearn\\svm\\_base.py:1237: ConvergenceWarning: Liblinear failed to converge, increase the number of iterations.\n",
      "  warnings.warn(\n",
      "C:\\Users\\abang\\AppData\\Local\\Programs\\Python\\Python312\\Lib\\site-packages\\sklearn\\svm\\_base.py:1237: ConvergenceWarning: Liblinear failed to converge, increase the number of iterations.\n",
      "  warnings.warn(\n",
      "C:\\Users\\abang\\AppData\\Local\\Programs\\Python\\Python312\\Lib\\site-packages\\sklearn\\svm\\_base.py:1237: ConvergenceWarning: Liblinear failed to converge, increase the number of iterations.\n",
      "  warnings.warn(\n",
      "C:\\Users\\abang\\AppData\\Local\\Programs\\Python\\Python312\\Lib\\site-packages\\sklearn\\svm\\_base.py:1237: ConvergenceWarning: Liblinear failed to converge, increase the number of iterations.\n",
      "  warnings.warn(\n",
      "C:\\Users\\abang\\AppData\\Local\\Programs\\Python\\Python312\\Lib\\site-packages\\sklearn\\svm\\_base.py:1237: ConvergenceWarning: Liblinear failed to converge, increase the number of iterations.\n",
      "  warnings.warn(\n",
      "C:\\Users\\abang\\AppData\\Local\\Programs\\Python\\Python312\\Lib\\site-packages\\sklearn\\svm\\_base.py:1237: ConvergenceWarning: Liblinear failed to converge, increase the number of iterations.\n",
      "  warnings.warn(\n",
      "C:\\Users\\abang\\AppData\\Local\\Programs\\Python\\Python312\\Lib\\site-packages\\sklearn\\svm\\_base.py:1237: ConvergenceWarning: Liblinear failed to converge, increase the number of iterations.\n",
      "  warnings.warn(\n",
      "C:\\Users\\abang\\AppData\\Local\\Programs\\Python\\Python312\\Lib\\site-packages\\sklearn\\svm\\_base.py:1237: ConvergenceWarning: Liblinear failed to converge, increase the number of iterations.\n",
      "  warnings.warn(\n",
      "C:\\Users\\abang\\AppData\\Local\\Programs\\Python\\Python312\\Lib\\site-packages\\sklearn\\svm\\_base.py:1237: ConvergenceWarning: Liblinear failed to converge, increase the number of iterations.\n",
      "  warnings.warn(\n",
      "C:\\Users\\abang\\AppData\\Local\\Programs\\Python\\Python312\\Lib\\site-packages\\sklearn\\svm\\_base.py:1237: ConvergenceWarning: Liblinear failed to converge, increase the number of iterations.\n",
      "  warnings.warn(\n",
      "C:\\Users\\abang\\AppData\\Local\\Programs\\Python\\Python312\\Lib\\site-packages\\sklearn\\svm\\_base.py:1237: ConvergenceWarning: Liblinear failed to converge, increase the number of iterations.\n",
      "  warnings.warn(\n",
      "C:\\Users\\abang\\AppData\\Local\\Programs\\Python\\Python312\\Lib\\site-packages\\sklearn\\svm\\_base.py:1237: ConvergenceWarning: Liblinear failed to converge, increase the number of iterations.\n",
      "  warnings.warn(\n",
      "C:\\Users\\abang\\AppData\\Local\\Programs\\Python\\Python312\\Lib\\site-packages\\sklearn\\svm\\_base.py:1237: ConvergenceWarning: Liblinear failed to converge, increase the number of iterations.\n",
      "  warnings.warn(\n",
      "C:\\Users\\abang\\AppData\\Local\\Programs\\Python\\Python312\\Lib\\site-packages\\sklearn\\svm\\_base.py:1237: ConvergenceWarning: Liblinear failed to converge, increase the number of iterations.\n",
      "  warnings.warn(\n",
      "C:\\Users\\abang\\AppData\\Local\\Programs\\Python\\Python312\\Lib\\site-packages\\sklearn\\svm\\_base.py:1237: ConvergenceWarning: Liblinear failed to converge, increase the number of iterations.\n",
      "  warnings.warn(\n",
      "C:\\Users\\abang\\AppData\\Local\\Programs\\Python\\Python312\\Lib\\site-packages\\sklearn\\svm\\_base.py:1237: ConvergenceWarning: Liblinear failed to converge, increase the number of iterations.\n",
      "  warnings.warn(\n",
      "C:\\Users\\abang\\AppData\\Local\\Programs\\Python\\Python312\\Lib\\site-packages\\sklearn\\svm\\_base.py:1237: ConvergenceWarning: Liblinear failed to converge, increase the number of iterations.\n",
      "  warnings.warn(\n",
      "C:\\Users\\abang\\AppData\\Local\\Programs\\Python\\Python312\\Lib\\site-packages\\sklearn\\svm\\_base.py:1237: ConvergenceWarning: Liblinear failed to converge, increase the number of iterations.\n",
      "  warnings.warn(\n",
      "C:\\Users\\abang\\AppData\\Local\\Programs\\Python\\Python312\\Lib\\site-packages\\sklearn\\svm\\_base.py:1237: ConvergenceWarning: Liblinear failed to converge, increase the number of iterations.\n",
      "  warnings.warn(\n"
     ]
    },
    {
     "name": "stdout",
     "output_type": "stream",
     "text": [
      "Elapsed: 0:27:03.376991\n",
      "Train score: 0.9928\n",
      "Valid score: 0.9904\n",
      "Best Params: {'C': 0.2782559402207126}\n"
     ]
    }
   ],
   "source": [
    "gs_results['LogisticRegression'] = fit_eval_cv(\n",
    "    GridSearchCV(\n",
    "        estimator = LogisticRegression(solver='liblinear', random_state=42, class_weight=None, penalty='l1'),\n",
    "        param_grid = {\n",
    "            'C': np.logspace(-5, 5, 10),\n",
    "        },\n",
    "        **gs_config,\n",
    "    ),\n",
    "    **gs_input\n",
    ")"
   ]
  },
  {
   "cell_type": "code",
   "execution_count": 43,
   "id": "99adf4e9-0d06-4e45-8884-6b1710bb0f04",
   "metadata": {},
   "outputs": [
    {
     "name": "stdout",
     "output_type": "stream",
     "text": [
      "Elapsed: 0:01:10.003377\n",
      "Train score: 0.9618\n",
      "Valid score: 0.9294\n",
      "Best Params: {'max_depth': 5, 'min_samples_leaf': 20, 'min_samples_split': 50}\n"
     ]
    }
   ],
   "source": [
    "gs_results['DecisionTree'] = fit_eval_cv(\n",
    "    GridSearchCV(\n",
    "        estimator = DecisionTreeClassifier(random_state=42),\n",
    "        param_grid = {\n",
    "            'max_depth': [2, 5, 10, 30, None],\n",
    "            'min_samples_split': [2, 3, 4, 5, 10, 25, 50],\n",
    "            'min_samples_leaf': [2, 3, 4, 5, 10, 20],\n",
    "        },\n",
    "         **gs_config,\n",
    "    ),\n",
    "    **gs_input\n",
    ")"
   ]
  },
  {
   "cell_type": "markdown",
   "id": "3c9d6f88-17b4-4d46-9864-f3a34e2f4042",
   "metadata": {},
   "source": [
    "### Building the model (with networks)"
   ]
  },
  {
   "cell_type": "code",
   "execution_count": 44,
   "id": "dd41be4b-1366-4620-9897-0d38688e6f48",
   "metadata": {},
   "outputs": [],
   "source": [
    "gs_input_network = dict(\n",
    "    X_train = X_bank_network_train,\n",
    "    y_train = y_bank_train,\n",
    "    X_test = X_bank_network_test,\n",
    "    y_test = y_bank_test,\n",
    ")\n",
    "gs_results_network = {}"
   ]
  },
  {
   "cell_type": "code",
   "execution_count": 45,
   "id": "aea672f0-47d1-4598-823d-d76fa34a5964",
   "metadata": {
    "scrolled": true
   },
   "outputs": [
    {
     "name": "stderr",
     "output_type": "stream",
     "text": [
      "C:\\Users\\abang\\AppData\\Local\\Programs\\Python\\Python312\\Lib\\site-packages\\sklearn\\svm\\_base.py:1237: ConvergenceWarning: Liblinear failed to converge, increase the number of iterations.\n",
      "  warnings.warn(\n",
      "C:\\Users\\abang\\AppData\\Local\\Programs\\Python\\Python312\\Lib\\site-packages\\sklearn\\svm\\_base.py:1237: ConvergenceWarning: Liblinear failed to converge, increase the number of iterations.\n",
      "  warnings.warn(\n",
      "C:\\Users\\abang\\AppData\\Local\\Programs\\Python\\Python312\\Lib\\site-packages\\sklearn\\svm\\_base.py:1237: ConvergenceWarning: Liblinear failed to converge, increase the number of iterations.\n",
      "  warnings.warn(\n",
      "C:\\Users\\abang\\AppData\\Local\\Programs\\Python\\Python312\\Lib\\site-packages\\sklearn\\svm\\_base.py:1237: ConvergenceWarning: Liblinear failed to converge, increase the number of iterations.\n",
      "  warnings.warn(\n",
      "C:\\Users\\abang\\AppData\\Local\\Programs\\Python\\Python312\\Lib\\site-packages\\sklearn\\svm\\_base.py:1237: ConvergenceWarning: Liblinear failed to converge, increase the number of iterations.\n",
      "  warnings.warn(\n",
      "C:\\Users\\abang\\AppData\\Local\\Programs\\Python\\Python312\\Lib\\site-packages\\sklearn\\svm\\_base.py:1237: ConvergenceWarning: Liblinear failed to converge, increase the number of iterations.\n",
      "  warnings.warn(\n",
      "C:\\Users\\abang\\AppData\\Local\\Programs\\Python\\Python312\\Lib\\site-packages\\sklearn\\svm\\_base.py:1237: ConvergenceWarning: Liblinear failed to converge, increase the number of iterations.\n",
      "  warnings.warn(\n",
      "C:\\Users\\abang\\AppData\\Local\\Programs\\Python\\Python312\\Lib\\site-packages\\sklearn\\svm\\_base.py:1237: ConvergenceWarning: Liblinear failed to converge, increase the number of iterations.\n",
      "  warnings.warn(\n",
      "C:\\Users\\abang\\AppData\\Local\\Programs\\Python\\Python312\\Lib\\site-packages\\sklearn\\svm\\_base.py:1237: ConvergenceWarning: Liblinear failed to converge, increase the number of iterations.\n",
      "  warnings.warn(\n",
      "C:\\Users\\abang\\AppData\\Local\\Programs\\Python\\Python312\\Lib\\site-packages\\sklearn\\svm\\_base.py:1237: ConvergenceWarning: Liblinear failed to converge, increase the number of iterations.\n",
      "  warnings.warn(\n",
      "C:\\Users\\abang\\AppData\\Local\\Programs\\Python\\Python312\\Lib\\site-packages\\sklearn\\svm\\_base.py:1237: ConvergenceWarning: Liblinear failed to converge, increase the number of iterations.\n",
      "  warnings.warn(\n",
      "C:\\Users\\abang\\AppData\\Local\\Programs\\Python\\Python312\\Lib\\site-packages\\sklearn\\svm\\_base.py:1237: ConvergenceWarning: Liblinear failed to converge, increase the number of iterations.\n",
      "  warnings.warn(\n",
      "C:\\Users\\abang\\AppData\\Local\\Programs\\Python\\Python312\\Lib\\site-packages\\sklearn\\svm\\_base.py:1237: ConvergenceWarning: Liblinear failed to converge, increase the number of iterations.\n",
      "  warnings.warn(\n",
      "C:\\Users\\abang\\AppData\\Local\\Programs\\Python\\Python312\\Lib\\site-packages\\sklearn\\svm\\_base.py:1237: ConvergenceWarning: Liblinear failed to converge, increase the number of iterations.\n",
      "  warnings.warn(\n",
      "C:\\Users\\abang\\AppData\\Local\\Programs\\Python\\Python312\\Lib\\site-packages\\sklearn\\svm\\_base.py:1237: ConvergenceWarning: Liblinear failed to converge, increase the number of iterations.\n",
      "  warnings.warn(\n",
      "C:\\Users\\abang\\AppData\\Local\\Programs\\Python\\Python312\\Lib\\site-packages\\sklearn\\svm\\_base.py:1237: ConvergenceWarning: Liblinear failed to converge, increase the number of iterations.\n",
      "  warnings.warn(\n",
      "C:\\Users\\abang\\AppData\\Local\\Programs\\Python\\Python312\\Lib\\site-packages\\sklearn\\svm\\_base.py:1237: ConvergenceWarning: Liblinear failed to converge, increase the number of iterations.\n",
      "  warnings.warn(\n",
      "C:\\Users\\abang\\AppData\\Local\\Programs\\Python\\Python312\\Lib\\site-packages\\sklearn\\svm\\_base.py:1237: ConvergenceWarning: Liblinear failed to converge, increase the number of iterations.\n",
      "  warnings.warn(\n",
      "C:\\Users\\abang\\AppData\\Local\\Programs\\Python\\Python312\\Lib\\site-packages\\sklearn\\svm\\_base.py:1237: ConvergenceWarning: Liblinear failed to converge, increase the number of iterations.\n",
      "  warnings.warn(\n",
      "C:\\Users\\abang\\AppData\\Local\\Programs\\Python\\Python312\\Lib\\site-packages\\sklearn\\svm\\_base.py:1237: ConvergenceWarning: Liblinear failed to converge, increase the number of iterations.\n",
      "  warnings.warn(\n",
      "C:\\Users\\abang\\AppData\\Local\\Programs\\Python\\Python312\\Lib\\site-packages\\sklearn\\svm\\_base.py:1237: ConvergenceWarning: Liblinear failed to converge, increase the number of iterations.\n",
      "  warnings.warn(\n",
      "C:\\Users\\abang\\AppData\\Local\\Programs\\Python\\Python312\\Lib\\site-packages\\sklearn\\svm\\_base.py:1237: ConvergenceWarning: Liblinear failed to converge, increase the number of iterations.\n",
      "  warnings.warn(\n",
      "C:\\Users\\abang\\AppData\\Local\\Programs\\Python\\Python312\\Lib\\site-packages\\sklearn\\svm\\_base.py:1237: ConvergenceWarning: Liblinear failed to converge, increase the number of iterations.\n",
      "  warnings.warn(\n",
      "C:\\Users\\abang\\AppData\\Local\\Programs\\Python\\Python312\\Lib\\site-packages\\sklearn\\svm\\_base.py:1237: ConvergenceWarning: Liblinear failed to converge, increase the number of iterations.\n",
      "  warnings.warn(\n",
      "C:\\Users\\abang\\AppData\\Local\\Programs\\Python\\Python312\\Lib\\site-packages\\sklearn\\svm\\_base.py:1237: ConvergenceWarning: Liblinear failed to converge, increase the number of iterations.\n",
      "  warnings.warn(\n",
      "C:\\Users\\abang\\AppData\\Local\\Programs\\Python\\Python312\\Lib\\site-packages\\sklearn\\svm\\_base.py:1237: ConvergenceWarning: Liblinear failed to converge, increase the number of iterations.\n",
      "  warnings.warn(\n",
      "C:\\Users\\abang\\AppData\\Local\\Programs\\Python\\Python312\\Lib\\site-packages\\sklearn\\svm\\_base.py:1237: ConvergenceWarning: Liblinear failed to converge, increase the number of iterations.\n",
      "  warnings.warn(\n",
      "C:\\Users\\abang\\AppData\\Local\\Programs\\Python\\Python312\\Lib\\site-packages\\sklearn\\svm\\_base.py:1237: ConvergenceWarning: Liblinear failed to converge, increase the number of iterations.\n",
      "  warnings.warn(\n",
      "C:\\Users\\abang\\AppData\\Local\\Programs\\Python\\Python312\\Lib\\site-packages\\sklearn\\svm\\_base.py:1237: ConvergenceWarning: Liblinear failed to converge, increase the number of iterations.\n",
      "  warnings.warn(\n",
      "C:\\Users\\abang\\AppData\\Local\\Programs\\Python\\Python312\\Lib\\site-packages\\sklearn\\svm\\_base.py:1237: ConvergenceWarning: Liblinear failed to converge, increase the number of iterations.\n",
      "  warnings.warn(\n"
     ]
    },
    {
     "name": "stdout",
     "output_type": "stream",
     "text": [
      "Elapsed: 0:28:02.118883\n",
      "Train score: 0.9957\n",
      "Valid score: 0.9939\n",
      "Best Params: {'C': 0.2782559402207126}\n"
     ]
    }
   ],
   "source": [
    "gs_results_network['LogisticRegression'] = fit_eval_cv(\n",
    "    GridSearchCV(\n",
    "        estimator = LogisticRegression(solver='liblinear', random_state=42, class_weight=None, penalty='l1'),\n",
    "        param_grid = {\n",
    "            'C': np.logspace(-5, 5, 10),\n",
    "        },\n",
    "        **gs_config,\n",
    "    ),\n",
    "    **gs_input_network\n",
    ")"
   ]
  },
  {
   "cell_type": "code",
   "execution_count": 46,
   "id": "3efaf89c-a949-4481-ac6e-5ac379213f7c",
   "metadata": {},
   "outputs": [
    {
     "name": "stdout",
     "output_type": "stream",
     "text": [
      "Elapsed: 0:01:42.458099\n",
      "Train score: 0.9673\n",
      "Valid score: 0.9073\n",
      "Best Params: {'max_depth': 5, 'min_samples_leaf': 20, 'min_samples_split': 2}\n"
     ]
    }
   ],
   "source": [
    "gs_results_network['DecisionTree'] = fit_eval_cv(\n",
    "    GridSearchCV(\n",
    "        estimator = DecisionTreeClassifier(random_state=42),\n",
    "        param_grid = {\n",
    "            'max_depth': [2, 5, 10, 30, None],\n",
    "            'min_samples_split': [2, 3, 4, 5, 10, 25, 50],\n",
    "            'min_samples_leaf': [2, 3, 4, 5, 10, 20],\n",
    "        },\n",
    "         **gs_config,\n",
    "    ),\n",
    "    **gs_input_network\n",
    ")"
   ]
  },
  {
   "cell_type": "code",
   "execution_count": 49,
   "id": "7f1335af-9e4c-495b-97cd-89c8374314a3",
   "metadata": {},
   "outputs": [
    {
     "data": {
      "text/html": [
       "<div>\n",
       "<style scoped>\n",
       "    .dataframe tbody tr th:only-of-type {\n",
       "        vertical-align: middle;\n",
       "    }\n",
       "\n",
       "    .dataframe tbody tr th {\n",
       "        vertical-align: top;\n",
       "    }\n",
       "\n",
       "    .dataframe thead th {\n",
       "        text-align: right;\n",
       "    }\n",
       "</style>\n",
       "<table border=\"1\" class=\"dataframe\">\n",
       "  <thead>\n",
       "    <tr style=\"text-align: right;\">\n",
       "      <th></th>\n",
       "      <th>train_score</th>\n",
       "      <th>test_score</th>\n",
       "      <th>best_model</th>\n",
       "      <th>best_params</th>\n",
       "    </tr>\n",
       "  </thead>\n",
       "  <tbody>\n",
       "    <tr>\n",
       "      <th>LogisticRegression</th>\n",
       "      <td>0.992761</td>\n",
       "      <td>0.990395</td>\n",
       "      <td>LogisticRegression(C=0.2782559402207126, penal...</td>\n",
       "      <td>{'C': 0.2782559402207126}</td>\n",
       "    </tr>\n",
       "    <tr>\n",
       "      <th>DecisionTree</th>\n",
       "      <td>0.961794</td>\n",
       "      <td>0.929366</td>\n",
       "      <td>DecisionTreeClassifier(max_depth=5, min_sample...</td>\n",
       "      <td>{'max_depth': 5, 'min_samples_leaf': 20, 'min_...</td>\n",
       "    </tr>\n",
       "  </tbody>\n",
       "</table>\n",
       "</div>"
      ],
      "text/plain": [
       "                   train_score test_score  \\\n",
       "LogisticRegression    0.992761   0.990395   \n",
       "DecisionTree          0.961794   0.929366   \n",
       "\n",
       "                                                           best_model  \\\n",
       "LogisticRegression  LogisticRegression(C=0.2782559402207126, penal...   \n",
       "DecisionTree        DecisionTreeClassifier(max_depth=5, min_sample...   \n",
       "\n",
       "                                                          best_params  \n",
       "LogisticRegression                          {'C': 0.2782559402207126}  \n",
       "DecisionTree        {'max_depth': 5, 'min_samples_leaf': 20, 'min_...  "
      ]
     },
     "execution_count": 49,
     "metadata": {},
     "output_type": "execute_result"
    }
   ],
   "source": [
    "gs_results = pd.DataFrame(gs_results).T\n",
    "gs_results"
   ]
  },
  {
   "cell_type": "code",
   "execution_count": 50,
   "id": "a6d71c09-8be4-4b86-8afe-90cfcaa6cd84",
   "metadata": {},
   "outputs": [
    {
     "data": {
      "text/html": [
       "<div>\n",
       "<style scoped>\n",
       "    .dataframe tbody tr th:only-of-type {\n",
       "        vertical-align: middle;\n",
       "    }\n",
       "\n",
       "    .dataframe tbody tr th {\n",
       "        vertical-align: top;\n",
       "    }\n",
       "\n",
       "    .dataframe thead th {\n",
       "        text-align: right;\n",
       "    }\n",
       "</style>\n",
       "<table border=\"1\" class=\"dataframe\">\n",
       "  <thead>\n",
       "    <tr style=\"text-align: right;\">\n",
       "      <th></th>\n",
       "      <th>train_score</th>\n",
       "      <th>test_score</th>\n",
       "      <th>best_model</th>\n",
       "      <th>best_params</th>\n",
       "    </tr>\n",
       "  </thead>\n",
       "  <tbody>\n",
       "    <tr>\n",
       "      <th>LogisticRegression</th>\n",
       "      <td>0.995662</td>\n",
       "      <td>0.993894</td>\n",
       "      <td>LogisticRegression(C=0.2782559402207126, penal...</td>\n",
       "      <td>{'C': 0.2782559402207126}</td>\n",
       "    </tr>\n",
       "    <tr>\n",
       "      <th>DecisionTree</th>\n",
       "      <td>0.967264</td>\n",
       "      <td>0.907271</td>\n",
       "      <td>DecisionTreeClassifier(max_depth=5, min_sample...</td>\n",
       "      <td>{'max_depth': 5, 'min_samples_leaf': 20, 'min_...</td>\n",
       "    </tr>\n",
       "  </tbody>\n",
       "</table>\n",
       "</div>"
      ],
      "text/plain": [
       "                   train_score test_score  \\\n",
       "LogisticRegression    0.995662   0.993894   \n",
       "DecisionTree          0.967264   0.907271   \n",
       "\n",
       "                                                           best_model  \\\n",
       "LogisticRegression  LogisticRegression(C=0.2782559402207126, penal...   \n",
       "DecisionTree        DecisionTreeClassifier(max_depth=5, min_sample...   \n",
       "\n",
       "                                                          best_params  \n",
       "LogisticRegression                          {'C': 0.2782559402207126}  \n",
       "DecisionTree        {'max_depth': 5, 'min_samples_leaf': 20, 'min_...  "
      ]
     },
     "execution_count": 50,
     "metadata": {},
     "output_type": "execute_result"
    }
   ],
   "source": [
    "gs_results_network = pd.DataFrame(gs_results_network).T\n",
    "gs_results_network"
   ]
  },
  {
   "cell_type": "markdown",
   "id": "721caf0b-9ec4-4c4e-afe4-7c02f7281ca1",
   "metadata": {},
   "source": [
    "## 4. Evaluation\n",
    "\n",
    "- Train the best model obtained from the hyperparameter in the previous\n",
    "question using traditional features only.\n",
    "- Evaluate the performance of the model using ROC-AUC. Compare the\n",
    "performance and summarize in the table\n",
    "\n",
    "    |Feature|ROC AUC|\n",
    "    |-|-|\n",
    "    |Traditional| |\n",
    "    |Traditional+Network| |\n",
    "\n",
    "- Do additional network-based features improve fraud detection\n",
    "performance?"
   ]
  },
  {
   "cell_type": "code",
   "execution_count": 55,
   "id": "9acac6b8-1543-4a30-9136-06fa1de0591b",
   "metadata": {},
   "outputs": [],
   "source": [
    "best_result_basic = gs_results.iloc[gs_results['test_score'].argmax()]\n",
    "best_result_network = gs_results_network.iloc[gs_results_network['test_score'].argmax()]"
   ]
  },
  {
   "cell_type": "code",
   "execution_count": 58,
   "id": "e4b40c85-b448-44c6-911f-cf6fbf44f23d",
   "metadata": {},
   "outputs": [
    {
     "name": "stdout",
     "output_type": "stream",
     "text": [
      "Best model (basic): LogisticRegression\n",
      "Best model (network): LogisticRegression\n"
     ]
    }
   ],
   "source": [
    "print('Best model (basic):', best_result_basic.name)\n",
    "print('Best model (network):', best_result_network.name)"
   ]
  },
  {
   "cell_type": "markdown",
   "id": "332279c4-0e30-4c1c-b810-810afd3f22a8",
   "metadata": {},
   "source": [
    "Final comparison:"
   ]
  },
  {
   "cell_type": "code",
   "execution_count": 62,
   "id": "fb213fbc-c92e-4499-9a5f-b6bfa535d2b8",
   "metadata": {},
   "outputs": [
    {
     "data": {
      "text/html": [
       "<div>\n",
       "<style scoped>\n",
       "    .dataframe tbody tr th:only-of-type {\n",
       "        vertical-align: middle;\n",
       "    }\n",
       "\n",
       "    .dataframe tbody tr th {\n",
       "        vertical-align: top;\n",
       "    }\n",
       "\n",
       "    .dataframe thead th {\n",
       "        text-align: right;\n",
       "    }\n",
       "</style>\n",
       "<table border=\"1\" class=\"dataframe\">\n",
       "  <thead>\n",
       "    <tr style=\"text-align: right;\">\n",
       "      <th></th>\n",
       "      <th>ROC AUC</th>\n",
       "    </tr>\n",
       "  </thead>\n",
       "  <tbody>\n",
       "    <tr>\n",
       "      <th>Traditional</th>\n",
       "      <td>0.990395</td>\n",
       "    </tr>\n",
       "    <tr>\n",
       "      <th>Traditional+Network</th>\n",
       "      <td>0.993894</td>\n",
       "    </tr>\n",
       "  </tbody>\n",
       "</table>\n",
       "</div>"
      ],
      "text/plain": [
       "                      ROC AUC\n",
       "Traditional          0.990395\n",
       "Traditional+Network  0.993894"
      ]
     },
     "execution_count": 62,
     "metadata": {},
     "output_type": "execute_result"
    }
   ],
   "source": [
    "pd.DataFrame({\n",
    "    'Traditional': {'ROC AUC': best_result_basic['test_score']},\n",
    "    'Traditional+Network': {'ROC AUC': best_result_network['test_score']},\n",
    "}).T"
   ]
  },
  {
   "cell_type": "markdown",
   "id": "1315d093-b539-45cf-bdf3-f46a97695c8f",
   "metadata": {},
   "source": [
    "Based on the above analysis, we can conclude that using network-based features improve the model ROC AUC from 99.0395% to 99.3894%."
   ]
  }
 ],
 "metadata": {
  "kernelspec": {
   "display_name": "Python 3 (ipykernel)",
   "language": "python",
   "name": "python3"
  },
  "language_info": {
   "codemirror_mode": {
    "name": "ipython",
    "version": 3
   },
   "file_extension": ".py",
   "mimetype": "text/x-python",
   "name": "python",
   "nbconvert_exporter": "python",
   "pygments_lexer": "ipython3",
   "version": "3.12.1"
  }
 },
 "nbformat": 4,
 "nbformat_minor": 5
}
