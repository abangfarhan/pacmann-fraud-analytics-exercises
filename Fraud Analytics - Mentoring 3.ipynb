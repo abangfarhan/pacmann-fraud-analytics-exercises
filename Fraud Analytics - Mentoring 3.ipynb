{
 "cells": [
  {
   "cell_type": "markdown",
   "id": "86a63397-43ab-45f5-a1a1-d12efbd476c5",
   "metadata": {},
   "source": [
    "# Loading packages"
   ]
  },
  {
   "cell_type": "code",
   "execution_count": 1,
   "id": "7b47d6fc-0e8d-410d-b4f9-d2cfb868bf2b",
   "metadata": {},
   "outputs": [],
   "source": [
    "import pandas as pd\n",
    "import numpy as np\n",
    "import matplotlib.pyplot as plt\n",
    "import seaborn as sns"
   ]
  },
  {
   "cell_type": "markdown",
   "id": "4d8307ac-5729-4664-8427-fb349802cbe9",
   "metadata": {},
   "source": [
    "# Question 1: Data Preparation\n",
    "\n",
    "Prepare the dataset before further analysis and modeling. This step ensures that the dataset is well-structured.\n",
    "\n",
    "- Inspect missing values, duplicate records, invalid and inconsistencies, and handle them if any.\n",
    "- Split the dataset into features (X) and target variable (y), where the target is \"Is Fraudulent\" (1 for fraudulent, 0 for legitimate).\n",
    "- Split the dataset into training, validation, and testing data:\n",
    "  - Training data: 60% of the original data\n",
    "  - Validation data: 20% of the original data\n",
    "  - Testing data: 20% of the original data"
   ]
  },
  {
   "cell_type": "markdown",
   "id": "380181c7-b1cf-4e6b-a8fe-3e8cb698db8f",
   "metadata": {},
   "source": [
    "## Inspecting the data"
   ]
  },
  {
   "cell_type": "code",
   "execution_count": 2,
   "id": "a89783c3-ad80-4efc-a26f-f1c131910bd0",
   "metadata": {},
   "outputs": [
    {
     "name": "stdout",
     "output_type": "stream",
     "text": [
      "Shape: (23634, 9)\n"
     ]
    },
    {
     "data": {
      "text/html": [
       "<div>\n",
       "<style scoped>\n",
       "    .dataframe tbody tr th:only-of-type {\n",
       "        vertical-align: middle;\n",
       "    }\n",
       "\n",
       "    .dataframe tbody tr th {\n",
       "        vertical-align: top;\n",
       "    }\n",
       "\n",
       "    .dataframe thead th {\n",
       "        text-align: right;\n",
       "    }\n",
       "</style>\n",
       "<table border=\"1\" class=\"dataframe\">\n",
       "  <thead>\n",
       "    <tr style=\"text-align: right;\">\n",
       "      <th></th>\n",
       "      <th>Transaction Amount</th>\n",
       "      <th>Payment Method</th>\n",
       "      <th>Product Category</th>\n",
       "      <th>Quantity</th>\n",
       "      <th>Customer Age</th>\n",
       "      <th>Device Used</th>\n",
       "      <th>Is Fraudulent</th>\n",
       "      <th>Account Age Days</th>\n",
       "      <th>Transaction Hour</th>\n",
       "    </tr>\n",
       "  </thead>\n",
       "  <tbody>\n",
       "    <tr>\n",
       "      <th>0</th>\n",
       "      <td>42.32</td>\n",
       "      <td>PayPal</td>\n",
       "      <td>electronics</td>\n",
       "      <td>1</td>\n",
       "      <td>40</td>\n",
       "      <td>desktop</td>\n",
       "      <td>0</td>\n",
       "      <td>282</td>\n",
       "      <td>23</td>\n",
       "    </tr>\n",
       "    <tr>\n",
       "      <th>1</th>\n",
       "      <td>301.34</td>\n",
       "      <td>credit card</td>\n",
       "      <td>electronics</td>\n",
       "      <td>3</td>\n",
       "      <td>35</td>\n",
       "      <td>tablet</td>\n",
       "      <td>0</td>\n",
       "      <td>223</td>\n",
       "      <td>0</td>\n",
       "    </tr>\n",
       "    <tr>\n",
       "      <th>2</th>\n",
       "      <td>340.32</td>\n",
       "      <td>debit card</td>\n",
       "      <td>toys &amp; games</td>\n",
       "      <td>5</td>\n",
       "      <td>29</td>\n",
       "      <td>desktop</td>\n",
       "      <td>0</td>\n",
       "      <td>360</td>\n",
       "      <td>8</td>\n",
       "    </tr>\n",
       "    <tr>\n",
       "      <th>3</th>\n",
       "      <td>95.77</td>\n",
       "      <td>credit card</td>\n",
       "      <td>electronics</td>\n",
       "      <td>5</td>\n",
       "      <td>45</td>\n",
       "      <td>mobile</td>\n",
       "      <td>0</td>\n",
       "      <td>325</td>\n",
       "      <td>20</td>\n",
       "    </tr>\n",
       "    <tr>\n",
       "      <th>4</th>\n",
       "      <td>77.45</td>\n",
       "      <td>credit card</td>\n",
       "      <td>clothing</td>\n",
       "      <td>5</td>\n",
       "      <td>42</td>\n",
       "      <td>desktop</td>\n",
       "      <td>0</td>\n",
       "      <td>116</td>\n",
       "      <td>15</td>\n",
       "    </tr>\n",
       "  </tbody>\n",
       "</table>\n",
       "</div>"
      ],
      "text/plain": [
       "   Transaction Amount Payment Method Product Category  Quantity  Customer Age  \\\n",
       "0               42.32         PayPal      electronics         1            40   \n",
       "1              301.34    credit card      electronics         3            35   \n",
       "2              340.32     debit card     toys & games         5            29   \n",
       "3               95.77    credit card      electronics         5            45   \n",
       "4               77.45    credit card         clothing         5            42   \n",
       "\n",
       "  Device Used  Is Fraudulent  Account Age Days  Transaction Hour  \n",
       "0     desktop              0               282                23  \n",
       "1      tablet              0               223                 0  \n",
       "2     desktop              0               360                 8  \n",
       "3      mobile              0               325                20  \n",
       "4     desktop              0               116                15  "
      ]
     },
     "execution_count": 2,
     "metadata": {},
     "output_type": "execute_result"
    }
   ],
   "source": [
    "df = pd.read_csv('./data/fraud_ecom_transaction_data.csv')\n",
    "df = df.drop('Transaction ID', axis=1)\n",
    "print('Shape:', df.shape)\n",
    "df.head()"
   ]
  },
  {
   "cell_type": "code",
   "execution_count": 3,
   "id": "ea4cb4b6-9829-4411-9dbe-62a0ce027611",
   "metadata": {},
   "outputs": [
    {
     "name": "stdout",
     "output_type": "stream",
     "text": [
      "<class 'pandas.core.frame.DataFrame'>\n",
      "RangeIndex: 23634 entries, 0 to 23633\n",
      "Data columns (total 9 columns):\n",
      " #   Column              Non-Null Count  Dtype  \n",
      "---  ------              --------------  -----  \n",
      " 0   Transaction Amount  23634 non-null  float64\n",
      " 1   Payment Method      23634 non-null  object \n",
      " 2   Product Category    23634 non-null  object \n",
      " 3   Quantity            23634 non-null  int64  \n",
      " 4   Customer Age        23634 non-null  int64  \n",
      " 5   Device Used         23634 non-null  object \n",
      " 6   Is Fraudulent       23634 non-null  int64  \n",
      " 7   Account Age Days    23634 non-null  int64  \n",
      " 8   Transaction Hour    23634 non-null  int64  \n",
      "dtypes: float64(1), int64(5), object(3)\n",
      "memory usage: 1.6+ MB\n"
     ]
    }
   ],
   "source": [
    "df.info()"
   ]
  },
  {
   "cell_type": "code",
   "execution_count": 4,
   "id": "fb0dea32-bd7c-4067-bee4-3d65c0a8b33f",
   "metadata": {},
   "outputs": [
    {
     "data": {
      "text/plain": [
       "Transaction Amount    0\n",
       "Payment Method        0\n",
       "Product Category      0\n",
       "Quantity              0\n",
       "Customer Age          0\n",
       "Device Used           0\n",
       "Is Fraudulent         0\n",
       "Account Age Days      0\n",
       "Transaction Hour      0\n",
       "dtype: int64"
      ]
     },
     "execution_count": 4,
     "metadata": {},
     "output_type": "execute_result"
    }
   ],
   "source": [
    "df.isnull().sum()"
   ]
  },
  {
   "cell_type": "code",
   "execution_count": 5,
   "id": "c6ebd9a2-56f1-49da-9032-15ec7d403d24",
   "metadata": {},
   "outputs": [
    {
     "data": {
      "text/html": [
       "<div>\n",
       "<style scoped>\n",
       "    .dataframe tbody tr th:only-of-type {\n",
       "        vertical-align: middle;\n",
       "    }\n",
       "\n",
       "    .dataframe tbody tr th {\n",
       "        vertical-align: top;\n",
       "    }\n",
       "\n",
       "    .dataframe thead th {\n",
       "        text-align: right;\n",
       "    }\n",
       "</style>\n",
       "<table border=\"1\" class=\"dataframe\">\n",
       "  <thead>\n",
       "    <tr style=\"text-align: right;\">\n",
       "      <th></th>\n",
       "      <th>Transaction Amount</th>\n",
       "      <th>Quantity</th>\n",
       "      <th>Customer Age</th>\n",
       "      <th>Is Fraudulent</th>\n",
       "      <th>Account Age Days</th>\n",
       "      <th>Transaction Hour</th>\n",
       "    </tr>\n",
       "  </thead>\n",
       "  <tbody>\n",
       "    <tr>\n",
       "      <th>count</th>\n",
       "      <td>23634.000000</td>\n",
       "      <td>23634.000000</td>\n",
       "      <td>23634.000000</td>\n",
       "      <td>23634.000000</td>\n",
       "      <td>23634.000000</td>\n",
       "      <td>23634.000000</td>\n",
       "    </tr>\n",
       "    <tr>\n",
       "      <th>mean</th>\n",
       "      <td>229.367099</td>\n",
       "      <td>3.000550</td>\n",
       "      <td>34.560210</td>\n",
       "      <td>0.051705</td>\n",
       "      <td>178.660531</td>\n",
       "      <td>11.266015</td>\n",
       "    </tr>\n",
       "    <tr>\n",
       "      <th>std</th>\n",
       "      <td>282.046669</td>\n",
       "      <td>1.419663</td>\n",
       "      <td>10.009471</td>\n",
       "      <td>0.221436</td>\n",
       "      <td>107.388682</td>\n",
       "      <td>6.980659</td>\n",
       "    </tr>\n",
       "    <tr>\n",
       "      <th>min</th>\n",
       "      <td>10.000000</td>\n",
       "      <td>1.000000</td>\n",
       "      <td>-2.000000</td>\n",
       "      <td>0.000000</td>\n",
       "      <td>1.000000</td>\n",
       "      <td>0.000000</td>\n",
       "    </tr>\n",
       "    <tr>\n",
       "      <th>25%</th>\n",
       "      <td>69.070000</td>\n",
       "      <td>2.000000</td>\n",
       "      <td>28.000000</td>\n",
       "      <td>0.000000</td>\n",
       "      <td>84.000000</td>\n",
       "      <td>5.000000</td>\n",
       "    </tr>\n",
       "    <tr>\n",
       "      <th>50%</th>\n",
       "      <td>151.415000</td>\n",
       "      <td>3.000000</td>\n",
       "      <td>35.000000</td>\n",
       "      <td>0.000000</td>\n",
       "      <td>178.000000</td>\n",
       "      <td>11.000000</td>\n",
       "    </tr>\n",
       "    <tr>\n",
       "      <th>75%</th>\n",
       "      <td>296.127500</td>\n",
       "      <td>4.000000</td>\n",
       "      <td>41.000000</td>\n",
       "      <td>0.000000</td>\n",
       "      <td>272.000000</td>\n",
       "      <td>17.000000</td>\n",
       "    </tr>\n",
       "    <tr>\n",
       "      <th>max</th>\n",
       "      <td>9716.500000</td>\n",
       "      <td>5.000000</td>\n",
       "      <td>73.000000</td>\n",
       "      <td>1.000000</td>\n",
       "      <td>365.000000</td>\n",
       "      <td>23.000000</td>\n",
       "    </tr>\n",
       "  </tbody>\n",
       "</table>\n",
       "</div>"
      ],
      "text/plain": [
       "       Transaction Amount      Quantity  Customer Age  Is Fraudulent  \\\n",
       "count        23634.000000  23634.000000  23634.000000   23634.000000   \n",
       "mean           229.367099      3.000550     34.560210       0.051705   \n",
       "std            282.046669      1.419663     10.009471       0.221436   \n",
       "min             10.000000      1.000000     -2.000000       0.000000   \n",
       "25%             69.070000      2.000000     28.000000       0.000000   \n",
       "50%            151.415000      3.000000     35.000000       0.000000   \n",
       "75%            296.127500      4.000000     41.000000       0.000000   \n",
       "max           9716.500000      5.000000     73.000000       1.000000   \n",
       "\n",
       "       Account Age Days  Transaction Hour  \n",
       "count      23634.000000      23634.000000  \n",
       "mean         178.660531         11.266015  \n",
       "std          107.388682          6.980659  \n",
       "min            1.000000          0.000000  \n",
       "25%           84.000000          5.000000  \n",
       "50%          178.000000         11.000000  \n",
       "75%          272.000000         17.000000  \n",
       "max          365.000000         23.000000  "
      ]
     },
     "execution_count": 5,
     "metadata": {},
     "output_type": "execute_result"
    }
   ],
   "source": [
    "df.describe()"
   ]
  },
  {
   "cell_type": "code",
   "execution_count": 6,
   "id": "bd0cc87f-ad0b-4697-a6ec-cbfe7f3d0162",
   "metadata": {},
   "outputs": [
    {
     "data": {
      "text/plain": [
       "9"
      ]
     },
     "execution_count": 6,
     "metadata": {},
     "output_type": "execute_result"
    }
   ],
   "source": [
    "(df['Customer Age'] <= 0).sum()"
   ]
  },
  {
   "cell_type": "markdown",
   "id": "758f13fb-a63a-4f86-a922-52bef72120ae",
   "metadata": {},
   "source": [
    "**Conclusion**: The data has 23634 rows, 8 predictors, 1 respond variable (\"Is Fraudulent\"). Of the predictors, 3 are categorical (\"Payment Method\", \"Product Categor\", and \"Device Used\"), while the rest are numerical. There are no missing values. However, there are invalid values in \"Customer Age\" column where some customers have non-positive age."
   ]
  },
  {
   "cell_type": "markdown",
   "id": "cdfa528c-ceb5-4ace-b402-53a404cb06b2",
   "metadata": {},
   "source": [
    "I will drop the rows with invalid age.\n",
    "\n",
    "I will also transform \"Transaction Amount\" using log because that column is very skewed."
   ]
  },
  {
   "cell_type": "code",
   "execution_count": 7,
   "id": "4cb1c90f-d77b-469a-b82e-c5e787b8945f",
   "metadata": {},
   "outputs": [],
   "source": [
    "df_clean = df[df['Customer Age'] > 0].copy()\n",
    "df_clean['Transaction Amount'] = np.log(df_clean['Transaction Amount'])"
   ]
  },
  {
   "cell_type": "markdown",
   "id": "20d6c15f-4f19-414e-9cf4-8f0ffb21c9f3",
   "metadata": {},
   "source": [
    "## Train/valid/test split"
   ]
  },
  {
   "cell_type": "code",
   "execution_count": 8,
   "id": "6f66540b-498b-4fa3-b1f4-b33ceabf321b",
   "metadata": {},
   "outputs": [],
   "source": [
    "from sklearn.model_selection import train_test_split"
   ]
  },
  {
   "cell_type": "code",
   "execution_count": 9,
   "id": "981fe9b6-0d3e-4ff4-8020-b5f527c655e7",
   "metadata": {},
   "outputs": [
    {
     "name": "stdout",
     "output_type": "stream",
     "text": [
      "train: (14175, 9)\n",
      "valid: (4725, 9)\n",
      "test: (4725, 9)\n"
     ]
    }
   ],
   "source": [
    "df_train, df_non_train = train_test_split(df_clean, train_size=0.6, random_state=99)\n",
    "df_valid, df_test = train_test_split(df_non_train, train_size=0.5, random_state=123)\n",
    "\n",
    "print('train:', df_train.shape)\n",
    "print('valid:', df_valid.shape)\n",
    "print('test:', df_test.shape)"
   ]
  },
  {
   "cell_type": "markdown",
   "id": "61059064-905e-4aeb-b765-c906d132ef3b",
   "metadata": {},
   "source": [
    "## X/y split"
   ]
  },
  {
   "cell_type": "code",
   "execution_count": 10,
   "id": "5f48cc80-f7bd-4cfe-8532-0be6ea4b06f1",
   "metadata": {},
   "outputs": [],
   "source": [
    "def split_Xy(df: pd.DataFrame, target_col: str) -> tuple[pd.DataFrame, pd.Series]:\n",
    "    X = df.drop(target_col, axis=1).copy()\n",
    "    y = df[target_col].copy()\n",
    "    return (X, y)"
   ]
  },
  {
   "cell_type": "code",
   "execution_count": 11,
   "id": "2316d2ea-3efd-4469-a9cc-b539aa8fd42d",
   "metadata": {},
   "outputs": [],
   "source": [
    "target_col = 'Is Fraudulent'\n",
    "X_train, y_train = split_Xy(df_train, target_col)\n",
    "X_valid, y_valid = split_Xy(df_valid, target_col)\n",
    "X_test, y_test = split_Xy(df_test, target_col)"
   ]
  },
  {
   "cell_type": "markdown",
   "id": "f7afbb70-89a5-4e03-b1a1-ac82d2590c95",
   "metadata": {},
   "source": [
    "# Question 2: Exploratory Data Analysis (EDA)\n",
    "\n",
    "Perform Exploratory Data Analysis to understand data better. Identify patterns, correlations, and potential outliers that could indicate fraudulent behavior.\n",
    "\n",
    "- Use at least four visualizations, including both histograms and boxplots, to identify patterns and compare feature distributions between fraud and non-fraud cases.\n",
    "- Analyze the relationships between features using correlation.\n",
    "- Provide at least four key insights from the EDA that could help identify fraudulent transactions quickly.\n",
    "\n"
   ]
  },
  {
   "cell_type": "code",
   "execution_count": 12,
   "id": "33325289-ac89-4755-9c59-81118469e731",
   "metadata": {},
   "outputs": [],
   "source": [
    "num_cols = ['Transaction Amount', 'Quantity', 'Customer Age', 'Account Age Days', 'Transaction Hour']\n",
    "cat_cols = ['Payment Method', 'Product Category', 'Device Used']"
   ]
  },
  {
   "cell_type": "markdown",
   "id": "fb69daa1-852b-4b64-8710-85a8a292f238",
   "metadata": {},
   "source": [
    "## Numerical predictors"
   ]
  },
  {
   "cell_type": "code",
   "execution_count": 13,
   "id": "faeb169d-2f6b-4cfb-b626-83384a0e2796",
   "metadata": {},
   "outputs": [],
   "source": [
    "def create_subplots_grid(n_vars: int, ncols: int):\n",
    "    nrows = int(np.ceil(n_vars / ncols))\n",
    "    fig, axes = plt.subplots(nrows=nrows, ncols=ncols)\n",
    "    axes = axes.flatten()\n",
    "    axes_used = axes[:n_vars]\n",
    "    for ax in axes[n_vars:]:\n",
    "        ax.set_axis_off()\n",
    "    return (fig, axes_used)"
   ]
  },
  {
   "cell_type": "code",
   "execution_count": 14,
   "id": "2f007feb-7705-47cd-ad1a-527e6364fb12",
   "metadata": {},
   "outputs": [
    {
     "data": {
      "image/png": "[encoded data removed]",
      "text/plain": [
       "<Figure size 640x700 with 6 Axes>"
      ]
     },
     "metadata": {},
     "output_type": "display_data"
    }
   ],
   "source": [
    "fig, axes = create_subplots_grid(len(num_cols), ncols=2)\n",
    "fig.set_figheight(7)\n",
    "for ax,col in zip(axes, num_cols):\n",
    "    sns.kdeplot(df_train, x=col, hue=target_col, ax=ax, common_norm=False)\n",
    "plt.tight_layout()"
   ]
  },
  {
   "cell_type": "code",
   "execution_count": 15,
   "id": "549c0876-b1cf-4900-abd3-f1bdf6a081e4",
   "metadata": {},
   "outputs": [
    {
     "data": {
      "image/png": "[encoded data removed]",
      "text/plain": [
       "<Figure size 640x700 with 6 Axes>"
      ]
     },
     "metadata": {},
     "output_type": "display_data"
    }
   ],
   "source": [
    "fig, axes = create_subplots_grid(len(num_cols), ncols=2)\n",
    "fig.set_figheight(7)\n",
    "for ax,col in zip(axes, num_cols):\n",
    "    sns.boxplot(df_train, x='Is Fraudulent', y=col, ax=ax)\n",
    "plt.tight_layout()"
   ]
  },
  {
   "cell_type": "markdown",
   "id": "9f0f7923-8aea-43df-8714-539408fbec8c",
   "metadata": {},
   "source": [
    "Observation: fraudulent transactions are more likely to have lower \"Transaction Hour\" and \"Account Age Days\", but higher \"Transaction Amount\". Other variables don't appear to be helpful."
   ]
  },
  {
   "cell_type": "markdown",
   "id": "074bc3cb-9d0f-4895-a14f-54d0d08f0b82",
   "metadata": {},
   "source": [
    "## Categorical variables"
   ]
  },
  {
   "cell_type": "code",
   "execution_count": 16,
   "id": "007bf9b8-b4a9-4919-b6e4-cb89a804d155",
   "metadata": {},
   "outputs": [
    {
     "data": {
      "image/png": "[encoded data removed]",
      "text/plain": [
       "<Figure size 500x480 with 3 Axes>"
      ]
     },
     "metadata": {},
     "output_type": "display_data"
    }
   ],
   "source": [
    "fig, axes = create_subplots_grid(len(cat_cols), ncols=1)\n",
    "fig.set_figwidth(5)\n",
    "for ax,col in zip(axes, cat_cols):\n",
    "    sns.countplot(df_train, y=col, ax=ax)\n",
    "plt.tight_layout()"
   ]
  },
  {
   "cell_type": "code",
   "execution_count": 17,
   "id": "a56aa912-8d96-4e29-8d55-6f2cd6a0b0c3",
   "metadata": {},
   "outputs": [
    {
     "data": {
      "image/png": "[encoded data removed]",
      "text/plain": [
       "<Figure size 500x480 with 3 Axes>"
      ]
     },
     "metadata": {},
     "output_type": "display_data"
    }
   ],
   "source": [
    "fig, axes = create_subplots_grid(len(cat_cols), ncols=1)\n",
    "fig.set_figwidth(5)\n",
    "for ax,col in zip(axes, cat_cols):\n",
    "    sns.countplot(df_train, y=col, hue='Is Fraudulent', ax=ax)\n",
    "plt.tight_layout()"
   ]
  },
  {
   "cell_type": "markdown",
   "id": "70cbb785-5479-45ca-813a-0779d4493406",
   "metadata": {},
   "source": [
    "Observation: there seems to be no relationship between the categorical variables and the response variable."
   ]
  },
  {
   "cell_type": "markdown",
   "id": "0b8d98ea-555e-4080-b1da-51e9166ab71e",
   "metadata": {},
   "source": [
    "## Conclusions\n",
    "\n",
    "- Fraudulent transactions are more likely to have lower \"Transaction Hour\"\n",
    "- Fraudulent transactions are more likely to have lower \"Account Age Days\"\n",
    "- Fraudulent transactions are more likely to have higher \"Transaction Amount\"\n",
    "- Other variables don't appear to be helpful"
   ]
  },
  {
   "cell_type": "markdown",
   "id": "5c18969f-3a31-48e4-8096-df7bf0654d0c",
   "metadata": {},
   "source": [
    "# Question 3: Weight of Evidence (WOE) Transformation\n",
    "\n",
    "Weight of Evidence (WOE) is a technique used to transform categorical variables into numerical values based on their relationship with the likelihood of fraud.\n",
    "\n",
    "- Create a categorical variable from a numerical variable using the binning method.\n",
    "- Compute WOE values for each category in that variable using the WOE formula.\n",
    "- Label the strength of information using IV (Information Value) with three categories: [strong, weak, very low].\n",
    "- Based on this result, suggest which variables can be used to detect fraudulent cases.\n"
   ]
  },
  {
   "cell_type": "code",
   "execution_count": 18,
   "id": "acd1d512-3948-4b14-885c-e3b9a22505df",
   "metadata": {
    "scrolled": true
   },
   "outputs": [
    {
     "data": {
      "text/html": [
       "<div>\n",
       "<style scoped>\n",
       "    .dataframe tbody tr th:only-of-type {\n",
       "        vertical-align: middle;\n",
       "    }\n",
       "\n",
       "    .dataframe tbody tr th {\n",
       "        vertical-align: top;\n",
       "    }\n",
       "\n",
       "    .dataframe thead th {\n",
       "        text-align: right;\n",
       "    }\n",
       "</style>\n",
       "<table border=\"1\" class=\"dataframe\">\n",
       "  <thead>\n",
       "    <tr style=\"text-align: right;\">\n",
       "      <th>Is Fraudulent</th>\n",
       "      <th>0</th>\n",
       "      <th>1</th>\n",
       "      <th>All</th>\n",
       "      <th>p_good</th>\n",
       "      <th>p_bad</th>\n",
       "      <th>WOE</th>\n",
       "      <th>contribution</th>\n",
       "    </tr>\n",
       "    <tr>\n",
       "      <th>Payment Method</th>\n",
       "      <th></th>\n",
       "      <th></th>\n",
       "      <th></th>\n",
       "      <th></th>\n",
       "      <th></th>\n",
       "      <th></th>\n",
       "      <th></th>\n",
       "    </tr>\n",
       "  </thead>\n",
       "  <tbody>\n",
       "    <tr>\n",
       "      <th>PayPal</th>\n",
       "      <td>3330</td>\n",
       "      <td>202</td>\n",
       "      <td>3532</td>\n",
       "      <td>0.247989</td>\n",
       "      <td>0.270415</td>\n",
       "      <td>13.815511</td>\n",
       "      <td>-0.309823</td>\n",
       "    </tr>\n",
       "    <tr>\n",
       "      <th>bank transfer</th>\n",
       "      <td>3309</td>\n",
       "      <td>182</td>\n",
       "      <td>3491</td>\n",
       "      <td>0.246425</td>\n",
       "      <td>0.243641</td>\n",
       "      <td>13.815512</td>\n",
       "      <td>0.038464</td>\n",
       "    </tr>\n",
       "    <tr>\n",
       "      <th>credit card</th>\n",
       "      <td>3342</td>\n",
       "      <td>192</td>\n",
       "      <td>3534</td>\n",
       "      <td>0.248883</td>\n",
       "      <td>0.257028</td>\n",
       "      <td>13.815512</td>\n",
       "      <td>-0.112530</td>\n",
       "    </tr>\n",
       "    <tr>\n",
       "      <th>debit card</th>\n",
       "      <td>3447</td>\n",
       "      <td>171</td>\n",
       "      <td>3618</td>\n",
       "      <td>0.256702</td>\n",
       "      <td>0.228916</td>\n",
       "      <td>13.815512</td>\n",
       "      <td>0.383888</td>\n",
       "    </tr>\n",
       "    <tr>\n",
       "      <th>All</th>\n",
       "      <td>13428</td>\n",
       "      <td>747</td>\n",
       "      <td>14175</td>\n",
       "      <td>1.000000</td>\n",
       "      <td>1.000000</td>\n",
       "      <td>13.815512</td>\n",
       "      <td>0.000000</td>\n",
       "    </tr>\n",
       "  </tbody>\n",
       "</table>\n",
       "</div>"
      ],
      "text/plain": [
       "Is Fraudulent       0    1    All    p_good     p_bad        WOE  contribution\n",
       "Payment Method                                                                \n",
       "PayPal           3330  202   3532  0.247989  0.270415  13.815511     -0.309823\n",
       "bank transfer    3309  182   3491  0.246425  0.243641  13.815512      0.038464\n",
       "credit card      3342  192   3534  0.248883  0.257028  13.815512     -0.112530\n",
       "debit card       3447  171   3618  0.256702  0.228916  13.815512      0.383888\n",
       "All             13428  747  14175  1.000000  1.000000  13.815512      0.000000"
      ]
     },
     "metadata": {},
     "output_type": "display_data"
    },
    {
     "data": {
      "text/html": [
       "<div>\n",
       "<style scoped>\n",
       "    .dataframe tbody tr th:only-of-type {\n",
       "        vertical-align: middle;\n",
       "    }\n",
       "\n",
       "    .dataframe tbody tr th {\n",
       "        vertical-align: top;\n",
       "    }\n",
       "\n",
       "    .dataframe thead th {\n",
       "        text-align: right;\n",
       "    }\n",
       "</style>\n",
       "<table border=\"1\" class=\"dataframe\">\n",
       "  <thead>\n",
       "    <tr style=\"text-align: right;\">\n",
       "      <th>Is Fraudulent</th>\n",
       "      <th>0</th>\n",
       "      <th>1</th>\n",
       "      <th>All</th>\n",
       "      <th>p_good</th>\n",
       "      <th>p_bad</th>\n",
       "      <th>WOE</th>\n",
       "      <th>contribution</th>\n",
       "    </tr>\n",
       "    <tr>\n",
       "      <th>Product Category</th>\n",
       "      <th></th>\n",
       "      <th></th>\n",
       "      <th></th>\n",
       "      <th></th>\n",
       "      <th></th>\n",
       "      <th></th>\n",
       "      <th></th>\n",
       "    </tr>\n",
       "  </thead>\n",
       "  <tbody>\n",
       "    <tr>\n",
       "      <th>clothing</th>\n",
       "      <td>2655</td>\n",
       "      <td>168</td>\n",
       "      <td>2823</td>\n",
       "      <td>0.197721</td>\n",
       "      <td>0.224900</td>\n",
       "      <td>13.815511</td>\n",
       "      <td>-0.375484</td>\n",
       "    </tr>\n",
       "    <tr>\n",
       "      <th>electronics</th>\n",
       "      <td>2732</td>\n",
       "      <td>134</td>\n",
       "      <td>2866</td>\n",
       "      <td>0.203455</td>\n",
       "      <td>0.179384</td>\n",
       "      <td>13.815512</td>\n",
       "      <td>0.332557</td>\n",
       "    </tr>\n",
       "    <tr>\n",
       "      <th>health &amp; beauty</th>\n",
       "      <td>2646</td>\n",
       "      <td>139</td>\n",
       "      <td>2785</td>\n",
       "      <td>0.197051</td>\n",
       "      <td>0.186078</td>\n",
       "      <td>13.815512</td>\n",
       "      <td>0.151602</td>\n",
       "    </tr>\n",
       "    <tr>\n",
       "      <th>home &amp; garden</th>\n",
       "      <td>2707</td>\n",
       "      <td>151</td>\n",
       "      <td>2858</td>\n",
       "      <td>0.201594</td>\n",
       "      <td>0.202142</td>\n",
       "      <td>13.815512</td>\n",
       "      <td>-0.007574</td>\n",
       "    </tr>\n",
       "    <tr>\n",
       "      <th>toys &amp; games</th>\n",
       "      <td>2688</td>\n",
       "      <td>155</td>\n",
       "      <td>2843</td>\n",
       "      <td>0.200179</td>\n",
       "      <td>0.207497</td>\n",
       "      <td>13.815512</td>\n",
       "      <td>-0.101101</td>\n",
       "    </tr>\n",
       "    <tr>\n",
       "      <th>All</th>\n",
       "      <td>13428</td>\n",
       "      <td>747</td>\n",
       "      <td>14175</td>\n",
       "      <td>1.000000</td>\n",
       "      <td>1.000000</td>\n",
       "      <td>13.815512</td>\n",
       "      <td>0.000000</td>\n",
       "    </tr>\n",
       "  </tbody>\n",
       "</table>\n",
       "</div>"
      ],
      "text/plain": [
       "Is Fraudulent         0    1    All    p_good     p_bad        WOE  \\\n",
       "Product Category                                                     \n",
       "clothing           2655  168   2823  0.197721  0.224900  13.815511   \n",
       "electronics        2732  134   2866  0.203455  0.179384  13.815512   \n",
       "health & beauty    2646  139   2785  0.197051  0.186078  13.815512   \n",
       "home & garden      2707  151   2858  0.201594  0.202142  13.815512   \n",
       "toys & games       2688  155   2843  0.200179  0.207497  13.815512   \n",
       "All               13428  747  14175  1.000000  1.000000  13.815512   \n",
       "\n",
       "Is Fraudulent     contribution  \n",
       "Product Category                \n",
       "clothing             -0.375484  \n",
       "electronics           0.332557  \n",
       "health & beauty       0.151602  \n",
       "home & garden        -0.007574  \n",
       "toys & games         -0.101101  \n",
       "All                   0.000000  "
      ]
     },
     "metadata": {},
     "output_type": "display_data"
    },
    {
     "data": {
      "text/html": [
       "<div>\n",
       "<style scoped>\n",
       "    .dataframe tbody tr th:only-of-type {\n",
       "        vertical-align: middle;\n",
       "    }\n",
       "\n",
       "    .dataframe tbody tr th {\n",
       "        vertical-align: top;\n",
       "    }\n",
       "\n",
       "    .dataframe thead th {\n",
       "        text-align: right;\n",
       "    }\n",
       "</style>\n",
       "<table border=\"1\" class=\"dataframe\">\n",
       "  <thead>\n",
       "    <tr style=\"text-align: right;\">\n",
       "      <th>Is Fraudulent</th>\n",
       "      <th>0</th>\n",
       "      <th>1</th>\n",
       "      <th>All</th>\n",
       "      <th>p_good</th>\n",
       "      <th>p_bad</th>\n",
       "      <th>WOE</th>\n",
       "      <th>contribution</th>\n",
       "    </tr>\n",
       "    <tr>\n",
       "      <th>Device Used</th>\n",
       "      <th></th>\n",
       "      <th></th>\n",
       "      <th></th>\n",
       "      <th></th>\n",
       "      <th></th>\n",
       "      <th></th>\n",
       "      <th></th>\n",
       "    </tr>\n",
       "  </thead>\n",
       "  <tbody>\n",
       "    <tr>\n",
       "      <th>desktop</th>\n",
       "      <td>4563</td>\n",
       "      <td>248</td>\n",
       "      <td>4811</td>\n",
       "      <td>0.339812</td>\n",
       "      <td>0.331995</td>\n",
       "      <td>13.815512</td>\n",
       "      <td>0.108005</td>\n",
       "    </tr>\n",
       "    <tr>\n",
       "      <th>mobile</th>\n",
       "      <td>4424</td>\n",
       "      <td>266</td>\n",
       "      <td>4690</td>\n",
       "      <td>0.329461</td>\n",
       "      <td>0.356091</td>\n",
       "      <td>13.815511</td>\n",
       "      <td>-0.367910</td>\n",
       "    </tr>\n",
       "    <tr>\n",
       "      <th>tablet</th>\n",
       "      <td>4441</td>\n",
       "      <td>233</td>\n",
       "      <td>4674</td>\n",
       "      <td>0.330727</td>\n",
       "      <td>0.311914</td>\n",
       "      <td>13.815512</td>\n",
       "      <td>0.259905</td>\n",
       "    </tr>\n",
       "    <tr>\n",
       "      <th>All</th>\n",
       "      <td>13428</td>\n",
       "      <td>747</td>\n",
       "      <td>14175</td>\n",
       "      <td>1.000000</td>\n",
       "      <td>1.000000</td>\n",
       "      <td>13.815512</td>\n",
       "      <td>0.000000</td>\n",
       "    </tr>\n",
       "  </tbody>\n",
       "</table>\n",
       "</div>"
      ],
      "text/plain": [
       "Is Fraudulent      0    1    All    p_good     p_bad        WOE  contribution\n",
       "Device Used                                                                  \n",
       "desktop         4563  248   4811  0.339812  0.331995  13.815512      0.108005\n",
       "mobile          4424  266   4690  0.329461  0.356091  13.815511     -0.367910\n",
       "tablet          4441  233   4674  0.330727  0.311914  13.815512      0.259905\n",
       "All            13428  747  14175  1.000000  1.000000  13.815512      0.000000"
      ]
     },
     "metadata": {},
     "output_type": "display_data"
    },
    {
     "data": {
      "text/html": [
       "<div>\n",
       "<style scoped>\n",
       "    .dataframe tbody tr th:only-of-type {\n",
       "        vertical-align: middle;\n",
       "    }\n",
       "\n",
       "    .dataframe tbody tr th {\n",
       "        vertical-align: top;\n",
       "    }\n",
       "\n",
       "    .dataframe thead th {\n",
       "        text-align: right;\n",
       "    }\n",
       "</style>\n",
       "<table border=\"1\" class=\"dataframe\">\n",
       "  <thead>\n",
       "    <tr style=\"text-align: right;\">\n",
       "      <th>Is Fraudulent</th>\n",
       "      <th>0</th>\n",
       "      <th>1</th>\n",
       "      <th>All</th>\n",
       "      <th>p_good</th>\n",
       "      <th>p_bad</th>\n",
       "      <th>WOE</th>\n",
       "      <th>contribution</th>\n",
       "    </tr>\n",
       "    <tr>\n",
       "      <th>Transaction Amount_bin</th>\n",
       "      <th></th>\n",
       "      <th></th>\n",
       "      <th></th>\n",
       "      <th></th>\n",
       "      <th></th>\n",
       "      <th></th>\n",
       "      <th></th>\n",
       "    </tr>\n",
       "  </thead>\n",
       "  <tbody>\n",
       "    <tr>\n",
       "      <th>(2.302, 4.235]</th>\n",
       "      <td>3443</td>\n",
       "      <td>101</td>\n",
       "      <td>3544</td>\n",
       "      <td>0.256405</td>\n",
       "      <td>0.135207</td>\n",
       "      <td>13.815512</td>\n",
       "      <td>1.674399</td>\n",
       "    </tr>\n",
       "    <tr>\n",
       "      <th>(4.235, 5.019]</th>\n",
       "      <td>3384</td>\n",
       "      <td>160</td>\n",
       "      <td>3544</td>\n",
       "      <td>0.252011</td>\n",
       "      <td>0.214190</td>\n",
       "      <td>13.815512</td>\n",
       "      <td>0.522511</td>\n",
       "    </tr>\n",
       "    <tr>\n",
       "      <th>(5.019, 5.691]</th>\n",
       "      <td>3385</td>\n",
       "      <td>158</td>\n",
       "      <td>3543</td>\n",
       "      <td>0.252085</td>\n",
       "      <td>0.211513</td>\n",
       "      <td>13.815512</td>\n",
       "      <td>0.560530</td>\n",
       "    </tr>\n",
       "    <tr>\n",
       "      <th>(5.691, 9.182]</th>\n",
       "      <td>3216</td>\n",
       "      <td>328</td>\n",
       "      <td>3544</td>\n",
       "      <td>0.239500</td>\n",
       "      <td>0.439090</td>\n",
       "      <td>13.815511</td>\n",
       "      <td>-2.757440</td>\n",
       "    </tr>\n",
       "    <tr>\n",
       "      <th>All</th>\n",
       "      <td>13428</td>\n",
       "      <td>747</td>\n",
       "      <td>14175</td>\n",
       "      <td>1.000000</td>\n",
       "      <td>1.000000</td>\n",
       "      <td>13.815512</td>\n",
       "      <td>0.000000</td>\n",
       "    </tr>\n",
       "  </tbody>\n",
       "</table>\n",
       "</div>"
      ],
      "text/plain": [
       "Is Fraudulent               0    1    All    p_good     p_bad        WOE  \\\n",
       "Transaction Amount_bin                                                     \n",
       "(2.302, 4.235]           3443  101   3544  0.256405  0.135207  13.815512   \n",
       "(4.235, 5.019]           3384  160   3544  0.252011  0.214190  13.815512   \n",
       "(5.019, 5.691]           3385  158   3543  0.252085  0.211513  13.815512   \n",
       "(5.691, 9.182]           3216  328   3544  0.239500  0.439090  13.815511   \n",
       "All                     13428  747  14175  1.000000  1.000000  13.815512   \n",
       "\n",
       "Is Fraudulent           contribution  \n",
       "Transaction Amount_bin                \n",
       "(2.302, 4.235]              1.674399  \n",
       "(4.235, 5.019]              0.522511  \n",
       "(5.019, 5.691]              0.560530  \n",
       "(5.691, 9.182]             -2.757440  \n",
       "All                         0.000000  "
      ]
     },
     "metadata": {},
     "output_type": "display_data"
    },
    {
     "data": {
      "text/html": [
       "<div>\n",
       "<style scoped>\n",
       "    .dataframe tbody tr th:only-of-type {\n",
       "        vertical-align: middle;\n",
       "    }\n",
       "\n",
       "    .dataframe tbody tr th {\n",
       "        vertical-align: top;\n",
       "    }\n",
       "\n",
       "    .dataframe thead th {\n",
       "        text-align: right;\n",
       "    }\n",
       "</style>\n",
       "<table border=\"1\" class=\"dataframe\">\n",
       "  <thead>\n",
       "    <tr style=\"text-align: right;\">\n",
       "      <th>Is Fraudulent</th>\n",
       "      <th>0</th>\n",
       "      <th>1</th>\n",
       "      <th>All</th>\n",
       "      <th>p_good</th>\n",
       "      <th>p_bad</th>\n",
       "      <th>WOE</th>\n",
       "      <th>contribution</th>\n",
       "    </tr>\n",
       "    <tr>\n",
       "      <th>Quantity_bin</th>\n",
       "      <th></th>\n",
       "      <th></th>\n",
       "      <th></th>\n",
       "      <th></th>\n",
       "      <th></th>\n",
       "      <th></th>\n",
       "      <th></th>\n",
       "    </tr>\n",
       "  </thead>\n",
       "  <tbody>\n",
       "    <tr>\n",
       "      <th>(0.999, 2.0]</th>\n",
       "      <td>5396</td>\n",
       "      <td>319</td>\n",
       "      <td>5715</td>\n",
       "      <td>0.401847</td>\n",
       "      <td>0.427041</td>\n",
       "      <td>13.815511</td>\n",
       "      <td>-0.348076</td>\n",
       "    </tr>\n",
       "    <tr>\n",
       "      <th>(2.0, 3.0]</th>\n",
       "      <td>2704</td>\n",
       "      <td>126</td>\n",
       "      <td>2830</td>\n",
       "      <td>0.201370</td>\n",
       "      <td>0.168675</td>\n",
       "      <td>13.815512</td>\n",
       "      <td>0.451706</td>\n",
       "    </tr>\n",
       "    <tr>\n",
       "      <th>(3.0, 4.0]</th>\n",
       "      <td>2634</td>\n",
       "      <td>148</td>\n",
       "      <td>2782</td>\n",
       "      <td>0.196157</td>\n",
       "      <td>0.198126</td>\n",
       "      <td>13.815512</td>\n",
       "      <td>-0.027197</td>\n",
       "    </tr>\n",
       "    <tr>\n",
       "      <th>(4.0, 5.0]</th>\n",
       "      <td>2694</td>\n",
       "      <td>154</td>\n",
       "      <td>2848</td>\n",
       "      <td>0.200626</td>\n",
       "      <td>0.206158</td>\n",
       "      <td>13.815512</td>\n",
       "      <td>-0.076433</td>\n",
       "    </tr>\n",
       "    <tr>\n",
       "      <th>All</th>\n",
       "      <td>13428</td>\n",
       "      <td>747</td>\n",
       "      <td>14175</td>\n",
       "      <td>1.000000</td>\n",
       "      <td>1.000000</td>\n",
       "      <td>13.815512</td>\n",
       "      <td>0.000000</td>\n",
       "    </tr>\n",
       "  </tbody>\n",
       "</table>\n",
       "</div>"
      ],
      "text/plain": [
       "Is Fraudulent      0    1    All    p_good     p_bad        WOE  contribution\n",
       "Quantity_bin                                                                 \n",
       "(0.999, 2.0]    5396  319   5715  0.401847  0.427041  13.815511     -0.348076\n",
       "(2.0, 3.0]      2704  126   2830  0.201370  0.168675  13.815512      0.451706\n",
       "(3.0, 4.0]      2634  148   2782  0.196157  0.198126  13.815512     -0.027197\n",
       "(4.0, 5.0]      2694  154   2848  0.200626  0.206158  13.815512     -0.076433\n",
       "All            13428  747  14175  1.000000  1.000000  13.815512      0.000000"
      ]
     },
     "metadata": {},
     "output_type": "display_data"
    },
    {
     "data": {
      "text/html": [
       "<div>\n",
       "<style scoped>\n",
       "    .dataframe tbody tr th:only-of-type {\n",
       "        vertical-align: middle;\n",
       "    }\n",
       "\n",
       "    .dataframe tbody tr th {\n",
       "        vertical-align: top;\n",
       "    }\n",
       "\n",
       "    .dataframe thead th {\n",
       "        text-align: right;\n",
       "    }\n",
       "</style>\n",
       "<table border=\"1\" class=\"dataframe\">\n",
       "  <thead>\n",
       "    <tr style=\"text-align: right;\">\n",
       "      <th>Is Fraudulent</th>\n",
       "      <th>0</th>\n",
       "      <th>1</th>\n",
       "      <th>All</th>\n",
       "      <th>p_good</th>\n",
       "      <th>p_bad</th>\n",
       "      <th>WOE</th>\n",
       "      <th>contribution</th>\n",
       "    </tr>\n",
       "    <tr>\n",
       "      <th>Customer Age_bin</th>\n",
       "      <th></th>\n",
       "      <th></th>\n",
       "      <th></th>\n",
       "      <th></th>\n",
       "      <th></th>\n",
       "      <th></th>\n",
       "      <th></th>\n",
       "    </tr>\n",
       "  </thead>\n",
       "  <tbody>\n",
       "    <tr>\n",
       "      <th>(0.999, 28.0]</th>\n",
       "      <td>3670</td>\n",
       "      <td>197</td>\n",
       "      <td>3867</td>\n",
       "      <td>0.273310</td>\n",
       "      <td>0.263722</td>\n",
       "      <td>13.815512</td>\n",
       "      <td>0.132462</td>\n",
       "    </tr>\n",
       "    <tr>\n",
       "      <th>(28.0, 35.0]</th>\n",
       "      <td>3544</td>\n",
       "      <td>206</td>\n",
       "      <td>3750</td>\n",
       "      <td>0.263926</td>\n",
       "      <td>0.275770</td>\n",
       "      <td>13.815512</td>\n",
       "      <td>-0.163626</td>\n",
       "    </tr>\n",
       "    <tr>\n",
       "      <th>(35.0, 41.0]</th>\n",
       "      <td>2935</td>\n",
       "      <td>164</td>\n",
       "      <td>3099</td>\n",
       "      <td>0.218573</td>\n",
       "      <td>0.219545</td>\n",
       "      <td>13.815512</td>\n",
       "      <td>-0.013425</td>\n",
       "    </tr>\n",
       "    <tr>\n",
       "      <th>(41.0, 73.0]</th>\n",
       "      <td>3279</td>\n",
       "      <td>180</td>\n",
       "      <td>3459</td>\n",
       "      <td>0.244191</td>\n",
       "      <td>0.240964</td>\n",
       "      <td>13.815512</td>\n",
       "      <td>0.044588</td>\n",
       "    </tr>\n",
       "    <tr>\n",
       "      <th>All</th>\n",
       "      <td>13428</td>\n",
       "      <td>747</td>\n",
       "      <td>14175</td>\n",
       "      <td>1.000000</td>\n",
       "      <td>1.000000</td>\n",
       "      <td>13.815512</td>\n",
       "      <td>0.000000</td>\n",
       "    </tr>\n",
       "  </tbody>\n",
       "</table>\n",
       "</div>"
      ],
      "text/plain": [
       "Is Fraudulent         0    1    All    p_good     p_bad        WOE  \\\n",
       "Customer Age_bin                                                     \n",
       "(0.999, 28.0]      3670  197   3867  0.273310  0.263722  13.815512   \n",
       "(28.0, 35.0]       3544  206   3750  0.263926  0.275770  13.815512   \n",
       "(35.0, 41.0]       2935  164   3099  0.218573  0.219545  13.815512   \n",
       "(41.0, 73.0]       3279  180   3459  0.244191  0.240964  13.815512   \n",
       "All               13428  747  14175  1.000000  1.000000  13.815512   \n",
       "\n",
       "Is Fraudulent     contribution  \n",
       "Customer Age_bin                \n",
       "(0.999, 28.0]         0.132462  \n",
       "(28.0, 35.0]         -0.163626  \n",
       "(35.0, 41.0]         -0.013425  \n",
       "(41.0, 73.0]          0.044588  \n",
       "All                   0.000000  "
      ]
     },
     "metadata": {},
     "output_type": "display_data"
    },
    {
     "data": {
      "text/html": [
       "<div>\n",
       "<style scoped>\n",
       "    .dataframe tbody tr th:only-of-type {\n",
       "        vertical-align: middle;\n",
       "    }\n",
       "\n",
       "    .dataframe tbody tr th {\n",
       "        vertical-align: top;\n",
       "    }\n",
       "\n",
       "    .dataframe thead th {\n",
       "        text-align: right;\n",
       "    }\n",
       "</style>\n",
       "<table border=\"1\" class=\"dataframe\">\n",
       "  <thead>\n",
       "    <tr style=\"text-align: right;\">\n",
       "      <th>Is Fraudulent</th>\n",
       "      <th>0</th>\n",
       "      <th>1</th>\n",
       "      <th>All</th>\n",
       "      <th>p_good</th>\n",
       "      <th>p_bad</th>\n",
       "      <th>WOE</th>\n",
       "      <th>contribution</th>\n",
       "    </tr>\n",
       "    <tr>\n",
       "      <th>Account Age Days_bin</th>\n",
       "      <th></th>\n",
       "      <th></th>\n",
       "      <th></th>\n",
       "      <th></th>\n",
       "      <th></th>\n",
       "      <th></th>\n",
       "      <th></th>\n",
       "    </tr>\n",
       "  </thead>\n",
       "  <tbody>\n",
       "    <tr>\n",
       "      <th>(0.999, 83.0]</th>\n",
       "      <td>3157</td>\n",
       "      <td>414</td>\n",
       "      <td>3571</td>\n",
       "      <td>0.235106</td>\n",
       "      <td>0.554217</td>\n",
       "      <td>13.815511</td>\n",
       "      <td>-4.408683</td>\n",
       "    </tr>\n",
       "    <tr>\n",
       "      <th>(83.0, 176.0]</th>\n",
       "      <td>3413</td>\n",
       "      <td>115</td>\n",
       "      <td>3528</td>\n",
       "      <td>0.254170</td>\n",
       "      <td>0.153949</td>\n",
       "      <td>13.815512</td>\n",
       "      <td>1.384608</td>\n",
       "    </tr>\n",
       "    <tr>\n",
       "      <th>(176.0, 272.0]</th>\n",
       "      <td>3446</td>\n",
       "      <td>109</td>\n",
       "      <td>3555</td>\n",
       "      <td>0.256628</td>\n",
       "      <td>0.145917</td>\n",
       "      <td>13.815512</td>\n",
       "      <td>1.529528</td>\n",
       "    </tr>\n",
       "    <tr>\n",
       "      <th>(272.0, 365.0]</th>\n",
       "      <td>3412</td>\n",
       "      <td>109</td>\n",
       "      <td>3521</td>\n",
       "      <td>0.254096</td>\n",
       "      <td>0.145917</td>\n",
       "      <td>13.815512</td>\n",
       "      <td>1.494547</td>\n",
       "    </tr>\n",
       "    <tr>\n",
       "      <th>All</th>\n",
       "      <td>13428</td>\n",
       "      <td>747</td>\n",
       "      <td>14175</td>\n",
       "      <td>1.000000</td>\n",
       "      <td>1.000000</td>\n",
       "      <td>13.815512</td>\n",
       "      <td>0.000000</td>\n",
       "    </tr>\n",
       "  </tbody>\n",
       "</table>\n",
       "</div>"
      ],
      "text/plain": [
       "Is Fraudulent             0    1    All    p_good     p_bad        WOE  \\\n",
       "Account Age Days_bin                                                     \n",
       "(0.999, 83.0]          3157  414   3571  0.235106  0.554217  13.815511   \n",
       "(83.0, 176.0]          3413  115   3528  0.254170  0.153949  13.815512   \n",
       "(176.0, 272.0]         3446  109   3555  0.256628  0.145917  13.815512   \n",
       "(272.0, 365.0]         3412  109   3521  0.254096  0.145917  13.815512   \n",
       "All                   13428  747  14175  1.000000  1.000000  13.815512   \n",
       "\n",
       "Is Fraudulent         contribution  \n",
       "Account Age Days_bin                \n",
       "(0.999, 83.0]            -4.408683  \n",
       "(83.0, 176.0]             1.384608  \n",
       "(176.0, 272.0]            1.529528  \n",
       "(272.0, 365.0]            1.494547  \n",
       "All                       0.000000  "
      ]
     },
     "metadata": {},
     "output_type": "display_data"
    },
    {
     "data": {
      "text/html": [
       "<div>\n",
       "<style scoped>\n",
       "    .dataframe tbody tr th:only-of-type {\n",
       "        vertical-align: middle;\n",
       "    }\n",
       "\n",
       "    .dataframe tbody tr th {\n",
       "        vertical-align: top;\n",
       "    }\n",
       "\n",
       "    .dataframe thead th {\n",
       "        text-align: right;\n",
       "    }\n",
       "</style>\n",
       "<table border=\"1\" class=\"dataframe\">\n",
       "  <thead>\n",
       "    <tr style=\"text-align: right;\">\n",
       "      <th>Is Fraudulent</th>\n",
       "      <th>0</th>\n",
       "      <th>1</th>\n",
       "      <th>All</th>\n",
       "      <th>p_good</th>\n",
       "      <th>p_bad</th>\n",
       "      <th>WOE</th>\n",
       "      <th>contribution</th>\n",
       "    </tr>\n",
       "    <tr>\n",
       "      <th>Transaction Hour_bin</th>\n",
       "      <th></th>\n",
       "      <th></th>\n",
       "      <th></th>\n",
       "      <th></th>\n",
       "      <th></th>\n",
       "      <th></th>\n",
       "      <th></th>\n",
       "    </tr>\n",
       "  </thead>\n",
       "  <tbody>\n",
       "    <tr>\n",
       "      <th>(-0.001, 5.0]</th>\n",
       "      <td>3359</td>\n",
       "      <td>413</td>\n",
       "      <td>3772</td>\n",
       "      <td>0.250149</td>\n",
       "      <td>0.552878</td>\n",
       "      <td>13.815511</td>\n",
       "      <td>-4.182359</td>\n",
       "    </tr>\n",
       "    <tr>\n",
       "      <th>(5.0, 11.0]</th>\n",
       "      <td>3294</td>\n",
       "      <td>115</td>\n",
       "      <td>3409</td>\n",
       "      <td>0.245308</td>\n",
       "      <td>0.153949</td>\n",
       "      <td>13.815512</td>\n",
       "      <td>1.262174</td>\n",
       "    </tr>\n",
       "    <tr>\n",
       "      <th>(11.0, 17.0]</th>\n",
       "      <td>3358</td>\n",
       "      <td>122</td>\n",
       "      <td>3480</td>\n",
       "      <td>0.250074</td>\n",
       "      <td>0.163320</td>\n",
       "      <td>13.815512</td>\n",
       "      <td>1.198558</td>\n",
       "    </tr>\n",
       "    <tr>\n",
       "      <th>(17.0, 23.0]</th>\n",
       "      <td>3417</td>\n",
       "      <td>97</td>\n",
       "      <td>3514</td>\n",
       "      <td>0.254468</td>\n",
       "      <td>0.129853</td>\n",
       "      <td>13.815513</td>\n",
       "      <td>1.721627</td>\n",
       "    </tr>\n",
       "    <tr>\n",
       "      <th>All</th>\n",
       "      <td>13428</td>\n",
       "      <td>747</td>\n",
       "      <td>14175</td>\n",
       "      <td>1.000000</td>\n",
       "      <td>1.000000</td>\n",
       "      <td>13.815512</td>\n",
       "      <td>0.000000</td>\n",
       "    </tr>\n",
       "  </tbody>\n",
       "</table>\n",
       "</div>"
      ],
      "text/plain": [
       "Is Fraudulent             0    1    All    p_good     p_bad        WOE  \\\n",
       "Transaction Hour_bin                                                     \n",
       "(-0.001, 5.0]          3359  413   3772  0.250149  0.552878  13.815511   \n",
       "(5.0, 11.0]            3294  115   3409  0.245308  0.153949  13.815512   \n",
       "(11.0, 17.0]           3358  122   3480  0.250074  0.163320  13.815512   \n",
       "(17.0, 23.0]           3417   97   3514  0.254468  0.129853  13.815513   \n",
       "All                   13428  747  14175  1.000000  1.000000  13.815512   \n",
       "\n",
       "Is Fraudulent         contribution  \n",
       "Transaction Hour_bin                \n",
       "(-0.001, 5.0]            -4.182359  \n",
       "(5.0, 11.0]               1.262174  \n",
       "(11.0, 17.0]              1.198558  \n",
       "(17.0, 23.0]              1.721627  \n",
       "All                       0.000000  "
      ]
     },
     "metadata": {},
     "output_type": "display_data"
    }
   ],
   "source": [
    "from IPython.display import display, Markdown\n",
    "\n",
    "df_train_bin = df_train.copy()\n",
    "for var in num_cols:\n",
    "    df_train_bin[var + '_bin'] = pd.qcut(df_train_bin[var], q=4, duplicates='drop')\n",
    "    df_train_bin = df_train_bin.drop(var, axis=1)\n",
    "\n",
    "crosstabs = {}\n",
    "for var in df_train_bin.columns:\n",
    "    if var == target_col:\n",
    "        continue\n",
    "    crosstabs[var] = pd.crosstab(df_train_bin[var], df_train_bin[target_col], margins=True)\n",
    "\n",
    "WOEs = {}\n",
    "IVs = {}\n",
    "\n",
    "for var,crosstab in crosstabs.items():\n",
    "    # Calculate % Good\n",
    "    crosstab['p_good'] = crosstab[0]/crosstab[0]['All']\n",
    "\n",
    "    # Calculate % Bad\n",
    "    crosstab['p_bad'] = crosstab[1]/crosstab[1]['All']\n",
    "\n",
    "    # Calculate the WOE\n",
    "    crosstab['WOE'] = np.log(crosstab['p_good']/(crosstab['p_bad'] + 1e-6) + 1e6)  # add 1e-6 to prevent 0 division and log\n",
    "    \n",
    "    # Calculate the contribution value for IV\n",
    "    crosstab['contribution'] = (crosstab['p_good']-crosstab['p_bad'])*crosstab['WOE']\n",
    "    \n",
    "    # Calculate the IV\n",
    "    IV = crosstab['contribution'][:-1].sum()\n",
    "    WOEs[var] = crosstab\n",
    "    IVs[var] = IV\n",
    "\n",
    "    display(crosstab)"
   ]
  },
  {
   "cell_type": "code",
   "execution_count": 19,
   "id": "b49f8918-e613-4f91-90e0-4e0652ff9bb7",
   "metadata": {},
   "outputs": [
    {
     "data": {
      "text/plain": [
       "Customer Age_bin          9.047570e-10\n",
       "Device Used               3.310242e-09\n",
       "Payment Method            5.522544e-09\n",
       "Product Category          7.421116e-09\n",
       "Quantity_bin              7.991956e-09\n",
       "Transaction Amount_bin    2.138216e-07\n",
       "Transaction Hour_bin      3.856450e-07\n",
       "Account Age Days_bin      4.131807e-07\n",
       "dtype: float64"
      ]
     },
     "execution_count": 19,
     "metadata": {},
     "output_type": "execute_result"
    }
   ],
   "source": [
    "IV_series = pd.Series(IVs).sort_values()\n",
    "IV_series"
   ]
  },
  {
   "cell_type": "code",
   "execution_count": 20,
   "id": "0f4e8960-2699-4c20-962a-9520f3ebab00",
   "metadata": {},
   "outputs": [
    {
     "data": {
      "text/plain": [
       "Customer Age_bin          very low\n",
       "Device Used               very low\n",
       "Payment Method            very low\n",
       "Product Category          very low\n",
       "Quantity_bin              very low\n",
       "Transaction Amount_bin    very low\n",
       "Transaction Hour_bin      very low\n",
       "Account Age Days_bin      very low\n",
       "dtype: category\n",
       "Categories (3, object): ['very low' < 'weak' < 'strong']"
      ]
     },
     "execution_count": 20,
     "metadata": {},
     "output_type": "execute_result"
    }
   ],
   "source": [
    "pd.cut(IV_series, bins=[0, 0.02, 0.1, np.inf], labels=['very low', 'weak', 'strong'])"
   ]
  },
  {
   "cell_type": "markdown",
   "id": "dec996c4-58dc-4c09-8ff9-ea0a295cf243",
   "metadata": {},
   "source": [
    "Based on the above, all variables have weak relationship with the response variable. However, judging by the IV values, the 3 variables with the strongest relationship are \"Account Age Days\", \"Transaction Hour\", and \"Transaction Amount\", which we have also discovered before in the EDA section."
   ]
  },
  {
   "cell_type": "markdown",
   "id": "a5179f03-3bad-445b-a5d3-c1ba3e48047b",
   "metadata": {},
   "source": [
    "# One-Hot Encoding"
   ]
  },
  {
   "cell_type": "code",
   "execution_count": 21,
   "id": "72f2f657-1145-4483-84dd-ce0350855df6",
   "metadata": {},
   "outputs": [],
   "source": [
    "from sklearn.preprocessing import OneHotEncoder\n",
    "\n",
    "def fit_ohe(df: pd.DataFrame, cat_cols: list[str]) -> OneHotEncoder:\n",
    "    '''\n",
    "    Fit one-hot encoder for the categorical columns\n",
    "\n",
    "    Parameters\n",
    "    ----------\n",
    "    df: pd.DataFrame\n",
    "    cat_cols: list of str\n",
    "        Name of categorical columns\n",
    "\n",
    "    Returns\n",
    "    -------\n",
    "    OneHotEncoder object\n",
    "    '''\n",
    "    ohe = OneHotEncoder(drop='if_binary', handle_unknown='ignore', sparse_output=False)\n",
    "    ohe.fit(df[cat_cols])\n",
    "    return ohe\n",
    "\n",
    "def transform_ohe(df: pd.DataFrame, ohe: OneHotEncoder) -> pd.DataFrame:\n",
    "    '''\n",
    "    Transform the categorical columns using one-hot encoder\n",
    "\n",
    "    Parameters\n",
    "    ----------\n",
    "    df: pd.DataFrame\n",
    "    ohe: fitted OneHotEncoder object\n",
    "\n",
    "    Returns\n",
    "    -------\n",
    "    pd.DataFrame\n",
    "    '''\n",
    "    cat_cols = ohe.feature_names_in_\n",
    "    df = df.copy()\n",
    "    df_ohe = pd.DataFrame(\n",
    "        ohe.transform(df[cat_cols]),\n",
    "        index=df.index,\n",
    "        columns=ohe.get_feature_names_out()\n",
    "    )\n",
    "    df = pd.concat([df, df_ohe], axis=1)\n",
    "    df = df.drop(cat_cols, axis=1)\n",
    "    return df\n"
   ]
  },
  {
   "cell_type": "code",
   "execution_count": 22,
   "id": "daaefa21-25bb-413b-8636-cf0f4060f821",
   "metadata": {},
   "outputs": [],
   "source": [
    "from sklearn.preprocessing import StandardScaler\n",
    "\n",
    "def fit_scaler(df: pd.DataFrame) -> StandardScaler:\n",
    "    '''\n",
    "    Fit a standard scaler on all columns\n",
    "\n",
    "    Parameters\n",
    "    ----------\n",
    "    df: pd.DataFrame\n",
    "\n",
    "    Returns\n",
    "    -------\n",
    "    StandardScaler object\n",
    "    '''\n",
    "    scaler = StandardScaler()\n",
    "    scaler.fit(df)\n",
    "    return scaler\n",
    "\n",
    "def transform_scaler(df: pd.DataFrame, scaler: StandardScaler) -> pd.DataFrame:\n",
    "    '''\n",
    "    Transform data using a standard scaler\n",
    "\n",
    "    Parameters\n",
    "    ----------\n",
    "    df: pd.DataFrame\n",
    "    scaler: fitted StandardScaler object\n",
    "\n",
    "    Returns\n",
    "    -------\n",
    "    pd.DataFrame\n",
    "    '''\n",
    "    return pd.DataFrame(\n",
    "        scaler.transform(df),\n",
    "        index=df.index,\n",
    "        columns=df.columns\n",
    "    )"
   ]
  },
  {
   "cell_type": "code",
   "execution_count": 23,
   "id": "2fe240c0-af63-476d-823b-a152ecb6fc30",
   "metadata": {},
   "outputs": [],
   "source": [
    "ohe = fit_ohe(X_train, cat_cols)\n",
    "X_train_ohe = transform_ohe(X_train, ohe)\n",
    "X_valid_ohe = transform_ohe(X_valid, ohe)\n",
    "X_test_ohe = transform_ohe(X_test, ohe)"
   ]
  },
  {
   "cell_type": "code",
   "execution_count": 24,
   "id": "e073412e-ee85-4180-9596-5297813ed42d",
   "metadata": {},
   "outputs": [],
   "source": [
    "scaler = fit_scaler(X_train_ohe)\n",
    "X_train_scale = transform_scaler(X_train_ohe, scaler)\n",
    "X_valid_scale = transform_scaler(X_valid_ohe, scaler)\n",
    "X_test_scale = transform_scaler(X_test_ohe, scaler)"
   ]
  },
  {
   "cell_type": "markdown",
   "id": "73a714eb-f548-411d-9d44-c5c4463ac767",
   "metadata": {},
   "source": [
    "# Question 4: Simple and Interpretable Machine Learning Model\n",
    "\n",
    "Use a simple and interpretable machine learning model.\n",
    "\n",
    "- Build a machine learning model using three predictors that have the highest information value.\n",
    "- Use a model that is easy to interpret, e.g., a logistic regression model.\n",
    "- Interpret the model and explain how the model predicts fraudulent transactions.\n"
   ]
  },
  {
   "cell_type": "code",
   "execution_count": 25,
   "id": "b0870fc9-3365-4240-8dc4-b9748ac559bc",
   "metadata": {},
   "outputs": [],
   "source": [
    "from sklearn.dummy import DummyClassifier\n",
    "from sklearn.linear_model import LogisticRegression\n",
    "from sklearn.metrics import roc_auc_score, accuracy_score, f1_score\n",
    "\n",
    "def eval_model(model, X, y):\n",
    "    y_pred = model.predict(X)\n",
    "    y_prob = model.predict_proba(X)[:, 1]\n",
    "    return {\n",
    "        'roc_auc': roc_auc_score(y, y_prob),\n",
    "        'accuracy': accuracy_score(y, y_pred),\n",
    "        'f1': f1_score(y, y_pred)\n",
    "    }"
   ]
  },
  {
   "cell_type": "code",
   "execution_count": 26,
   "id": "2eedd47d-6c83-4f5d-adfb-100c38780cd7",
   "metadata": {},
   "outputs": [],
   "source": [
    "chosen_vars = ['Account Age Days', 'Transaction Hour', 'Transaction Amount']\n",
    "X_train_sub = X_train_scale[chosen_vars]\n",
    "X_valid_sub = X_valid_scale[chosen_vars]\n",
    "X_test_sub = X_test_scale[chosen_vars]"
   ]
  },
  {
   "cell_type": "code",
   "execution_count": 27,
   "id": "591f1c7f-5b19-42a0-9bd8-371520a393d0",
   "metadata": {},
   "outputs": [
    {
     "data": {
      "text/plain": [
       "{'roc_auc': 0.5, 'accuracy': 0.9528042328042328, 'f1': 0.0}"
      ]
     },
     "execution_count": 27,
     "metadata": {},
     "output_type": "execute_result"
    }
   ],
   "source": [
    "dummy = DummyClassifier()\n",
    "dummy.fit(X_train_sub, y_train)\n",
    "eval_model(dummy, X_valid_sub, y_valid)"
   ]
  },
  {
   "cell_type": "code",
   "execution_count": 28,
   "id": "04ac79fa-1bca-4ee2-918f-daeb88f102a9",
   "metadata": {},
   "outputs": [
    {
     "data": {
      "text/plain": [
       "{'roc_auc': 0.7344727704478129,\n",
       " 'accuracy': 0.9534391534391534,\n",
       " 'f1': 0.02654867256637168}"
      ]
     },
     "execution_count": 28,
     "metadata": {},
     "output_type": "execute_result"
    }
   ],
   "source": [
    "logreg = LogisticRegression()\n",
    "logreg.fit(X_train_sub, y_train)\n",
    "\n",
    "eval_model(logreg, X_valid_sub, y_valid)"
   ]
  },
  {
   "cell_type": "code",
   "execution_count": 29,
   "id": "35b32736-c01a-4b54-9199-dbe32d0c7f43",
   "metadata": {},
   "outputs": [
    {
     "data": {
      "text/plain": [
       "Account Age Days     -0.677248\n",
       "Transaction Hour     -0.565660\n",
       "Transaction Amount    0.701455\n",
       "dtype: float64"
      ]
     },
     "execution_count": 29,
     "metadata": {},
     "output_type": "execute_result"
    }
   ],
   "source": [
    "pd.Series(logreg.coef_[0], index=chosen_vars)"
   ]
  },
  {
   "cell_type": "markdown",
   "id": "aa632105-3339-4de5-b731-75a1c93fd7a7",
   "metadata": {},
   "source": [
    "From the coefficients, we can infer that:\n",
    "\n",
    "- Lower Account Age Days and Transaction Hour has higher likelihood of being a fraud\n",
    "- Higher transaction amount has higher likelihood of being a fraud\n",
    "\n",
    "Meanwhile, the variable with the highest impact to fraud likelihood is Transaction Amount, since its absolute coefficient is the highest. The coefficient of Transaction Amount is 0.70. Here's the interpretation: for every 1 standard deviation increase in (log of) Transaction Amount, the odd of a transaction being a fraud increased by exp(0.70) = 2.02 times. (Remember that we have normalized the predictors, which is why the coefficient need to be interpreted as a change in 1 unit of standard deviation.)"
   ]
  },
  {
   "cell_type": "markdown",
   "id": "892d0e27-3204-42aa-bf37-e5dd345baded",
   "metadata": {},
   "source": [
    "# Question 5: Alternative Machine Learning Models\n",
    "\n",
    "Build and evaluate two alternative machine learning models that may offer better performance.\n",
    "\n",
    "- Consider building two other machine learning models, e.g., Decision Tree, Support Vector Machine, etc.\n",
    "- Perform hyperparameter tuning to obtain the best parameters for each model, including Logistic Regression and the two other models.\n",
    "- Evaluate the models using appropriate evaluation metrics.\n",
    "- Recommend the best model based on the evaluation on testing data."
   ]
  },
  {
   "cell_type": "code",
   "execution_count": 31,
   "id": "4d40aa71-f76d-4ca7-8746-8787a372589f",
   "metadata": {},
   "outputs": [],
   "source": [
    "from sklearn.svm import SVC\n",
    "from sklearn.ensemble import RandomForestClassifier\n",
    "from sklearn.model_selection import GridSearchCV, RandomizedSearchCV"
   ]
  },
  {
   "cell_type": "code",
   "execution_count": 32,
   "id": "c39cbff7-7fce-42a4-906b-3c5c5a9351ef",
   "metadata": {},
   "outputs": [],
   "source": [
    "from datetime import datetime\n",
    "\n",
    "def fit_eval_cv(\n",
    "    cv_obj: GridSearchCV,\n",
    "    X_train: pd.DataFrame,\n",
    "    y_train: pd.Series,\n",
    "    X_test: pd.DataFrame,\n",
    "    y_test: pd.Series\n",
    "):\n",
    "    '''\n",
    "    Fit and evaluate the given cv model.\n",
    "    Will print out the train/test scores.\n",
    "    Returns dictionary containing:\n",
    "    - training_score\n",
    "    - test_score\n",
    "    - best_model\n",
    "    - best_params\n",
    "    '''\n",
    "    start_time = datetime.now()\n",
    "    cv_obj.fit(X_train, y_train)\n",
    "    elapsed = datetime.now() - start_time\n",
    "    print(f'Elapsed: {elapsed}')\n",
    "\n",
    "    train_score = cv_obj.score(X_train, y_train)\n",
    "    test_score = cv_obj.score(X_test, y_test)\n",
    "    best_params = cv_obj.best_params_\n",
    "\n",
    "    print(f'Train score: {train_score:.4f}')\n",
    "    print(f'Valid score: {test_score:.4f}')\n",
    "    print(f'Best Params: {best_params}')\n",
    "    return {\n",
    "        'train_score': train_score,\n",
    "        'test_score': test_score,\n",
    "        'best_model': cv_obj.best_estimator_,\n",
    "        'best_params': best_params,\n",
    "    }"
   ]
  },
  {
   "cell_type": "code",
   "execution_count": 33,
   "id": "e141084b-319b-4e09-bc31-344005169906",
   "metadata": {},
   "outputs": [],
   "source": [
    "gs_config = dict(\n",
    "    cv = 10,\n",
    "    scoring = 'roc_auc',\n",
    ")\n",
    "gs_input = dict(\n",
    "    X_train = X_train_sub,\n",
    "    y_train = y_train,\n",
    "    X_test = X_valid_sub,\n",
    "    y_test = y_valid,\n",
    ")\n",
    "gs_results = {}"
   ]
  },
  {
   "cell_type": "code",
   "execution_count": 34,
   "id": "c8067bd7-6bae-476f-b3fe-80d34e97d5f5",
   "metadata": {},
   "outputs": [
    {
     "name": "stdout",
     "output_type": "stream",
     "text": [
      "Elapsed: 0:00:05.322482\n",
      "Train score: 0.7688\n",
      "Valid score: 0.7353\n",
      "Best Params: {'C': 1e-05, 'penalty': 'l2'}\n"
     ]
    }
   ],
   "source": [
    "gs_results['LogisticRegression'] = fit_eval_cv(\n",
    "    GridSearchCV(\n",
    "        estimator = LogisticRegression(solver='liblinear', random_state=42, class_weight=None),\n",
    "        param_grid = {\n",
    "            'penalty': ['l1', 'l2'],\n",
    "            'C': np.logspace(-5, 5, 10),\n",
    "        },\n",
    "        **gs_config,\n",
    "    ),\n",
    "    **gs_input\n",
    ")"
   ]
  },
  {
   "cell_type": "code",
   "execution_count": 35,
   "id": "4b28f0fd-c49f-444d-b7e2-b78d28eba293",
   "metadata": {},
   "outputs": [
    {
     "name": "stdout",
     "output_type": "stream",
     "text": [
      "Elapsed: 0:00:43.512175\n",
      "Train score: 0.6621\n",
      "Valid score: 0.6192\n",
      "Best Params: {}\n"
     ]
    }
   ],
   "source": [
    "gs_results['SVC'] = fit_eval_cv(\n",
    "    GridSearchCV(\n",
    "        estimator = SVC(random_state=42),\n",
    "        param_grid = {},\n",
    "        **gs_config,\n",
    "    ),\n",
    "    **gs_input\n",
    ")"
   ]
  },
  {
   "cell_type": "code",
   "execution_count": 36,
   "id": "0cb7813e-35a3-4c9d-ae33-b301c938b430",
   "metadata": {},
   "outputs": [
    {
     "name": "stdout",
     "output_type": "stream",
     "text": [
      "Elapsed: 0:20:12.916117\n",
      "Train score: 0.8465\n",
      "Valid score: 0.8095\n",
      "Best Params: {'min_samples_split': 5, 'min_samples_leaf': 20, 'max_depth': 5}\n"
     ]
    }
   ],
   "source": [
    "gs_results['RandomForest'] = fit_eval_cv(\n",
    "    RandomizedSearchCV(\n",
    "        estimator = RandomForestClassifier(random_state=42, n_estimators=250),\n",
    "        param_distributions = {\n",
    "            'max_depth': [2, 5, 10, 30, None],\n",
    "            'min_samples_split': [2, 3, 4, 5, 10, 25, 50],\n",
    "            'min_samples_leaf': [2, 3, 4, 5, 10, 20],\n",
    "        },\n",
    "        random_state = 0,\n",
    "        n_iter = 40,\n",
    "        **gs_config,\n",
    "    ),\n",
    "    **gs_input\n",
    ")"
   ]
  },
  {
   "cell_type": "code",
   "execution_count": 37,
   "id": "169c5eba-2a44-40e0-837e-3a41e09d6808",
   "metadata": {},
   "outputs": [
    {
     "data": {
      "text/html": [
       "<div>\n",
       "<style scoped>\n",
       "    .dataframe tbody tr th:only-of-type {\n",
       "        vertical-align: middle;\n",
       "    }\n",
       "\n",
       "    .dataframe tbody tr th {\n",
       "        vertical-align: top;\n",
       "    }\n",
       "\n",
       "    .dataframe thead th {\n",
       "        text-align: right;\n",
       "    }\n",
       "</style>\n",
       "<table border=\"1\" class=\"dataframe\">\n",
       "  <thead>\n",
       "    <tr style=\"text-align: right;\">\n",
       "      <th></th>\n",
       "      <th>train_score</th>\n",
       "      <th>test_score</th>\n",
       "      <th>best_model</th>\n",
       "      <th>best_params</th>\n",
       "    </tr>\n",
       "  </thead>\n",
       "  <tbody>\n",
       "    <tr>\n",
       "      <th>RandomForest</th>\n",
       "      <td>0.846487</td>\n",
       "      <td>0.809454</td>\n",
       "      <td>(DecisionTreeClassifier(max_depth=5, max_featu...</td>\n",
       "      <td>{'min_samples_split': 5, 'min_samples_leaf': 2...</td>\n",
       "    </tr>\n",
       "    <tr>\n",
       "      <th>LogisticRegression</th>\n",
       "      <td>0.768769</td>\n",
       "      <td>0.735257</td>\n",
       "      <td>LogisticRegression(C=1e-05, random_state=42, s...</td>\n",
       "      <td>{'C': 1e-05, 'penalty': 'l2'}</td>\n",
       "    </tr>\n",
       "    <tr>\n",
       "      <th>SVC</th>\n",
       "      <td>0.662112</td>\n",
       "      <td>0.619178</td>\n",
       "      <td>SVC(random_state=42)</td>\n",
       "      <td>{}</td>\n",
       "    </tr>\n",
       "  </tbody>\n",
       "</table>\n",
       "</div>"
      ],
      "text/plain": [
       "                   train_score test_score  \\\n",
       "RandomForest          0.846487   0.809454   \n",
       "LogisticRegression    0.768769   0.735257   \n",
       "SVC                   0.662112   0.619178   \n",
       "\n",
       "                                                           best_model  \\\n",
       "RandomForest        (DecisionTreeClassifier(max_depth=5, max_featu...   \n",
       "LogisticRegression  LogisticRegression(C=1e-05, random_state=42, s...   \n",
       "SVC                                              SVC(random_state=42)   \n",
       "\n",
       "                                                          best_params  \n",
       "RandomForest        {'min_samples_split': 5, 'min_samples_leaf': 2...  \n",
       "LogisticRegression                      {'C': 1e-05, 'penalty': 'l2'}  \n",
       "SVC                                                                {}  "
      ]
     },
     "execution_count": 37,
     "metadata": {},
     "output_type": "execute_result"
    }
   ],
   "source": [
    "gs_summary = pd.DataFrame(gs_results).T\n",
    "gs_summary = gs_summary.sort_values('test_score', ascending=False)\n",
    "gs_summary"
   ]
  },
  {
   "cell_type": "markdown",
   "id": "90dd3009-b962-44c2-aff4-a40cc484dccd",
   "metadata": {},
   "source": [
    "Conclusion: The RandomForest model achieve the highest ROC AUC score equal to 0.8095 out of sample. Meanwhile, the logistic regression ROC AUC score is only 0.73. However, one drawback of RandomForest is its complexity and the long time it takes to be trained."
   ]
  },
  {
   "cell_type": "markdown",
   "id": "3cc164f8-9ec3-407a-b7f5-6cf18f2e029d",
   "metadata": {},
   "source": [
    "# Question 6: Threshold Selection for Fraud Classification\n",
    "\n",
    "When building a logistic regression model, the output is a probability of a transaction being fraudulent. The challenge often lies in choosing a threshold probability that classifies predictions as either fraud (1) or legitimate (0).\n",
    "\n",
    "- Using the logistic regression model from the previous question, evaluate different threshold probabilities to predict fraud.\n",
    "- Explain how the threshold affects the model's classification of fraud and legitimate transactions, particularly in relation to the associated costs:\n",
    "  - **False negatives cost:** Fraud loss, represented by the total amount of money exchanged in transactions for ignored fraud cases.\n",
    "  - **False positives cost:** Losses from profit (5% of the total amount of money) and customer acquisition costs ($15 per customer).\n",
    "- Recommend the best threshold if the company prioritizes ensuring all fraud cases are caught.\n"
   ]
  },
  {
   "cell_type": "code",
   "execution_count": 38,
   "id": "8e016760-99c5-4d6f-8e57-1e205c8a6401",
   "metadata": {},
   "outputs": [],
   "source": [
    "def calc_cost(y_true: np.array, y_pred: np.array, trx_amount: np.array) -> tuple[float, float, float]:\n",
    "    is_fn = (y_pred == 0) & (y_true == 1)\n",
    "    is_fp = (y_pred == 1) & (y_true == 0)\n",
    "    fn_cost = sum(is_fn * trx_amount)\n",
    "    fp_cost = sum(is_fp * (15 + 0.05 * trx_amount))\n",
    "    total_cost = fn_cost + fp_cost\n",
    "    return (fn_cost, fp_cost, total_cost)"
   ]
  },
  {
   "cell_type": "code",
   "execution_count": 39,
   "id": "d7fe59ce-c26d-4ed7-8f04-6ac37bc3a949",
   "metadata": {},
   "outputs": [],
   "source": [
    "from sklearn.metrics import roc_curve"
   ]
  },
  {
   "cell_type": "code",
   "execution_count": 40,
   "id": "6b513047-9211-4dd2-901d-8597f9dd4eb9",
   "metadata": {},
   "outputs": [],
   "source": [
    "logreg2 = gs_results['LogisticRegression']['best_model']"
   ]
  },
  {
   "cell_type": "code",
   "execution_count": 41,
   "id": "326b6859-51b4-4b13-9f36-a96ebc979ba5",
   "metadata": {},
   "outputs": [
    {
     "name": "stdout",
     "output_type": "stream",
     "text": [
      "Best threshold: 0.48740988310604894\n"
     ]
    }
   ],
   "source": [
    "y_valid_prob = logreg2.predict_proba(X_valid_sub)[:, 1]\n",
    "thresholds = np.linspace(min(y_valid_prob), max(y_valid_prob), 100)\n",
    "thresholds = np.append(thresholds, float('inf'))\n",
    "\n",
    "costs = []\n",
    "fp_costs = []\n",
    "fn_costs = []\n",
    "fpr = []\n",
    "tpr = []\n",
    "\n",
    "for threshold in thresholds:\n",
    "    y_valid_pred = (y_valid_prob >= threshold).astype(int)\n",
    "    is_fn = (y_valid_pred == 0) & (y_valid == 1)\n",
    "    is_fp = (y_valid_pred == 1) & (y_valid == 0)\n",
    "    fn = sum(is_fn)\n",
    "    fp = sum(is_fp)\n",
    "    tp = sum((y_valid_pred == 1) & (y_valid == 1))\n",
    "    tn = sum((y_valid_pred == 0) & (y_valid == 0))\n",
    "    fn_cost, fp_cost, total_cost = calc_cost(y_valid, y_valid_pred, np.exp(df_valid['Transaction Amount']))\n",
    "    # fn_cost = sum(is_fn * np.exp(df_valid['Transaction Amount']))\n",
    "    # fp_cost = sum(is_fp * (15 + 0.05 * np.exp(df_valid['Transaction Amount'])))\n",
    "    # print(threshold, accuracy_score(y_valid, y_valid_pred))\n",
    "    fn_costs.append(fn_cost)\n",
    "    fp_costs.append(fp_cost)\n",
    "    costs.append(total_cost)\n",
    "    fpr.append(fp / (fp + tn) if (fp + tn) > 0 else 0)\n",
    "    tpr.append(tp / (tp + fn) if (tp + fn) > 0 else 0)\n",
    "\n",
    "best_threshold = thresholds[np.argmin(costs)]\n",
    "print('Best threshold:', best_threshold)"
   ]
  },
  {
   "cell_type": "code",
   "execution_count": 42,
   "id": "b9b28827-0573-4be7-80c0-7796031ea61e",
   "metadata": {},
   "outputs": [
    {
     "data": {
      "text/plain": [
       "<matplotlib.legend.Legend at 0x1f9593fe0f0>"
      ]
     },
     "execution_count": 42,
     "metadata": {},
     "output_type": "execute_result"
    },
    {
     "data": {
      "image/png": "[encoded data removed]",
      "text/plain": [
       "<Figure size 640x480 with 1 Axes>"
      ]
     },
     "metadata": {},
     "output_type": "display_data"
    }
   ],
   "source": [
    "plt.plot(thresholds, fn_costs, label='FN Cost')\n",
    "plt.plot(thresholds, fp_costs, label='FP Cost')\n",
    "plt.plot(thresholds, costs, label='Total Cost')\n",
    "plt.xlabel('Threshold')\n",
    "plt.legend()"
   ]
  },
  {
   "cell_type": "markdown",
   "id": "14622a3f-7462-4d4f-aa93-fa2e0476c4d8",
   "metadata": {},
   "source": [
    "The plot above depicts how the costs change as we change the threshold. From my calculation, the lowest cost is achieved with threshold equal to 0.4874."
   ]
  },
  {
   "cell_type": "markdown",
   "id": "cd4fb12a-6fbe-43cc-9cd6-58f334b58c8f",
   "metadata": {},
   "source": [
    "# Question 7: Cost Evaluation of the Model\n",
    "\n",
    "Evaluate the total cost that the model incurs in the testing data when using the best threshold from Question 6.\n",
    "\n",
    "- Make predictions on testing data and summarize the evaluation using appropriate performance metrics.\n",
    "- Calculate the cost impact of the model:\n",
    "  - **Cost of fraudulent cases:** Total amount of money exchanged in the transaction.\n",
    "  - **Average cost to acquire a new user:** $15 per customer.\n",
    "  - **Average loss of potential profit:** 5% of the total amount of money exchanged per transaction.\n",
    "- Create a summary table of the evaluation. Assess whether the model with the best threshold outperforms the total cost of all wrong predictions.\n"
   ]
  },
  {
   "cell_type": "code",
   "execution_count": 43,
   "id": "2586685a-7b24-4c5c-a333-4e9cbd8f287c",
   "metadata": {},
   "outputs": [
    {
     "data": {
      "text/html": [
       "<div>\n",
       "<style scoped>\n",
       "    .dataframe tbody tr th:only-of-type {\n",
       "        vertical-align: middle;\n",
       "    }\n",
       "\n",
       "    .dataframe tbody tr th {\n",
       "        vertical-align: top;\n",
       "    }\n",
       "\n",
       "    .dataframe thead th {\n",
       "        text-align: right;\n",
       "    }\n",
       "</style>\n",
       "<table border=\"1\" class=\"dataframe\">\n",
       "  <thead>\n",
       "    <tr style=\"text-align: right;\">\n",
       "      <th></th>\n",
       "      <th>model</th>\n",
       "      <th>baseline</th>\n",
       "    </tr>\n",
       "  </thead>\n",
       "  <tbody>\n",
       "    <tr>\n",
       "      <th>FN Cost</th>\n",
       "      <td>50756.910</td>\n",
       "      <td>148542.6</td>\n",
       "    </tr>\n",
       "    <tr>\n",
       "      <th>FP Cost</th>\n",
       "      <td>9193.228</td>\n",
       "      <td>0.0</td>\n",
       "    </tr>\n",
       "    <tr>\n",
       "      <th>Total Cost</th>\n",
       "      <td>59950.138</td>\n",
       "      <td>148542.6</td>\n",
       "    </tr>\n",
       "  </tbody>\n",
       "</table>\n",
       "</div>"
      ],
      "text/plain": [
       "                model  baseline\n",
       "FN Cost     50756.910  148542.6\n",
       "FP Cost      9193.228       0.0\n",
       "Total Cost  59950.138  148542.6"
      ]
     },
     "execution_count": 43,
     "metadata": {},
     "output_type": "execute_result"
    }
   ],
   "source": [
    "y_test_prob = logreg2.predict_proba(X_test_sub)[:, 1]\n",
    "y_test_pred = (y_test_prob >= best_threshold).astype(int)\n",
    "y_test_neg = np.zeros_like(y_test_pred)\n",
    "\n",
    "test_summary = pd.DataFrame({\n",
    "    'model': calc_cost(y_test, y_test_pred, np.exp(df_test['Transaction Amount'])),\n",
    "    'baseline': calc_cost(y_test, y_test_neg, np.exp(df_test['Transaction Amount']))\n",
    "}, index=['FN Cost', 'FP Cost', 'Total Cost'])\n",
    "test_summary"
   ]
  },
  {
   "cell_type": "markdown",
   "id": "94dede1c-da63-495a-8ba0-93012e77969e",
   "metadata": {},
   "source": [
    "From the table above, we can see that the model with the best threshold has \\\\$59,950 total cost. Meanwhile, the baseline (predicting negative on all observations) lead to cost \\\\$148,542, which is significantly higher. In other words, the model works pretty well."
   ]
  },
  {
   "cell_type": "markdown",
   "id": "fcc8611b-292e-4ab8-841a-63f0375637a0",
   "metadata": {},
   "source": [
    "# Question 8: Return on Investment (ROI) Calculation\n",
    "\n",
    "Fraud detection models might minimize fraud losses. However, building a model incurs additional costs such as model ownership and fraud handling costs. To assess the benefit of models, we can calculate the Return on Investment (ROI).\n",
    "\n",
    "```\n",
    "ROI = Total Utility / (Total Cost of Ownership + Total Cost of Fraud Handling)\n",
    "```\n",
    "\n",
    "- Calculate the ROI of the best model from Question 5 using the following details:\n",
    "  - **Total Utility** is the net return, which is the difference between the benefits (True Positives and True Negatives) and the costs (False Negatives and False Positives):\n",
    "    - **False Negatives (FN):** Fraud loss, represented by the total amount of money exchanged in transactions for ignored fraud cases.\n",
    "    - **False Positives (FP):** Losses from profit and customer acquisition costs.\n",
    "    - **True Positives (TP):** Prevented fraud losses, represented by the total amount of money exchanged in transactions.\n",
    "    - **True Negatives (TN):** Generated profit from legitimate transactions.\n",
    "  - **Total Cost of Ownership:**\n",
    "    - Acquisition costs: \\$30,000 (software, hardware, security, development)\n",
    "    - Operation costs: \\$20,000 (migration, setup, monitoring, support)\n",
    "  - **Total Cost of Fraud Handling:**\n",
    "    - Fraud inspection per transaction predicted as fraud: \\$200\n",
    "    - Fraud handling cost per truly fraudulent transaction: \\$300\n",
    "    - Legal cost: \\$500\n",
    "\n"
   ]
  },
  {
   "cell_type": "code",
   "execution_count": 44,
   "id": "c93f8402-088c-4fee-9e46-eddda546c47d",
   "metadata": {},
   "outputs": [],
   "source": [
    "def calc_total_utility(y_true: pd.Series, y_pred: pd.Series, trx_amount: pd.Series) -> float:\n",
    "    tp = (y_true == 1) & (y_pred == 1)\n",
    "    tn = (y_true == 0) & (y_pred == 0)\n",
    "\n",
    "    fn_cost, fp_cost, _ = calc_cost(y_true, y_pred, trx_amount)\n",
    "    cost = fp_cost + fn_cost\n",
    "\n",
    "    tp_benefit = (tp * trx_amount).sum()\n",
    "    tn_benefit = (tn * trx_amount * 0.05).sum()\n",
    "\n",
    "    total_benefit = tp_benefit + tn_benefit\n",
    "\n",
    "    total_utility = total_benefit - cost\n",
    "\n",
    "    return total_utility\n",
    "\n",
    "def calc_roi(y_true: pd.Series, y_pred: pd.Series, trx_amount: pd.Series):\n",
    "    total_utility = calc_total_utility(y_true, y_pred, trx_amount)\n",
    "    tco = 30e3 + 20e3 # acquisition + operation costs\n",
    "\n",
    "    legal_cost = 500\n",
    "    # calculate fraud handling cost for every transactin we predict as frauds\n",
    "    fraud_handling_cost = 200\n",
    "    tp = (y_pred == 1) & (y_true == 1)\n",
    "    total_fraud_handling_cost = (y_pred * fraud_handling_cost).sum()\n",
    "\n",
    "    # there's a $100 additional cost for true positives\n",
    "    total_fraud_handling_cost += (tp * 100).sum()\n",
    "\n",
    "    roi = total_utility / (tco + total_fraud_handling_cost + legal_cost)\n",
    "\n",
    "    return roi"
   ]
  },
  {
   "cell_type": "code",
   "execution_count": 45,
   "id": "d0ca2851-249d-4821-a8b0-f4a512460b54",
   "metadata": {},
   "outputs": [
    {
     "name": "stdout",
     "output_type": "stream",
     "text": [
      "ROI: 0.6322731200317964\n"
     ]
    }
   ],
   "source": [
    "roi = calc_roi(y_test, y_test_pred, np.exp(df_test['Transaction Amount']))\n",
    "\n",
    "print('ROI:', roi)"
   ]
  },
  {
   "cell_type": "markdown",
   "id": "1780f47d-a492-4a07-9edf-05667551aa8a",
   "metadata": {},
   "source": [
    "As you can see, the ROI of implementing this model is about 63%, which is quite high."
   ]
  }
 ],
 "metadata": {
  "kernelspec": {
   "display_name": "Python 3 (ipykernel)",
   "language": "python",
   "name": "python3"
  },
  "language_info": {
   "codemirror_mode": {
    "name": "ipython",
    "version": 3
   },
   "file_extension": ".py",
   "mimetype": "text/x-python",
   "name": "python",
   "nbconvert_exporter": "python",
   "pygments_lexer": "ipython3",
   "version": "3.12.1"
  }
 },
 "nbformat": 4,
 "nbformat_minor": 5
}
