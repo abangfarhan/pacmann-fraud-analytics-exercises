{
 "cells": [
  {
   "cell_type": "code",
   "execution_count": 1,
   "id": "7e1bcae3-c349-46ff-8c68-84497a9860fe",
   "metadata": {},
   "outputs": [],
   "source": [
    "import pandas as pd\n",
    "import numpy as np\n",
    "import matplotlib.pyplot as plt\n",
    "import seaborn as sns\n",
    "from sklearn.model_selection import train_test_split\n",
    "from sklearn.metrics import f1_score, precision_score, accuracy_score, roc_auc_score, recall_score\n",
    "from sklearn.dummy import DummyClassifier"
   ]
  },
  {
   "cell_type": "markdown",
   "id": "bac71513-018e-4c33-8d33-9ca75fd7d1a4",
   "metadata": {},
   "source": [
    "# Question 1: data preparation\n",
    "\n",
    "Before we can detect fraud, we must clean and prepare our data. This step ensures we have a well-structured dataset for modeling.\n",
    "\n",
    "- Load the dataset and inspect it for missing values, duplicate records, and inconsistencies.\n",
    "- Separate the dataset into features (X) and target variable (y), where y represents fraud labels (0 = not fraud, 1 = fraud).\n",
    "- Split the data into training (80%) and testing (20%) sets using `train_test_split()`."
   ]
  },
  {
   "cell_type": "markdown",
   "id": "eadc10c0-3493-4a02-8c8c-aaf2999d3055",
   "metadata": {},
   "source": [
    "## Checking the data"
   ]
  },
  {
   "cell_type": "code",
   "execution_count": 2,
   "id": "38949169-5c31-485b-98db-f404861a68e8",
   "metadata": {},
   "outputs": [
    {
     "name": "stdout",
     "output_type": "stream",
     "text": [
      "Shape: (20000, 11)\n"
     ]
    },
    {
     "data": {
      "text/html": [
       "<div>\n",
       "<style scoped>\n",
       "    .dataframe tbody tr th:only-of-type {\n",
       "        vertical-align: middle;\n",
       "    }\n",
       "\n",
       "    .dataframe tbody tr th {\n",
       "        vertical-align: top;\n",
       "    }\n",
       "\n",
       "    .dataframe thead th {\n",
       "        text-align: right;\n",
       "    }\n",
       "</style>\n",
       "<table border=\"1\" class=\"dataframe\">\n",
       "  <thead>\n",
       "    <tr style=\"text-align: right;\">\n",
       "      <th></th>\n",
       "      <th>step</th>\n",
       "      <th>type</th>\n",
       "      <th>amount</th>\n",
       "      <th>nameOrig</th>\n",
       "      <th>oldbalanceOrg</th>\n",
       "      <th>newbalanceOrig</th>\n",
       "      <th>nameDest</th>\n",
       "      <th>oldbalanceDest</th>\n",
       "      <th>newbalanceDest</th>\n",
       "      <th>isFraud</th>\n",
       "      <th>isFlaggedFraud</th>\n",
       "    </tr>\n",
       "  </thead>\n",
       "  <tbody>\n",
       "    <tr>\n",
       "      <th>0</th>\n",
       "      <td>615</td>\n",
       "      <td>TRANSFER</td>\n",
       "      <td>56510.50</td>\n",
       "      <td>C956959892</td>\n",
       "      <td>56510.50</td>\n",
       "      <td>0.00</td>\n",
       "      <td>C582952352</td>\n",
       "      <td>0.0</td>\n",
       "      <td>0.00</td>\n",
       "      <td>1</td>\n",
       "      <td>0</td>\n",
       "    </tr>\n",
       "    <tr>\n",
       "      <th>1</th>\n",
       "      <td>714</td>\n",
       "      <td>TRANSFER</td>\n",
       "      <td>10000000.00</td>\n",
       "      <td>C131412689</td>\n",
       "      <td>10390763.24</td>\n",
       "      <td>390763.24</td>\n",
       "      <td>C1846567377</td>\n",
       "      <td>0.0</td>\n",
       "      <td>0.00</td>\n",
       "      <td>1</td>\n",
       "      <td>0</td>\n",
       "    </tr>\n",
       "    <tr>\n",
       "      <th>2</th>\n",
       "      <td>324</td>\n",
       "      <td>TRANSFER</td>\n",
       "      <td>21580.37</td>\n",
       "      <td>C765450059</td>\n",
       "      <td>21580.37</td>\n",
       "      <td>0.00</td>\n",
       "      <td>C125935569</td>\n",
       "      <td>0.0</td>\n",
       "      <td>0.00</td>\n",
       "      <td>1</td>\n",
       "      <td>0</td>\n",
       "    </tr>\n",
       "    <tr>\n",
       "      <th>3</th>\n",
       "      <td>668</td>\n",
       "      <td>CASH_OUT</td>\n",
       "      <td>1576531.53</td>\n",
       "      <td>C2000069930</td>\n",
       "      <td>1576531.53</td>\n",
       "      <td>0.00</td>\n",
       "      <td>C1345448010</td>\n",
       "      <td>0.0</td>\n",
       "      <td>1576531.53</td>\n",
       "      <td>1</td>\n",
       "      <td>0</td>\n",
       "    </tr>\n",
       "    <tr>\n",
       "      <th>4</th>\n",
       "      <td>499</td>\n",
       "      <td>TRANSFER</td>\n",
       "      <td>488243.65</td>\n",
       "      <td>C2117568077</td>\n",
       "      <td>488243.65</td>\n",
       "      <td>0.00</td>\n",
       "      <td>C1238599279</td>\n",
       "      <td>0.0</td>\n",
       "      <td>0.00</td>\n",
       "      <td>1</td>\n",
       "      <td>0</td>\n",
       "    </tr>\n",
       "  </tbody>\n",
       "</table>\n",
       "</div>"
      ],
      "text/plain": [
       "   step      type       amount     nameOrig  oldbalanceOrg  newbalanceOrig  \\\n",
       "0   615  TRANSFER     56510.50   C956959892       56510.50            0.00   \n",
       "1   714  TRANSFER  10000000.00   C131412689    10390763.24       390763.24   \n",
       "2   324  TRANSFER     21580.37   C765450059       21580.37            0.00   \n",
       "3   668  CASH_OUT   1576531.53  C2000069930     1576531.53            0.00   \n",
       "4   499  TRANSFER    488243.65  C2117568077      488243.65            0.00   \n",
       "\n",
       "      nameDest  oldbalanceDest  newbalanceDest  isFraud  isFlaggedFraud  \n",
       "0   C582952352             0.0            0.00        1               0  \n",
       "1  C1846567377             0.0            0.00        1               0  \n",
       "2   C125935569             0.0            0.00        1               0  \n",
       "3  C1345448010             0.0      1576531.53        1               0  \n",
       "4  C1238599279             0.0            0.00        1               0  "
      ]
     },
     "execution_count": 2,
     "metadata": {},
     "output_type": "execute_result"
    }
   ],
   "source": [
    "df = pd.read_csv('./data/financial_data_log.csv')\n",
    "print('Shape:', df.shape)\n",
    "df.head()"
   ]
  },
  {
   "cell_type": "markdown",
   "id": "711e1c6f-171c-4142-8502-cc9da07e4148",
   "metadata": {},
   "source": [
    "Check missing values"
   ]
  },
  {
   "cell_type": "code",
   "execution_count": 3,
   "id": "a8dba5d9-6825-41f2-b639-f112f8d9b31a",
   "metadata": {},
   "outputs": [
    {
     "data": {
      "text/plain": [
       "step              0\n",
       "type              0\n",
       "amount            0\n",
       "nameOrig          0\n",
       "oldbalanceOrg     0\n",
       "newbalanceOrig    0\n",
       "nameDest          0\n",
       "oldbalanceDest    0\n",
       "newbalanceDest    0\n",
       "isFraud           0\n",
       "isFlaggedFraud    0\n",
       "dtype: int64"
      ]
     },
     "execution_count": 3,
     "metadata": {},
     "output_type": "execute_result"
    }
   ],
   "source": [
    "df.isna().sum()"
   ]
  },
  {
   "cell_type": "markdown",
   "id": "1685238e-0b18-4f0e-b61e-e83bc06c1177",
   "metadata": {},
   "source": [
    "Check duplicates"
   ]
  },
  {
   "cell_type": "code",
   "execution_count": 4,
   "id": "ab4ce204-5115-4278-8adf-3ec9e069bfcb",
   "metadata": {},
   "outputs": [
    {
     "data": {
      "text/html": [
       "<div>\n",
       "<style scoped>\n",
       "    .dataframe tbody tr th:only-of-type {\n",
       "        vertical-align: middle;\n",
       "    }\n",
       "\n",
       "    .dataframe tbody tr th {\n",
       "        vertical-align: top;\n",
       "    }\n",
       "\n",
       "    .dataframe thead th {\n",
       "        text-align: right;\n",
       "    }\n",
       "</style>\n",
       "<table border=\"1\" class=\"dataframe\">\n",
       "  <thead>\n",
       "    <tr style=\"text-align: right;\">\n",
       "      <th></th>\n",
       "      <th>step</th>\n",
       "      <th>type</th>\n",
       "      <th>amount</th>\n",
       "      <th>nameOrig</th>\n",
       "      <th>oldbalanceOrg</th>\n",
       "      <th>newbalanceOrig</th>\n",
       "      <th>nameDest</th>\n",
       "      <th>oldbalanceDest</th>\n",
       "      <th>newbalanceDest</th>\n",
       "      <th>isFraud</th>\n",
       "      <th>isFlaggedFraud</th>\n",
       "    </tr>\n",
       "  </thead>\n",
       "  <tbody>\n",
       "    <tr>\n",
       "      <th>417</th>\n",
       "      <td>425</td>\n",
       "      <td>TRANSFER</td>\n",
       "      <td>10000000.00</td>\n",
       "      <td>C689608084</td>\n",
       "      <td>19585040.37</td>\n",
       "      <td>19585040.37</td>\n",
       "      <td>C1392803603</td>\n",
       "      <td>0.0</td>\n",
       "      <td>0.0</td>\n",
       "      <td>1</td>\n",
       "      <td>1</td>\n",
       "    </tr>\n",
       "    <tr>\n",
       "      <th>731</th>\n",
       "      <td>702</td>\n",
       "      <td>TRANSFER</td>\n",
       "      <td>3171085.59</td>\n",
       "      <td>C1892216157</td>\n",
       "      <td>3171085.59</td>\n",
       "      <td>3171085.59</td>\n",
       "      <td>C1308068787</td>\n",
       "      <td>0.0</td>\n",
       "      <td>0.0</td>\n",
       "      <td>1</td>\n",
       "      <td>1</td>\n",
       "    </tr>\n",
       "    <tr>\n",
       "      <th>1356</th>\n",
       "      <td>387</td>\n",
       "      <td>TRANSFER</td>\n",
       "      <td>4892193.09</td>\n",
       "      <td>C908544136</td>\n",
       "      <td>4892193.09</td>\n",
       "      <td>4892193.09</td>\n",
       "      <td>C891140444</td>\n",
       "      <td>0.0</td>\n",
       "      <td>0.0</td>\n",
       "      <td>1</td>\n",
       "      <td>1</td>\n",
       "    </tr>\n",
       "    <tr>\n",
       "      <th>1387</th>\n",
       "      <td>387</td>\n",
       "      <td>TRANSFER</td>\n",
       "      <td>4892193.09</td>\n",
       "      <td>C908544136</td>\n",
       "      <td>4892193.09</td>\n",
       "      <td>4892193.09</td>\n",
       "      <td>C891140444</td>\n",
       "      <td>0.0</td>\n",
       "      <td>0.0</td>\n",
       "      <td>1</td>\n",
       "      <td>1</td>\n",
       "    </tr>\n",
       "    <tr>\n",
       "      <th>1388</th>\n",
       "      <td>425</td>\n",
       "      <td>TRANSFER</td>\n",
       "      <td>10000000.00</td>\n",
       "      <td>C689608084</td>\n",
       "      <td>19585040.37</td>\n",
       "      <td>19585040.37</td>\n",
       "      <td>C1392803603</td>\n",
       "      <td>0.0</td>\n",
       "      <td>0.0</td>\n",
       "      <td>1</td>\n",
       "      <td>1</td>\n",
       "    </tr>\n",
       "    <tr>\n",
       "      <th>1396</th>\n",
       "      <td>702</td>\n",
       "      <td>TRANSFER</td>\n",
       "      <td>3171085.59</td>\n",
       "      <td>C1892216157</td>\n",
       "      <td>3171085.59</td>\n",
       "      <td>3171085.59</td>\n",
       "      <td>C1308068787</td>\n",
       "      <td>0.0</td>\n",
       "      <td>0.0</td>\n",
       "      <td>1</td>\n",
       "      <td>1</td>\n",
       "    </tr>\n",
       "  </tbody>\n",
       "</table>\n",
       "</div>"
      ],
      "text/plain": [
       "      step      type       amount     nameOrig  oldbalanceOrg  newbalanceOrig  \\\n",
       "417    425  TRANSFER  10000000.00   C689608084    19585040.37     19585040.37   \n",
       "731    702  TRANSFER   3171085.59  C1892216157     3171085.59      3171085.59   \n",
       "1356   387  TRANSFER   4892193.09   C908544136     4892193.09      4892193.09   \n",
       "1387   387  TRANSFER   4892193.09   C908544136     4892193.09      4892193.09   \n",
       "1388   425  TRANSFER  10000000.00   C689608084    19585040.37     19585040.37   \n",
       "1396   702  TRANSFER   3171085.59  C1892216157     3171085.59      3171085.59   \n",
       "\n",
       "         nameDest  oldbalanceDest  newbalanceDest  isFraud  isFlaggedFraud  \n",
       "417   C1392803603             0.0             0.0        1               1  \n",
       "731   C1308068787             0.0             0.0        1               1  \n",
       "1356   C891140444             0.0             0.0        1               1  \n",
       "1387   C891140444             0.0             0.0        1               1  \n",
       "1388  C1392803603             0.0             0.0        1               1  \n",
       "1396  C1308068787             0.0             0.0        1               1  "
      ]
     },
     "execution_count": 4,
     "metadata": {},
     "output_type": "execute_result"
    }
   ],
   "source": [
    "df[df.duplicated(keep=False)]"
   ]
  },
  {
   "cell_type": "markdown",
   "id": "073c82d6-8161-4987-b511-656d061d4720",
   "metadata": {},
   "source": [
    "Note: there are duplicates."
   ]
  },
  {
   "cell_type": "code",
   "execution_count": 5,
   "id": "365287f3-71a1-4f59-b4f1-2ee6a32a230e",
   "metadata": {},
   "outputs": [
    {
     "data": {
      "text/plain": [
       "step                int64\n",
       "type               object\n",
       "amount            float64\n",
       "nameOrig           object\n",
       "oldbalanceOrg     float64\n",
       "newbalanceOrig    float64\n",
       "nameDest           object\n",
       "oldbalanceDest    float64\n",
       "newbalanceDest    float64\n",
       "isFraud             int64\n",
       "isFlaggedFraud      int64\n",
       "dtype: object"
      ]
     },
     "execution_count": 5,
     "metadata": {},
     "output_type": "execute_result"
    }
   ],
   "source": [
    "df.dtypes"
   ]
  },
  {
   "cell_type": "markdown",
   "id": "b2149159-5f6d-47c9-8bc1-0b5b586e4e3d",
   "metadata": {},
   "source": [
    "## Feature engineering"
   ]
  },
  {
   "cell_type": "markdown",
   "id": "960c7eb0-b40f-4743-b01b-6ca4ba24e376",
   "metadata": {},
   "source": [
    "I notice the nameDest contain information whether the recipient is a customer or a merchant. If nameDest starts with C, then it's customer; otherwise (if it starts with M), then it's merchant. Meanwhile, nameOrig only contain customers, so it's useless as a feature."
   ]
  },
  {
   "cell_type": "markdown",
   "id": "4411fe39-510a-449b-a451-1999baf25fc1",
   "metadata": {},
   "source": [
    "## Taking the logarithm values"
   ]
  },
  {
   "cell_type": "markdown",
   "id": "b85ee201-3fcd-4a18-aa07-16030a7e4aff",
   "metadata": {},
   "source": [
    "I found that the numerical columns contain very skewed values. So I will take the logarithms."
   ]
  },
  {
   "cell_type": "markdown",
   "id": "907a7112-badb-42e5-8b9e-50d3c243e1c0",
   "metadata": {},
   "source": [
    "## Handling problems"
   ]
  },
  {
   "cell_type": "markdown",
   "id": "60a966bf-6203-4f9d-87dc-af49fba576c3",
   "metadata": {},
   "source": [
    "There are also columns containing names: nameOrig and nameDest. I will drop them."
   ]
  },
  {
   "cell_type": "code",
   "execution_count": 6,
   "id": "8e830db7-6634-46e3-a0f3-596cea62540d",
   "metadata": {},
   "outputs": [
    {
     "data": {
      "text/html": [
       "<div>\n",
       "<style scoped>\n",
       "    .dataframe tbody tr th:only-of-type {\n",
       "        vertical-align: middle;\n",
       "    }\n",
       "\n",
       "    .dataframe tbody tr th {\n",
       "        vertical-align: top;\n",
       "    }\n",
       "\n",
       "    .dataframe thead th {\n",
       "        text-align: right;\n",
       "    }\n",
       "</style>\n",
       "<table border=\"1\" class=\"dataframe\">\n",
       "  <thead>\n",
       "    <tr style=\"text-align: right;\">\n",
       "      <th></th>\n",
       "      <th>step</th>\n",
       "      <th>type</th>\n",
       "      <th>amount</th>\n",
       "      <th>oldbalanceOrg</th>\n",
       "      <th>newbalanceOrig</th>\n",
       "      <th>oldbalanceDest</th>\n",
       "      <th>newbalanceDest</th>\n",
       "      <th>isFraud</th>\n",
       "      <th>isFlaggedFraud</th>\n",
       "      <th>isDestMerchant</th>\n",
       "    </tr>\n",
       "  </thead>\n",
       "  <tbody>\n",
       "    <tr>\n",
       "      <th>0</th>\n",
       "      <td>615</td>\n",
       "      <td>TRANSFER</td>\n",
       "      <td>10.942182</td>\n",
       "      <td>10.942182</td>\n",
       "      <td>-13.815511</td>\n",
       "      <td>-13.815511</td>\n",
       "      <td>-13.815511</td>\n",
       "      <td>1</td>\n",
       "      <td>0</td>\n",
       "      <td>False</td>\n",
       "    </tr>\n",
       "    <tr>\n",
       "      <th>1</th>\n",
       "      <td>714</td>\n",
       "      <td>TRANSFER</td>\n",
       "      <td>16.118096</td>\n",
       "      <td>16.156428</td>\n",
       "      <td>12.875857</td>\n",
       "      <td>-13.815511</td>\n",
       "      <td>-13.815511</td>\n",
       "      <td>1</td>\n",
       "      <td>0</td>\n",
       "      <td>False</td>\n",
       "    </tr>\n",
       "    <tr>\n",
       "      <th>2</th>\n",
       "      <td>324</td>\n",
       "      <td>TRANSFER</td>\n",
       "      <td>9.979539</td>\n",
       "      <td>9.979539</td>\n",
       "      <td>-13.815511</td>\n",
       "      <td>-13.815511</td>\n",
       "      <td>-13.815511</td>\n",
       "      <td>1</td>\n",
       "      <td>0</td>\n",
       "      <td>False</td>\n",
       "    </tr>\n",
       "    <tr>\n",
       "      <th>3</th>\n",
       "      <td>668</td>\n",
       "      <td>CASH_OUT</td>\n",
       "      <td>14.270738</td>\n",
       "      <td>14.270738</td>\n",
       "      <td>-13.815511</td>\n",
       "      <td>-13.815511</td>\n",
       "      <td>14.270738</td>\n",
       "      <td>1</td>\n",
       "      <td>0</td>\n",
       "      <td>False</td>\n",
       "    </tr>\n",
       "    <tr>\n",
       "      <th>4</th>\n",
       "      <td>499</td>\n",
       "      <td>TRANSFER</td>\n",
       "      <td>13.098570</td>\n",
       "      <td>13.098570</td>\n",
       "      <td>-13.815511</td>\n",
       "      <td>-13.815511</td>\n",
       "      <td>-13.815511</td>\n",
       "      <td>1</td>\n",
       "      <td>0</td>\n",
       "      <td>False</td>\n",
       "    </tr>\n",
       "  </tbody>\n",
       "</table>\n",
       "</div>"
      ],
      "text/plain": [
       "   step      type     amount  oldbalanceOrg  newbalanceOrig  oldbalanceDest  \\\n",
       "0   615  TRANSFER  10.942182      10.942182      -13.815511      -13.815511   \n",
       "1   714  TRANSFER  16.118096      16.156428       12.875857      -13.815511   \n",
       "2   324  TRANSFER   9.979539       9.979539      -13.815511      -13.815511   \n",
       "3   668  CASH_OUT  14.270738      14.270738      -13.815511      -13.815511   \n",
       "4   499  TRANSFER  13.098570      13.098570      -13.815511      -13.815511   \n",
       "\n",
       "   newbalanceDest  isFraud  isFlaggedFraud  isDestMerchant  \n",
       "0      -13.815511        1               0           False  \n",
       "1      -13.815511        1               0           False  \n",
       "2      -13.815511        1               0           False  \n",
       "3       14.270738        1               0           False  \n",
       "4      -13.815511        1               0           False  "
      ]
     },
     "execution_count": 6,
     "metadata": {},
     "output_type": "execute_result"
    }
   ],
   "source": [
    "log_values = ['amount', 'oldbalanceOrg', 'newbalanceOrig', 'oldbalanceDest', 'newbalanceDest']\n",
    "\n",
    "df_clean = df.copy()\n",
    "df_clean = df_clean.drop_duplicates()\n",
    "df_clean['isDestMerchant'] = df_clean['nameDest'].str[0] == 'M'\n",
    "df_clean = df_clean.drop(['nameOrig', 'nameDest'], axis=1)\n",
    "df_clean[log_values] = np.log(df_clean[log_values] + 1e-6)\n",
    "df_clean.head()"
   ]
  },
  {
   "cell_type": "code",
   "execution_count": 7,
   "id": "c7a3eaf4-7ad2-48d3-b91a-ec5f1af75128",
   "metadata": {},
   "outputs": [
    {
     "data": {
      "text/plain": [
       "step                int64\n",
       "type               object\n",
       "amount            float64\n",
       "oldbalanceOrg     float64\n",
       "newbalanceOrig    float64\n",
       "oldbalanceDest    float64\n",
       "newbalanceDest    float64\n",
       "isFraud             int64\n",
       "isFlaggedFraud      int64\n",
       "isDestMerchant       bool\n",
       "dtype: object"
      ]
     },
     "execution_count": 7,
     "metadata": {},
     "output_type": "execute_result"
    }
   ],
   "source": [
    "df_clean.dtypes"
   ]
  },
  {
   "cell_type": "markdown",
   "id": "67571a26-2505-4c98-b82c-fa4473b4abda",
   "metadata": {},
   "source": [
    "## Splitting the data"
   ]
  },
  {
   "cell_type": "code",
   "execution_count": 9,
   "id": "ebb01a1f-2b4b-4d3c-97cf-9c40f4a8e88b",
   "metadata": {},
   "outputs": [
    {
     "name": "stdout",
     "output_type": "stream",
     "text": [
      "(13997, 10)\n",
      "(3000, 10)\n",
      "(3000, 10)\n"
     ]
    }
   ],
   "source": [
    "df_train, df_non_train = train_test_split(df_clean, stratify=df_clean['isFraud'], train_size=0.7, random_state=42)\n",
    "df_valid, df_test = train_test_split(\n",
    "    df_non_train,\n",
    "    stratify=df_non_train['isFraud'],\n",
    "    train_size=0.5, random_state=50\n",
    ")\n",
    "\n",
    "print(df_train.shape)\n",
    "print(df_valid.shape)\n",
    "print(df_test.shape)"
   ]
  },
  {
   "cell_type": "code",
   "execution_count": 10,
   "id": "ba337026-b017-46ab-b469-2c1bcb36e74f",
   "metadata": {},
   "outputs": [],
   "source": [
    "def split_Xy(df: pd.DataFrame, target_col: str) -> tuple[pd.DataFrame, pd.Series]:\n",
    "    y = df[target_col].copy()\n",
    "    X = df.drop(target_col, axis=1).copy()\n",
    "    return X, y"
   ]
  },
  {
   "cell_type": "code",
   "execution_count": 11,
   "id": "afe76ba6-2a5e-4f55-8024-d566cf3a98e4",
   "metadata": {},
   "outputs": [],
   "source": [
    "target_col = 'isFraud'\n",
    "X_train, y_train = split_Xy(df_train, target_col)\n",
    "X_valid, y_valid = split_Xy(df_valid, target_col)\n",
    "X_test, y_test = split_Xy(df_test, target_col)"
   ]
  },
  {
   "cell_type": "markdown",
   "id": "411df0d7-fe41-49db-9076-5ebd31edfc0d",
   "metadata": {},
   "source": [
    "# Question 2: EDA\n",
    "\n",
    "Understanding the dataset is crucial before applying any model. EDA helps us identify patterns, correlations, and potential outliers that could indicate fraudulent behavior.\n",
    "\n",
    "- **Univariate or Bivariate Analysis**: Use 8 histograms and 7 boxplots with categories to check feature distributions.\n",
    "- **Multivariate Analysis**: Use 2 scatter plots and correlation matrices to analyze feature relationships.\n",
    "- **Outlier Detection**: Identify extreme values that may indicate fraud.\n",
    "- **Provide at least 4 key insights from the EDA** that could help in fraud detection.\n",
    "\n"
   ]
  },
  {
   "cell_type": "markdown",
   "id": "a5a0f3e8-e654-4876-9092-fba90c0849e5",
   "metadata": {},
   "source": [
    "We'll create box plot for columns amount, oldbalanceOrg, newbalanceOrig, oldbalanceDest, and newbalanceDest, with isFraud as the hue. We'll also create histograms for those numerical variables.\n",
    "\n",
    "For type and isFlaggedFraud we will create count plot."
   ]
  },
  {
   "cell_type": "markdown",
   "id": "65f53886-100d-469a-8178-7e1d35b107a7",
   "metadata": {},
   "source": [
    "## Numerical variables"
   ]
  },
  {
   "cell_type": "code",
   "execution_count": 12,
   "id": "0449ceab-4b62-4ac5-a705-9a25993472f8",
   "metadata": {},
   "outputs": [],
   "source": [
    "num_vars = ['step', 'amount', 'oldbalanceOrg', 'newbalanceOrig', 'oldbalanceDest', 'newbalanceDest']"
   ]
  },
  {
   "cell_type": "code",
   "execution_count": 13,
   "id": "1cfd0ad1-aefb-4596-84b4-e2b31702c1db",
   "metadata": {},
   "outputs": [
    {
     "data": {
      "image/png": "[encoded data removed]",
      "text/plain": [
       "<Figure size 800x480 with 6 Axes>"
      ]
     },
     "metadata": {},
     "output_type": "display_data"
    }
   ],
   "source": [
    "fig, axes = plt.subplots(ncols=3, nrows=2)\n",
    "fig.set_figwidth(8)\n",
    "axes = axes.flatten()\n",
    "\n",
    "for i,var in enumerate(num_vars):\n",
    "    sns.kdeplot(df_train, x=var, ax=axes[i], hue='isFraud', common_norm=False)\n",
    "plt.tight_layout()"
   ]
  },
  {
   "cell_type": "markdown",
   "id": "57ce7f79-6ad2-421a-b797-0742e0de84c0",
   "metadata": {},
   "source": [
    "Observations: frauds appear to occur on rows with large oldbalanceOrg and zero newbalanceOrig. In other words, it occur on accounts that \"cash out\" their balance. How often? Let's see:"
   ]
  },
  {
   "cell_type": "code",
   "execution_count": 14,
   "id": "5fe39fbe-0f9c-4414-901f-d3504b284869",
   "metadata": {},
   "outputs": [
    {
     "data": {
      "text/plain": [
       "0.23483903169453457"
      ]
     },
     "execution_count": 14,
     "metadata": {},
     "output_type": "execute_result"
    }
   ],
   "source": [
    "df_train[(df_train['oldbalanceOrg'] > 0) & (df_train['newbalanceOrig'] < 0)]['isFraud'].mean()"
   ]
  },
  {
   "cell_type": "markdown",
   "id": "4a3f761f-50f8-4e44-baa5-e0a1d2fd2b7f",
   "metadata": {},
   "source": [
    "It occurs 23.5% of the times on such cases."
   ]
  },
  {
   "cell_type": "markdown",
   "id": "62efdc2a-6208-420a-a896-8908912f7333",
   "metadata": {},
   "source": [
    "I also notice that \"step\" distribution seems to follow normal distribution for frauds:"
   ]
  },
  {
   "cell_type": "code",
   "execution_count": 15,
   "id": "d9f0a1a1-df6b-4c4f-aeb7-c7e02c9e165a",
   "metadata": {},
   "outputs": [
    {
     "data": {
      "text/plain": [
       "Text(0.5, 1.0, 'Frauds')"
      ]
     },
     "execution_count": 15,
     "metadata": {},
     "output_type": "execute_result"
    },
    {
     "data": {
      "image/png": "[encoded data removed]",
      "text/plain": [
       "<Figure size 640x480 with 2 Axes>"
      ]
     },
     "metadata": {},
     "output_type": "display_data"
    }
   ],
   "source": [
    "fig, axes = plt.subplots(ncols=2)\n",
    "sns.histplot(df_train.query('isFraud==0'), x='step', ax=axes[0])\n",
    "sns.histplot(df_train.query('isFraud==1'), x='step', ax=axes[1])\n",
    "\n",
    "axes[0].set_title('Non-Frauds')\n",
    "axes[1].set_title('Frauds')"
   ]
  },
  {
   "cell_type": "markdown",
   "id": "97d1f9ad-aedd-4d5a-8e46-b32f91b9f71f",
   "metadata": {},
   "source": [
    "It seems step>400 occur rarely on non-frauds. Can we use this to detect frauds?"
   ]
  },
  {
   "cell_type": "code",
   "execution_count": 16,
   "id": "9127ebe8-b4f0-46d2-af7c-b205de4bdb20",
   "metadata": {},
   "outputs": [
    {
     "data": {
      "text/plain": [
       "0.2718505123568415"
      ]
     },
     "execution_count": 16,
     "metadata": {},
     "output_type": "execute_result"
    }
   ],
   "source": [
    "df_train[df_train['step'] > 400]['isFraud'].mean()"
   ]
  },
  {
   "cell_type": "markdown",
   "id": "14ae332a-f93f-4541-94a5-d9e1584c61ba",
   "metadata": {},
   "source": [
    "It seems so. Fraud occur 27% of the time for step>400."
   ]
  },
  {
   "cell_type": "code",
   "execution_count": 17,
   "id": "2cc45e68-09ff-472c-9e47-87a442c51006",
   "metadata": {},
   "outputs": [
    {
     "data": {
      "image/png": "[encoded data removed]",
      "text/plain": [
       "<Figure size 800x480 with 6 Axes>"
      ]
     },
     "metadata": {},
     "output_type": "display_data"
    }
   ],
   "source": [
    "fig, axes = plt.subplots(ncols=3, nrows=2)\n",
    "fig.set_figwidth(8)\n",
    "axes = axes.flatten()\n",
    "\n",
    "for i,var in enumerate(num_vars):\n",
    "    sns.boxplot(df_train, y=var, hue='isFraud', ax=axes[i])\n",
    "plt.tight_layout()"
   ]
  },
  {
   "cell_type": "markdown",
   "id": "b705f481-286d-470d-924e-f3602471d1e2",
   "metadata": {},
   "source": [
    "Observations:\n",
    "\n",
    "- variables \"step\", \"amount\", and \"oldbalanceOrg\" appear to have higher median for frauds.\n",
    "- newbalanceOrig is almost always zero for frauds.\n",
    "- oldbalanceDest and newbalanceDest appear to have no predictive power."
   ]
  },
  {
   "cell_type": "markdown",
   "id": "f84cd902-5150-4489-93bb-4e625f3ad13e",
   "metadata": {},
   "source": [
    "## Categorical variables"
   ]
  },
  {
   "cell_type": "code",
   "execution_count": 18,
   "id": "66481575-8dc6-467f-a98d-ebcef3e2461d",
   "metadata": {},
   "outputs": [
    {
     "data": {
      "image/png": "[encoded data removed]",
      "text/plain": [
       "<Figure size 640x800 with 3 Axes>"
      ]
     },
     "metadata": {},
     "output_type": "display_data"
    }
   ],
   "source": [
    "fig, axes = plt.subplots(nrows=3)\n",
    "fig.set_figheight(8)\n",
    "\n",
    "sns.countplot(df_train, y='isFlaggedFraud', hue='isFraud', ax=axes[0])\n",
    "sns.countplot(df_train, y='type', hue='isFraud', ax=axes[1])\n",
    "sns.countplot(df_train, y='isDestMerchant', hue='isFraud', ax=axes[2])\n",
    "\n",
    "plt.tight_layout()"
   ]
  },
  {
   "cell_type": "markdown",
   "id": "4cb11533-eaab-44f8-bd12-a134fe471d09",
   "metadata": {},
   "source": [
    "Observation: \n",
    "\n",
    "isFlaggedFraud is very rare.\n",
    "\n",
    "Fraud only occur for CASH_OUT and TRANSFER transactions. How often do they occur?"
   ]
  },
  {
   "cell_type": "code",
   "execution_count": 19,
   "id": "551ff382-5de5-4fa0-a803-f9c3ffa3248d",
   "metadata": {},
   "outputs": [
    {
     "data": {
      "text/plain": [
       "0.14678072940117065"
      ]
     },
     "execution_count": 19,
     "metadata": {},
     "output_type": "execute_result"
    }
   ],
   "source": [
    "df_train[df_train['type'].isin(['CASH_OUT', 'TRANSFER'])]['isFraud'].mean()"
   ]
  },
  {
   "cell_type": "markdown",
   "id": "413e0461-7e35-466c-8f94-9c4b71895ce8",
   "metadata": {},
   "source": [
    "Fraud occur 14.7% of the time for those transactions."
   ]
  },
  {
   "cell_type": "markdown",
   "id": "7ac31f6e-b6e4-4b02-8ef2-a686dcbd9cea",
   "metadata": {},
   "source": [
    "Another observation: fraud only occur for transaction with customer destination (not merchant). How often do they occur?"
   ]
  },
  {
   "cell_type": "code",
   "execution_count": 20,
   "id": "6f35d224-c921-48d6-8324-37f975bdd0de",
   "metadata": {},
   "outputs": [
    {
     "data": {
      "text/plain": [
       "0.1018962283809127"
      ]
     },
     "execution_count": 20,
     "metadata": {},
     "output_type": "execute_result"
    }
   ],
   "source": [
    "df_train[~df_train['isDestMerchant']]['isFraud'].mean()"
   ]
  },
  {
   "cell_type": "markdown",
   "id": "63af80a6-781b-467c-9c9b-541dfdd5db05",
   "metadata": {},
   "source": [
    "Fraud occur 10.2% of the time for those rows."
   ]
  },
  {
   "cell_type": "markdown",
   "id": "06da6806-9928-4cc3-92e3-d14a522cfc44",
   "metadata": {},
   "source": [
    "As it turns out, cash_out and transfer transactions only occur for transactions with customer destination. So isDestMerchant is redundant. See:"
   ]
  },
  {
   "cell_type": "code",
   "execution_count": 21,
   "id": "3db732f2-f250-4c48-aee5-68dd26b4aa08",
   "metadata": {},
   "outputs": [
    {
     "data": {
      "text/plain": [
       "False"
      ]
     },
     "execution_count": 21,
     "metadata": {},
     "output_type": "execute_result"
    }
   ],
   "source": [
    "df_train[df_train['type'].isin(['CASH_OUT', 'TRANSFER'])]['isDestMerchant'].any()"
   ]
  },
  {
   "cell_type": "markdown",
   "id": "6e667cd8-5d72-4b9d-bfad-a7e152b8b6aa",
   "metadata": {},
   "source": [
    "## Conclusions\n",
    "\n",
    "From the above analysis, we can make these conclusions regarding fraudulent transactions:\n",
    "\n",
    "1. They have large step values\n",
    "2. Often occur on \"emptying\" transactions (positive oldbalanceOrg and zero newbalanceOrig)\n",
    "3. Has larger transaction amount\n",
    "4. _Only_ occur in \"cash_out\" and \"transfer\" transaction types"
   ]
  },
  {
   "cell_type": "markdown",
   "id": "4bcc4f9b-44d8-484f-af46-60cc9a9f231d",
   "metadata": {},
   "source": [
    "# Question 3: WOE\n",
    "\n",
    "Weight of Evidence (WOE) is a technique used to transform categorical variables into numerical values based on their relationship with fraud likelihood. WOE measures how much more or less likely a particular category is to be associated with fraud compared to non-fraud.\n",
    "\n",
    "Create WOE for fraud analytics case with the following steps:\n",
    "- Create categorical variable from numerical variable using binning method.\n",
    "- Compute WOE values for each category in that variable using the WOE formula.\n",
    "- Label the strength of information using IV (Information Value) using 3 categories: **[strong, weak, very low]**.\n",
    "- Based on this result, suggest what variables can be used to detect fraudulent cases."
   ]
  },
  {
   "cell_type": "code",
   "execution_count": 22,
   "id": "86f18cef-3f86-4b6b-a813-5ddcf17bd5bf",
   "metadata": {},
   "outputs": [],
   "source": [
    "df_train_bin = df_train.copy()\n",
    "for var in num_vars:\n",
    "    df_train_bin[var + '_bin'] = pd.qcut(df_train_bin[var], q=4, duplicates='drop')\n",
    "    df_train_bin = df_train_bin.drop(var, axis=1)"
   ]
  },
  {
   "cell_type": "code",
   "execution_count": 23,
   "id": "f5666336-86cf-4ca7-9ba2-e9a0e3dd2683",
   "metadata": {},
   "outputs": [],
   "source": [
    "crosstabs = {}\n",
    "for var in df_train_bin.columns:\n",
    "    if var == 'isFraud':\n",
    "        continue\n",
    "    crosstabs[var] = pd.crosstab(df_train_bin[var], df_train_bin['isFraud'], margins=True)"
   ]
  },
  {
   "cell_type": "code",
   "execution_count": 24,
   "id": "54ed2dbf-bb41-4bd4-baee-b92e89ba2f1c",
   "metadata": {},
   "outputs": [],
   "source": [
    "from IPython.display import display, Markdown"
   ]
  },
  {
   "cell_type": "code",
   "execution_count": 25,
   "id": "0637a8c2-c858-4ff9-9b23-56b3342d0ae2",
   "metadata": {
    "scrolled": true
   },
   "outputs": [
    {
     "data": {
      "text/html": [
       "<div>\n",
       "<style scoped>\n",
       "    .dataframe tbody tr th:only-of-type {\n",
       "        vertical-align: middle;\n",
       "    }\n",
       "\n",
       "    .dataframe tbody tr th {\n",
       "        vertical-align: top;\n",
       "    }\n",
       "\n",
       "    .dataframe thead th {\n",
       "        text-align: right;\n",
       "    }\n",
       "</style>\n",
       "<table border=\"1\" class=\"dataframe\">\n",
       "  <thead>\n",
       "    <tr style=\"text-align: right;\">\n",
       "      <th>isFraud</th>\n",
       "      <th>0</th>\n",
       "      <th>1</th>\n",
       "      <th>All</th>\n",
       "      <th>p_good</th>\n",
       "      <th>p_bad</th>\n",
       "      <th>WOE</th>\n",
       "      <th>contribution</th>\n",
       "    </tr>\n",
       "    <tr>\n",
       "      <th>type</th>\n",
       "      <th></th>\n",
       "      <th></th>\n",
       "      <th></th>\n",
       "      <th></th>\n",
       "      <th></th>\n",
       "      <th></th>\n",
       "      <th></th>\n",
       "    </tr>\n",
       "  </thead>\n",
       "  <tbody>\n",
       "    <tr>\n",
       "      <th>CASH_IN</th>\n",
       "      <td>2854</td>\n",
       "      <td>0</td>\n",
       "      <td>2854</td>\n",
       "      <td>0.219218</td>\n",
       "      <td>0.000000</td>\n",
       "      <td>14.013720</td>\n",
       "      <td>3.072061</td>\n",
       "    </tr>\n",
       "    <tr>\n",
       "      <th>CASH_OUT</th>\n",
       "      <td>4604</td>\n",
       "      <td>490</td>\n",
       "      <td>5094</td>\n",
       "      <td>0.353637</td>\n",
       "      <td>0.501022</td>\n",
       "      <td>13.815511</td>\n",
       "      <td>-2.036206</td>\n",
       "    </tr>\n",
       "    <tr>\n",
       "      <th>DEBIT</th>\n",
       "      <td>81</td>\n",
       "      <td>0</td>\n",
       "      <td>81</td>\n",
       "      <td>0.006222</td>\n",
       "      <td>0.000000</td>\n",
       "      <td>13.821713</td>\n",
       "      <td>0.085994</td>\n",
       "    </tr>\n",
       "    <tr>\n",
       "      <th>PAYMENT</th>\n",
       "      <td>4399</td>\n",
       "      <td>0</td>\n",
       "      <td>4399</td>\n",
       "      <td>0.337891</td>\n",
       "      <td>0.000000</td>\n",
       "      <td>14.106605</td>\n",
       "      <td>4.766492</td>\n",
       "    </tr>\n",
       "    <tr>\n",
       "      <th>TRANSFER</th>\n",
       "      <td>1081</td>\n",
       "      <td>488</td>\n",
       "      <td>1569</td>\n",
       "      <td>0.083032</td>\n",
       "      <td>0.498978</td>\n",
       "      <td>13.815511</td>\n",
       "      <td>-5.746493</td>\n",
       "    </tr>\n",
       "    <tr>\n",
       "      <th>All</th>\n",
       "      <td>13019</td>\n",
       "      <td>978</td>\n",
       "      <td>13997</td>\n",
       "      <td>1.000000</td>\n",
       "      <td>1.000000</td>\n",
       "      <td>13.815512</td>\n",
       "      <td>0.000000</td>\n",
       "    </tr>\n",
       "  </tbody>\n",
       "</table>\n",
       "</div>"
      ],
      "text/plain": [
       "isFraud       0    1    All    p_good     p_bad        WOE  contribution\n",
       "type                                                                    \n",
       "CASH_IN    2854    0   2854  0.219218  0.000000  14.013720      3.072061\n",
       "CASH_OUT   4604  490   5094  0.353637  0.501022  13.815511     -2.036206\n",
       "DEBIT        81    0     81  0.006222  0.000000  13.821713      0.085994\n",
       "PAYMENT    4399    0   4399  0.337891  0.000000  14.106605      4.766492\n",
       "TRANSFER   1081  488   1569  0.083032  0.498978  13.815511     -5.746493\n",
       "All       13019  978  13997  1.000000  1.000000  13.815512      0.000000"
      ]
     },
     "metadata": {},
     "output_type": "display_data"
    },
    {
     "data": {
      "text/html": [
       "<div>\n",
       "<style scoped>\n",
       "    .dataframe tbody tr th:only-of-type {\n",
       "        vertical-align: middle;\n",
       "    }\n",
       "\n",
       "    .dataframe tbody tr th {\n",
       "        vertical-align: top;\n",
       "    }\n",
       "\n",
       "    .dataframe thead th {\n",
       "        text-align: right;\n",
       "    }\n",
       "</style>\n",
       "<table border=\"1\" class=\"dataframe\">\n",
       "  <thead>\n",
       "    <tr style=\"text-align: right;\">\n",
       "      <th>isFraud</th>\n",
       "      <th>0</th>\n",
       "      <th>1</th>\n",
       "      <th>All</th>\n",
       "      <th>p_good</th>\n",
       "      <th>p_bad</th>\n",
       "      <th>WOE</th>\n",
       "      <th>contribution</th>\n",
       "    </tr>\n",
       "    <tr>\n",
       "      <th>isFlaggedFraud</th>\n",
       "      <th></th>\n",
       "      <th></th>\n",
       "      <th></th>\n",
       "      <th></th>\n",
       "      <th></th>\n",
       "      <th></th>\n",
       "      <th></th>\n",
       "    </tr>\n",
       "  </thead>\n",
       "  <tbody>\n",
       "    <tr>\n",
       "      <th>0</th>\n",
       "      <td>13019</td>\n",
       "      <td>964</td>\n",
       "      <td>13983</td>\n",
       "      <td>1.0</td>\n",
       "      <td>0.985685</td>\n",
       "      <td>13.815512</td>\n",
       "      <td>0.197768</td>\n",
       "    </tr>\n",
       "    <tr>\n",
       "      <th>1</th>\n",
       "      <td>0</td>\n",
       "      <td>14</td>\n",
       "      <td>14</td>\n",
       "      <td>0.0</td>\n",
       "      <td>0.014315</td>\n",
       "      <td>13.815511</td>\n",
       "      <td>-0.197768</td>\n",
       "    </tr>\n",
       "    <tr>\n",
       "      <th>All</th>\n",
       "      <td>13019</td>\n",
       "      <td>978</td>\n",
       "      <td>13997</td>\n",
       "      <td>1.0</td>\n",
       "      <td>1.000000</td>\n",
       "      <td>13.815512</td>\n",
       "      <td>0.000000</td>\n",
       "    </tr>\n",
       "  </tbody>\n",
       "</table>\n",
       "</div>"
      ],
      "text/plain": [
       "isFraud             0    1    All  p_good     p_bad        WOE  contribution\n",
       "isFlaggedFraud                                                              \n",
       "0               13019  964  13983     1.0  0.985685  13.815512      0.197768\n",
       "1                   0   14     14     0.0  0.014315  13.815511     -0.197768\n",
       "All             13019  978  13997     1.0  1.000000  13.815512      0.000000"
      ]
     },
     "metadata": {},
     "output_type": "display_data"
    },
    {
     "data": {
      "text/html": [
       "<div>\n",
       "<style scoped>\n",
       "    .dataframe tbody tr th:only-of-type {\n",
       "        vertical-align: middle;\n",
       "    }\n",
       "\n",
       "    .dataframe tbody tr th {\n",
       "        vertical-align: top;\n",
       "    }\n",
       "\n",
       "    .dataframe thead th {\n",
       "        text-align: right;\n",
       "    }\n",
       "</style>\n",
       "<table border=\"1\" class=\"dataframe\">\n",
       "  <thead>\n",
       "    <tr style=\"text-align: right;\">\n",
       "      <th>isFraud</th>\n",
       "      <th>0</th>\n",
       "      <th>1</th>\n",
       "      <th>All</th>\n",
       "      <th>p_good</th>\n",
       "      <th>p_bad</th>\n",
       "      <th>WOE</th>\n",
       "      <th>contribution</th>\n",
       "    </tr>\n",
       "    <tr>\n",
       "      <th>isDestMerchant</th>\n",
       "      <th></th>\n",
       "      <th></th>\n",
       "      <th></th>\n",
       "      <th></th>\n",
       "      <th></th>\n",
       "      <th></th>\n",
       "      <th></th>\n",
       "    </tr>\n",
       "  </thead>\n",
       "  <tbody>\n",
       "    <tr>\n",
       "      <th>False</th>\n",
       "      <td>8620</td>\n",
       "      <td>978</td>\n",
       "      <td>9598</td>\n",
       "      <td>0.662109</td>\n",
       "      <td>1.0</td>\n",
       "      <td>13.815511</td>\n",
       "      <td>-4.668134</td>\n",
       "    </tr>\n",
       "    <tr>\n",
       "      <th>True</th>\n",
       "      <td>4399</td>\n",
       "      <td>0</td>\n",
       "      <td>4399</td>\n",
       "      <td>0.337891</td>\n",
       "      <td>0.0</td>\n",
       "      <td>14.106605</td>\n",
       "      <td>4.766492</td>\n",
       "    </tr>\n",
       "    <tr>\n",
       "      <th>All</th>\n",
       "      <td>13019</td>\n",
       "      <td>978</td>\n",
       "      <td>13997</td>\n",
       "      <td>1.000000</td>\n",
       "      <td>1.0</td>\n",
       "      <td>13.815512</td>\n",
       "      <td>0.000000</td>\n",
       "    </tr>\n",
       "  </tbody>\n",
       "</table>\n",
       "</div>"
      ],
      "text/plain": [
       "isFraud             0    1    All    p_good  p_bad        WOE  contribution\n",
       "isDestMerchant                                                             \n",
       "False            8620  978   9598  0.662109    1.0  13.815511     -4.668134\n",
       "True             4399    0   4399  0.337891    0.0  14.106605      4.766492\n",
       "All             13019  978  13997  1.000000    1.0  13.815512      0.000000"
      ]
     },
     "metadata": {},
     "output_type": "display_data"
    },
    {
     "data": {
      "text/html": [
       "<div>\n",
       "<style scoped>\n",
       "    .dataframe tbody tr th:only-of-type {\n",
       "        vertical-align: middle;\n",
       "    }\n",
       "\n",
       "    .dataframe tbody tr th {\n",
       "        vertical-align: top;\n",
       "    }\n",
       "\n",
       "    .dataframe thead th {\n",
       "        text-align: right;\n",
       "    }\n",
       "</style>\n",
       "<table border=\"1\" class=\"dataframe\">\n",
       "  <thead>\n",
       "    <tr style=\"text-align: right;\">\n",
       "      <th>isFraud</th>\n",
       "      <th>0</th>\n",
       "      <th>1</th>\n",
       "      <th>All</th>\n",
       "      <th>p_good</th>\n",
       "      <th>p_bad</th>\n",
       "      <th>WOE</th>\n",
       "      <th>contribution</th>\n",
       "    </tr>\n",
       "    <tr>\n",
       "      <th>step_bin</th>\n",
       "      <th></th>\n",
       "      <th></th>\n",
       "      <th></th>\n",
       "      <th></th>\n",
       "      <th></th>\n",
       "      <th></th>\n",
       "      <th></th>\n",
       "    </tr>\n",
       "  </thead>\n",
       "  <tbody>\n",
       "    <tr>\n",
       "      <th>(0.999, 156.0]</th>\n",
       "      <td>3335</td>\n",
       "      <td>209</td>\n",
       "      <td>3544</td>\n",
       "      <td>0.256164</td>\n",
       "      <td>0.213701</td>\n",
       "      <td>13.815512</td>\n",
       "      <td>0.586643</td>\n",
       "    </tr>\n",
       "    <tr>\n",
       "      <th>(156.0, 251.0]</th>\n",
       "      <td>3396</td>\n",
       "      <td>120</td>\n",
       "      <td>3516</td>\n",
       "      <td>0.260850</td>\n",
       "      <td>0.122699</td>\n",
       "      <td>13.815513</td>\n",
       "      <td>1.908615</td>\n",
       "    </tr>\n",
       "    <tr>\n",
       "      <th>(251.0, 350.0]</th>\n",
       "      <td>3358</td>\n",
       "      <td>128</td>\n",
       "      <td>3486</td>\n",
       "      <td>0.257931</td>\n",
       "      <td>0.130879</td>\n",
       "      <td>13.815513</td>\n",
       "      <td>1.755280</td>\n",
       "    </tr>\n",
       "    <tr>\n",
       "      <th>(350.0, 741.0]</th>\n",
       "      <td>2930</td>\n",
       "      <td>521</td>\n",
       "      <td>3451</td>\n",
       "      <td>0.225056</td>\n",
       "      <td>0.532720</td>\n",
       "      <td>13.815511</td>\n",
       "      <td>-4.250537</td>\n",
       "    </tr>\n",
       "    <tr>\n",
       "      <th>All</th>\n",
       "      <td>13019</td>\n",
       "      <td>978</td>\n",
       "      <td>13997</td>\n",
       "      <td>1.000000</td>\n",
       "      <td>1.000000</td>\n",
       "      <td>13.815512</td>\n",
       "      <td>0.000000</td>\n",
       "    </tr>\n",
       "  </tbody>\n",
       "</table>\n",
       "</div>"
      ],
      "text/plain": [
       "isFraud             0    1    All    p_good     p_bad        WOE  contribution\n",
       "step_bin                                                                      \n",
       "(0.999, 156.0]   3335  209   3544  0.256164  0.213701  13.815512      0.586643\n",
       "(156.0, 251.0]   3396  120   3516  0.260850  0.122699  13.815513      1.908615\n",
       "(251.0, 350.0]   3358  128   3486  0.257931  0.130879  13.815513      1.755280\n",
       "(350.0, 741.0]   2930  521   3451  0.225056  0.532720  13.815511     -4.250537\n",
       "All             13019  978  13997  1.000000  1.000000  13.815512      0.000000"
      ]
     },
     "metadata": {},
     "output_type": "display_data"
    },
    {
     "data": {
      "text/html": [
       "<div>\n",
       "<style scoped>\n",
       "    .dataframe tbody tr th:only-of-type {\n",
       "        vertical-align: middle;\n",
       "    }\n",
       "\n",
       "    .dataframe tbody tr th {\n",
       "        vertical-align: top;\n",
       "    }\n",
       "\n",
       "    .dataframe thead th {\n",
       "        text-align: right;\n",
       "    }\n",
       "</style>\n",
       "<table border=\"1\" class=\"dataframe\">\n",
       "  <thead>\n",
       "    <tr style=\"text-align: right;\">\n",
       "      <th>isFraud</th>\n",
       "      <th>0</th>\n",
       "      <th>1</th>\n",
       "      <th>All</th>\n",
       "      <th>p_good</th>\n",
       "      <th>p_bad</th>\n",
       "      <th>WOE</th>\n",
       "      <th>contribution</th>\n",
       "    </tr>\n",
       "    <tr>\n",
       "      <th>amount_bin</th>\n",
       "      <th></th>\n",
       "      <th></th>\n",
       "      <th></th>\n",
       "      <th></th>\n",
       "      <th></th>\n",
       "      <th></th>\n",
       "      <th></th>\n",
       "    </tr>\n",
       "  </thead>\n",
       "  <tbody>\n",
       "    <tr>\n",
       "      <th>(-13.817, 9.597]</th>\n",
       "      <td>3461</td>\n",
       "      <td>39</td>\n",
       "      <td>3500</td>\n",
       "      <td>0.265842</td>\n",
       "      <td>0.039877</td>\n",
       "      <td>13.815517</td>\n",
       "      <td>3.121822</td>\n",
       "    </tr>\n",
       "    <tr>\n",
       "      <th>(9.597, 11.372]</th>\n",
       "      <td>3369</td>\n",
       "      <td>130</td>\n",
       "      <td>3499</td>\n",
       "      <td>0.258776</td>\n",
       "      <td>0.132924</td>\n",
       "      <td>13.815513</td>\n",
       "      <td>1.738700</td>\n",
       "    </tr>\n",
       "    <tr>\n",
       "      <th>(11.372, 12.356]</th>\n",
       "      <td>3341</td>\n",
       "      <td>158</td>\n",
       "      <td>3499</td>\n",
       "      <td>0.256625</td>\n",
       "      <td>0.161554</td>\n",
       "      <td>13.815512</td>\n",
       "      <td>1.313451</td>\n",
       "    </tr>\n",
       "    <tr>\n",
       "      <th>(12.356, 17.265]</th>\n",
       "      <td>2848</td>\n",
       "      <td>651</td>\n",
       "      <td>3499</td>\n",
       "      <td>0.218757</td>\n",
       "      <td>0.665644</td>\n",
       "      <td>13.815511</td>\n",
       "      <td>-6.173972</td>\n",
       "    </tr>\n",
       "    <tr>\n",
       "      <th>All</th>\n",
       "      <td>13019</td>\n",
       "      <td>978</td>\n",
       "      <td>13997</td>\n",
       "      <td>1.000000</td>\n",
       "      <td>1.000000</td>\n",
       "      <td>13.815512</td>\n",
       "      <td>0.000000</td>\n",
       "    </tr>\n",
       "  </tbody>\n",
       "</table>\n",
       "</div>"
      ],
      "text/plain": [
       "isFraud               0    1    All    p_good     p_bad        WOE  \\\n",
       "amount_bin                                                           \n",
       "(-13.817, 9.597]   3461   39   3500  0.265842  0.039877  13.815517   \n",
       "(9.597, 11.372]    3369  130   3499  0.258776  0.132924  13.815513   \n",
       "(11.372, 12.356]   3341  158   3499  0.256625  0.161554  13.815512   \n",
       "(12.356, 17.265]   2848  651   3499  0.218757  0.665644  13.815511   \n",
       "All               13019  978  13997  1.000000  1.000000  13.815512   \n",
       "\n",
       "isFraud           contribution  \n",
       "amount_bin                      \n",
       "(-13.817, 9.597]      3.121822  \n",
       "(9.597, 11.372]       1.738700  \n",
       "(11.372, 12.356]      1.313451  \n",
       "(12.356, 17.265]     -6.173972  \n",
       "All                   0.000000  "
      ]
     },
     "metadata": {},
     "output_type": "display_data"
    },
    {
     "data": {
      "text/html": [
       "<div>\n",
       "<style scoped>\n",
       "    .dataframe tbody tr th:only-of-type {\n",
       "        vertical-align: middle;\n",
       "    }\n",
       "\n",
       "    .dataframe tbody tr th {\n",
       "        vertical-align: top;\n",
       "    }\n",
       "\n",
       "    .dataframe thead th {\n",
       "        text-align: right;\n",
       "    }\n",
       "</style>\n",
       "<table border=\"1\" class=\"dataframe\">\n",
       "  <thead>\n",
       "    <tr style=\"text-align: right;\">\n",
       "      <th>isFraud</th>\n",
       "      <th>0</th>\n",
       "      <th>1</th>\n",
       "      <th>All</th>\n",
       "      <th>p_good</th>\n",
       "      <th>p_bad</th>\n",
       "      <th>WOE</th>\n",
       "      <th>contribution</th>\n",
       "    </tr>\n",
       "    <tr>\n",
       "      <th>oldbalanceOrg_bin</th>\n",
       "      <th></th>\n",
       "      <th></th>\n",
       "      <th></th>\n",
       "      <th></th>\n",
       "      <th></th>\n",
       "      <th></th>\n",
       "      <th></th>\n",
       "    </tr>\n",
       "  </thead>\n",
       "  <tbody>\n",
       "    <tr>\n",
       "      <th>(-13.817, 9.896]</th>\n",
       "      <td>6946</td>\n",
       "      <td>53</td>\n",
       "      <td>6999</td>\n",
       "      <td>0.533528</td>\n",
       "      <td>0.054192</td>\n",
       "      <td>13.815520</td>\n",
       "      <td>6.622272</td>\n",
       "    </tr>\n",
       "    <tr>\n",
       "      <th>(9.896, 11.934]</th>\n",
       "      <td>3288</td>\n",
       "      <td>211</td>\n",
       "      <td>3499</td>\n",
       "      <td>0.252554</td>\n",
       "      <td>0.215746</td>\n",
       "      <td>13.815512</td>\n",
       "      <td>0.508515</td>\n",
       "    </tr>\n",
       "    <tr>\n",
       "      <th>(11.934, 17.438]</th>\n",
       "      <td>2785</td>\n",
       "      <td>714</td>\n",
       "      <td>3499</td>\n",
       "      <td>0.213918</td>\n",
       "      <td>0.730061</td>\n",
       "      <td>13.815511</td>\n",
       "      <td>-7.130782</td>\n",
       "    </tr>\n",
       "    <tr>\n",
       "      <th>All</th>\n",
       "      <td>13019</td>\n",
       "      <td>978</td>\n",
       "      <td>13997</td>\n",
       "      <td>1.000000</td>\n",
       "      <td>1.000000</td>\n",
       "      <td>13.815512</td>\n",
       "      <td>0.000000</td>\n",
       "    </tr>\n",
       "  </tbody>\n",
       "</table>\n",
       "</div>"
      ],
      "text/plain": [
       "isFraud                0    1    All    p_good     p_bad        WOE  \\\n",
       "oldbalanceOrg_bin                                                     \n",
       "(-13.817, 9.896]    6946   53   6999  0.533528  0.054192  13.815520   \n",
       "(9.896, 11.934]     3288  211   3499  0.252554  0.215746  13.815512   \n",
       "(11.934, 17.438]    2785  714   3499  0.213918  0.730061  13.815511   \n",
       "All                13019  978  13997  1.000000  1.000000  13.815512   \n",
       "\n",
       "isFraud            contribution  \n",
       "oldbalanceOrg_bin                \n",
       "(-13.817, 9.896]       6.622272  \n",
       "(9.896, 11.934]        0.508515  \n",
       "(11.934, 17.438]      -7.130782  \n",
       "All                    0.000000  "
      ]
     },
     "metadata": {},
     "output_type": "display_data"
    },
    {
     "data": {
      "text/html": [
       "<div>\n",
       "<style scoped>\n",
       "    .dataframe tbody tr th:only-of-type {\n",
       "        vertical-align: middle;\n",
       "    }\n",
       "\n",
       "    .dataframe tbody tr th {\n",
       "        vertical-align: top;\n",
       "    }\n",
       "\n",
       "    .dataframe thead th {\n",
       "        text-align: right;\n",
       "    }\n",
       "</style>\n",
       "<table border=\"1\" class=\"dataframe\">\n",
       "  <thead>\n",
       "    <tr style=\"text-align: right;\">\n",
       "      <th>isFraud</th>\n",
       "      <th>0</th>\n",
       "      <th>1</th>\n",
       "      <th>All</th>\n",
       "      <th>p_good</th>\n",
       "      <th>p_bad</th>\n",
       "      <th>WOE</th>\n",
       "      <th>contribution</th>\n",
       "    </tr>\n",
       "    <tr>\n",
       "      <th>newbalanceOrig_bin</th>\n",
       "      <th></th>\n",
       "      <th></th>\n",
       "      <th></th>\n",
       "      <th></th>\n",
       "      <th></th>\n",
       "      <th></th>\n",
       "      <th></th>\n",
       "    </tr>\n",
       "  </thead>\n",
       "  <tbody>\n",
       "    <tr>\n",
       "      <th>(-13.817, 11.644]</th>\n",
       "      <td>9549</td>\n",
       "      <td>949</td>\n",
       "      <td>10498</td>\n",
       "      <td>0.733466</td>\n",
       "      <td>0.970348</td>\n",
       "      <td>13.815511</td>\n",
       "      <td>-3.272635</td>\n",
       "    </tr>\n",
       "    <tr>\n",
       "      <th>(11.644, 17.308]</th>\n",
       "      <td>3470</td>\n",
       "      <td>29</td>\n",
       "      <td>3499</td>\n",
       "      <td>0.266534</td>\n",
       "      <td>0.029652</td>\n",
       "      <td>13.815520</td>\n",
       "      <td>3.272637</td>\n",
       "    </tr>\n",
       "    <tr>\n",
       "      <th>All</th>\n",
       "      <td>13019</td>\n",
       "      <td>978</td>\n",
       "      <td>13997</td>\n",
       "      <td>1.000000</td>\n",
       "      <td>1.000000</td>\n",
       "      <td>13.815512</td>\n",
       "      <td>0.000000</td>\n",
       "    </tr>\n",
       "  </tbody>\n",
       "</table>\n",
       "</div>"
      ],
      "text/plain": [
       "isFraud                 0    1    All    p_good     p_bad        WOE  \\\n",
       "newbalanceOrig_bin                                                     \n",
       "(-13.817, 11.644]    9549  949  10498  0.733466  0.970348  13.815511   \n",
       "(11.644, 17.308]     3470   29   3499  0.266534  0.029652  13.815520   \n",
       "All                 13019  978  13997  1.000000  1.000000  13.815512   \n",
       "\n",
       "isFraud             contribution  \n",
       "newbalanceOrig_bin                \n",
       "(-13.817, 11.644]      -3.272635  \n",
       "(11.644, 17.308]        3.272637  \n",
       "All                     0.000000  "
      ]
     },
     "metadata": {},
     "output_type": "display_data"
    },
    {
     "data": {
      "text/html": [
       "<div>\n",
       "<style scoped>\n",
       "    .dataframe tbody tr th:only-of-type {\n",
       "        vertical-align: middle;\n",
       "    }\n",
       "\n",
       "    .dataframe tbody tr th {\n",
       "        vertical-align: top;\n",
       "    }\n",
       "\n",
       "    .dataframe thead th {\n",
       "        text-align: right;\n",
       "    }\n",
       "</style>\n",
       "<table border=\"1\" class=\"dataframe\">\n",
       "  <thead>\n",
       "    <tr style=\"text-align: right;\">\n",
       "      <th>isFraud</th>\n",
       "      <th>0</th>\n",
       "      <th>1</th>\n",
       "      <th>All</th>\n",
       "      <th>p_good</th>\n",
       "      <th>p_bad</th>\n",
       "      <th>WOE</th>\n",
       "      <th>contribution</th>\n",
       "    </tr>\n",
       "    <tr>\n",
       "      <th>oldbalanceDest_bin</th>\n",
       "      <th></th>\n",
       "      <th></th>\n",
       "      <th></th>\n",
       "      <th></th>\n",
       "      <th></th>\n",
       "      <th></th>\n",
       "      <th></th>\n",
       "    </tr>\n",
       "  </thead>\n",
       "  <tbody>\n",
       "    <tr>\n",
       "      <th>(-13.817, 11.533]</th>\n",
       "      <td>6283</td>\n",
       "      <td>716</td>\n",
       "      <td>6999</td>\n",
       "      <td>0.482602</td>\n",
       "      <td>0.732106</td>\n",
       "      <td>13.815511</td>\n",
       "      <td>-3.447025</td>\n",
       "    </tr>\n",
       "    <tr>\n",
       "      <th>(11.533, 13.691]</th>\n",
       "      <td>3336</td>\n",
       "      <td>163</td>\n",
       "      <td>3499</td>\n",
       "      <td>0.256241</td>\n",
       "      <td>0.166667</td>\n",
       "      <td>13.815512</td>\n",
       "      <td>1.237514</td>\n",
       "    </tr>\n",
       "    <tr>\n",
       "      <th>(13.691, 18.632]</th>\n",
       "      <td>3400</td>\n",
       "      <td>99</td>\n",
       "      <td>3499</td>\n",
       "      <td>0.261157</td>\n",
       "      <td>0.101227</td>\n",
       "      <td>13.815513</td>\n",
       "      <td>2.209512</td>\n",
       "    </tr>\n",
       "    <tr>\n",
       "      <th>All</th>\n",
       "      <td>13019</td>\n",
       "      <td>978</td>\n",
       "      <td>13997</td>\n",
       "      <td>1.000000</td>\n",
       "      <td>1.000000</td>\n",
       "      <td>13.815512</td>\n",
       "      <td>0.000000</td>\n",
       "    </tr>\n",
       "  </tbody>\n",
       "</table>\n",
       "</div>"
      ],
      "text/plain": [
       "isFraud                 0    1    All    p_good     p_bad        WOE  \\\n",
       "oldbalanceDest_bin                                                     \n",
       "(-13.817, 11.533]    6283  716   6999  0.482602  0.732106  13.815511   \n",
       "(11.533, 13.691]     3336  163   3499  0.256241  0.166667  13.815512   \n",
       "(13.691, 18.632]     3400   99   3499  0.261157  0.101227  13.815513   \n",
       "All                 13019  978  13997  1.000000  1.000000  13.815512   \n",
       "\n",
       "isFraud             contribution  \n",
       "oldbalanceDest_bin                \n",
       "(-13.817, 11.533]      -3.447025  \n",
       "(11.533, 13.691]        1.237514  \n",
       "(13.691, 18.632]        2.209512  \n",
       "All                     0.000000  "
      ]
     },
     "metadata": {},
     "output_type": "display_data"
    },
    {
     "data": {
      "text/html": [
       "<div>\n",
       "<style scoped>\n",
       "    .dataframe tbody tr th:only-of-type {\n",
       "        vertical-align: middle;\n",
       "    }\n",
       "\n",
       "    .dataframe tbody tr th {\n",
       "        vertical-align: top;\n",
       "    }\n",
       "\n",
       "    .dataframe thead th {\n",
       "        text-align: right;\n",
       "    }\n",
       "</style>\n",
       "<table border=\"1\" class=\"dataframe\">\n",
       "  <thead>\n",
       "    <tr style=\"text-align: right;\">\n",
       "      <th>isFraud</th>\n",
       "      <th>0</th>\n",
       "      <th>1</th>\n",
       "      <th>All</th>\n",
       "      <th>p_good</th>\n",
       "      <th>p_bad</th>\n",
       "      <th>WOE</th>\n",
       "      <th>contribution</th>\n",
       "    </tr>\n",
       "    <tr>\n",
       "      <th>newbalanceDest_bin</th>\n",
       "      <th></th>\n",
       "      <th></th>\n",
       "      <th></th>\n",
       "      <th></th>\n",
       "      <th></th>\n",
       "      <th></th>\n",
       "      <th></th>\n",
       "    </tr>\n",
       "  </thead>\n",
       "  <tbody>\n",
       "    <tr>\n",
       "      <th>(-13.817, 12.235]</th>\n",
       "      <td>6443</td>\n",
       "      <td>556</td>\n",
       "      <td>6999</td>\n",
       "      <td>0.494892</td>\n",
       "      <td>0.568507</td>\n",
       "      <td>13.815511</td>\n",
       "      <td>-1.017030</td>\n",
       "    </tr>\n",
       "    <tr>\n",
       "      <th>(12.235, 13.921]</th>\n",
       "      <td>3319</td>\n",
       "      <td>180</td>\n",
       "      <td>3499</td>\n",
       "      <td>0.254935</td>\n",
       "      <td>0.184049</td>\n",
       "      <td>13.815512</td>\n",
       "      <td>0.979327</td>\n",
       "    </tr>\n",
       "    <tr>\n",
       "      <th>(13.921, 18.635]</th>\n",
       "      <td>3257</td>\n",
       "      <td>242</td>\n",
       "      <td>3499</td>\n",
       "      <td>0.250173</td>\n",
       "      <td>0.247444</td>\n",
       "      <td>13.815512</td>\n",
       "      <td>0.037703</td>\n",
       "    </tr>\n",
       "    <tr>\n",
       "      <th>All</th>\n",
       "      <td>13019</td>\n",
       "      <td>978</td>\n",
       "      <td>13997</td>\n",
       "      <td>1.000000</td>\n",
       "      <td>1.000000</td>\n",
       "      <td>13.815512</td>\n",
       "      <td>0.000000</td>\n",
       "    </tr>\n",
       "  </tbody>\n",
       "</table>\n",
       "</div>"
      ],
      "text/plain": [
       "isFraud                 0    1    All    p_good     p_bad        WOE  \\\n",
       "newbalanceDest_bin                                                     \n",
       "(-13.817, 12.235]    6443  556   6999  0.494892  0.568507  13.815511   \n",
       "(12.235, 13.921]     3319  180   3499  0.254935  0.184049  13.815512   \n",
       "(13.921, 18.635]     3257  242   3499  0.250173  0.247444  13.815512   \n",
       "All                 13019  978  13997  1.000000  1.000000  13.815512   \n",
       "\n",
       "isFraud             contribution  \n",
       "newbalanceDest_bin                \n",
       "(-13.817, 12.235]      -1.017030  \n",
       "(12.235, 13.921]        0.979327  \n",
       "(13.921, 18.635]        0.037703  \n",
       "All                     0.000000  "
      ]
     },
     "metadata": {},
     "output_type": "display_data"
    }
   ],
   "source": [
    "WOEs = {}\n",
    "IVs = {}\n",
    "\n",
    "for var,crosstab in crosstabs.items():\n",
    "    # Calculate % Good\n",
    "    crosstab['p_good'] = crosstab[0]/crosstab[0]['All']\n",
    "\n",
    "    # Calculate % Bad\n",
    "    crosstab['p_bad'] = crosstab[1]/crosstab[1]['All']\n",
    "\n",
    "    # Calculate the WOE\n",
    "    crosstab['WOE'] = np.log(crosstab['p_good']/(crosstab['p_bad'] + 1e-6) + 1e6)  # add 1e-6 to prevent 0 division and log\n",
    "    \n",
    "    # Calculate the contribution value for IV\n",
    "    crosstab['contribution'] = (crosstab['p_good']-crosstab['p_bad'])*crosstab['WOE']\n",
    "    \n",
    "    # Calculate the IV\n",
    "    IV = crosstab['contribution'][:-1].sum()\n",
    "    WOEs[var] = crosstab\n",
    "    IVs[var] = IV\n",
    "\n",
    "    display(crosstab)"
   ]
  },
  {
   "cell_type": "code",
   "execution_count": 26,
   "id": "05d6e835-da15-472c-b093-55597f030dbe",
   "metadata": {},
   "outputs": [
    {
     "data": {
      "text/plain": [
       "isFlaggedFraud        1.452280e-08\n",
       "newbalanceDest_bin    3.686348e-08\n",
       "oldbalanceDest_bin    3.858427e-07\n",
       "step_bin              4.650011e-07\n",
       "amount_bin            1.755509e-06\n",
       "newbalanceOrig_bin    1.950098e-06\n",
       "oldbalanceOrg_bin     4.610848e-06\n",
       "isDestMerchant        9.835786e-02\n",
       "type                  1.418477e-01\n",
       "dtype: float64"
      ]
     },
     "execution_count": 26,
     "metadata": {},
     "output_type": "execute_result"
    }
   ],
   "source": [
    "IV_series = pd.Series(IVs).sort_values()\n",
    "IV_series"
   ]
  },
  {
   "cell_type": "code",
   "execution_count": 27,
   "id": "21d05833-1171-45dc-a93d-f1f921e262ef",
   "metadata": {},
   "outputs": [
    {
     "data": {
      "text/plain": [
       "isFlaggedFraud        very low\n",
       "newbalanceDest_bin    very low\n",
       "oldbalanceDest_bin    very low\n",
       "step_bin              very low\n",
       "amount_bin            very low\n",
       "newbalanceOrig_bin    very low\n",
       "oldbalanceOrg_bin     very low\n",
       "isDestMerchant            weak\n",
       "type                    strong\n",
       "dtype: category\n",
       "Categories (3, object): ['very low' < 'weak' < 'strong']"
      ]
     },
     "execution_count": 27,
     "metadata": {},
     "output_type": "execute_result"
    }
   ],
   "source": [
    "pd.cut(IV_series, bins=[0, 0.02, 0.1, np.inf], labels=['very low', 'weak', 'strong'])"
   ]
  },
  {
   "cell_type": "markdown",
   "id": "c9edf1a9-e3e6-4c05-87fa-abdff090ef98",
   "metadata": {},
   "source": [
    "All variables appear to have very low predictive power, except \"type\" and \"isDestMerchant\" (which we already know when we're doing the EDA). However, from EDA we _know_ that variables step, amount, oldbalanceOrg and newbalanceOrig have some predictive power in determining frauds."
   ]
  },
  {
   "attachments": {
    "15d322e9-d629-481c-b2eb-24d46ae78e16.png": {
     "image/png": "[encoded data removed]"
    }
   },
   "cell_type": "markdown",
   "id": "90c31f7d-77d1-44a7-aef5-e66c5ca2ebff",
   "metadata": {},
   "source": [
    "# Question 4: detecting outliers\n",
    "\n",
    "One common way to detect fraud is by identifying extreme outliers. In this question, you will use two statistical methods:\n",
    "\n",
    "- **Interquartile Range (IQR)**: Identifies outliers based on the spread of the middle 50% of data.\n",
    "- **Z-score**: Detects how far a value is from the mean in standard deviations.\n",
    "\n",
    "Your task:\n",
    "- Choose variables with the highest predictive power. You can choose whether to use the WOE result or the Exploratory Data Analysis result.\n",
    "- Create a simple ensemble model using the statistical approach.\n",
    "  - Use **4 variables** with the highest predictive power and apply **IQR method** for each variable.\n",
    "  - Use **3 variables** with the highest predictive power and apply **Z-Score method** for each variable.\n",
    "  - **Total: there are 7 models.**\n",
    "  - **Note**: It’s allowed to use the same variable in both IQR and Z-Score method.\n",
    "- Create a summary table and perform a **majority vote**. Each column represents the result of each statistical approach for predicting the outlier.\n",
    "  - Create the column for the **proportion of predicted fraud** over all predictions.\n",
    "  - Add 1 column for the **majority vote result**.\n",
    "\n",
    "    Example of the result:\n",
    "\n",
    "    ![image.png](attachment:15d322e9-d629-481c-b2eb-24d46ae78e16.png)\n",
    "\n",
    "- Evaluate the model using appropriate evaluation metrics and explain the insights you got from evaluation metrics analysis.\n",
    "\n"
   ]
  },
  {
   "cell_type": "markdown",
   "id": "28b15b9d-12f8-4c7e-a912-5cefffe28bd3",
   "metadata": {},
   "source": [
    "## IQR method"
   ]
  },
  {
   "cell_type": "markdown",
   "id": "c43d8186-195e-4f1c-8f46-b13c3a180125",
   "metadata": {},
   "source": [
    "I will use these variables: step, amount, oldbalanceOrg, and newbalanceOrig."
   ]
  },
  {
   "cell_type": "code",
   "execution_count": 28,
   "id": "8937718b-f4cc-48f4-8012-17e7adc0a040",
   "metadata": {},
   "outputs": [
    {
     "data": {
      "text/html": [
       "<div>\n",
       "<style scoped>\n",
       "    .dataframe tbody tr th:only-of-type {\n",
       "        vertical-align: middle;\n",
       "    }\n",
       "\n",
       "    .dataframe tbody tr th {\n",
       "        vertical-align: top;\n",
       "    }\n",
       "\n",
       "    .dataframe thead th {\n",
       "        text-align: right;\n",
       "    }\n",
       "</style>\n",
       "<table border=\"1\" class=\"dataframe\">\n",
       "  <thead>\n",
       "    <tr style=\"text-align: right;\">\n",
       "      <th></th>\n",
       "      <th>IQR_step</th>\n",
       "      <th>IQR_amount</th>\n",
       "      <th>IQR_oldbalanceOrg</th>\n",
       "      <th>IQR_newbalanceOrig</th>\n",
       "    </tr>\n",
       "  </thead>\n",
       "  <tbody>\n",
       "    <tr>\n",
       "      <th>5407</th>\n",
       "      <td>False</td>\n",
       "      <td>False</td>\n",
       "      <td>False</td>\n",
       "      <td>False</td>\n",
       "    </tr>\n",
       "    <tr>\n",
       "      <th>2977</th>\n",
       "      <td>False</td>\n",
       "      <td>False</td>\n",
       "      <td>False</td>\n",
       "      <td>False</td>\n",
       "    </tr>\n",
       "    <tr>\n",
       "      <th>2209</th>\n",
       "      <td>False</td>\n",
       "      <td>False</td>\n",
       "      <td>False</td>\n",
       "      <td>False</td>\n",
       "    </tr>\n",
       "    <tr>\n",
       "      <th>13865</th>\n",
       "      <td>False</td>\n",
       "      <td>False</td>\n",
       "      <td>False</td>\n",
       "      <td>False</td>\n",
       "    </tr>\n",
       "    <tr>\n",
       "      <th>19230</th>\n",
       "      <td>False</td>\n",
       "      <td>False</td>\n",
       "      <td>False</td>\n",
       "      <td>False</td>\n",
       "    </tr>\n",
       "    <tr>\n",
       "      <th>...</th>\n",
       "      <td>...</td>\n",
       "      <td>...</td>\n",
       "      <td>...</td>\n",
       "      <td>...</td>\n",
       "    </tr>\n",
       "    <tr>\n",
       "      <th>12830</th>\n",
       "      <td>False</td>\n",
       "      <td>False</td>\n",
       "      <td>False</td>\n",
       "      <td>False</td>\n",
       "    </tr>\n",
       "    <tr>\n",
       "      <th>19607</th>\n",
       "      <td>False</td>\n",
       "      <td>False</td>\n",
       "      <td>False</td>\n",
       "      <td>False</td>\n",
       "    </tr>\n",
       "    <tr>\n",
       "      <th>10701</th>\n",
       "      <td>True</td>\n",
       "      <td>False</td>\n",
       "      <td>False</td>\n",
       "      <td>False</td>\n",
       "    </tr>\n",
       "    <tr>\n",
       "      <th>16740</th>\n",
       "      <td>False</td>\n",
       "      <td>False</td>\n",
       "      <td>False</td>\n",
       "      <td>False</td>\n",
       "    </tr>\n",
       "    <tr>\n",
       "      <th>16109</th>\n",
       "      <td>False</td>\n",
       "      <td>False</td>\n",
       "      <td>False</td>\n",
       "      <td>False</td>\n",
       "    </tr>\n",
       "  </tbody>\n",
       "</table>\n",
       "<p>13997 rows × 4 columns</p>\n",
       "</div>"
      ],
      "text/plain": [
       "       IQR_step  IQR_amount  IQR_oldbalanceOrg  IQR_newbalanceOrig\n",
       "5407      False       False              False               False\n",
       "2977      False       False              False               False\n",
       "2209      False       False              False               False\n",
       "13865     False       False              False               False\n",
       "19230     False       False              False               False\n",
       "...         ...         ...                ...                 ...\n",
       "12830     False       False              False               False\n",
       "19607     False       False              False               False\n",
       "10701      True       False              False               False\n",
       "16740     False       False              False               False\n",
       "16109     False       False              False               False\n",
       "\n",
       "[13997 rows x 4 columns]"
      ]
     },
     "execution_count": 28,
     "metadata": {},
     "output_type": "execute_result"
    }
   ],
   "source": [
    "iqr_vars = df_train[['step', 'amount', 'oldbalanceOrg', 'newbalanceOrig']]\n",
    "q1 = iqr_vars.quantile(0.25)\n",
    "q3 = iqr_vars.quantile(0.75)\n",
    "iqr = q3 - q1\n",
    "iqr_min = q1 - iqr\n",
    "iqr_max = q3 + iqr\n",
    "\n",
    "iqr_votes = (iqr_vars < iqr_min) | (iqr_vars > iqr_max)\n",
    "iqr_votes.columns = 'IQR_' + iqr_votes.columns\n",
    "iqr_votes"
   ]
  },
  {
   "cell_type": "markdown",
   "id": "5014631b-e6a6-4cb9-bfd3-475917cfb163",
   "metadata": {},
   "source": [
    "## Z-score method"
   ]
  },
  {
   "cell_type": "code",
   "execution_count": 29,
   "id": "95d48cf1-2d5b-4382-aac9-7922cb9fa781",
   "metadata": {},
   "outputs": [
    {
     "data": {
      "text/html": [
       "<div>\n",
       "<style scoped>\n",
       "    .dataframe tbody tr th:only-of-type {\n",
       "        vertical-align: middle;\n",
       "    }\n",
       "\n",
       "    .dataframe tbody tr th {\n",
       "        vertical-align: top;\n",
       "    }\n",
       "\n",
       "    .dataframe thead th {\n",
       "        text-align: right;\n",
       "    }\n",
       "</style>\n",
       "<table border=\"1\" class=\"dataframe\">\n",
       "  <thead>\n",
       "    <tr style=\"text-align: right;\">\n",
       "      <th></th>\n",
       "      <th>Z_step</th>\n",
       "      <th>Z_amount</th>\n",
       "      <th>Z_oldbalanceOrg</th>\n",
       "    </tr>\n",
       "  </thead>\n",
       "  <tbody>\n",
       "    <tr>\n",
       "      <th>5407</th>\n",
       "      <td>False</td>\n",
       "      <td>False</td>\n",
       "      <td>False</td>\n",
       "    </tr>\n",
       "    <tr>\n",
       "      <th>2977</th>\n",
       "      <td>False</td>\n",
       "      <td>False</td>\n",
       "      <td>False</td>\n",
       "    </tr>\n",
       "    <tr>\n",
       "      <th>2209</th>\n",
       "      <td>False</td>\n",
       "      <td>False</td>\n",
       "      <td>False</td>\n",
       "    </tr>\n",
       "    <tr>\n",
       "      <th>13865</th>\n",
       "      <td>False</td>\n",
       "      <td>False</td>\n",
       "      <td>False</td>\n",
       "    </tr>\n",
       "    <tr>\n",
       "      <th>19230</th>\n",
       "      <td>False</td>\n",
       "      <td>False</td>\n",
       "      <td>False</td>\n",
       "    </tr>\n",
       "    <tr>\n",
       "      <th>...</th>\n",
       "      <td>...</td>\n",
       "      <td>...</td>\n",
       "      <td>...</td>\n",
       "    </tr>\n",
       "    <tr>\n",
       "      <th>12830</th>\n",
       "      <td>False</td>\n",
       "      <td>False</td>\n",
       "      <td>False</td>\n",
       "    </tr>\n",
       "    <tr>\n",
       "      <th>19607</th>\n",
       "      <td>False</td>\n",
       "      <td>False</td>\n",
       "      <td>False</td>\n",
       "    </tr>\n",
       "    <tr>\n",
       "      <th>10701</th>\n",
       "      <td>True</td>\n",
       "      <td>False</td>\n",
       "      <td>False</td>\n",
       "    </tr>\n",
       "    <tr>\n",
       "      <th>16740</th>\n",
       "      <td>False</td>\n",
       "      <td>False</td>\n",
       "      <td>False</td>\n",
       "    </tr>\n",
       "    <tr>\n",
       "      <th>16109</th>\n",
       "      <td>False</td>\n",
       "      <td>False</td>\n",
       "      <td>False</td>\n",
       "    </tr>\n",
       "  </tbody>\n",
       "</table>\n",
       "<p>13997 rows × 3 columns</p>\n",
       "</div>"
      ],
      "text/plain": [
       "       Z_step  Z_amount  Z_oldbalanceOrg\n",
       "5407    False     False            False\n",
       "2977    False     False            False\n",
       "2209    False     False            False\n",
       "13865   False     False            False\n",
       "19230   False     False            False\n",
       "...       ...       ...              ...\n",
       "12830   False     False            False\n",
       "19607   False     False            False\n",
       "10701    True     False            False\n",
       "16740   False     False            False\n",
       "16109   False     False            False\n",
       "\n",
       "[13997 rows x 3 columns]"
      ]
     },
     "execution_count": 29,
     "metadata": {},
     "output_type": "execute_result"
    }
   ],
   "source": [
    "z_vars = df_train[['step', 'amount', 'oldbalanceOrg']]\n",
    "z_vars = (z_vars - z_vars.mean()) / z_vars.std()\n",
    "z_votes = (z_vars < -2) | (z_vars > 2)\n",
    "z_votes.columns = 'Z_' + z_votes.columns\n",
    "z_votes"
   ]
  },
  {
   "cell_type": "markdown",
   "id": "00a03b76-9b25-437b-a82d-34338b139004",
   "metadata": {},
   "source": [
    "## Summary results"
   ]
  },
  {
   "cell_type": "code",
   "execution_count": 30,
   "id": "6140957e-0efe-4b37-8852-12780d351975",
   "metadata": {},
   "outputs": [
    {
     "data": {
      "text/html": [
       "<div>\n",
       "<style scoped>\n",
       "    .dataframe tbody tr th:only-of-type {\n",
       "        vertical-align: middle;\n",
       "    }\n",
       "\n",
       "    .dataframe tbody tr th {\n",
       "        vertical-align: top;\n",
       "    }\n",
       "\n",
       "    .dataframe thead th {\n",
       "        text-align: right;\n",
       "    }\n",
       "</style>\n",
       "<table border=\"1\" class=\"dataframe\">\n",
       "  <thead>\n",
       "    <tr style=\"text-align: right;\">\n",
       "      <th></th>\n",
       "      <th>IQR_step</th>\n",
       "      <th>IQR_amount</th>\n",
       "      <th>IQR_oldbalanceOrg</th>\n",
       "      <th>IQR_newbalanceOrig</th>\n",
       "      <th>Z_step</th>\n",
       "      <th>Z_amount</th>\n",
       "      <th>Z_oldbalanceOrg</th>\n",
       "      <th>vote</th>\n",
       "      <th>isOutlier</th>\n",
       "    </tr>\n",
       "  </thead>\n",
       "  <tbody>\n",
       "    <tr>\n",
       "      <th>5407</th>\n",
       "      <td>False</td>\n",
       "      <td>False</td>\n",
       "      <td>False</td>\n",
       "      <td>False</td>\n",
       "      <td>False</td>\n",
       "      <td>False</td>\n",
       "      <td>False</td>\n",
       "      <td>0.000000</td>\n",
       "      <td>False</td>\n",
       "    </tr>\n",
       "    <tr>\n",
       "      <th>2977</th>\n",
       "      <td>False</td>\n",
       "      <td>False</td>\n",
       "      <td>False</td>\n",
       "      <td>False</td>\n",
       "      <td>False</td>\n",
       "      <td>False</td>\n",
       "      <td>False</td>\n",
       "      <td>0.000000</td>\n",
       "      <td>False</td>\n",
       "    </tr>\n",
       "    <tr>\n",
       "      <th>2209</th>\n",
       "      <td>False</td>\n",
       "      <td>False</td>\n",
       "      <td>False</td>\n",
       "      <td>False</td>\n",
       "      <td>False</td>\n",
       "      <td>False</td>\n",
       "      <td>False</td>\n",
       "      <td>0.000000</td>\n",
       "      <td>False</td>\n",
       "    </tr>\n",
       "    <tr>\n",
       "      <th>13865</th>\n",
       "      <td>False</td>\n",
       "      <td>False</td>\n",
       "      <td>False</td>\n",
       "      <td>False</td>\n",
       "      <td>False</td>\n",
       "      <td>False</td>\n",
       "      <td>False</td>\n",
       "      <td>0.000000</td>\n",
       "      <td>False</td>\n",
       "    </tr>\n",
       "    <tr>\n",
       "      <th>19230</th>\n",
       "      <td>False</td>\n",
       "      <td>False</td>\n",
       "      <td>False</td>\n",
       "      <td>False</td>\n",
       "      <td>False</td>\n",
       "      <td>False</td>\n",
       "      <td>False</td>\n",
       "      <td>0.000000</td>\n",
       "      <td>False</td>\n",
       "    </tr>\n",
       "    <tr>\n",
       "      <th>...</th>\n",
       "      <td>...</td>\n",
       "      <td>...</td>\n",
       "      <td>...</td>\n",
       "      <td>...</td>\n",
       "      <td>...</td>\n",
       "      <td>...</td>\n",
       "      <td>...</td>\n",
       "      <td>...</td>\n",
       "      <td>...</td>\n",
       "    </tr>\n",
       "    <tr>\n",
       "      <th>12830</th>\n",
       "      <td>False</td>\n",
       "      <td>False</td>\n",
       "      <td>False</td>\n",
       "      <td>False</td>\n",
       "      <td>False</td>\n",
       "      <td>False</td>\n",
       "      <td>False</td>\n",
       "      <td>0.000000</td>\n",
       "      <td>False</td>\n",
       "    </tr>\n",
       "    <tr>\n",
       "      <th>19607</th>\n",
       "      <td>False</td>\n",
       "      <td>False</td>\n",
       "      <td>False</td>\n",
       "      <td>False</td>\n",
       "      <td>False</td>\n",
       "      <td>False</td>\n",
       "      <td>False</td>\n",
       "      <td>0.000000</td>\n",
       "      <td>False</td>\n",
       "    </tr>\n",
       "    <tr>\n",
       "      <th>10701</th>\n",
       "      <td>True</td>\n",
       "      <td>False</td>\n",
       "      <td>False</td>\n",
       "      <td>False</td>\n",
       "      <td>True</td>\n",
       "      <td>False</td>\n",
       "      <td>False</td>\n",
       "      <td>0.285714</td>\n",
       "      <td>False</td>\n",
       "    </tr>\n",
       "    <tr>\n",
       "      <th>16740</th>\n",
       "      <td>False</td>\n",
       "      <td>False</td>\n",
       "      <td>False</td>\n",
       "      <td>False</td>\n",
       "      <td>False</td>\n",
       "      <td>False</td>\n",
       "      <td>False</td>\n",
       "      <td>0.000000</td>\n",
       "      <td>False</td>\n",
       "    </tr>\n",
       "    <tr>\n",
       "      <th>16109</th>\n",
       "      <td>False</td>\n",
       "      <td>False</td>\n",
       "      <td>False</td>\n",
       "      <td>False</td>\n",
       "      <td>False</td>\n",
       "      <td>False</td>\n",
       "      <td>False</td>\n",
       "      <td>0.000000</td>\n",
       "      <td>False</td>\n",
       "    </tr>\n",
       "  </tbody>\n",
       "</table>\n",
       "<p>13997 rows × 9 columns</p>\n",
       "</div>"
      ],
      "text/plain": [
       "       IQR_step  IQR_amount  IQR_oldbalanceOrg  IQR_newbalanceOrig  Z_step  \\\n",
       "5407      False       False              False               False   False   \n",
       "2977      False       False              False               False   False   \n",
       "2209      False       False              False               False   False   \n",
       "13865     False       False              False               False   False   \n",
       "19230     False       False              False               False   False   \n",
       "...         ...         ...                ...                 ...     ...   \n",
       "12830     False       False              False               False   False   \n",
       "19607     False       False              False               False   False   \n",
       "10701      True       False              False               False    True   \n",
       "16740     False       False              False               False   False   \n",
       "16109     False       False              False               False   False   \n",
       "\n",
       "       Z_amount  Z_oldbalanceOrg      vote  isOutlier  \n",
       "5407      False            False  0.000000      False  \n",
       "2977      False            False  0.000000      False  \n",
       "2209      False            False  0.000000      False  \n",
       "13865     False            False  0.000000      False  \n",
       "19230     False            False  0.000000      False  \n",
       "...         ...              ...       ...        ...  \n",
       "12830     False            False  0.000000      False  \n",
       "19607     False            False  0.000000      False  \n",
       "10701     False            False  0.285714      False  \n",
       "16740     False            False  0.000000      False  \n",
       "16109     False            False  0.000000      False  \n",
       "\n",
       "[13997 rows x 9 columns]"
      ]
     },
     "execution_count": 30,
     "metadata": {},
     "output_type": "execute_result"
    }
   ],
   "source": [
    "outlier_votes = pd.concat([iqr_votes, z_votes], axis=1)\n",
    "outlier_votes['vote'] = outlier_votes.mean(axis=1)\n",
    "outlier_votes['isOutlier'] = outlier_votes['vote'] > 0.5\n",
    "outlier_votes"
   ]
  },
  {
   "cell_type": "markdown",
   "id": "2ae1b9fd-6943-41ca-9b4e-572e06b9dfe3",
   "metadata": {},
   "source": [
    "How often do outlier occurs?"
   ]
  },
  {
   "cell_type": "code",
   "execution_count": 31,
   "id": "fb8159f1-788b-4cd1-b792-2a3ee75a1601",
   "metadata": {},
   "outputs": [
    {
     "data": {
      "text/plain": [
       "0.003214974637422305"
      ]
     },
     "execution_count": 31,
     "metadata": {},
     "output_type": "execute_result"
    }
   ],
   "source": [
    "outlier_votes['isOutlier'].mean()"
   ]
  },
  {
   "cell_type": "markdown",
   "id": "ab169457-8c02-455a-b032-0002df9dcc65",
   "metadata": {},
   "source": [
    "It's very rare, so we cannot really use it to detect frauds. However, the occurence of frauds are very high in those observations:"
   ]
  },
  {
   "cell_type": "code",
   "execution_count": 32,
   "id": "632a04b5-a898-4476-ae88-4bd4a6b497fb",
   "metadata": {},
   "outputs": [
    {
     "data": {
      "text/plain": [
       "0.7777777777777778"
      ]
     },
     "execution_count": 32,
     "metadata": {},
     "output_type": "execute_result"
    }
   ],
   "source": [
    "df_train[outlier_votes['isOutlier']]['isFraud'].mean()"
   ]
  },
  {
   "cell_type": "markdown",
   "id": "3962fb3a-9029-47f7-bf93-baf3db240d68",
   "metadata": {},
   "source": [
    "(Fraud occur 78% of the time in the outliers.)"
   ]
  },
  {
   "cell_type": "markdown",
   "id": "4d0fae3b-7bb3-4e73-8dfe-2ed782f319ec",
   "metadata": {},
   "source": [
    "Alternatively, we can label observations with any indication of outlier from any of the variables. As expected, they happen more often (8% of the time):"
   ]
  },
  {
   "cell_type": "code",
   "execution_count": 33,
   "id": "0b3fc370-814d-4e26-8eb0-2f37535a0883",
   "metadata": {},
   "outputs": [
    {
     "data": {
      "text/plain": [
       "0.08844752446952918"
      ]
     },
     "execution_count": 33,
     "metadata": {},
     "output_type": "execute_result"
    }
   ],
   "source": [
    "(outlier_votes['vote'] > 0).mean()"
   ]
  },
  {
   "cell_type": "markdown",
   "id": "6e29392f-4f71-4755-898b-7414ba0a5245",
   "metadata": {},
   "source": [
    "And yet, the occurence of fraud is still pretty high (30%):"
   ]
  },
  {
   "cell_type": "code",
   "execution_count": 34,
   "id": "1acba23e-c2da-462f-a2e2-7a505e2cd2bb",
   "metadata": {},
   "outputs": [
    {
     "data": {
      "text/plain": [
       "0.30290791599353795"
      ]
     },
     "execution_count": 34,
     "metadata": {},
     "output_type": "execute_result"
    }
   ],
   "source": [
    "df_train[outlier_votes['vote'] > 0]['isFraud'].mean()"
   ]
  },
  {
   "cell_type": "markdown",
   "id": "af64d84e-6e5f-4b35-99da-3989d7683ef4",
   "metadata": {},
   "source": [
    "Let's store the prediction for later use."
   ]
  },
  {
   "cell_type": "code",
   "execution_count": 35,
   "id": "f86bc0b7-a3a0-4172-8b4f-39fc1a1e1aa5",
   "metadata": {},
   "outputs": [],
   "source": [
    "y_train_pred_outlier = (outlier_votes['vote'] > 0).astype(int)"
   ]
  },
  {
   "cell_type": "markdown",
   "id": "be5f84e3-9179-4371-bbe9-e700634de7fc",
   "metadata": {},
   "source": [
    "## Insights\n",
    "\n",
    "While large percentage of the outlier observations are frauds, the opposite is not true; there are still many more cases of frauds that are not outliers."
   ]
  },
  {
   "cell_type": "markdown",
   "id": "94ab459b-0d06-4951-bd16-e3b4873aaccf",
   "metadata": {},
   "source": [
    "# Question 5: K-means clustering\n",
    "\n",
    "Fraudulent transactions often behave differently from normal transactions. **K-Means clustering** groups similar transactions together, helping us detect anomalies.\n",
    "\n",
    "Your task:\n",
    "- Perform **K-Means clustering** on the dataset.\n",
    "- Identify the cluster with the most extreme outliers and label them as fraud.\n",
    "- Visualize the clusters using scatter plots or **PCA (Principal Component Analysis)**.\n",
    "- Explain the insights you got from detecting fraud using the clustering method."
   ]
  },
  {
   "cell_type": "markdown",
   "id": "800d8116-20a0-489d-a1df-ba80f125141c",
   "metadata": {},
   "source": [
    "We first need to (1) apply one-hot encoding to categorical variables, and (2) standardize the variable to have mean=0 and stdev=1."
   ]
  },
  {
   "cell_type": "markdown",
   "id": "3bce514b-384d-42b4-9b77-6e6f8f63a779",
   "metadata": {},
   "source": [
    "## Data preprocessing"
   ]
  },
  {
   "cell_type": "code",
   "execution_count": 36,
   "id": "3fd106df-28ab-4460-901f-bc9125a8067b",
   "metadata": {
    "jupyter": {
     "source_hidden": true
    }
   },
   "outputs": [],
   "source": [
    "from sklearn.preprocessing import OneHotEncoder, StandardScaler\n",
    "\n",
    "def fit_ohe(df: pd.DataFrame, cat_cols: list[str]) -> OneHotEncoder:\n",
    "    '''\n",
    "    Fit one-hot encoder for the categorical columns\n",
    "\n",
    "    Parameters\n",
    "    ----------\n",
    "    df: pd.DataFrame\n",
    "    cat_cols: list of str\n",
    "        Name of categorical columns\n",
    "\n",
    "    Returns\n",
    "    -------\n",
    "    OneHotEncoder object\n",
    "    '''\n",
    "    ohe = OneHotEncoder(drop='if_binary', handle_unknown='ignore', sparse_output=False)\n",
    "    ohe.fit(df[cat_cols])\n",
    "    return ohe\n",
    "\n",
    "def transform_ohe(df: pd.DataFrame, ohe: OneHotEncoder) -> pd.DataFrame:\n",
    "    '''\n",
    "    Transform the categorical columns using one-hot encoder\n",
    "\n",
    "    Parameters\n",
    "    ----------\n",
    "    df: pd.DataFrame\n",
    "    ohe: fitted OneHotEncoder object\n",
    "\n",
    "    Returns\n",
    "    -------\n",
    "    pd.DataFrame\n",
    "    '''\n",
    "    cat_cols = ohe.feature_names_in_\n",
    "    df = df.copy()\n",
    "    df_ohe = pd.DataFrame(\n",
    "        ohe.transform(df[cat_cols]),\n",
    "        index=df.index,\n",
    "        columns=ohe.get_feature_names_out()\n",
    "    )\n",
    "    df = pd.concat([df, df_ohe], axis=1)\n",
    "    df = df.drop(cat_cols, axis=1)\n",
    "    return df\n",
    "\n",
    "def fit_scaler(df: pd.DataFrame) -> StandardScaler:\n",
    "    '''\n",
    "    Fit a standard scaler on all columns\n",
    "\n",
    "    Parameters\n",
    "    ----------\n",
    "    df: pd.DataFrame\n",
    "\n",
    "    Returns\n",
    "    -------\n",
    "    StandardScaler object\n",
    "    '''\n",
    "    scaler = StandardScaler()\n",
    "    scaler.fit(df)\n",
    "    return scaler\n",
    "\n",
    "def transform_scaler(df: pd.DataFrame, scaler: StandardScaler) -> pd.DataFrame:\n",
    "    '''\n",
    "    Transform data using a standard scaler\n",
    "\n",
    "    Parameters\n",
    "    ----------\n",
    "    df: pd.DataFrame\n",
    "    scaler: fitted StandardScaler object\n",
    "\n",
    "    Returns\n",
    "    -------\n",
    "    pd.DataFrame\n",
    "    '''\n",
    "    return pd.DataFrame(\n",
    "        scaler.transform(df),\n",
    "        index=df.index,\n",
    "        columns=df.columns\n",
    "    )\n",
    "\n",
    "def preprocess_data(\n",
    "    X: pd.DataFrame,\n",
    "    ohe: OneHotEncoder,\n",
    "    scaler: StandardScaler,\n",
    ") -> pd.DataFrame:\n",
    "    '''\n",
    "    Preprocess data from start to finish\n",
    "    '''\n",
    "    X = X.copy()\n",
    "    X = transform_ohe(X, ohe)\n",
    "    X = transform_scaler(X, scaler)\n",
    "    return X"
   ]
  },
  {
   "cell_type": "code",
   "execution_count": 37,
   "id": "4f315b63-855d-4aa6-8fb0-23a8dd34cfb2",
   "metadata": {},
   "outputs": [],
   "source": [
    "cat_vars = ['type']\n",
    "ohe = fit_ohe(X_train, cat_vars)\n",
    "X_train_ohe = transform_ohe(X_train, ohe)\n",
    "scaler = fit_scaler(X_train_ohe)\n",
    "\n",
    "X_train_clean = preprocess_data(X_train, ohe, scaler)\n",
    "X_valid_clean = preprocess_data(X_valid, ohe, scaler)\n",
    "X_test_clean = preprocess_data(X_test, ohe, scaler)"
   ]
  },
  {
   "cell_type": "markdown",
   "id": "d2fb79ef-d5bc-4e3a-bfc7-6304f29aa89e",
   "metadata": {},
   "source": [
    "## Clustering"
   ]
  },
  {
   "cell_type": "code",
   "execution_count": 38,
   "id": "8f1ec077-7a5b-4c79-9f88-9e0e47f9717d",
   "metadata": {},
   "outputs": [],
   "source": [
    "from sklearn.cluster import KMeans\n",
    "from sklearn.decomposition import PCA"
   ]
  },
  {
   "cell_type": "code",
   "execution_count": 39,
   "id": "ff566396-2501-445d-8de5-5eb6084bc1ce",
   "metadata": {},
   "outputs": [],
   "source": [
    "def calc_outlier_factor(kmeans, X):\n",
    "    clusters = kmeans.predict(X)\n",
    "    ds = (X - kmeans.cluster_centers_[clusters])\n",
    "    dnorm = ds.apply(lambda row: np.linalg.norm(row), axis=1)\n",
    "    dmax = dnorm.max()\n",
    "    outlier_factor = dnorm / dmax\n",
    "    return outlier_factor\n",
    "\n",
    "def kmeans_pred(kmeans, X, thresh):\n",
    "    outlier_factor = calc_outlier_factor(kmeans, X)\n",
    "    y_pred = (outlier_factor > thresh).astype(int)\n",
    "    return y_pred"
   ]
  },
  {
   "cell_type": "code",
   "execution_count": 40,
   "id": "74e61786-68ab-4365-99a4-8073c5eb76ba",
   "metadata": {},
   "outputs": [],
   "source": [
    "kmeans = KMeans(n_clusters=3, random_state=0, n_init=\"auto\").fit(X_train_clean)\n",
    "outlier_factor = calc_outlier_factor(kmeans, X_train_clean)\n",
    "kmeans_threshold = np.quantile(outlier_factor, 0.95)"
   ]
  },
  {
   "cell_type": "code",
   "execution_count": 41,
   "id": "12cd5bc0-bff1-4d61-9a81-52aebb6728d0",
   "metadata": {},
   "outputs": [],
   "source": [
    "y_train_pred_kmeans = kmeans_pred(kmeans, X_train_clean, kmeans_threshold)\n",
    "y_valid_pred_kmeans = kmeans_pred(kmeans, X_valid_clean, kmeans_threshold)"
   ]
  },
  {
   "cell_type": "code",
   "execution_count": 42,
   "id": "e4b45e9c-6bfa-41ff-a314-c807f7af56dc",
   "metadata": {},
   "outputs": [],
   "source": [
    "X_train_pca = PCA(n_components=2).fit_transform(X_train_clean)\n",
    "X_train_pca = pd.DataFrame(X_train_pca, index=X_train.index, columns=['x', 'y'])\n",
    "X_train_pca['fraud'] = y_train\n",
    "X_train_pca['cluster'] = pd.Categorical(kmeans.labels_)"
   ]
  },
  {
   "cell_type": "code",
   "execution_count": 43,
   "id": "dc74202a-89a6-42d0-a66f-734f3fa45362",
   "metadata": {},
   "outputs": [
    {
     "data": {
      "text/plain": [
       "<Axes: xlabel='x', ylabel='y'>"
      ]
     },
     "execution_count": 43,
     "metadata": {},
     "output_type": "execute_result"
    },
    {
     "data": {
      "image/png": "[encoded data removed]",
      "text/plain": [
       "<Figure size 640x480 with 1 Axes>"
      ]
     },
     "metadata": {},
     "output_type": "display_data"
    }
   ],
   "source": [
    "sns.scatterplot(X_train_pca, x='x', y='y', style='cluster', hue='fraud')"
   ]
  },
  {
   "cell_type": "markdown",
   "id": "93b5f777-8d97-4f7d-9aeb-dd6b94f3c729",
   "metadata": {},
   "source": [
    "Observation: the fraudulent transactions are still located close to non-fraudulent transactions, so the classifier would probably perform poorly."
   ]
  },
  {
   "cell_type": "markdown",
   "id": "1637fb70-6198-422b-b76a-9de4431afc2b",
   "metadata": {},
   "source": [
    "# Question 6: model evaluations\n",
    "\n",
    "Once we have built fraud detection models, we need to evaluate their effectiveness. Different models may have trade-offs between catching fraud and avoiding false alarms.\n",
    "\n",
    "Your Task is to compare the fraud detection models built so far (**statistical, K-Means**). Use the following metrics:\n",
    "- **Precision** (How many predicted fraud cases are actually fraud?)\n",
    "- **Recall** (How many actual fraud cases did we catch?)\n",
    "- **F1-score** (Balance between precision and recall)\n",
    "- Explain the result of the **strengths and weaknesses of each approach**.\n",
    "\n"
   ]
  },
  {
   "cell_type": "code",
   "execution_count": 44,
   "id": "b56a80ad-4ceb-4986-80cb-8810228f7876",
   "metadata": {},
   "outputs": [],
   "source": [
    "def eval_model(y_true, y_pred):\n",
    "    return {\n",
    "        'precision': precision_score(y_true, y_pred),\n",
    "        'recall': recall_score(y_true, y_pred),\n",
    "        'f1': f1_score(y_true, y_pred)\n",
    "    }"
   ]
  },
  {
   "cell_type": "code",
   "execution_count": 45,
   "id": "a5d96e1b-0d4f-4d78-aeab-f3b22c20e4df",
   "metadata": {},
   "outputs": [
    {
     "data": {
      "text/html": [
       "<div>\n",
       "<style scoped>\n",
       "    .dataframe tbody tr th:only-of-type {\n",
       "        vertical-align: middle;\n",
       "    }\n",
       "\n",
       "    .dataframe tbody tr th {\n",
       "        vertical-align: top;\n",
       "    }\n",
       "\n",
       "    .dataframe thead th {\n",
       "        text-align: right;\n",
       "    }\n",
       "</style>\n",
       "<table border=\"1\" class=\"dataframe\">\n",
       "  <thead>\n",
       "    <tr style=\"text-align: right;\">\n",
       "      <th></th>\n",
       "      <th>precision</th>\n",
       "      <th>recall</th>\n",
       "      <th>f1</th>\n",
       "    </tr>\n",
       "  </thead>\n",
       "  <tbody>\n",
       "    <tr>\n",
       "      <th>statistical</th>\n",
       "      <td>0.302908</td>\n",
       "      <td>0.383436</td>\n",
       "      <td>0.338448</td>\n",
       "    </tr>\n",
       "    <tr>\n",
       "      <th>kmeans</th>\n",
       "      <td>0.724286</td>\n",
       "      <td>0.518405</td>\n",
       "      <td>0.604291</td>\n",
       "    </tr>\n",
       "  </tbody>\n",
       "</table>\n",
       "</div>"
      ],
      "text/plain": [
       "             precision    recall        f1\n",
       "statistical   0.302908  0.383436  0.338448\n",
       "kmeans        0.724286  0.518405  0.604291"
      ]
     },
     "execution_count": 45,
     "metadata": {},
     "output_type": "execute_result"
    }
   ],
   "source": [
    "summary_q6 = pd.DataFrame({\n",
    "    'statistical': eval_model(y_train, y_train_pred_outlier),\n",
    "    'kmeans': eval_model(y_train, y_train_pred_kmeans),\n",
    "}).T\n",
    "summary_q6"
   ]
  },
  {
   "cell_type": "markdown",
   "id": "37a3391c-e9d6-4733-a272-df1f6de359c5",
   "metadata": {},
   "source": [
    "Based on the above result, the kmeans method result in better performance across the metrics"
   ]
  },
  {
   "attachments": {
    "4896bd20-7e02-4f4a-978e-eaaed69ceb8b.png": {
     "image/png": "[encoded data removed]"
    },
    "6963ad06-14d5-4602-ab81-7e053c577c3b.png": {
     "image/png": "[encoded data removed]"
    },
    "7c4d7696-bf92-44ea-918b-7ecc090220f2.png": {
     "image/png": "[encoded data removed]"
    },
    "f6b432ce-badf-41ee-a984-15f344c9db9d.png": {
     "image/png": "[encoded data removed]"
    }
   },
   "cell_type": "markdown",
   "id": "d50ad591-4ff1-42b4-8e8a-03a987984ea6",
   "metadata": {},
   "source": [
    "# Question 7: ensemble models\n",
    "\n",
    "Ensemble models combine multiple models to make a better prediction. Instead of relying on just one method (e.g., statistical approach or K-Means), combine different models and take a **majority vote** to decide if a transaction is fraud.\n",
    "\n",
    "### Model 1: Ensemble fraud detection model using statistical method only\n",
    "- Use **3 variables** with the highest predictive power and apply **IQR method** for each variable.\n",
    "- Create a summary table and perform a majority vote.\n",
    "\n",
    "    Example of the result:\n",
    "\n",
    "    ![image.png](attachment:4896bd20-7e02-4f4a-978e-eaaed69ceb8b.png)\n",
    "\n",
    "- Evaluate the model using appropriate evaluation metrics.\n",
    "\n",
    "### Model 2: Ensemble fraud detection model using statistical method only\n",
    "- Use **3 variables** with the highest predictive power and apply **Z-Score method** for each variable.\n",
    "- Create a summary table and perform a majority vote.\n",
    "\n",
    "Example of the result:\n",
    "\n",
    "  ![image.png](attachment:f6b432ce-badf-41ee-a984-15f344c9db9d.png)\n",
    "\n",
    "- Evaluate the model using appropriate evaluation metrics.\n",
    "\n",
    "### Model 3: Ensemble fraud detection model combining **Statistical methods (IQR, Z-score) and Clustering methods (K-Means)**\n",
    "- Define a **decision rule**: If the majority of models classify a transaction as fraud, label it as fraud.\n",
    "- Example of the result:\n",
    "\n",
    "    ![image.png](attachment:7c4d7696-bf92-44ea-918b-7ecc090220f2.png)\n",
    "\n",
    "- Evaluate the model using appropriate evaluation metrics.\n",
    "\n",
    "### Compare Models\n",
    "Test which model performs better than other models.\n",
    "- Compare the result of **Model 1 and Model 2 (ensemble model from statistical approach only) vs Model 3 (ensemble model combining statistical and clustering methods).**\n",
    "- Example of the table of comparison:\n",
    "\n",
    "  ![image.png](attachment:6963ad06-14d5-4602-ab81-7e053c577c3b.png)"
   ]
  },
  {
   "cell_type": "markdown",
   "id": "51a6f259-a509-45da-a6bc-ae62c66a9e69",
   "metadata": {},
   "source": [
    "Note: instead of doing a majority vote, I decide that it'd be better to predict \"1\" if any of the classifier predict \"1\". If we do majority vote, the model would very rarely classify as \"1\"."
   ]
  },
  {
   "cell_type": "code",
   "execution_count": 46,
   "id": "94a380f2-c4ca-452f-b585-7bbc02ae359b",
   "metadata": {},
   "outputs": [],
   "source": [
    "from sklearn.base import BaseEstimator\n",
    "\n",
    "class ZScoreModel(BaseEstimator):\n",
    "    def __init__(\n",
    "        self, *,\n",
    "        num_vars: list[str],\n",
    "        upper_threshold: float | None = None,\n",
    "        lower_threshold: float | None = None,\n",
    "    ):\n",
    "        self.num_vars = num_vars\n",
    "        if upper_threshold is None:\n",
    "            upper_threshold = 999\n",
    "        if lower_threshold is None:\n",
    "            lower_threshold = -999\n",
    "        self.upper_threshold = upper_threshold\n",
    "        self.lower_threshold = lower_threshold\n",
    "\n",
    "    def fit(self, X, y):\n",
    "        self.is_fitted_ = True\n",
    "\n",
    "        self.mus = X[self.num_vars].mean()\n",
    "        self.stds = X[self.num_vars].std()\n",
    "\n",
    "        return self\n",
    "\n",
    "    def predict(self, X):\n",
    "        X_num = X[self.num_vars]\n",
    "        Z = (X_num - self.mus) / self.stds\n",
    "        votes = ((Z > self.upper_threshold) | (Z < self.lower_threshold)).mean(axis=1)\n",
    "        is_fraud = (votes > 0.).astype(int)\n",
    "        y_pred = is_fraud.astype(int)\n",
    "        return y_pred\n",
    "\n",
    "class IQRModel(BaseEstimator):\n",
    "    def __init__(\n",
    "        self, *,\n",
    "        num_vars: list[str],\n",
    "    ):\n",
    "        self.num_vars = num_vars\n",
    "\n",
    "    def fit(self, X, y):\n",
    "        self.is_fitted_ = True\n",
    "        self.y_prior = (y == 1).mean()\n",
    "\n",
    "        q1 = X[self.num_vars].quantile(0.25)\n",
    "        q3 = X[self.num_vars].quantile(0.75)\n",
    "        iqr = q3 - q1\n",
    "        self.lbound = q1 - 1.5 * iqr\n",
    "        self.ubound = q3 + 1.5 * iqr\n",
    "        return self\n",
    "\n",
    "    def predict(self, X):\n",
    "        X_num = X[self.num_vars]\n",
    "        votes = ((X_num > self.ubound) | (X_num < self.lbound)).mean(axis=1)\n",
    "        is_fraud = (votes > 0.).astype(int)\n",
    "        return is_fraud"
   ]
  },
  {
   "cell_type": "code",
   "execution_count": 47,
   "id": "c4cfb382-9990-403d-bc2a-9afa475827db",
   "metadata": {},
   "outputs": [],
   "source": [
    "zscore_model = ZScoreModel(num_vars=['step', 'amount', 'oldbalanceOrg'], upper_threshold=1.5)\n",
    "zscore_model.fit(X_train, y_train)\n",
    "\n",
    "iqr_model = IQRModel(num_vars=['step', 'amount', 'oldbalanceOrg'])\n",
    "iqr_model.fit(X_train, y_train);"
   ]
  },
  {
   "cell_type": "code",
   "execution_count": 48,
   "id": "1f46da0c-b773-4688-9cd6-72286f016c81",
   "metadata": {
    "scrolled": true
   },
   "outputs": [
    {
     "data": {
      "text/html": [
       "<div>\n",
       "<style scoped>\n",
       "    .dataframe tbody tr th:only-of-type {\n",
       "        vertical-align: middle;\n",
       "    }\n",
       "\n",
       "    .dataframe tbody tr th {\n",
       "        vertical-align: top;\n",
       "    }\n",
       "\n",
       "    .dataframe thead th {\n",
       "        text-align: right;\n",
       "    }\n",
       "</style>\n",
       "<table border=\"1\" class=\"dataframe\">\n",
       "  <thead>\n",
       "    <tr style=\"text-align: right;\">\n",
       "      <th></th>\n",
       "      <th>zscore</th>\n",
       "      <th>iqr</th>\n",
       "      <th>kmeans</th>\n",
       "      <th>combined</th>\n",
       "    </tr>\n",
       "  </thead>\n",
       "  <tbody>\n",
       "    <tr>\n",
       "      <th>5407</th>\n",
       "      <td>0</td>\n",
       "      <td>0</td>\n",
       "      <td>0</td>\n",
       "      <td>0</td>\n",
       "    </tr>\n",
       "    <tr>\n",
       "      <th>2977</th>\n",
       "      <td>0</td>\n",
       "      <td>0</td>\n",
       "      <td>0</td>\n",
       "      <td>0</td>\n",
       "    </tr>\n",
       "    <tr>\n",
       "      <th>2209</th>\n",
       "      <td>0</td>\n",
       "      <td>0</td>\n",
       "      <td>0</td>\n",
       "      <td>0</td>\n",
       "    </tr>\n",
       "    <tr>\n",
       "      <th>13865</th>\n",
       "      <td>0</td>\n",
       "      <td>0</td>\n",
       "      <td>0</td>\n",
       "      <td>0</td>\n",
       "    </tr>\n",
       "    <tr>\n",
       "      <th>19230</th>\n",
       "      <td>0</td>\n",
       "      <td>0</td>\n",
       "      <td>0</td>\n",
       "      <td>0</td>\n",
       "    </tr>\n",
       "    <tr>\n",
       "      <th>...</th>\n",
       "      <td>...</td>\n",
       "      <td>...</td>\n",
       "      <td>...</td>\n",
       "      <td>...</td>\n",
       "    </tr>\n",
       "    <tr>\n",
       "      <th>12830</th>\n",
       "      <td>0</td>\n",
       "      <td>0</td>\n",
       "      <td>0</td>\n",
       "      <td>0</td>\n",
       "    </tr>\n",
       "    <tr>\n",
       "      <th>19607</th>\n",
       "      <td>0</td>\n",
       "      <td>0</td>\n",
       "      <td>0</td>\n",
       "      <td>0</td>\n",
       "    </tr>\n",
       "    <tr>\n",
       "      <th>10701</th>\n",
       "      <td>1</td>\n",
       "      <td>1</td>\n",
       "      <td>0</td>\n",
       "      <td>1</td>\n",
       "    </tr>\n",
       "    <tr>\n",
       "      <th>16740</th>\n",
       "      <td>1</td>\n",
       "      <td>0</td>\n",
       "      <td>0</td>\n",
       "      <td>1</td>\n",
       "    </tr>\n",
       "    <tr>\n",
       "      <th>16109</th>\n",
       "      <td>0</td>\n",
       "      <td>0</td>\n",
       "      <td>0</td>\n",
       "      <td>0</td>\n",
       "    </tr>\n",
       "  </tbody>\n",
       "</table>\n",
       "<p>13997 rows × 4 columns</p>\n",
       "</div>"
      ],
      "text/plain": [
       "       zscore  iqr  kmeans  combined\n",
       "5407        0    0       0         0\n",
       "2977        0    0       0         0\n",
       "2209        0    0       0         0\n",
       "13865       0    0       0         0\n",
       "19230       0    0       0         0\n",
       "...       ...  ...     ...       ...\n",
       "12830       0    0       0         0\n",
       "19607       0    0       0         0\n",
       "10701       1    1       0         1\n",
       "16740       1    0       0         1\n",
       "16109       0    0       0         0\n",
       "\n",
       "[13997 rows x 4 columns]"
      ]
     },
     "execution_count": 48,
     "metadata": {},
     "output_type": "execute_result"
    }
   ],
   "source": [
    "y_train_preds = pd.DataFrame({\n",
    "    'zscore': zscore_model.predict(X_train), \n",
    "    'iqr': iqr_model.predict(X_train), \n",
    "    'kmeans': y_train_pred_kmeans\n",
    "})\n",
    "y_train_preds['combined'] = (y_train_preds > 0).any(axis=1).astype(int)\n",
    "y_train_preds"
   ]
  },
  {
   "cell_type": "code",
   "execution_count": 49,
   "id": "41df2cab-66d1-478b-aa04-96590f07180f",
   "metadata": {},
   "outputs": [
    {
     "data": {
      "text/html": [
       "<div>\n",
       "<style scoped>\n",
       "    .dataframe tbody tr th:only-of-type {\n",
       "        vertical-align: middle;\n",
       "    }\n",
       "\n",
       "    .dataframe tbody tr th {\n",
       "        vertical-align: top;\n",
       "    }\n",
       "\n",
       "    .dataframe thead th {\n",
       "        text-align: right;\n",
       "    }\n",
       "</style>\n",
       "<table border=\"1\" class=\"dataframe\">\n",
       "  <thead>\n",
       "    <tr style=\"text-align: right;\">\n",
       "      <th></th>\n",
       "      <th>precision</th>\n",
       "      <th>recall</th>\n",
       "      <th>f1</th>\n",
       "    </tr>\n",
       "  </thead>\n",
       "  <tbody>\n",
       "    <tr>\n",
       "      <th>zscore</th>\n",
       "      <td>0.379764</td>\n",
       "      <td>0.560327</td>\n",
       "      <td>0.452705</td>\n",
       "    </tr>\n",
       "    <tr>\n",
       "      <th>iqr</th>\n",
       "      <td>0.375676</td>\n",
       "      <td>0.142127</td>\n",
       "      <td>0.206231</td>\n",
       "    </tr>\n",
       "    <tr>\n",
       "      <th>kmeans</th>\n",
       "      <td>0.724286</td>\n",
       "      <td>0.518405</td>\n",
       "      <td>0.604291</td>\n",
       "    </tr>\n",
       "    <tr>\n",
       "      <th>combined</th>\n",
       "      <td>0.420187</td>\n",
       "      <td>0.783231</td>\n",
       "      <td>0.546948</td>\n",
       "    </tr>\n",
       "  </tbody>\n",
       "</table>\n",
       "</div>"
      ],
      "text/plain": [
       "          precision    recall        f1\n",
       "zscore     0.379764  0.560327  0.452705\n",
       "iqr        0.375676  0.142127  0.206231\n",
       "kmeans     0.724286  0.518405  0.604291\n",
       "combined   0.420187  0.783231  0.546948"
      ]
     },
     "execution_count": 49,
     "metadata": {},
     "output_type": "execute_result"
    }
   ],
   "source": [
    "summary_q7 = \\\n",
    "    pd.DataFrame({col: eval_model(y_train, y_train_preds[col]) for col in y_train_preds.columns}).T\n",
    "\n",
    "summary_q7"
   ]
  },
  {
   "cell_type": "markdown",
   "id": "dbbea05a-43bc-4f76-b885-8dc9f91b7f95",
   "metadata": {},
   "source": [
    "If we go by the F1 score, the kmeans model is still the best among the other models."
   ]
  },
  {
   "cell_type": "markdown",
   "id": "fc5b2cef-b456-4f9c-a579-8d17e036f7e4",
   "metadata": {},
   "source": [
    "# Question 8: ROI simulations\n",
    "\n",
    "Make a simulation on cost and **ROI (Return on Investment)** based on this condition:\n",
    "- You proposed a fraud detection model to minimize fraud losses based on the best model obtained from the previous step.\n",
    "- Beyond cost savings, you must also consider **benefits, model ownership costs, and fraud handling costs**.\n",
    "- **ROI is calculated** as the ratio of **net profit (benefit minus costs) to total investment**, expressed as a percentage.\n",
    "- **Total utility** is defined as the difference between **benefits and costs**, representing the **net return**.\n",
    "\n",
    "### Costs:\n",
    "- **False Negatives (FN)**: Fraud loss, represented by the corresponding transaction amount for ignored fraud cases.\n",
    "- **False Positives (FP)**: Losses from profit and customer acquisition costs, including:\n",
    "  - **30,000** for acquisition.\n",
    "  - **70,000** for profit loss per false positive.\n",
    "\n",
    "### Benefits:\n",
    "- **True Positives (TP)**: Prevented fraud losses, represented by corresponding transaction amount.\n",
    "- **True Negatives (TN)**: Generated profit of **70,000** from legitimate transactions.\n",
    "\n",
    "### Total Cost of Ownership:\n",
    "- **500,000,000** for software, hardware, security, and development.\n",
    "- **300,000,000** for migration, setup, monitoring, and support.\n",
    "\n",
    "### Total Cost of Fraud Handling:\n",
    "- Fraud handling cost per transaction: **200,000**.\n",
    "- Legal cost: **5,000,000**.\n"
   ]
  },
  {
   "cell_type": "markdown",
   "id": "526c6a6c-c3eb-4294-988a-887ba755087c",
   "metadata": {},
   "source": [
    "Remember: ROI = total utility / (total cost of ownership + total cost of fraud handling)"
   ]
  },
  {
   "cell_type": "code",
   "execution_count": 50,
   "id": "4935b353-bf2c-4e09-a630-edf2cea7c29a",
   "metadata": {},
   "outputs": [],
   "source": [
    "def calc_total_utility(y_true: pd.Series, y_pred: pd.Series, exp_fraud_loss: pd.Series) -> float:\n",
    "    profit_per_trx = 70e3\n",
    "    acquisition_cost = 30e3\n",
    "\n",
    "    fp = (y_pred == 1) & (y_true == 0)\n",
    "    fn = (y_pred == 0) & (y_true == 1)\n",
    "\n",
    "    # cost of accepting fraudulent claims\n",
    "    fn_cost = (fn * exp_fraud_loss).sum()\n",
    "\n",
    "    # cost of not accepting valid claims\n",
    "    fp_cost = (fp * (acquisition_cost + profit_per_trx)).sum()\n",
    "    cost = fp_cost + fn_cost\n",
    "\n",
    "    tp = (y_true == 1) & (y_pred == 1)\n",
    "    tn = (y_true == 0) & (y_pred == 0)\n",
    "\n",
    "    tp_benefit = (tp * exp_fraud_loss).sum()\n",
    "    tn_benefit = (tn * profit_per_trx).sum()\n",
    "\n",
    "    total_benefit = tp_benefit + tn_benefit\n",
    "\n",
    "    total_utility = total_benefit - cost\n",
    "    return total_utility\n",
    "\n",
    "def calc_roi(y_true: pd.Series, y_pred: pd.Series, exp_fraud_loss: pd.Series):\n",
    "    total_utility = calc_total_utility(y_true, y_pred, exp_fraud_loss)\n",
    "    tco = 500e6 + 300e6 # acquisition + operation costs\n",
    "\n",
    "    legal_cost = 5e6\n",
    "    # calculate fraud handling cost for every transactin we predict as frauds\n",
    "    fraud_handling_cost = 200e3\n",
    "    total_fraud_handling_cost = (y_pred * fraud_handling_cost).sum()\n",
    "\n",
    "    roi = total_utility / (tco + total_fraud_handling_cost + legal_cost)\n",
    "\n",
    "    return roi"
   ]
  },
  {
   "cell_type": "code",
   "execution_count": 51,
   "id": "57b52c06-6704-4561-9b0c-38c87195df5f",
   "metadata": {},
   "outputs": [
    {
     "data": {
      "text/plain": [
       "0.9296512570759567"
      ]
     },
     "execution_count": 51,
     "metadata": {},
     "output_type": "execute_result"
    }
   ],
   "source": [
    "calc_roi(y_train, y_train_pred_kmeans, X_train['amount'])"
   ]
  },
  {
   "cell_type": "markdown",
   "id": "715ea3f9-43f4-4afe-8e1d-795a61fa8fca",
   "metadata": {},
   "source": [
    "Based on the given specifications, the model will result in 93% ROI. This number is very high due to discrepancy in the transacted amounts (which range from 0 to 20) while the profit generated per transaction is 70,000."
   ]
  }
 ],
 "metadata": {
  "kernelspec": {
   "display_name": "Python 3 (ipykernel)",
   "language": "python",
   "name": "python3"
  },
  "language_info": {
   "codemirror_mode": {
    "name": "ipython",
    "version": 3
   },
   "file_extension": ".py",
   "mimetype": "text/x-python",
   "name": "python",
   "nbconvert_exporter": "python",
   "pygments_lexer": "ipython3",
   "version": "3.12.1"
  }
 },
 "nbformat": 4,
 "nbformat_minor": 5
}
